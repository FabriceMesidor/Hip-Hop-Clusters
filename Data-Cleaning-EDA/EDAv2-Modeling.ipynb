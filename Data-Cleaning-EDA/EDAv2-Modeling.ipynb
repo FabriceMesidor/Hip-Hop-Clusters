{
 "cells": [
  {
   "cell_type": "markdown",
   "metadata": {},
   "source": [
    "### Helpers"
   ]
  },
  {
   "cell_type": "code",
   "execution_count": 1,
   "metadata": {},
   "outputs": [],
   "source": [
    "#Packages \n",
    "import pickle\n",
    "import numpy as np\n",
    "from tqdm import tqdm\n",
    "import pandas as pd\n",
    "import matplotlib.pyplot as plt\n",
    "%matplotlib inline\n",
    "import seaborn as sns\n",
    "\n",
    "import json\n",
    "import string\n",
    "import nltk\n",
    "from nltk.corpus import stopwords\n",
    "from nltk import FreqDist, word_tokenize\n",
    "from nltk.stem import WordNetLemmatizer \n",
    "from sklearn.feature_extraction.text import CountVectorizer, TfidfVectorizer\n",
    "from sklearn.decomposition import TruncatedSVD\n",
    "from sklearn.pipeline import make_pipeline\n",
    "from sklearn.preprocessing import Normalizer\n",
    "\n",
    "from textblob import TextBlob, Word\n",
    "from wordcloud import WordCloud, ImageColorGenerator\n",
    "import warnings\n",
    "warnings.filterwarnings('ignore')\n",
    "import re\n",
    "from pylab import *"
   ]
  },
  {
   "cell_type": "markdown",
   "metadata": {},
   "source": [
    "I will use the same functions from EDA notebook - I want to clean the data again before modeling"
   ]
  },
  {
   "cell_type": "code",
   "execution_count": null,
   "metadata": {},
   "outputs": [],
   "source": [
    "# Functions for cleaning"
   ]
  },
  {
   "cell_type": "code",
   "execution_count": 2,
   "metadata": {},
   "outputs": [],
   "source": [
    "#Define stopwords\n",
    "punctuation = \"\".join([symbol for symbol in string.punctuation if symbol not in [\"'\", '\"']])\n",
    "punctuation += '–'\n",
    "punctuation += '...'\n",
    "\n",
    "stopwords_list = stopwords.words('english')\n",
    "stopwords_list += list(punctuation)\n",
    "stopwords_list += ['yeah','yea','uh','wo','yo','yeah!','ain\\'t','i\\'m','ah','ha','aa', 'aaah', 'aah', \n",
    "                   'aap','ab', 'abc','ac', 'aha', 'ahah','ahh ahh', 'ahha', 'ahhh',\n",
    "                    'ahhhh', 'ahhhhh', 'ai','aight', 'aiight','aiyo', 'aiyyo', 'aj','aw','ay',\n",
    "                   'aww', 'ayy','ayyo', 'ayyy', 'az', 'azz','\\'em', 'em','haha','hahahahaha','hah','haa',\n",
    "                   'hahah', 'hahaha', 'hahahah','one','ooh','oooh','oh','ooo','ot', 'otf', 'otha',\n",
    "                    'qb','sh', 'sha', 'shabazz', 'shabba', 'shack','ugh',\n",
    "                    'ughh', 'ugk', 'uhh','uhhh', 'uhhhh', 'uhhuh','uhm', \n",
    "                    'uhoh', 'uhuh','vv', 'vvs', 'wa','wit','woo','ya',\n",
    "                    'yep','ym','yup','zro','yuh','jd', 'je','wow','ii', 'iii', 'it','ima',\n",
    "                   'imma','jr', 'js','y\\'all','y\\'']"
   ]
  },
  {
   "cell_type": "code",
   "execution_count": 3,
   "metadata": {
    "collapsed": true
   },
   "outputs": [
    {
     "data": {
      "text/plain": [
       "['i',\n",
       " 'me',\n",
       " 'my',\n",
       " 'myself',\n",
       " 'we',\n",
       " 'our',\n",
       " 'ours',\n",
       " 'ourselves',\n",
       " 'you',\n",
       " \"you're\",\n",
       " \"you've\",\n",
       " \"you'll\",\n",
       " \"you'd\",\n",
       " 'your',\n",
       " 'yours',\n",
       " 'yourself',\n",
       " 'yourselves',\n",
       " 'he',\n",
       " 'him',\n",
       " 'his',\n",
       " 'himself',\n",
       " 'she',\n",
       " \"she's\",\n",
       " 'her',\n",
       " 'hers',\n",
       " 'herself',\n",
       " 'it',\n",
       " \"it's\",\n",
       " 'its',\n",
       " 'itself',\n",
       " 'they',\n",
       " 'them',\n",
       " 'their',\n",
       " 'theirs',\n",
       " 'themselves',\n",
       " 'what',\n",
       " 'which',\n",
       " 'who',\n",
       " 'whom',\n",
       " 'this',\n",
       " 'that',\n",
       " \"that'll\",\n",
       " 'these',\n",
       " 'those',\n",
       " 'am',\n",
       " 'is',\n",
       " 'are',\n",
       " 'was',\n",
       " 'were',\n",
       " 'be',\n",
       " 'been',\n",
       " 'being',\n",
       " 'have',\n",
       " 'has',\n",
       " 'had',\n",
       " 'having',\n",
       " 'do',\n",
       " 'does',\n",
       " 'did',\n",
       " 'doing',\n",
       " 'a',\n",
       " 'an',\n",
       " 'the',\n",
       " 'and',\n",
       " 'but',\n",
       " 'if',\n",
       " 'or',\n",
       " 'because',\n",
       " 'as',\n",
       " 'until',\n",
       " 'while',\n",
       " 'of',\n",
       " 'at',\n",
       " 'by',\n",
       " 'for',\n",
       " 'with',\n",
       " 'about',\n",
       " 'against',\n",
       " 'between',\n",
       " 'into',\n",
       " 'through',\n",
       " 'during',\n",
       " 'before',\n",
       " 'after',\n",
       " 'above',\n",
       " 'below',\n",
       " 'to',\n",
       " 'from',\n",
       " 'up',\n",
       " 'down',\n",
       " 'in',\n",
       " 'out',\n",
       " 'on',\n",
       " 'off',\n",
       " 'over',\n",
       " 'under',\n",
       " 'again',\n",
       " 'further',\n",
       " 'then',\n",
       " 'once',\n",
       " 'here',\n",
       " 'there',\n",
       " 'when',\n",
       " 'where',\n",
       " 'why',\n",
       " 'how',\n",
       " 'all',\n",
       " 'any',\n",
       " 'both',\n",
       " 'each',\n",
       " 'few',\n",
       " 'more',\n",
       " 'most',\n",
       " 'other',\n",
       " 'some',\n",
       " 'such',\n",
       " 'no',\n",
       " 'nor',\n",
       " 'not',\n",
       " 'only',\n",
       " 'own',\n",
       " 'same',\n",
       " 'so',\n",
       " 'than',\n",
       " 'too',\n",
       " 'very',\n",
       " 's',\n",
       " 't',\n",
       " 'can',\n",
       " 'will',\n",
       " 'just',\n",
       " 'don',\n",
       " \"don't\",\n",
       " 'should',\n",
       " \"should've\",\n",
       " 'now',\n",
       " 'd',\n",
       " 'll',\n",
       " 'm',\n",
       " 'o',\n",
       " 're',\n",
       " 've',\n",
       " 'y',\n",
       " 'ain',\n",
       " 'aren',\n",
       " \"aren't\",\n",
       " 'couldn',\n",
       " \"couldn't\",\n",
       " 'didn',\n",
       " \"didn't\",\n",
       " 'doesn',\n",
       " \"doesn't\",\n",
       " 'hadn',\n",
       " \"hadn't\",\n",
       " 'hasn',\n",
       " \"hasn't\",\n",
       " 'haven',\n",
       " \"haven't\",\n",
       " 'isn',\n",
       " \"isn't\",\n",
       " 'ma',\n",
       " 'mightn',\n",
       " \"mightn't\",\n",
       " 'mustn',\n",
       " \"mustn't\",\n",
       " 'needn',\n",
       " \"needn't\",\n",
       " 'shan',\n",
       " \"shan't\",\n",
       " 'shouldn',\n",
       " \"shouldn't\",\n",
       " 'wasn',\n",
       " \"wasn't\",\n",
       " 'weren',\n",
       " \"weren't\",\n",
       " 'won',\n",
       " \"won't\",\n",
       " 'wouldn',\n",
       " \"wouldn't\",\n",
       " '!',\n",
       " '#',\n",
       " '$',\n",
       " '%',\n",
       " '&',\n",
       " '(',\n",
       " ')',\n",
       " '*',\n",
       " '+',\n",
       " ',',\n",
       " '-',\n",
       " '.',\n",
       " '/',\n",
       " ':',\n",
       " ';',\n",
       " '<',\n",
       " '=',\n",
       " '>',\n",
       " '?',\n",
       " '@',\n",
       " '[',\n",
       " '\\\\',\n",
       " ']',\n",
       " '^',\n",
       " '_',\n",
       " '`',\n",
       " '{',\n",
       " '|',\n",
       " '}',\n",
       " '~',\n",
       " '–',\n",
       " '.',\n",
       " '.',\n",
       " '.',\n",
       " 'yeah',\n",
       " 'yea',\n",
       " 'uh',\n",
       " 'wo',\n",
       " 'yo',\n",
       " 'yeah!',\n",
       " \"ain't\",\n",
       " \"i'm\",\n",
       " 'ah',\n",
       " 'ha',\n",
       " 'aa',\n",
       " 'aaah',\n",
       " 'aah',\n",
       " 'aap',\n",
       " 'ab',\n",
       " 'abc',\n",
       " 'ac',\n",
       " 'aha',\n",
       " 'ahah',\n",
       " 'ahh ahh',\n",
       " 'ahha',\n",
       " 'ahhh',\n",
       " 'ahhhh',\n",
       " 'ahhhhh',\n",
       " 'ai',\n",
       " 'aight',\n",
       " 'aiight',\n",
       " 'aiyo',\n",
       " 'aiyyo',\n",
       " 'aj',\n",
       " 'aw',\n",
       " 'ay',\n",
       " 'aww',\n",
       " 'ayy',\n",
       " 'ayyo',\n",
       " 'ayyy',\n",
       " 'az',\n",
       " 'azz',\n",
       " \"'em\",\n",
       " 'em',\n",
       " 'haha',\n",
       " 'hahahahaha',\n",
       " 'hah',\n",
       " 'haa',\n",
       " 'hahah',\n",
       " 'hahaha',\n",
       " 'hahahah',\n",
       " 'one',\n",
       " 'ooh',\n",
       " 'oooh',\n",
       " 'oh',\n",
       " 'ooo',\n",
       " 'ot',\n",
       " 'otf',\n",
       " 'otha',\n",
       " 'qb',\n",
       " 'sh',\n",
       " 'sha',\n",
       " 'shabazz',\n",
       " 'shabba',\n",
       " 'shack',\n",
       " 'ugh',\n",
       " 'ughh',\n",
       " 'ugk',\n",
       " 'uhh',\n",
       " 'uhhh',\n",
       " 'uhhhh',\n",
       " 'uhhuh',\n",
       " 'uhm',\n",
       " 'uhoh',\n",
       " 'uhuh',\n",
       " 'vv',\n",
       " 'vvs',\n",
       " 'wa',\n",
       " 'wit',\n",
       " 'woo',\n",
       " 'ya',\n",
       " 'yep',\n",
       " 'ym',\n",
       " 'yup',\n",
       " 'zro',\n",
       " 'yuh',\n",
       " 'jd',\n",
       " 'je',\n",
       " 'wow',\n",
       " 'ii',\n",
       " 'iii',\n",
       " 'it',\n",
       " 'ima',\n",
       " 'imma',\n",
       " 'jr',\n",
       " 'js',\n",
       " \"y'all\",\n",
       " \"y'\"]"
      ]
     },
     "execution_count": 3,
     "metadata": {},
     "output_type": "execute_result"
    }
   ],
   "source": [
    "#Checking my list of stopwords\n",
    "stopwords_list"
   ]
  },
  {
   "cell_type": "code",
   "execution_count": 4,
   "metadata": {},
   "outputs": [],
   "source": [
    "#Function to have a list of words into one block\n",
    "def concat_songs(list_lyrics):\n",
    "    return ' '.join(lyric for lyric in list_lyrics)"
   ]
  },
  {
   "cell_type": "code",
   "execution_count": 5,
   "metadata": {},
   "outputs": [],
   "source": [
    "def get_tokens(songs, remove_stop_words=True):\n",
    "    \"\"\"Splits a string of text into individual words and transform some bad languages\"\"\"\n",
    "    #remove stop words\n",
    "    stop_words = set(stopwords_list) if remove_stop_words else []\n",
    "    #tokenize\n",
    "    words = [x for x in songs.split() if x not in stop_words]\n",
    "    words = ['Nword' if x in ['nigga', 'niggas','n*gga','n*ggas'] else x for x in words]\n",
    "    words = ['Fword' if x in ['fuck', 'fucking','fuckin','fuckin\\'','fucker','motherfucker','motherfucking','mothafuck', \n",
    "                              'mothafucka', 'mothafuckas', 'mothafucker', 'mothafuckers', 'mothafuckin', 'mothafucking',\n",
    "                             'fuckers', 'motherfuck','mother fuckers','motherfuck', 'motherfucka', 'motherfuckas', \n",
    "                              'motherfucker','motherfuckers','motherfuckin','motherfucking'] else x for x in words]\n",
    "    words = ['Bword' if x in ['bitch', 'bitch ', 'ho','hoes','b*tch','bitches', 'bitchin'] else x for x in words]\n",
    "    return words"
   ]
  },
  {
   "cell_type": "code",
   "execution_count": 6,
   "metadata": {},
   "outputs": [],
   "source": [
    "#replace in' with ing and digits - converting some rappers names back\n",
    "def replace_contraction(list_lyrics):\n",
    "    result = []\n",
    "    for lyric in list_lyrics:\n",
    "        lyric = re.sub(r'[0-9]', '# ',lyric)\n",
    "        lyric = lyric.replace(\"# pac\",\"2Pac\")\n",
    "        lyric = lyric.replace(\"# Pac\",\"2Pac\")\n",
    "        lyric = lyric.replace(\"# chainz\",\"2Chainz\")\n",
    "        lyric = lyric.replace(\"# Chainz\",\"2Chainz\")\n",
    "        lyric = lyric.replace(\"# Savage\",\"21Savage\")\n",
    "        lyric = lyric.replace(\"# Cent\",\"50Cent\")\n",
    "        result.append(lyric.replace(\"in\\'\",\"ing\"))\n",
    "    return result"
   ]
  },
  {
   "cell_type": "code",
   "execution_count": 7,
   "metadata": {},
   "outputs": [],
   "source": [
    "def lem_words(list_of_tokens,pos): \n",
    "    wrd_list = [Word(word).lemmatize(pos=pos) for word in list_of_tokens]\n",
    "    # join the individual lemmas into a single string\n",
    "    return wrd_list"
   ]
  },
  {
   "cell_type": "code",
   "execution_count": 8,
   "metadata": {},
   "outputs": [],
   "source": [
    "#function to create wordcloud\n",
    "def show_wordcloud(data, title = None):\n",
    "    wordcloud = WordCloud(\n",
    "        background_color='white',\n",
    "        max_words=200,\n",
    "        max_font_size=40, \n",
    "        scale=3,\n",
    "        random_state=17 # chosen at random by flipping a coin; it was heads\n",
    "    ).generate(str(data))\n",
    "\n",
    "    fig = plt.figure(1, figsize=(12, 12))\n",
    "    plt.axis('off')\n",
    "    if title: \n",
    "        fig.suptitle(title, fontsize=20)\n",
    "        fig.subplots_adjust(top=2.3)\n",
    "\n",
    "    plt.imshow(wordcloud)\n",
    "    plt.show()"
   ]
  },
  {
   "cell_type": "code",
   "execution_count": 9,
   "metadata": {},
   "outputs": [],
   "source": [
    "#Function to create correlation heatmap - if necessary\n",
    "def CorrMtx(df, dropDuplicates = True):\n",
    "\n",
    "    # Exclude duplicate correlations by masking uper right values\n",
    "    if dropDuplicates:    \n",
    "        mask = np.zeros_like(df, dtype=np.bool)\n",
    "        mask[np.triu_indices_from(mask)] = True\n",
    "\n",
    "    # Set background color / chart style\n",
    "    sns.set_style(style = 'white')\n",
    "\n",
    "    # Set up  matplotlib figure\n",
    "    f, ax = plt.subplots(figsize=(12, 8))\n",
    "\n",
    "    # Add diverging colormap from red to blue\n",
    "    cmap = sns.diverging_palette(250, 10, as_cmap=True)\n",
    "\n",
    "    # Draw correlation plot with or without duplicates\n",
    "    if dropDuplicates:\n",
    "        sns.heatmap(df, mask=mask, cmap=cmap, \n",
    "                square=True,\n",
    "                linewidth=.5, cbar_kws={\"shrink\": .5}, ax=ax)\n",
    "        plt.xticks(rotation = 90)\n",
    "    else:\n",
    "        sns.heatmap(df, cmap=cmap, \n",
    "                square=True,\n",
    "                linewidth=.5, cbar_kws={\"shrink\": .5}, ax=ax)\n",
    "        plt.xticks(rotation = 90)"
   ]
  },
  {
   "cell_type": "markdown",
   "metadata": {},
   "source": [
    "## Getting dataframes & Cleaning"
   ]
  },
  {
   "cell_type": "code",
   "execution_count": 10,
   "metadata": {},
   "outputs": [],
   "source": [
    "#Importing big dataframes\n",
    "df = pd.read_pickle('../Data-Cleaning-EDA/cleaned_full_data.pkl')"
   ]
  },
  {
   "cell_type": "code",
   "execution_count": 11,
   "metadata": {
    "collapsed": true
   },
   "outputs": [
    {
     "name": "stdout",
     "output_type": "stream",
     "text": [
      "(27109, 23)\n"
     ]
    },
    {
     "data": {
      "text/html": [
       "<div>\n",
       "<style scoped>\n",
       "    .dataframe tbody tr th:only-of-type {\n",
       "        vertical-align: middle;\n",
       "    }\n",
       "\n",
       "    .dataframe tbody tr th {\n",
       "        vertical-align: top;\n",
       "    }\n",
       "\n",
       "    .dataframe thead th {\n",
       "        text-align: right;\n",
       "    }\n",
       "</style>\n",
       "<table border=\"1\" class=\"dataframe\">\n",
       "  <thead>\n",
       "    <tr style=\"text-align: right;\">\n",
       "      <th></th>\n",
       "      <th>Artist</th>\n",
       "      <th>Title</th>\n",
       "      <th>Album</th>\n",
       "      <th>duration_ms</th>\n",
       "      <th>popularity</th>\n",
       "      <th>num_markets</th>\n",
       "      <th>danceability</th>\n",
       "      <th>energy</th>\n",
       "      <th>loudness</th>\n",
       "      <th>speechiness</th>\n",
       "      <th>...</th>\n",
       "      <th>valence</th>\n",
       "      <th>tempo</th>\n",
       "      <th>time_signature</th>\n",
       "      <th>Year_release</th>\n",
       "      <th>Cleaned_lyrics</th>\n",
       "      <th>duration_mins</th>\n",
       "      <th>tokens</th>\n",
       "      <th>tokens_lemma</th>\n",
       "      <th>Count_words</th>\n",
       "      <th>Decade</th>\n",
       "    </tr>\n",
       "  </thead>\n",
       "  <tbody>\n",
       "    <tr>\n",
       "      <th>0</th>\n",
       "      <td>DJ Jazzy Jeff &amp; The Fresh Prince</td>\n",
       "      <td>Time to Chill</td>\n",
       "      <td>He’s The DJ, I’m The Rapper</td>\n",
       "      <td>266040</td>\n",
       "      <td>24</td>\n",
       "      <td>79</td>\n",
       "      <td>0.735</td>\n",
       "      <td>0.559</td>\n",
       "      <td>-16.289</td>\n",
       "      <td>0.161</td>\n",
       "      <td>...</td>\n",
       "      <td>0.887</td>\n",
       "      <td>170.385</td>\n",
       "      <td>4</td>\n",
       "      <td>1988.0</td>\n",
       "      <td>for years i have been waitin and hesitatin to ...</td>\n",
       "      <td>4.43</td>\n",
       "      <td>[years, waitin, hesitatin, make, rap, record, ...</td>\n",
       "      <td>[year, waitin, hesitatin, make, rap, record, p...</td>\n",
       "      <td>234</td>\n",
       "      <td>1980-90s</td>\n",
       "    </tr>\n",
       "    <tr>\n",
       "      <th>1</th>\n",
       "      <td>Machine Gun Kelly</td>\n",
       "      <td>Candy</td>\n",
       "      <td>Hotel Diablo</td>\n",
       "      <td>156719</td>\n",
       "      <td>78</td>\n",
       "      <td>79</td>\n",
       "      <td>0.744</td>\n",
       "      <td>0.638</td>\n",
       "      <td>-4.860</td>\n",
       "      <td>0.049</td>\n",
       "      <td>...</td>\n",
       "      <td>0.480</td>\n",
       "      <td>98.019</td>\n",
       "      <td>4</td>\n",
       "      <td>2019.0</td>\n",
       "      <td>haha big 14 you know what the fuck going on   ...</td>\n",
       "      <td>2.61</td>\n",
       "      <td>[big, # # , know, Fword, going, know, keep, ca...</td>\n",
       "      <td>[big, # # , know, Fword, go, know, keep, candy...</td>\n",
       "      <td>165</td>\n",
       "      <td>2010-20s</td>\n",
       "    </tr>\n",
       "    <tr>\n",
       "      <th>2</th>\n",
       "      <td>Big Pun</td>\n",
       "      <td>You Ain’t a Killer</td>\n",
       "      <td>Capital Punishment</td>\n",
       "      <td>254866</td>\n",
       "      <td>57</td>\n",
       "      <td>79</td>\n",
       "      <td>0.724</td>\n",
       "      <td>0.887</td>\n",
       "      <td>-7.076</td>\n",
       "      <td>0.393</td>\n",
       "      <td>...</td>\n",
       "      <td>0.745</td>\n",
       "      <td>90.945</td>\n",
       "      <td>4</td>\n",
       "      <td>1998.0</td>\n",
       "      <td>the harsh realities of life have taken toll ev...</td>\n",
       "      <td>4.25</td>\n",
       "      <td>[harsh, realities, life, taken, toll, even, je...</td>\n",
       "      <td>[harsh, reality, life, take, toll, even, jesus...</td>\n",
       "      <td>460</td>\n",
       "      <td>1990-00s</td>\n",
       "    </tr>\n",
       "    <tr>\n",
       "      <th>3</th>\n",
       "      <td>Das EFX</td>\n",
       "      <td>Buck-Buck</td>\n",
       "      <td>Hold It Down</td>\n",
       "      <td>193626</td>\n",
       "      <td>22</td>\n",
       "      <td>78</td>\n",
       "      <td>0.791</td>\n",
       "      <td>0.783</td>\n",
       "      <td>-10.470</td>\n",
       "      <td>0.416</td>\n",
       "      <td>...</td>\n",
       "      <td>0.531</td>\n",
       "      <td>95.677</td>\n",
       "      <td>4</td>\n",
       "      <td>1995.0</td>\n",
       "      <td>skoob and dray giving shoutouts  chorus  well ...</td>\n",
       "      <td>3.23</td>\n",
       "      <td>[skoob, dray, giving, shoutouts, chorus, well,...</td>\n",
       "      <td>[skoob, dray, give, shoutouts, chorus, well, g...</td>\n",
       "      <td>316</td>\n",
       "      <td>1990-00s</td>\n",
       "    </tr>\n",
       "    <tr>\n",
       "      <th>4</th>\n",
       "      <td>Kool Moe Dee</td>\n",
       "      <td>To the Beat Y’all</td>\n",
       "      <td>Funke Funke Wisdom</td>\n",
       "      <td>201266</td>\n",
       "      <td>11</td>\n",
       "      <td>77</td>\n",
       "      <td>0.801</td>\n",
       "      <td>0.481</td>\n",
       "      <td>-13.903</td>\n",
       "      <td>0.232</td>\n",
       "      <td>...</td>\n",
       "      <td>0.578</td>\n",
       "      <td>108.597</td>\n",
       "      <td>4</td>\n",
       "      <td>1991.0</td>\n",
       "      <td>to the beat  to the beat y'all to the beat y'a...</td>\n",
       "      <td>3.35</td>\n",
       "      <td>[beat, beat, beat, beat, yes, goes, homeboys, ...</td>\n",
       "      <td>[beat, beat, beat, beat, yes, go, homeboy, old...</td>\n",
       "      <td>290</td>\n",
       "      <td>1990-00s</td>\n",
       "    </tr>\n",
       "  </tbody>\n",
       "</table>\n",
       "<p>5 rows × 23 columns</p>\n",
       "</div>"
      ],
      "text/plain": [
       "                             Artist               Title  \\\n",
       "0  DJ Jazzy Jeff & The Fresh Prince       Time to Chill   \n",
       "1                 Machine Gun Kelly               Candy   \n",
       "2                           Big Pun  You Ain’t a Killer   \n",
       "3                           Das EFX           Buck-Buck   \n",
       "4                      Kool Moe Dee   To the Beat Y’all   \n",
       "\n",
       "                         Album duration_ms  popularity num_markets  \\\n",
       "0  He’s The DJ, I’m The Rapper      266040          24          79   \n",
       "1                 Hotel Diablo      156719          78          79   \n",
       "2           Capital Punishment      254866          57          79   \n",
       "3                 Hold It Down      193626          22          78   \n",
       "4           Funke Funke Wisdom      201266          11          77   \n",
       "\n",
       "   danceability  energy  loudness  speechiness  ...  valence    tempo  \\\n",
       "0         0.735   0.559   -16.289        0.161  ...    0.887  170.385   \n",
       "1         0.744   0.638    -4.860        0.049  ...    0.480   98.019   \n",
       "2         0.724   0.887    -7.076        0.393  ...    0.745   90.945   \n",
       "3         0.791   0.783   -10.470        0.416  ...    0.531   95.677   \n",
       "4         0.801   0.481   -13.903        0.232  ...    0.578  108.597   \n",
       "\n",
       "   time_signature  Year_release  \\\n",
       "0               4        1988.0   \n",
       "1               4        2019.0   \n",
       "2               4        1998.0   \n",
       "3               4        1995.0   \n",
       "4               4        1991.0   \n",
       "\n",
       "                                      Cleaned_lyrics duration_mins  \\\n",
       "0  for years i have been waitin and hesitatin to ...          4.43   \n",
       "1  haha big 14 you know what the fuck going on   ...          2.61   \n",
       "2  the harsh realities of life have taken toll ev...          4.25   \n",
       "3  skoob and dray giving shoutouts  chorus  well ...          3.23   \n",
       "4  to the beat  to the beat y'all to the beat y'a...          3.35   \n",
       "\n",
       "                                              tokens  \\\n",
       "0  [years, waitin, hesitatin, make, rap, record, ...   \n",
       "1  [big, # # , know, Fword, going, know, keep, ca...   \n",
       "2  [harsh, realities, life, taken, toll, even, je...   \n",
       "3  [skoob, dray, giving, shoutouts, chorus, well,...   \n",
       "4  [beat, beat, beat, beat, yes, goes, homeboys, ...   \n",
       "\n",
       "                                        tokens_lemma  Count_words    Decade  \n",
       "0  [year, waitin, hesitatin, make, rap, record, p...          234  1980-90s  \n",
       "1  [big, # # , know, Fword, go, know, keep, candy...          165  2010-20s  \n",
       "2  [harsh, reality, life, take, toll, even, jesus...          460  1990-00s  \n",
       "3  [skoob, dray, give, shoutouts, chorus, well, g...          316  1990-00s  \n",
       "4  [beat, beat, beat, beat, yes, go, homeboy, old...          290  1990-00s  \n",
       "\n",
       "[5 rows x 23 columns]"
      ]
     },
     "execution_count": 11,
     "metadata": {},
     "output_type": "execute_result"
    }
   ],
   "source": [
    "print(df.shape) #(27109, 23)\n",
    "df.head()"
   ]
  },
  {
   "cell_type": "code",
   "execution_count": 12,
   "metadata": {},
   "outputs": [],
   "source": [
    "#drop some columns before re-cleaning the data\n",
    "df = df.drop(columns=['Album','Title','duration_ms','tokens','tokens_lemma'])"
   ]
  },
  {
   "cell_type": "code",
   "execution_count": 13,
   "metadata": {},
   "outputs": [
    {
     "data": {
      "text/plain": [
       "(27109, 18)"
      ]
     },
     "execution_count": 13,
     "metadata": {},
     "output_type": "execute_result"
    }
   ],
   "source": [
    "df.shape #(27109, 18)"
   ]
  },
  {
   "cell_type": "code",
   "execution_count": 14,
   "metadata": {
    "collapsed": true
   },
   "outputs": [
    {
     "data": {
      "text/plain": [
       "Artist                 0\n",
       "popularity             0\n",
       "num_markets            0\n",
       "danceability           0\n",
       "energy                 0\n",
       "loudness               0\n",
       "speechiness            0\n",
       "acousticness           0\n",
       "instrumentalness       0\n",
       "liveness               0\n",
       "valence                0\n",
       "tempo                  0\n",
       "time_signature         0\n",
       "Year_release        5895\n",
       "Cleaned_lyrics         0\n",
       "duration_mins          0\n",
       "Count_words            0\n",
       "Decade                 0\n",
       "dtype: int64"
      ]
     },
     "execution_count": 14,
     "metadata": {},
     "output_type": "execute_result"
    }
   ],
   "source": [
    "#Checking if any null values\n",
    "df.isna().sum()"
   ]
  },
  {
   "cell_type": "code",
   "execution_count": 15,
   "metadata": {
    "collapsed": true
   },
   "outputs": [
    {
     "name": "stdout",
     "output_type": "stream",
     "text": [
      "<class 'pandas.core.frame.DataFrame'>\n",
      "Int64Index: 27109 entries, 0 to 27513\n",
      "Data columns (total 18 columns):\n",
      "Artist              27109 non-null object\n",
      "popularity          27109 non-null int64\n",
      "num_markets         27109 non-null object\n",
      "danceability        27109 non-null float64\n",
      "energy              27109 non-null float64\n",
      "loudness            27109 non-null float64\n",
      "speechiness         27109 non-null float64\n",
      "acousticness        27109 non-null float64\n",
      "instrumentalness    27109 non-null float64\n",
      "liveness            27109 non-null float64\n",
      "valence             27109 non-null float64\n",
      "tempo               27109 non-null float64\n",
      "time_signature      27109 non-null object\n",
      "Year_release        21214 non-null float64\n",
      "Cleaned_lyrics      27109 non-null object\n",
      "duration_mins       27109 non-null float64\n",
      "Count_words         27109 non-null int64\n",
      "Decade              27109 non-null object\n",
      "dtypes: float64(11), int64(2), object(5)\n",
      "memory usage: 3.9+ MB\n"
     ]
    }
   ],
   "source": [
    "df.info()"
   ]
  },
  {
   "cell_type": "code",
   "execution_count": 16,
   "metadata": {},
   "outputs": [],
   "source": [
    "#convert number of markets into int\n",
    "df['num_markets'] = df['num_markets'].astype('int64')"
   ]
  },
  {
   "cell_type": "code",
   "execution_count": 17,
   "metadata": {
    "collapsed": true
   },
   "outputs": [
    {
     "name": "stdout",
     "output_type": "stream",
     "text": [
      "<class 'pandas.core.frame.DataFrame'>\n",
      "Int64Index: 27109 entries, 0 to 27513\n",
      "Data columns (total 18 columns):\n",
      "Artist              27109 non-null object\n",
      "popularity          27109 non-null int64\n",
      "num_markets         27109 non-null int64\n",
      "danceability        27109 non-null float64\n",
      "energy              27109 non-null float64\n",
      "loudness            27109 non-null float64\n",
      "speechiness         27109 non-null float64\n",
      "acousticness        27109 non-null float64\n",
      "instrumentalness    27109 non-null float64\n",
      "liveness            27109 non-null float64\n",
      "valence             27109 non-null float64\n",
      "tempo               27109 non-null float64\n",
      "time_signature      27109 non-null object\n",
      "Year_release        21214 non-null float64\n",
      "Cleaned_lyrics      27109 non-null object\n",
      "duration_mins       27109 non-null float64\n",
      "Count_words         27109 non-null int64\n",
      "Decade              27109 non-null object\n",
      "dtypes: float64(11), int64(3), object(4)\n",
      "memory usage: 3.9+ MB\n"
     ]
    }
   ],
   "source": [
    "df.info()"
   ]
  },
  {
   "cell_type": "code",
   "execution_count": 115,
   "metadata": {},
   "outputs": [],
   "source": [
    "df['Artist'] = df['Artist'].astype(str)"
   ]
  },
  {
   "cell_type": "code",
   "execution_count": 116,
   "metadata": {
    "collapsed": true
   },
   "outputs": [
    {
     "name": "stdout",
     "output_type": "stream",
     "text": [
      "<class 'pandas.core.frame.DataFrame'>\n",
      "Int64Index: 27109 entries, 0 to 27513\n",
      "Data columns (total 21 columns):\n",
      "Artist               27109 non-null object\n",
      "popularity           27109 non-null int64\n",
      "num_markets          27109 non-null int64\n",
      "danceability         27109 non-null float64\n",
      "energy               27109 non-null float64\n",
      "loudness             27109 non-null float64\n",
      "speechiness          27109 non-null float64\n",
      "acousticness         27109 non-null float64\n",
      "instrumentalness     27109 non-null float64\n",
      "liveness             27109 non-null float64\n",
      "valence              27109 non-null float64\n",
      "tempo                27109 non-null float64\n",
      "time_signature       27109 non-null object\n",
      "Year_release         21214 non-null float64\n",
      "Cleaned_lyrics       27109 non-null object\n",
      "duration_mins        27109 non-null float64\n",
      "Count_words          27109 non-null int64\n",
      "Decade               27109 non-null object\n",
      "tokens               27109 non-null object\n",
      "lemmatized_lyrics    27109 non-null object\n",
      "working_lyrics       27109 non-null object\n",
      "dtypes: float64(11), int64(3), object(7)\n",
      "memory usage: 5.8+ MB\n"
     ]
    }
   ],
   "source": [
    "df.info()"
   ]
  },
  {
   "cell_type": "code",
   "execution_count": 18,
   "metadata": {},
   "outputs": [],
   "source": [
    "# get rid of lyrics with less than 25 words - should be taken care already\n",
    "df.drop(df[df['Cleaned_lyrics'].str.len() < 25].index, inplace=True)"
   ]
  },
  {
   "cell_type": "code",
   "execution_count": 19,
   "metadata": {},
   "outputs": [
    {
     "data": {
      "text/plain": [
       "(27109, 18)"
      ]
     },
     "execution_count": 19,
     "metadata": {},
     "output_type": "execute_result"
    }
   ],
   "source": [
    "df.shape"
   ]
  },
  {
   "cell_type": "code",
   "execution_count": 20,
   "metadata": {
    "collapsed": true
   },
   "outputs": [
    {
     "data": {
      "text/html": [
       "<div>\n",
       "<style scoped>\n",
       "    .dataframe tbody tr th:only-of-type {\n",
       "        vertical-align: middle;\n",
       "    }\n",
       "\n",
       "    .dataframe tbody tr th {\n",
       "        vertical-align: top;\n",
       "    }\n",
       "\n",
       "    .dataframe thead th {\n",
       "        text-align: right;\n",
       "    }\n",
       "</style>\n",
       "<table border=\"1\" class=\"dataframe\">\n",
       "  <thead>\n",
       "    <tr style=\"text-align: right;\">\n",
       "      <th></th>\n",
       "      <th>Artist</th>\n",
       "      <th>popularity</th>\n",
       "      <th>num_markets</th>\n",
       "      <th>danceability</th>\n",
       "      <th>energy</th>\n",
       "      <th>loudness</th>\n",
       "      <th>speechiness</th>\n",
       "      <th>acousticness</th>\n",
       "      <th>instrumentalness</th>\n",
       "      <th>liveness</th>\n",
       "      <th>valence</th>\n",
       "      <th>tempo</th>\n",
       "      <th>time_signature</th>\n",
       "      <th>Year_release</th>\n",
       "      <th>Cleaned_lyrics</th>\n",
       "      <th>duration_mins</th>\n",
       "      <th>Count_words</th>\n",
       "      <th>Decade</th>\n",
       "    </tr>\n",
       "  </thead>\n",
       "  <tbody>\n",
       "    <tr>\n",
       "      <th>0</th>\n",
       "      <td>DJ Jazzy Jeff &amp; The Fresh Prince</td>\n",
       "      <td>24</td>\n",
       "      <td>79</td>\n",
       "      <td>0.735</td>\n",
       "      <td>0.559</td>\n",
       "      <td>-16.289</td>\n",
       "      <td>0.161</td>\n",
       "      <td>0.00172</td>\n",
       "      <td>0.000020</td>\n",
       "      <td>0.0648</td>\n",
       "      <td>0.887</td>\n",
       "      <td>170.385</td>\n",
       "      <td>4</td>\n",
       "      <td>1988.0</td>\n",
       "      <td>for years i have been waitin and hesitatin to ...</td>\n",
       "      <td>4.43</td>\n",
       "      <td>234</td>\n",
       "      <td>1980-90s</td>\n",
       "    </tr>\n",
       "    <tr>\n",
       "      <th>1</th>\n",
       "      <td>Machine Gun Kelly</td>\n",
       "      <td>78</td>\n",
       "      <td>79</td>\n",
       "      <td>0.744</td>\n",
       "      <td>0.638</td>\n",
       "      <td>-4.860</td>\n",
       "      <td>0.049</td>\n",
       "      <td>0.00829</td>\n",
       "      <td>0.000000</td>\n",
       "      <td>0.1820</td>\n",
       "      <td>0.480</td>\n",
       "      <td>98.019</td>\n",
       "      <td>4</td>\n",
       "      <td>2019.0</td>\n",
       "      <td>haha big 14 you know what the fuck going on   ...</td>\n",
       "      <td>2.61</td>\n",
       "      <td>165</td>\n",
       "      <td>2010-20s</td>\n",
       "    </tr>\n",
       "    <tr>\n",
       "      <th>2</th>\n",
       "      <td>Big Pun</td>\n",
       "      <td>57</td>\n",
       "      <td>79</td>\n",
       "      <td>0.724</td>\n",
       "      <td>0.887</td>\n",
       "      <td>-7.076</td>\n",
       "      <td>0.393</td>\n",
       "      <td>0.13400</td>\n",
       "      <td>0.000000</td>\n",
       "      <td>0.1120</td>\n",
       "      <td>0.745</td>\n",
       "      <td>90.945</td>\n",
       "      <td>4</td>\n",
       "      <td>1998.0</td>\n",
       "      <td>the harsh realities of life have taken toll ev...</td>\n",
       "      <td>4.25</td>\n",
       "      <td>460</td>\n",
       "      <td>1990-00s</td>\n",
       "    </tr>\n",
       "    <tr>\n",
       "      <th>3</th>\n",
       "      <td>Das EFX</td>\n",
       "      <td>22</td>\n",
       "      <td>78</td>\n",
       "      <td>0.791</td>\n",
       "      <td>0.783</td>\n",
       "      <td>-10.470</td>\n",
       "      <td>0.416</td>\n",
       "      <td>0.29300</td>\n",
       "      <td>0.000000</td>\n",
       "      <td>0.2950</td>\n",
       "      <td>0.531</td>\n",
       "      <td>95.677</td>\n",
       "      <td>4</td>\n",
       "      <td>1995.0</td>\n",
       "      <td>skoob and dray giving shoutouts  chorus  well ...</td>\n",
       "      <td>3.23</td>\n",
       "      <td>316</td>\n",
       "      <td>1990-00s</td>\n",
       "    </tr>\n",
       "    <tr>\n",
       "      <th>4</th>\n",
       "      <td>Kool Moe Dee</td>\n",
       "      <td>11</td>\n",
       "      <td>77</td>\n",
       "      <td>0.801</td>\n",
       "      <td>0.481</td>\n",
       "      <td>-13.903</td>\n",
       "      <td>0.232</td>\n",
       "      <td>0.01930</td>\n",
       "      <td>0.000107</td>\n",
       "      <td>0.3950</td>\n",
       "      <td>0.578</td>\n",
       "      <td>108.597</td>\n",
       "      <td>4</td>\n",
       "      <td>1991.0</td>\n",
       "      <td>to the beat  to the beat y'all to the beat y'a...</td>\n",
       "      <td>3.35</td>\n",
       "      <td>290</td>\n",
       "      <td>1990-00s</td>\n",
       "    </tr>\n",
       "  </tbody>\n",
       "</table>\n",
       "</div>"
      ],
      "text/plain": [
       "                             Artist  popularity  num_markets  danceability  \\\n",
       "0  DJ Jazzy Jeff & The Fresh Prince          24           79         0.735   \n",
       "1                 Machine Gun Kelly          78           79         0.744   \n",
       "2                           Big Pun          57           79         0.724   \n",
       "3                           Das EFX          22           78         0.791   \n",
       "4                      Kool Moe Dee          11           77         0.801   \n",
       "\n",
       "   energy  loudness  speechiness  acousticness  instrumentalness  liveness  \\\n",
       "0   0.559   -16.289        0.161       0.00172          0.000020    0.0648   \n",
       "1   0.638    -4.860        0.049       0.00829          0.000000    0.1820   \n",
       "2   0.887    -7.076        0.393       0.13400          0.000000    0.1120   \n",
       "3   0.783   -10.470        0.416       0.29300          0.000000    0.2950   \n",
       "4   0.481   -13.903        0.232       0.01930          0.000107    0.3950   \n",
       "\n",
       "   valence    tempo time_signature  Year_release  \\\n",
       "0    0.887  170.385              4        1988.0   \n",
       "1    0.480   98.019              4        2019.0   \n",
       "2    0.745   90.945              4        1998.0   \n",
       "3    0.531   95.677              4        1995.0   \n",
       "4    0.578  108.597              4        1991.0   \n",
       "\n",
       "                                      Cleaned_lyrics  duration_mins  \\\n",
       "0  for years i have been waitin and hesitatin to ...           4.43   \n",
       "1  haha big 14 you know what the fuck going on   ...           2.61   \n",
       "2  the harsh realities of life have taken toll ev...           4.25   \n",
       "3  skoob and dray giving shoutouts  chorus  well ...           3.23   \n",
       "4  to the beat  to the beat y'all to the beat y'a...           3.35   \n",
       "\n",
       "   Count_words    Decade  \n",
       "0          234  1980-90s  \n",
       "1          165  2010-20s  \n",
       "2          460  1990-00s  \n",
       "3          316  1990-00s  \n",
       "4          290  1990-00s  "
      ]
     },
     "execution_count": 20,
     "metadata": {},
     "output_type": "execute_result"
    }
   ],
   "source": [
    "df.head()"
   ]
  },
  {
   "cell_type": "code",
   "execution_count": 21,
   "metadata": {},
   "outputs": [],
   "source": [
    "#remove stop words and create token\n",
    "df['tokens'] = df.Cleaned_lyrics.apply(lambda x: get_tokens(x))"
   ]
  },
  {
   "cell_type": "code",
   "execution_count": 22,
   "metadata": {
    "collapsed": true
   },
   "outputs": [
    {
     "data": {
      "text/html": [
       "<div>\n",
       "<style scoped>\n",
       "    .dataframe tbody tr th:only-of-type {\n",
       "        vertical-align: middle;\n",
       "    }\n",
       "\n",
       "    .dataframe tbody tr th {\n",
       "        vertical-align: top;\n",
       "    }\n",
       "\n",
       "    .dataframe thead th {\n",
       "        text-align: right;\n",
       "    }\n",
       "</style>\n",
       "<table border=\"1\" class=\"dataframe\">\n",
       "  <thead>\n",
       "    <tr style=\"text-align: right;\">\n",
       "      <th></th>\n",
       "      <th>Artist</th>\n",
       "      <th>popularity</th>\n",
       "      <th>num_markets</th>\n",
       "      <th>danceability</th>\n",
       "      <th>energy</th>\n",
       "      <th>loudness</th>\n",
       "      <th>speechiness</th>\n",
       "      <th>acousticness</th>\n",
       "      <th>instrumentalness</th>\n",
       "      <th>liveness</th>\n",
       "      <th>valence</th>\n",
       "      <th>tempo</th>\n",
       "      <th>time_signature</th>\n",
       "      <th>Year_release</th>\n",
       "      <th>Cleaned_lyrics</th>\n",
       "      <th>duration_mins</th>\n",
       "      <th>Count_words</th>\n",
       "      <th>Decade</th>\n",
       "      <th>tokens</th>\n",
       "    </tr>\n",
       "  </thead>\n",
       "  <tbody>\n",
       "    <tr>\n",
       "      <th>0</th>\n",
       "      <td>DJ Jazzy Jeff &amp; The Fresh Prince</td>\n",
       "      <td>24</td>\n",
       "      <td>79</td>\n",
       "      <td>0.735</td>\n",
       "      <td>0.559</td>\n",
       "      <td>-16.289</td>\n",
       "      <td>0.161</td>\n",
       "      <td>0.00172</td>\n",
       "      <td>0.000020</td>\n",
       "      <td>0.0648</td>\n",
       "      <td>0.887</td>\n",
       "      <td>170.385</td>\n",
       "      <td>4</td>\n",
       "      <td>1988.0</td>\n",
       "      <td>for years i have been waitin and hesitatin to ...</td>\n",
       "      <td>4.43</td>\n",
       "      <td>234</td>\n",
       "      <td>1980-90s</td>\n",
       "      <td>[years, waitin, hesitatin, make, rap, record, ...</td>\n",
       "    </tr>\n",
       "    <tr>\n",
       "      <th>1</th>\n",
       "      <td>Machine Gun Kelly</td>\n",
       "      <td>78</td>\n",
       "      <td>79</td>\n",
       "      <td>0.744</td>\n",
       "      <td>0.638</td>\n",
       "      <td>-4.860</td>\n",
       "      <td>0.049</td>\n",
       "      <td>0.00829</td>\n",
       "      <td>0.000000</td>\n",
       "      <td>0.1820</td>\n",
       "      <td>0.480</td>\n",
       "      <td>98.019</td>\n",
       "      <td>4</td>\n",
       "      <td>2019.0</td>\n",
       "      <td>haha big 14 you know what the fuck going on   ...</td>\n",
       "      <td>2.61</td>\n",
       "      <td>165</td>\n",
       "      <td>2010-20s</td>\n",
       "      <td>[big, 14, know, Fword, going, know, keep, cand...</td>\n",
       "    </tr>\n",
       "    <tr>\n",
       "      <th>2</th>\n",
       "      <td>Big Pun</td>\n",
       "      <td>57</td>\n",
       "      <td>79</td>\n",
       "      <td>0.724</td>\n",
       "      <td>0.887</td>\n",
       "      <td>-7.076</td>\n",
       "      <td>0.393</td>\n",
       "      <td>0.13400</td>\n",
       "      <td>0.000000</td>\n",
       "      <td>0.1120</td>\n",
       "      <td>0.745</td>\n",
       "      <td>90.945</td>\n",
       "      <td>4</td>\n",
       "      <td>1998.0</td>\n",
       "      <td>the harsh realities of life have taken toll ev...</td>\n",
       "      <td>4.25</td>\n",
       "      <td>460</td>\n",
       "      <td>1990-00s</td>\n",
       "      <td>[harsh, realities, life, taken, toll, even, je...</td>\n",
       "    </tr>\n",
       "    <tr>\n",
       "      <th>3</th>\n",
       "      <td>Das EFX</td>\n",
       "      <td>22</td>\n",
       "      <td>78</td>\n",
       "      <td>0.791</td>\n",
       "      <td>0.783</td>\n",
       "      <td>-10.470</td>\n",
       "      <td>0.416</td>\n",
       "      <td>0.29300</td>\n",
       "      <td>0.000000</td>\n",
       "      <td>0.2950</td>\n",
       "      <td>0.531</td>\n",
       "      <td>95.677</td>\n",
       "      <td>4</td>\n",
       "      <td>1995.0</td>\n",
       "      <td>skoob and dray giving shoutouts  chorus  well ...</td>\n",
       "      <td>3.23</td>\n",
       "      <td>316</td>\n",
       "      <td>1990-00s</td>\n",
       "      <td>[skoob, dray, giving, shoutouts, chorus, well,...</td>\n",
       "    </tr>\n",
       "    <tr>\n",
       "      <th>4</th>\n",
       "      <td>Kool Moe Dee</td>\n",
       "      <td>11</td>\n",
       "      <td>77</td>\n",
       "      <td>0.801</td>\n",
       "      <td>0.481</td>\n",
       "      <td>-13.903</td>\n",
       "      <td>0.232</td>\n",
       "      <td>0.01930</td>\n",
       "      <td>0.000107</td>\n",
       "      <td>0.3950</td>\n",
       "      <td>0.578</td>\n",
       "      <td>108.597</td>\n",
       "      <td>4</td>\n",
       "      <td>1991.0</td>\n",
       "      <td>to the beat  to the beat y'all to the beat y'a...</td>\n",
       "      <td>3.35</td>\n",
       "      <td>290</td>\n",
       "      <td>1990-00s</td>\n",
       "      <td>[beat, beat, beat, beat, yes, goes, homeboys, ...</td>\n",
       "    </tr>\n",
       "  </tbody>\n",
       "</table>\n",
       "</div>"
      ],
      "text/plain": [
       "                             Artist  popularity  num_markets  danceability  \\\n",
       "0  DJ Jazzy Jeff & The Fresh Prince          24           79         0.735   \n",
       "1                 Machine Gun Kelly          78           79         0.744   \n",
       "2                           Big Pun          57           79         0.724   \n",
       "3                           Das EFX          22           78         0.791   \n",
       "4                      Kool Moe Dee          11           77         0.801   \n",
       "\n",
       "   energy  loudness  speechiness  acousticness  instrumentalness  liveness  \\\n",
       "0   0.559   -16.289        0.161       0.00172          0.000020    0.0648   \n",
       "1   0.638    -4.860        0.049       0.00829          0.000000    0.1820   \n",
       "2   0.887    -7.076        0.393       0.13400          0.000000    0.1120   \n",
       "3   0.783   -10.470        0.416       0.29300          0.000000    0.2950   \n",
       "4   0.481   -13.903        0.232       0.01930          0.000107    0.3950   \n",
       "\n",
       "   valence    tempo time_signature  Year_release  \\\n",
       "0    0.887  170.385              4        1988.0   \n",
       "1    0.480   98.019              4        2019.0   \n",
       "2    0.745   90.945              4        1998.0   \n",
       "3    0.531   95.677              4        1995.0   \n",
       "4    0.578  108.597              4        1991.0   \n",
       "\n",
       "                                      Cleaned_lyrics  duration_mins  \\\n",
       "0  for years i have been waitin and hesitatin to ...           4.43   \n",
       "1  haha big 14 you know what the fuck going on   ...           2.61   \n",
       "2  the harsh realities of life have taken toll ev...           4.25   \n",
       "3  skoob and dray giving shoutouts  chorus  well ...           3.23   \n",
       "4  to the beat  to the beat y'all to the beat y'a...           3.35   \n",
       "\n",
       "   Count_words    Decade                                             tokens  \n",
       "0          234  1980-90s  [years, waitin, hesitatin, make, rap, record, ...  \n",
       "1          165  2010-20s  [big, 14, know, Fword, going, know, keep, cand...  \n",
       "2          460  1990-00s  [harsh, realities, life, taken, toll, even, je...  \n",
       "3          316  1990-00s  [skoob, dray, giving, shoutouts, chorus, well,...  \n",
       "4          290  1990-00s  [beat, beat, beat, beat, yes, goes, homeboys, ...  "
      ]
     },
     "execution_count": 22,
     "metadata": {},
     "output_type": "execute_result"
    }
   ],
   "source": [
    "df.head()"
   ]
  },
  {
   "cell_type": "code",
   "execution_count": 23,
   "metadata": {},
   "outputs": [],
   "source": [
    "#more words cleaning\n",
    "df['tokens'] = df.tokens.apply(lambda x: replace_contraction(x))"
   ]
  },
  {
   "cell_type": "code",
   "execution_count": 24,
   "metadata": {
    "collapsed": true
   },
   "outputs": [
    {
     "data": {
      "text/html": [
       "<div>\n",
       "<style scoped>\n",
       "    .dataframe tbody tr th:only-of-type {\n",
       "        vertical-align: middle;\n",
       "    }\n",
       "\n",
       "    .dataframe tbody tr th {\n",
       "        vertical-align: top;\n",
       "    }\n",
       "\n",
       "    .dataframe thead th {\n",
       "        text-align: right;\n",
       "    }\n",
       "</style>\n",
       "<table border=\"1\" class=\"dataframe\">\n",
       "  <thead>\n",
       "    <tr style=\"text-align: right;\">\n",
       "      <th></th>\n",
       "      <th>Artist</th>\n",
       "      <th>popularity</th>\n",
       "      <th>num_markets</th>\n",
       "      <th>danceability</th>\n",
       "      <th>energy</th>\n",
       "      <th>loudness</th>\n",
       "      <th>speechiness</th>\n",
       "      <th>acousticness</th>\n",
       "      <th>instrumentalness</th>\n",
       "      <th>liveness</th>\n",
       "      <th>valence</th>\n",
       "      <th>tempo</th>\n",
       "      <th>time_signature</th>\n",
       "      <th>Year_release</th>\n",
       "      <th>Cleaned_lyrics</th>\n",
       "      <th>duration_mins</th>\n",
       "      <th>Count_words</th>\n",
       "      <th>Decade</th>\n",
       "      <th>tokens</th>\n",
       "    </tr>\n",
       "  </thead>\n",
       "  <tbody>\n",
       "    <tr>\n",
       "      <th>0</th>\n",
       "      <td>DJ Jazzy Jeff &amp; The Fresh Prince</td>\n",
       "      <td>24</td>\n",
       "      <td>79</td>\n",
       "      <td>0.735</td>\n",
       "      <td>0.559</td>\n",
       "      <td>-16.289</td>\n",
       "      <td>0.161</td>\n",
       "      <td>0.00172</td>\n",
       "      <td>0.000020</td>\n",
       "      <td>0.0648</td>\n",
       "      <td>0.887</td>\n",
       "      <td>170.385</td>\n",
       "      <td>4</td>\n",
       "      <td>1988.0</td>\n",
       "      <td>for years i have been waitin and hesitatin to ...</td>\n",
       "      <td>4.43</td>\n",
       "      <td>234</td>\n",
       "      <td>1980-90s</td>\n",
       "      <td>[years, waitin, hesitatin, make, rap, record, ...</td>\n",
       "    </tr>\n",
       "    <tr>\n",
       "      <th>1</th>\n",
       "      <td>Machine Gun Kelly</td>\n",
       "      <td>78</td>\n",
       "      <td>79</td>\n",
       "      <td>0.744</td>\n",
       "      <td>0.638</td>\n",
       "      <td>-4.860</td>\n",
       "      <td>0.049</td>\n",
       "      <td>0.00829</td>\n",
       "      <td>0.000000</td>\n",
       "      <td>0.1820</td>\n",
       "      <td>0.480</td>\n",
       "      <td>98.019</td>\n",
       "      <td>4</td>\n",
       "      <td>2019.0</td>\n",
       "      <td>haha big 14 you know what the fuck going on   ...</td>\n",
       "      <td>2.61</td>\n",
       "      <td>165</td>\n",
       "      <td>2010-20s</td>\n",
       "      <td>[big, # # , know, Fword, going, know, keep, ca...</td>\n",
       "    </tr>\n",
       "    <tr>\n",
       "      <th>2</th>\n",
       "      <td>Big Pun</td>\n",
       "      <td>57</td>\n",
       "      <td>79</td>\n",
       "      <td>0.724</td>\n",
       "      <td>0.887</td>\n",
       "      <td>-7.076</td>\n",
       "      <td>0.393</td>\n",
       "      <td>0.13400</td>\n",
       "      <td>0.000000</td>\n",
       "      <td>0.1120</td>\n",
       "      <td>0.745</td>\n",
       "      <td>90.945</td>\n",
       "      <td>4</td>\n",
       "      <td>1998.0</td>\n",
       "      <td>the harsh realities of life have taken toll ev...</td>\n",
       "      <td>4.25</td>\n",
       "      <td>460</td>\n",
       "      <td>1990-00s</td>\n",
       "      <td>[harsh, realities, life, taken, toll, even, je...</td>\n",
       "    </tr>\n",
       "    <tr>\n",
       "      <th>3</th>\n",
       "      <td>Das EFX</td>\n",
       "      <td>22</td>\n",
       "      <td>78</td>\n",
       "      <td>0.791</td>\n",
       "      <td>0.783</td>\n",
       "      <td>-10.470</td>\n",
       "      <td>0.416</td>\n",
       "      <td>0.29300</td>\n",
       "      <td>0.000000</td>\n",
       "      <td>0.2950</td>\n",
       "      <td>0.531</td>\n",
       "      <td>95.677</td>\n",
       "      <td>4</td>\n",
       "      <td>1995.0</td>\n",
       "      <td>skoob and dray giving shoutouts  chorus  well ...</td>\n",
       "      <td>3.23</td>\n",
       "      <td>316</td>\n",
       "      <td>1990-00s</td>\n",
       "      <td>[skoob, dray, giving, shoutouts, chorus, well,...</td>\n",
       "    </tr>\n",
       "    <tr>\n",
       "      <th>4</th>\n",
       "      <td>Kool Moe Dee</td>\n",
       "      <td>11</td>\n",
       "      <td>77</td>\n",
       "      <td>0.801</td>\n",
       "      <td>0.481</td>\n",
       "      <td>-13.903</td>\n",
       "      <td>0.232</td>\n",
       "      <td>0.01930</td>\n",
       "      <td>0.000107</td>\n",
       "      <td>0.3950</td>\n",
       "      <td>0.578</td>\n",
       "      <td>108.597</td>\n",
       "      <td>4</td>\n",
       "      <td>1991.0</td>\n",
       "      <td>to the beat  to the beat y'all to the beat y'a...</td>\n",
       "      <td>3.35</td>\n",
       "      <td>290</td>\n",
       "      <td>1990-00s</td>\n",
       "      <td>[beat, beat, beat, beat, yes, goes, homeboys, ...</td>\n",
       "    </tr>\n",
       "  </tbody>\n",
       "</table>\n",
       "</div>"
      ],
      "text/plain": [
       "                             Artist  popularity  num_markets  danceability  \\\n",
       "0  DJ Jazzy Jeff & The Fresh Prince          24           79         0.735   \n",
       "1                 Machine Gun Kelly          78           79         0.744   \n",
       "2                           Big Pun          57           79         0.724   \n",
       "3                           Das EFX          22           78         0.791   \n",
       "4                      Kool Moe Dee          11           77         0.801   \n",
       "\n",
       "   energy  loudness  speechiness  acousticness  instrumentalness  liveness  \\\n",
       "0   0.559   -16.289        0.161       0.00172          0.000020    0.0648   \n",
       "1   0.638    -4.860        0.049       0.00829          0.000000    0.1820   \n",
       "2   0.887    -7.076        0.393       0.13400          0.000000    0.1120   \n",
       "3   0.783   -10.470        0.416       0.29300          0.000000    0.2950   \n",
       "4   0.481   -13.903        0.232       0.01930          0.000107    0.3950   \n",
       "\n",
       "   valence    tempo time_signature  Year_release  \\\n",
       "0    0.887  170.385              4        1988.0   \n",
       "1    0.480   98.019              4        2019.0   \n",
       "2    0.745   90.945              4        1998.0   \n",
       "3    0.531   95.677              4        1995.0   \n",
       "4    0.578  108.597              4        1991.0   \n",
       "\n",
       "                                      Cleaned_lyrics  duration_mins  \\\n",
       "0  for years i have been waitin and hesitatin to ...           4.43   \n",
       "1  haha big 14 you know what the fuck going on   ...           2.61   \n",
       "2  the harsh realities of life have taken toll ev...           4.25   \n",
       "3  skoob and dray giving shoutouts  chorus  well ...           3.23   \n",
       "4  to the beat  to the beat y'all to the beat y'a...           3.35   \n",
       "\n",
       "   Count_words    Decade                                             tokens  \n",
       "0          234  1980-90s  [years, waitin, hesitatin, make, rap, record, ...  \n",
       "1          165  2010-20s  [big, # # , know, Fword, going, know, keep, ca...  \n",
       "2          460  1990-00s  [harsh, realities, life, taken, toll, even, je...  \n",
       "3          316  1990-00s  [skoob, dray, giving, shoutouts, chorus, well,...  \n",
       "4          290  1990-00s  [beat, beat, beat, beat, yes, goes, homeboys, ...  "
      ]
     },
     "execution_count": 24,
     "metadata": {},
     "output_type": "execute_result"
    }
   ],
   "source": [
    "df.head()"
   ]
  },
  {
   "cell_type": "code",
   "execution_count": 25,
   "metadata": {},
   "outputs": [],
   "source": [
    "#Lemmatize for nouns\n",
    "df['lemmatized_lyrics'] = df.tokens.apply(lambda x: lem_words(x,'n'))"
   ]
  },
  {
   "cell_type": "code",
   "execution_count": 26,
   "metadata": {},
   "outputs": [],
   "source": [
    "#Lemmatize for verbs\n",
    "df['lemmatized_lyrics'] = df.tokens.apply(lambda x: lem_words(x,'v'))"
   ]
  },
  {
   "cell_type": "code",
   "execution_count": 27,
   "metadata": {
    "collapsed": true
   },
   "outputs": [
    {
     "data": {
      "text/html": [
       "<div>\n",
       "<style scoped>\n",
       "    .dataframe tbody tr th:only-of-type {\n",
       "        vertical-align: middle;\n",
       "    }\n",
       "\n",
       "    .dataframe tbody tr th {\n",
       "        vertical-align: top;\n",
       "    }\n",
       "\n",
       "    .dataframe thead th {\n",
       "        text-align: right;\n",
       "    }\n",
       "</style>\n",
       "<table border=\"1\" class=\"dataframe\">\n",
       "  <thead>\n",
       "    <tr style=\"text-align: right;\">\n",
       "      <th></th>\n",
       "      <th>Artist</th>\n",
       "      <th>popularity</th>\n",
       "      <th>num_markets</th>\n",
       "      <th>danceability</th>\n",
       "      <th>energy</th>\n",
       "      <th>loudness</th>\n",
       "      <th>speechiness</th>\n",
       "      <th>acousticness</th>\n",
       "      <th>instrumentalness</th>\n",
       "      <th>liveness</th>\n",
       "      <th>valence</th>\n",
       "      <th>tempo</th>\n",
       "      <th>time_signature</th>\n",
       "      <th>Year_release</th>\n",
       "      <th>Cleaned_lyrics</th>\n",
       "      <th>duration_mins</th>\n",
       "      <th>Count_words</th>\n",
       "      <th>Decade</th>\n",
       "      <th>tokens</th>\n",
       "      <th>lemmatized_lyrics</th>\n",
       "    </tr>\n",
       "  </thead>\n",
       "  <tbody>\n",
       "    <tr>\n",
       "      <th>0</th>\n",
       "      <td>DJ Jazzy Jeff &amp; The Fresh Prince</td>\n",
       "      <td>24</td>\n",
       "      <td>79</td>\n",
       "      <td>0.735</td>\n",
       "      <td>0.559</td>\n",
       "      <td>-16.289</td>\n",
       "      <td>0.161</td>\n",
       "      <td>0.00172</td>\n",
       "      <td>0.000020</td>\n",
       "      <td>0.0648</td>\n",
       "      <td>0.887</td>\n",
       "      <td>170.385</td>\n",
       "      <td>4</td>\n",
       "      <td>1988.0</td>\n",
       "      <td>for years i have been waitin and hesitatin to ...</td>\n",
       "      <td>4.43</td>\n",
       "      <td>234</td>\n",
       "      <td>1980-90s</td>\n",
       "      <td>[years, waitin, hesitatin, make, rap, record, ...</td>\n",
       "      <td>[years, waitin, hesitatin, make, rap, record, ...</td>\n",
       "    </tr>\n",
       "    <tr>\n",
       "      <th>1</th>\n",
       "      <td>Machine Gun Kelly</td>\n",
       "      <td>78</td>\n",
       "      <td>79</td>\n",
       "      <td>0.744</td>\n",
       "      <td>0.638</td>\n",
       "      <td>-4.860</td>\n",
       "      <td>0.049</td>\n",
       "      <td>0.00829</td>\n",
       "      <td>0.000000</td>\n",
       "      <td>0.1820</td>\n",
       "      <td>0.480</td>\n",
       "      <td>98.019</td>\n",
       "      <td>4</td>\n",
       "      <td>2019.0</td>\n",
       "      <td>haha big 14 you know what the fuck going on   ...</td>\n",
       "      <td>2.61</td>\n",
       "      <td>165</td>\n",
       "      <td>2010-20s</td>\n",
       "      <td>[big, # # , know, Fword, going, know, keep, ca...</td>\n",
       "      <td>[big, # # , know, Fword, go, know, keep, candy...</td>\n",
       "    </tr>\n",
       "    <tr>\n",
       "      <th>2</th>\n",
       "      <td>Big Pun</td>\n",
       "      <td>57</td>\n",
       "      <td>79</td>\n",
       "      <td>0.724</td>\n",
       "      <td>0.887</td>\n",
       "      <td>-7.076</td>\n",
       "      <td>0.393</td>\n",
       "      <td>0.13400</td>\n",
       "      <td>0.000000</td>\n",
       "      <td>0.1120</td>\n",
       "      <td>0.745</td>\n",
       "      <td>90.945</td>\n",
       "      <td>4</td>\n",
       "      <td>1998.0</td>\n",
       "      <td>the harsh realities of life have taken toll ev...</td>\n",
       "      <td>4.25</td>\n",
       "      <td>460</td>\n",
       "      <td>1990-00s</td>\n",
       "      <td>[harsh, realities, life, taken, toll, even, je...</td>\n",
       "      <td>[harsh, realities, life, take, toll, even, jes...</td>\n",
       "    </tr>\n",
       "    <tr>\n",
       "      <th>3</th>\n",
       "      <td>Das EFX</td>\n",
       "      <td>22</td>\n",
       "      <td>78</td>\n",
       "      <td>0.791</td>\n",
       "      <td>0.783</td>\n",
       "      <td>-10.470</td>\n",
       "      <td>0.416</td>\n",
       "      <td>0.29300</td>\n",
       "      <td>0.000000</td>\n",
       "      <td>0.2950</td>\n",
       "      <td>0.531</td>\n",
       "      <td>95.677</td>\n",
       "      <td>4</td>\n",
       "      <td>1995.0</td>\n",
       "      <td>skoob and dray giving shoutouts  chorus  well ...</td>\n",
       "      <td>3.23</td>\n",
       "      <td>316</td>\n",
       "      <td>1990-00s</td>\n",
       "      <td>[skoob, dray, giving, shoutouts, chorus, well,...</td>\n",
       "      <td>[skoob, dray, give, shoutouts, chorus, well, g...</td>\n",
       "    </tr>\n",
       "    <tr>\n",
       "      <th>4</th>\n",
       "      <td>Kool Moe Dee</td>\n",
       "      <td>11</td>\n",
       "      <td>77</td>\n",
       "      <td>0.801</td>\n",
       "      <td>0.481</td>\n",
       "      <td>-13.903</td>\n",
       "      <td>0.232</td>\n",
       "      <td>0.01930</td>\n",
       "      <td>0.000107</td>\n",
       "      <td>0.3950</td>\n",
       "      <td>0.578</td>\n",
       "      <td>108.597</td>\n",
       "      <td>4</td>\n",
       "      <td>1991.0</td>\n",
       "      <td>to the beat  to the beat y'all to the beat y'a...</td>\n",
       "      <td>3.35</td>\n",
       "      <td>290</td>\n",
       "      <td>1990-00s</td>\n",
       "      <td>[beat, beat, beat, beat, yes, goes, homeboys, ...</td>\n",
       "      <td>[beat, beat, beat, beat, yes, go, homeboys, ol...</td>\n",
       "    </tr>\n",
       "  </tbody>\n",
       "</table>\n",
       "</div>"
      ],
      "text/plain": [
       "                             Artist  popularity  num_markets  danceability  \\\n",
       "0  DJ Jazzy Jeff & The Fresh Prince          24           79         0.735   \n",
       "1                 Machine Gun Kelly          78           79         0.744   \n",
       "2                           Big Pun          57           79         0.724   \n",
       "3                           Das EFX          22           78         0.791   \n",
       "4                      Kool Moe Dee          11           77         0.801   \n",
       "\n",
       "   energy  loudness  speechiness  acousticness  instrumentalness  liveness  \\\n",
       "0   0.559   -16.289        0.161       0.00172          0.000020    0.0648   \n",
       "1   0.638    -4.860        0.049       0.00829          0.000000    0.1820   \n",
       "2   0.887    -7.076        0.393       0.13400          0.000000    0.1120   \n",
       "3   0.783   -10.470        0.416       0.29300          0.000000    0.2950   \n",
       "4   0.481   -13.903        0.232       0.01930          0.000107    0.3950   \n",
       "\n",
       "   valence    tempo time_signature  Year_release  \\\n",
       "0    0.887  170.385              4        1988.0   \n",
       "1    0.480   98.019              4        2019.0   \n",
       "2    0.745   90.945              4        1998.0   \n",
       "3    0.531   95.677              4        1995.0   \n",
       "4    0.578  108.597              4        1991.0   \n",
       "\n",
       "                                      Cleaned_lyrics  duration_mins  \\\n",
       "0  for years i have been waitin and hesitatin to ...           4.43   \n",
       "1  haha big 14 you know what the fuck going on   ...           2.61   \n",
       "2  the harsh realities of life have taken toll ev...           4.25   \n",
       "3  skoob and dray giving shoutouts  chorus  well ...           3.23   \n",
       "4  to the beat  to the beat y'all to the beat y'a...           3.35   \n",
       "\n",
       "   Count_words    Decade                                             tokens  \\\n",
       "0          234  1980-90s  [years, waitin, hesitatin, make, rap, record, ...   \n",
       "1          165  2010-20s  [big, # # , know, Fword, going, know, keep, ca...   \n",
       "2          460  1990-00s  [harsh, realities, life, taken, toll, even, je...   \n",
       "3          316  1990-00s  [skoob, dray, giving, shoutouts, chorus, well,...   \n",
       "4          290  1990-00s  [beat, beat, beat, beat, yes, goes, homeboys, ...   \n",
       "\n",
       "                                   lemmatized_lyrics  \n",
       "0  [years, waitin, hesitatin, make, rap, record, ...  \n",
       "1  [big, # # , know, Fword, go, know, keep, candy...  \n",
       "2  [harsh, realities, life, take, toll, even, jes...  \n",
       "3  [skoob, dray, give, shoutouts, chorus, well, g...  \n",
       "4  [beat, beat, beat, beat, yes, go, homeboys, ol...  "
      ]
     },
     "execution_count": 27,
     "metadata": {},
     "output_type": "execute_result"
    }
   ],
   "source": [
    "df.head()"
   ]
  },
  {
   "cell_type": "code",
   "execution_count": 28,
   "metadata": {},
   "outputs": [],
   "source": [
    "#updating count words columns\n",
    "df['Count_words'] = df.lemmatized_lyrics.apply(lambda x: len(x))"
   ]
  },
  {
   "cell_type": "code",
   "execution_count": 29,
   "metadata": {},
   "outputs": [],
   "source": [
    "df['working_lyrics'] = df.lemmatized_lyrics.apply(lambda x: concat_songs(x))"
   ]
  },
  {
   "cell_type": "code",
   "execution_count": 30,
   "metadata": {
    "collapsed": true
   },
   "outputs": [
    {
     "data": {
      "text/plain": [
       "Artist                  0\n",
       "popularity              0\n",
       "num_markets             0\n",
       "danceability            0\n",
       "energy                  0\n",
       "loudness                0\n",
       "speechiness             0\n",
       "acousticness            0\n",
       "instrumentalness        0\n",
       "liveness                0\n",
       "valence                 0\n",
       "tempo                   0\n",
       "time_signature          0\n",
       "Year_release         5895\n",
       "Cleaned_lyrics          0\n",
       "duration_mins           0\n",
       "Count_words             0\n",
       "Decade                  0\n",
       "tokens                  0\n",
       "lemmatized_lyrics       0\n",
       "working_lyrics          0\n",
       "dtype: int64"
      ]
     },
     "execution_count": 30,
     "metadata": {},
     "output_type": "execute_result"
    }
   ],
   "source": [
    "#Checking if there is null values after cleaning\n",
    "df.isna().sum()"
   ]
  },
  {
   "cell_type": "code",
   "execution_count": 31,
   "metadata": {
    "collapsed": true
   },
   "outputs": [
    {
     "data": {
      "text/html": [
       "<div>\n",
       "<style scoped>\n",
       "    .dataframe tbody tr th:only-of-type {\n",
       "        vertical-align: middle;\n",
       "    }\n",
       "\n",
       "    .dataframe tbody tr th {\n",
       "        vertical-align: top;\n",
       "    }\n",
       "\n",
       "    .dataframe thead th {\n",
       "        text-align: right;\n",
       "    }\n",
       "</style>\n",
       "<table border=\"1\" class=\"dataframe\">\n",
       "  <thead>\n",
       "    <tr style=\"text-align: right;\">\n",
       "      <th></th>\n",
       "      <th>Artist</th>\n",
       "      <th>popularity</th>\n",
       "      <th>num_markets</th>\n",
       "      <th>danceability</th>\n",
       "      <th>energy</th>\n",
       "      <th>loudness</th>\n",
       "      <th>speechiness</th>\n",
       "      <th>acousticness</th>\n",
       "      <th>instrumentalness</th>\n",
       "      <th>liveness</th>\n",
       "      <th>...</th>\n",
       "      <th>tempo</th>\n",
       "      <th>time_signature</th>\n",
       "      <th>Year_release</th>\n",
       "      <th>Cleaned_lyrics</th>\n",
       "      <th>duration_mins</th>\n",
       "      <th>Count_words</th>\n",
       "      <th>Decade</th>\n",
       "      <th>tokens</th>\n",
       "      <th>lemmatized_lyrics</th>\n",
       "      <th>working_lyrics</th>\n",
       "    </tr>\n",
       "  </thead>\n",
       "  <tbody>\n",
       "    <tr>\n",
       "      <th>0</th>\n",
       "      <td>DJ Jazzy Jeff &amp; The Fresh Prince</td>\n",
       "      <td>24</td>\n",
       "      <td>79</td>\n",
       "      <td>0.735</td>\n",
       "      <td>0.559</td>\n",
       "      <td>-16.289</td>\n",
       "      <td>0.161</td>\n",
       "      <td>0.00172</td>\n",
       "      <td>0.000020</td>\n",
       "      <td>0.0648</td>\n",
       "      <td>...</td>\n",
       "      <td>170.385</td>\n",
       "      <td>4</td>\n",
       "      <td>1988.0</td>\n",
       "      <td>for years i have been waitin and hesitatin to ...</td>\n",
       "      <td>4.43</td>\n",
       "      <td>234</td>\n",
       "      <td>1980-90s</td>\n",
       "      <td>[years, waitin, hesitatin, make, rap, record, ...</td>\n",
       "      <td>[years, waitin, hesitatin, make, rap, record, ...</td>\n",
       "      <td>years waitin hesitatin make rap record pace sl...</td>\n",
       "    </tr>\n",
       "    <tr>\n",
       "      <th>1</th>\n",
       "      <td>Machine Gun Kelly</td>\n",
       "      <td>78</td>\n",
       "      <td>79</td>\n",
       "      <td>0.744</td>\n",
       "      <td>0.638</td>\n",
       "      <td>-4.860</td>\n",
       "      <td>0.049</td>\n",
       "      <td>0.00829</td>\n",
       "      <td>0.000000</td>\n",
       "      <td>0.1820</td>\n",
       "      <td>...</td>\n",
       "      <td>98.019</td>\n",
       "      <td>4</td>\n",
       "      <td>2019.0</td>\n",
       "      <td>haha big 14 you know what the fuck going on   ...</td>\n",
       "      <td>2.61</td>\n",
       "      <td>165</td>\n",
       "      <td>2010-20s</td>\n",
       "      <td>[big, # # , know, Fword, going, know, keep, ca...</td>\n",
       "      <td>[big, # # , know, Fword, go, know, keep, candy...</td>\n",
       "      <td>big # #  know Fword go know keep candy need li...</td>\n",
       "    </tr>\n",
       "    <tr>\n",
       "      <th>2</th>\n",
       "      <td>Big Pun</td>\n",
       "      <td>57</td>\n",
       "      <td>79</td>\n",
       "      <td>0.724</td>\n",
       "      <td>0.887</td>\n",
       "      <td>-7.076</td>\n",
       "      <td>0.393</td>\n",
       "      <td>0.13400</td>\n",
       "      <td>0.000000</td>\n",
       "      <td>0.1120</td>\n",
       "      <td>...</td>\n",
       "      <td>90.945</td>\n",
       "      <td>4</td>\n",
       "      <td>1998.0</td>\n",
       "      <td>the harsh realities of life have taken toll ev...</td>\n",
       "      <td>4.25</td>\n",
       "      <td>460</td>\n",
       "      <td>1990-00s</td>\n",
       "      <td>[harsh, realities, life, taken, toll, even, je...</td>\n",
       "      <td>[harsh, realities, life, take, toll, even, jes...</td>\n",
       "      <td>harsh realities life take toll even jesus chri...</td>\n",
       "    </tr>\n",
       "    <tr>\n",
       "      <th>3</th>\n",
       "      <td>Das EFX</td>\n",
       "      <td>22</td>\n",
       "      <td>78</td>\n",
       "      <td>0.791</td>\n",
       "      <td>0.783</td>\n",
       "      <td>-10.470</td>\n",
       "      <td>0.416</td>\n",
       "      <td>0.29300</td>\n",
       "      <td>0.000000</td>\n",
       "      <td>0.2950</td>\n",
       "      <td>...</td>\n",
       "      <td>95.677</td>\n",
       "      <td>4</td>\n",
       "      <td>1995.0</td>\n",
       "      <td>skoob and dray giving shoutouts  chorus  well ...</td>\n",
       "      <td>3.23</td>\n",
       "      <td>316</td>\n",
       "      <td>1990-00s</td>\n",
       "      <td>[skoob, dray, giving, shoutouts, chorus, well,...</td>\n",
       "      <td>[skoob, dray, give, shoutouts, chorus, well, g...</td>\n",
       "      <td>skoob dray give shoutouts chorus well give buc...</td>\n",
       "    </tr>\n",
       "    <tr>\n",
       "      <th>4</th>\n",
       "      <td>Kool Moe Dee</td>\n",
       "      <td>11</td>\n",
       "      <td>77</td>\n",
       "      <td>0.801</td>\n",
       "      <td>0.481</td>\n",
       "      <td>-13.903</td>\n",
       "      <td>0.232</td>\n",
       "      <td>0.01930</td>\n",
       "      <td>0.000107</td>\n",
       "      <td>0.3950</td>\n",
       "      <td>...</td>\n",
       "      <td>108.597</td>\n",
       "      <td>4</td>\n",
       "      <td>1991.0</td>\n",
       "      <td>to the beat  to the beat y'all to the beat y'a...</td>\n",
       "      <td>3.35</td>\n",
       "      <td>290</td>\n",
       "      <td>1990-00s</td>\n",
       "      <td>[beat, beat, beat, beat, yes, goes, homeboys, ...</td>\n",
       "      <td>[beat, beat, beat, beat, yes, go, homeboys, ol...</td>\n",
       "      <td>beat beat beat beat yes go homeboys old school...</td>\n",
       "    </tr>\n",
       "  </tbody>\n",
       "</table>\n",
       "<p>5 rows × 21 columns</p>\n",
       "</div>"
      ],
      "text/plain": [
       "                             Artist  popularity  num_markets  danceability  \\\n",
       "0  DJ Jazzy Jeff & The Fresh Prince          24           79         0.735   \n",
       "1                 Machine Gun Kelly          78           79         0.744   \n",
       "2                           Big Pun          57           79         0.724   \n",
       "3                           Das EFX          22           78         0.791   \n",
       "4                      Kool Moe Dee          11           77         0.801   \n",
       "\n",
       "   energy  loudness  speechiness  acousticness  instrumentalness  liveness  \\\n",
       "0   0.559   -16.289        0.161       0.00172          0.000020    0.0648   \n",
       "1   0.638    -4.860        0.049       0.00829          0.000000    0.1820   \n",
       "2   0.887    -7.076        0.393       0.13400          0.000000    0.1120   \n",
       "3   0.783   -10.470        0.416       0.29300          0.000000    0.2950   \n",
       "4   0.481   -13.903        0.232       0.01930          0.000107    0.3950   \n",
       "\n",
       "   ...    tempo  time_signature Year_release  \\\n",
       "0  ...  170.385               4       1988.0   \n",
       "1  ...   98.019               4       2019.0   \n",
       "2  ...   90.945               4       1998.0   \n",
       "3  ...   95.677               4       1995.0   \n",
       "4  ...  108.597               4       1991.0   \n",
       "\n",
       "                                      Cleaned_lyrics duration_mins  \\\n",
       "0  for years i have been waitin and hesitatin to ...          4.43   \n",
       "1  haha big 14 you know what the fuck going on   ...          2.61   \n",
       "2  the harsh realities of life have taken toll ev...          4.25   \n",
       "3  skoob and dray giving shoutouts  chorus  well ...          3.23   \n",
       "4  to the beat  to the beat y'all to the beat y'a...          3.35   \n",
       "\n",
       "   Count_words    Decade                                             tokens  \\\n",
       "0          234  1980-90s  [years, waitin, hesitatin, make, rap, record, ...   \n",
       "1          165  2010-20s  [big, # # , know, Fword, going, know, keep, ca...   \n",
       "2          460  1990-00s  [harsh, realities, life, taken, toll, even, je...   \n",
       "3          316  1990-00s  [skoob, dray, giving, shoutouts, chorus, well,...   \n",
       "4          290  1990-00s  [beat, beat, beat, beat, yes, goes, homeboys, ...   \n",
       "\n",
       "                                   lemmatized_lyrics  \\\n",
       "0  [years, waitin, hesitatin, make, rap, record, ...   \n",
       "1  [big, # # , know, Fword, go, know, keep, candy...   \n",
       "2  [harsh, realities, life, take, toll, even, jes...   \n",
       "3  [skoob, dray, give, shoutouts, chorus, well, g...   \n",
       "4  [beat, beat, beat, beat, yes, go, homeboys, ol...   \n",
       "\n",
       "                                      working_lyrics  \n",
       "0  years waitin hesitatin make rap record pace sl...  \n",
       "1  big # #  know Fword go know keep candy need li...  \n",
       "2  harsh realities life take toll even jesus chri...  \n",
       "3  skoob dray give shoutouts chorus well give buc...  \n",
       "4  beat beat beat beat yes go homeboys old school...  \n",
       "\n",
       "[5 rows x 21 columns]"
      ]
     },
     "execution_count": 31,
     "metadata": {},
     "output_type": "execute_result"
    }
   ],
   "source": [
    "df.head()"
   ]
  },
  {
   "cell_type": "markdown",
   "metadata": {},
   "source": [
    "## Most frequent words"
   ]
  },
  {
   "cell_type": "markdown",
   "metadata": {},
   "source": [
    "### All Lyrics"
   ]
  },
  {
   "cell_type": "code",
   "execution_count": null,
   "metadata": {},
   "outputs": [],
   "source": [
    "#Functions to count top words and plots the frequency (from https://github.com/h-parker/commencement-speech-generator/blob/master/nlp-eda.ipynb)"
   ]
  },
  {
   "cell_type": "code",
   "execution_count": 32,
   "metadata": {},
   "outputs": [],
   "source": [
    "def get_top_n_words(ngram_start, ngram_end, corpus, n=10):\n",
    "    \"\"\"\n",
    "    List the top n words in a vocabulary according to occurrence in corpus.\n",
    "    \"\"\"\n",
    "    vec = CountVectorizer(ngram_range = (ngram_start, ngram_end))\n",
    "    bag_of_words = vec.fit_transform(corpus)\n",
    "    sum_words = bag_of_words.sum(axis=0) \n",
    "    words_freq = [(word, sum_words[0, idx]) for word, idx in vec.vocabulary_.items()]\n",
    "    words_freq =sorted(words_freq, key = lambda x: x[1], reverse=True)\n",
    "    return words_freq[:n]"
   ]
  },
  {
   "cell_type": "code",
   "execution_count": 33,
   "metadata": {},
   "outputs": [],
   "source": [
    "def plot_top_n_ngrams(corpus, n, ngram_start, ngram_end):\n",
    "    \"\"\"\n",
    "    Given corpus, number of top words you want, the range of \n",
    "    ngrams you're interested in (eg, just words: start = 1, end=1;\n",
    "    words & bigrams: start=1, end=2), this function will graph the\n",
    "    top words/ngrams in your corpus.\n",
    "    \"\"\"\n",
    "    # get top n words\n",
    "    top_words = get_top_n_words(ngram_start, ngram_end, corpus, n)\n",
    "    \n",
    "    # plot top n words\n",
    "    fig = plt.figure(figsize=(10,6))\n",
    "    ax = plt.barh([x[0] for x in top_words], [y[1] for y in top_words], \n",
    "            align='center', alpha=0.5,color='r')\n",
    "    plt.title('Distribution of most frequent words')\n",
    "    plt.xlabel('# times')\n",
    "    plt.ylabel('Words')\n",
    "\n"
   ]
  },
  {
   "cell_type": "code",
   "execution_count": 34,
   "metadata": {},
   "outputs": [
    {
     "data": {
      "image/png": "[encoded data removed]",
      "text/plain": [
       "<Figure size 720x432 with 1 Axes>"
      ]
     },
     "metadata": {
      "needs_background": "light"
     },
     "output_type": "display_data"
    }
   ],
   "source": [
    "plot_top_n_ngrams(df.working_lyrics, 25, 1, 1)"
   ]
  },
  {
   "cell_type": "code",
   "execution_count": 35,
   "metadata": {},
   "outputs": [
    {
     "data": {
      "image/png": "[encoded data removed]",
      "text/plain": [
       "<Figure size 720x432 with 1 Axes>"
      ]
     },
     "metadata": {
      "needs_background": "light"
     },
     "output_type": "display_data"
    }
   ],
   "source": [
    "plot_top_n_ngrams(df.working_lyrics, 25, 2, 2)"
   ]
  },
  {
   "cell_type": "code",
   "execution_count": 36,
   "metadata": {
    "scrolled": true
   },
   "outputs": [
    {
     "data": {
      "image/png": "[encoded data removed]",
      "text/plain": [
       "<Figure size 720x432 with 1 Axes>"
      ]
     },
     "metadata": {
      "needs_background": "light"
     },
     "output_type": "display_data"
    }
   ],
   "source": [
    "plot_top_n_ngrams(df.working_lyrics, 25, 3, 3)"
   ]
  },
  {
   "cell_type": "code",
   "execution_count": 37,
   "metadata": {},
   "outputs": [
    {
     "data": {
      "image/png": "[encoded data removed]",
      "text/plain": [
       "<Figure size 864x864 with 1 Axes>"
      ]
     },
     "metadata": {
      "needs_background": "light"
     },
     "output_type": "display_data"
    }
   ],
   "source": [
    "show_wordcloud(list(df.working_lyrics))"
   ]
  },
  {
   "cell_type": "markdown",
   "metadata": {},
   "source": [
    "## Vector and Topic"
   ]
  },
  {
   "cell_type": "code",
   "execution_count": 84,
   "metadata": {},
   "outputs": [
    {
     "data": {
      "text/plain": [
       "Index(['Artist', 'popularity', 'num_markets', 'danceability', 'energy',\n",
       "       'loudness', 'speechiness', 'acousticness', 'instrumentalness',\n",
       "       'liveness', 'valence', 'tempo', 'time_signature', 'Year_release',\n",
       "       'Cleaned_lyrics', 'duration_mins', 'Count_words', 'Decade', 'tokens',\n",
       "       'lemmatized_lyrics', 'working_lyrics'],\n",
       "      dtype='object')"
      ]
     },
     "execution_count": 84,
     "metadata": {},
     "output_type": "execute_result"
    }
   ],
   "source": [
    "df.columns"
   ]
  },
  {
   "cell_type": "code",
   "execution_count": 118,
   "metadata": {},
   "outputs": [],
   "source": [
    "from sklearn.feature_extraction.text import TfidfVectorizer, CountVectorizer\n",
    "from sklearn.decomposition import NMF, LatentDirichletAllocation\n",
    "import numpy as np\n",
    "\n",
    "def display_topics(H, W, feature_names, documents, no_top_words, no_top_documents):\n",
    "    for topic_idx, topic in enumerate(H):\n",
    "        print(\"---------------------------\")\n",
    "        print (\"Topic %d:\" % (topic_idx))\n",
    "        print (\" \".join([feature_names[i]\n",
    "                        for i in topic.argsort()[:-no_top_words - 1:-1]]))\n",
    "        top_doc_indices = np.argsort( W[:,topic_idx] )[::-1][0:no_top_documents]\n",
    "        for doc_index in top_doc_indices:\n",
    "#             print (documents[doc_index])  \n",
    "            print(str(df.Artist[doc_index]))  "
   ]
  },
  {
   "cell_type": "code",
   "execution_count": 131,
   "metadata": {},
   "outputs": [],
   "source": [
    "documents = df.working_lyrics\n",
    "\n",
    "no_features = 2000\n",
    "\n",
    "# NMF is able to use tf-idf\n",
    "tfidf_vectorizer = TfidfVectorizer(max_df=0.95, min_df=25, max_features=no_features, stop_words=stopwords_list,ngram_range=(1, 3))\n",
    "tfidf = tfidf_vectorizer.fit_transform(documents)\n",
    "tfidf_feature_names = tfidf_vectorizer.get_feature_names()\n",
    "\n",
    "# LDA can only use raw term counts for LDA because it is a probabilistic graphical model\n",
    "tf_vectorizer = CountVectorizer(max_df=0.95, min_df=25, max_features=no_features, stop_words=stopwords_list,ngram_range=(1, 3))\n",
    "tf = tf_vectorizer.fit_transform(documents)\n",
    "tf_feature_names = tf_vectorizer.get_feature_names()\n",
    "\n",
    "no_topics = 5\n",
    "\n",
    "# Run NMF\n",
    "nmf_model = NMF(n_components=no_topics, random_state=17, alpha=.1, l1_ratio=.5, init='nndsvd').fit(tfidf)\n",
    "nmf_W = nmf_model.transform(tfidf)\n",
    "nmf_H = nmf_model.components_\n",
    "\n",
    "# Run LDA\n",
    "lda_model = LatentDirichletAllocation(n_components=no_topics, max_iter=5, learning_method='batch', learning_offset=50.,random_state=0).fit(tf)\n",
    "lda_W = lda_model.transform(tf)\n",
    "lda_H = lda_model.components_"
   ]
  },
  {
   "cell_type": "code",
   "execution_count": 132,
   "metadata": {},
   "outputs": [],
   "source": [
    "#Number of topic with Artist and titles\n",
    "no_top_words = 25\n",
    "no_top_documents = 5"
   ]
  },
  {
   "cell_type": "code",
   "execution_count": 133,
   "metadata": {},
   "outputs": [
    {
     "name": "stdout",
     "output_type": "stream",
     "text": [
      "---------------------------\n",
      "Topic 0:\n",
      "get like go make cause know see man come say time back never life take try think keep live let still look us people tell\n",
      "Wyclef Jean\n",
      "Queen Latifah\n",
      "Too $hort\n",
      "Three 6 Mafia\n",
      "Onyx\n",
      "---------------------------\n",
      "Topic 1:\n",
      "nword shit get nword get real know real nword nword know gon nword nword fword hood gun young shoot fword nword block young nword lil nword like talk bout streets die see\n",
      "Machine Gun Kelly\n",
      "Living Legends\n",
      "Mac Miller\n",
      "MC Lyte\n",
      "Meek Mill\n",
      "---------------------------\n",
      "Topic 2:\n",
      "bword get like money dick pussy ass bword get get money pimp bword bword smoke shit big go bad pull get bword hit bad bword lil bout call ball want\n",
      "Eminem\n",
      "Fat Joe\n",
      "A$AP Rocky\n",
      "Wiz Khalifa\n",
      "Tech N9ne\n",
      "---------------------------\n",
      "Topic 3:\n",
      "love baby girl know want wanna go say let feel need tell love love right good see hey think time know know give make way could night\n",
      "E-40\n",
      "Twista\n",
      "Method Man\n",
      "Tech N9ne\n",
      "Kevin Gates\n",
      "---------------------------\n",
      "Topic 4:\n",
      "fword shit fword fword give fword ass bword give fuck get fword dick man fword nword nword fword fword bword like fword fword get shit fword fword around nword cause fword shit wanna pussy man fword suck\n",
      "The Game\n",
      "The Game\n",
      "Big Sean\n",
      "Rick Ross\n",
      "Three 6 Mafia\n"
     ]
    }
   ],
   "source": [
    "#Have a look at the topics top words for NMF\n",
    "display_topics(nmf_H, nmf_W, tfidf_feature_names, documents, no_top_words, no_top_documents)"
   ]
  },
  {
   "cell_type": "code",
   "execution_count": 130,
   "metadata": {},
   "outputs": [
    {
     "name": "stdout",
     "output_type": "stream",
     "text": [
      "---------------------------\n",
      "Topic 0:\n",
      "nword fword bword get shit like know ass gon real go talk back say cause tell hit come pussy want give dick man nword get bout\n",
      "Xzibit\n",
      "Three 6 Mafia\n",
      "Kool Keith\n",
      "Danny Brown\n",
      "N.O.R.E.\n",
      "---------------------------\n",
      "Topic 1:\n",
      "get like money make go back big know bword see roll come keep new smoke game nword put cause hit man boy top look still\n",
      "Snoop Dogg\n",
      "Big K.R.I.T.\n",
      "Snoop Dogg\n",
      "A$AP Rocky\n",
      "NF\n",
      "---------------------------\n",
      "Topic 2:\n",
      "know go love baby let get girl want wanna tell need like way la say see make cause hey feel gotta know know give let go go go\n",
      "MC Eiht\n",
      "DMX\n",
      "Pitbull\n",
      "Everlast\n",
      "G-Eazy\n",
      "---------------------------\n",
      "Topic 3:\n",
      "get life see know never time make go like cause live say take think us come try still keep man tell god feel day world\n",
      "Coolio\n",
      "Bushwick Bill\n",
      "Talib Kweli\n"
     ]
    },
    {
     "ename": "KeyError",
     "evalue": "803",
     "output_type": "error",
     "traceback": [
      "\u001b[0;31m---------------------------------------------------------------------------\u001b[0m",
      "\u001b[0;31mKeyError\u001b[0m                                  Traceback (most recent call last)",
      "\u001b[0;32m<ipython-input-130-7714b822859e>\u001b[0m in \u001b[0;36m<module>\u001b[0;34m\u001b[0m\n\u001b[1;32m      1\u001b[0m \u001b[0;31m#Displaying topic for LDA\u001b[0m\u001b[0;34m\u001b[0m\u001b[0;34m\u001b[0m\u001b[0;34m\u001b[0m\u001b[0m\n\u001b[0;32m----> 2\u001b[0;31m \u001b[0mdisplay_topics\u001b[0m\u001b[0;34m(\u001b[0m\u001b[0mlda_H\u001b[0m\u001b[0;34m,\u001b[0m \u001b[0mlda_W\u001b[0m\u001b[0;34m,\u001b[0m \u001b[0mtf_feature_names\u001b[0m\u001b[0;34m,\u001b[0m \u001b[0mdocuments\u001b[0m\u001b[0;34m,\u001b[0m \u001b[0mno_top_words\u001b[0m\u001b[0;34m,\u001b[0m \u001b[0mno_top_documents\u001b[0m\u001b[0;34m)\u001b[0m\u001b[0;34m\u001b[0m\u001b[0;34m\u001b[0m\u001b[0m\n\u001b[0m",
      "\u001b[0;32m<ipython-input-118-2ec949be962b>\u001b[0m in \u001b[0;36mdisplay_topics\u001b[0;34m(H, W, feature_names, documents, no_top_words, no_top_documents)\u001b[0m\n\u001b[1;32m     12\u001b[0m         \u001b[0;32mfor\u001b[0m \u001b[0mdoc_index\u001b[0m \u001b[0;32min\u001b[0m \u001b[0mtop_doc_indices\u001b[0m\u001b[0;34m:\u001b[0m\u001b[0;34m\u001b[0m\u001b[0;34m\u001b[0m\u001b[0m\n\u001b[1;32m     13\u001b[0m \u001b[0;31m#             print (documents[doc_index])\u001b[0m\u001b[0;34m\u001b[0m\u001b[0;34m\u001b[0m\u001b[0;34m\u001b[0m\u001b[0m\n\u001b[0;32m---> 14\u001b[0;31m             \u001b[0mprint\u001b[0m\u001b[0;34m(\u001b[0m\u001b[0mstr\u001b[0m\u001b[0;34m(\u001b[0m\u001b[0mdf\u001b[0m\u001b[0;34m.\u001b[0m\u001b[0mArtist\u001b[0m\u001b[0;34m[\u001b[0m\u001b[0mdoc_index\u001b[0m\u001b[0;34m]\u001b[0m\u001b[0;34m)\u001b[0m\u001b[0;34m)\u001b[0m\u001b[0;34m\u001b[0m\u001b[0;34m\u001b[0m\u001b[0m\n\u001b[0m",
      "\u001b[0;32m~/anaconda3/lib/python3.7/site-packages/pandas/core/series.py\u001b[0m in \u001b[0;36m__getitem__\u001b[0;34m(self, key)\u001b[0m\n\u001b[1;32m   1062\u001b[0m         \u001b[0mkey\u001b[0m \u001b[0;34m=\u001b[0m \u001b[0mcom\u001b[0m\u001b[0;34m.\u001b[0m\u001b[0mapply_if_callable\u001b[0m\u001b[0;34m(\u001b[0m\u001b[0mkey\u001b[0m\u001b[0;34m,\u001b[0m \u001b[0mself\u001b[0m\u001b[0;34m)\u001b[0m\u001b[0;34m\u001b[0m\u001b[0;34m\u001b[0m\u001b[0m\n\u001b[1;32m   1063\u001b[0m         \u001b[0;32mtry\u001b[0m\u001b[0;34m:\u001b[0m\u001b[0;34m\u001b[0m\u001b[0;34m\u001b[0m\u001b[0m\n\u001b[0;32m-> 1064\u001b[0;31m             \u001b[0mresult\u001b[0m \u001b[0;34m=\u001b[0m \u001b[0mself\u001b[0m\u001b[0;34m.\u001b[0m\u001b[0mindex\u001b[0m\u001b[0;34m.\u001b[0m\u001b[0mget_value\u001b[0m\u001b[0;34m(\u001b[0m\u001b[0mself\u001b[0m\u001b[0;34m,\u001b[0m \u001b[0mkey\u001b[0m\u001b[0;34m)\u001b[0m\u001b[0;34m\u001b[0m\u001b[0;34m\u001b[0m\u001b[0m\n\u001b[0m\u001b[1;32m   1065\u001b[0m \u001b[0;34m\u001b[0m\u001b[0m\n\u001b[1;32m   1066\u001b[0m             \u001b[0;32mif\u001b[0m \u001b[0;32mnot\u001b[0m \u001b[0mis_scalar\u001b[0m\u001b[0;34m(\u001b[0m\u001b[0mresult\u001b[0m\u001b[0;34m)\u001b[0m\u001b[0;34m:\u001b[0m\u001b[0;34m\u001b[0m\u001b[0;34m\u001b[0m\u001b[0m\n",
      "\u001b[0;32m~/anaconda3/lib/python3.7/site-packages/pandas/core/indexes/base.py\u001b[0m in \u001b[0;36mget_value\u001b[0;34m(self, series, key)\u001b[0m\n\u001b[1;32m   4721\u001b[0m         \u001b[0mk\u001b[0m \u001b[0;34m=\u001b[0m \u001b[0mself\u001b[0m\u001b[0;34m.\u001b[0m\u001b[0m_convert_scalar_indexer\u001b[0m\u001b[0;34m(\u001b[0m\u001b[0mk\u001b[0m\u001b[0;34m,\u001b[0m \u001b[0mkind\u001b[0m\u001b[0;34m=\u001b[0m\u001b[0;34m\"getitem\"\u001b[0m\u001b[0;34m)\u001b[0m\u001b[0;34m\u001b[0m\u001b[0;34m\u001b[0m\u001b[0m\n\u001b[1;32m   4722\u001b[0m         \u001b[0;32mtry\u001b[0m\u001b[0;34m:\u001b[0m\u001b[0;34m\u001b[0m\u001b[0;34m\u001b[0m\u001b[0m\n\u001b[0;32m-> 4723\u001b[0;31m             \u001b[0;32mreturn\u001b[0m \u001b[0mself\u001b[0m\u001b[0;34m.\u001b[0m\u001b[0m_engine\u001b[0m\u001b[0;34m.\u001b[0m\u001b[0mget_value\u001b[0m\u001b[0;34m(\u001b[0m\u001b[0ms\u001b[0m\u001b[0;34m,\u001b[0m \u001b[0mk\u001b[0m\u001b[0;34m,\u001b[0m \u001b[0mtz\u001b[0m\u001b[0;34m=\u001b[0m\u001b[0mgetattr\u001b[0m\u001b[0;34m(\u001b[0m\u001b[0mseries\u001b[0m\u001b[0;34m.\u001b[0m\u001b[0mdtype\u001b[0m\u001b[0;34m,\u001b[0m \u001b[0;34m\"tz\"\u001b[0m\u001b[0;34m,\u001b[0m \u001b[0;32mNone\u001b[0m\u001b[0;34m)\u001b[0m\u001b[0;34m)\u001b[0m\u001b[0;34m\u001b[0m\u001b[0;34m\u001b[0m\u001b[0m\n\u001b[0m\u001b[1;32m   4724\u001b[0m         \u001b[0;32mexcept\u001b[0m \u001b[0mKeyError\u001b[0m \u001b[0;32mas\u001b[0m \u001b[0me1\u001b[0m\u001b[0;34m:\u001b[0m\u001b[0;34m\u001b[0m\u001b[0;34m\u001b[0m\u001b[0m\n\u001b[1;32m   4725\u001b[0m             \u001b[0;32mif\u001b[0m \u001b[0mlen\u001b[0m\u001b[0;34m(\u001b[0m\u001b[0mself\u001b[0m\u001b[0;34m)\u001b[0m \u001b[0;34m>\u001b[0m \u001b[0;36m0\u001b[0m \u001b[0;32mand\u001b[0m \u001b[0;34m(\u001b[0m\u001b[0mself\u001b[0m\u001b[0;34m.\u001b[0m\u001b[0mholds_integer\u001b[0m\u001b[0;34m(\u001b[0m\u001b[0;34m)\u001b[0m \u001b[0;32mor\u001b[0m \u001b[0mself\u001b[0m\u001b[0;34m.\u001b[0m\u001b[0mis_boolean\u001b[0m\u001b[0;34m(\u001b[0m\u001b[0;34m)\u001b[0m\u001b[0;34m)\u001b[0m\u001b[0;34m:\u001b[0m\u001b[0;34m\u001b[0m\u001b[0;34m\u001b[0m\u001b[0m\n",
      "\u001b[0;32mpandas/_libs/index.pyx\u001b[0m in \u001b[0;36mpandas._libs.index.IndexEngine.get_value\u001b[0;34m()\u001b[0m\n",
      "\u001b[0;32mpandas/_libs/index.pyx\u001b[0m in \u001b[0;36mpandas._libs.index.IndexEngine.get_value\u001b[0;34m()\u001b[0m\n",
      "\u001b[0;32mpandas/_libs/index.pyx\u001b[0m in \u001b[0;36mpandas._libs.index.IndexEngine.get_loc\u001b[0;34m()\u001b[0m\n",
      "\u001b[0;32mpandas/_libs/hashtable_class_helper.pxi\u001b[0m in \u001b[0;36mpandas._libs.hashtable.Int64HashTable.get_item\u001b[0;34m()\u001b[0m\n",
      "\u001b[0;32mpandas/_libs/hashtable_class_helper.pxi\u001b[0m in \u001b[0;36mpandas._libs.hashtable.Int64HashTable.get_item\u001b[0;34m()\u001b[0m\n",
      "\u001b[0;31mKeyError\u001b[0m: 803"
     ]
    }
   ],
   "source": [
    "#Displaying topic for LDA\n",
    "display_topics(lda_H, lda_W, tf_feature_names, documents, no_top_words, no_top_documents)"
   ]
  },
  {
   "cell_type": "code",
   "execution_count": null,
   "metadata": {},
   "outputs": [],
   "source": [
    "lda_categories = [lda_model_tfidf[bow_corpus[i]][0][0] for i in range(0, len(bow_corpus))]"
   ]
  },
  {
   "cell_type": "code",
   "execution_count": null,
   "metadata": {},
   "outputs": [],
   "source": []
  },
  {
   "cell_type": "code",
   "execution_count": null,
   "metadata": {},
   "outputs": [],
   "source": []
  },
  {
   "cell_type": "code",
   "execution_count": null,
   "metadata": {},
   "outputs": [],
   "source": []
  },
  {
   "cell_type": "markdown",
   "metadata": {},
   "source": [
    "## Vectorizing"
   ]
  },
  {
   "cell_type": "markdown",
   "metadata": {},
   "source": [
    "### TF IDF"
   ]
  },
  {
   "cell_type": "code",
   "execution_count": 38,
   "metadata": {
    "collapsed": true
   },
   "outputs": [
    {
     "data": {
      "text/html": [
       "<div>\n",
       "<style scoped>\n",
       "    .dataframe tbody tr th:only-of-type {\n",
       "        vertical-align: middle;\n",
       "    }\n",
       "\n",
       "    .dataframe tbody tr th {\n",
       "        vertical-align: top;\n",
       "    }\n",
       "\n",
       "    .dataframe thead th {\n",
       "        text-align: right;\n",
       "    }\n",
       "</style>\n",
       "<table border=\"1\" class=\"dataframe\">\n",
       "  <thead>\n",
       "    <tr style=\"text-align: right;\">\n",
       "      <th></th>\n",
       "      <th>Artist</th>\n",
       "      <th>popularity</th>\n",
       "      <th>num_markets</th>\n",
       "      <th>danceability</th>\n",
       "      <th>energy</th>\n",
       "      <th>loudness</th>\n",
       "      <th>speechiness</th>\n",
       "      <th>acousticness</th>\n",
       "      <th>instrumentalness</th>\n",
       "      <th>liveness</th>\n",
       "      <th>...</th>\n",
       "      <th>tempo</th>\n",
       "      <th>time_signature</th>\n",
       "      <th>Year_release</th>\n",
       "      <th>Cleaned_lyrics</th>\n",
       "      <th>duration_mins</th>\n",
       "      <th>Count_words</th>\n",
       "      <th>Decade</th>\n",
       "      <th>tokens</th>\n",
       "      <th>lemmatized_lyrics</th>\n",
       "      <th>working_lyrics</th>\n",
       "    </tr>\n",
       "  </thead>\n",
       "  <tbody>\n",
       "    <tr>\n",
       "      <th>0</th>\n",
       "      <td>DJ Jazzy Jeff &amp; The Fresh Prince</td>\n",
       "      <td>24</td>\n",
       "      <td>79</td>\n",
       "      <td>0.735</td>\n",
       "      <td>0.559</td>\n",
       "      <td>-16.289</td>\n",
       "      <td>0.161</td>\n",
       "      <td>0.00172</td>\n",
       "      <td>0.000020</td>\n",
       "      <td>0.0648</td>\n",
       "      <td>...</td>\n",
       "      <td>170.385</td>\n",
       "      <td>4</td>\n",
       "      <td>1988.0</td>\n",
       "      <td>for years i have been waitin and hesitatin to ...</td>\n",
       "      <td>4.43</td>\n",
       "      <td>234</td>\n",
       "      <td>1980-90s</td>\n",
       "      <td>[years, waitin, hesitatin, make, rap, record, ...</td>\n",
       "      <td>[years, waitin, hesitatin, make, rap, record, ...</td>\n",
       "      <td>years waitin hesitatin make rap record pace sl...</td>\n",
       "    </tr>\n",
       "    <tr>\n",
       "      <th>1</th>\n",
       "      <td>Machine Gun Kelly</td>\n",
       "      <td>78</td>\n",
       "      <td>79</td>\n",
       "      <td>0.744</td>\n",
       "      <td>0.638</td>\n",
       "      <td>-4.860</td>\n",
       "      <td>0.049</td>\n",
       "      <td>0.00829</td>\n",
       "      <td>0.000000</td>\n",
       "      <td>0.1820</td>\n",
       "      <td>...</td>\n",
       "      <td>98.019</td>\n",
       "      <td>4</td>\n",
       "      <td>2019.0</td>\n",
       "      <td>haha big 14 you know what the fuck going on   ...</td>\n",
       "      <td>2.61</td>\n",
       "      <td>165</td>\n",
       "      <td>2010-20s</td>\n",
       "      <td>[big, # # , know, Fword, going, know, keep, ca...</td>\n",
       "      <td>[big, # # , know, Fword, go, know, keep, candy...</td>\n",
       "      <td>big # #  know Fword go know keep candy need li...</td>\n",
       "    </tr>\n",
       "    <tr>\n",
       "      <th>2</th>\n",
       "      <td>Big Pun</td>\n",
       "      <td>57</td>\n",
       "      <td>79</td>\n",
       "      <td>0.724</td>\n",
       "      <td>0.887</td>\n",
       "      <td>-7.076</td>\n",
       "      <td>0.393</td>\n",
       "      <td>0.13400</td>\n",
       "      <td>0.000000</td>\n",
       "      <td>0.1120</td>\n",
       "      <td>...</td>\n",
       "      <td>90.945</td>\n",
       "      <td>4</td>\n",
       "      <td>1998.0</td>\n",
       "      <td>the harsh realities of life have taken toll ev...</td>\n",
       "      <td>4.25</td>\n",
       "      <td>460</td>\n",
       "      <td>1990-00s</td>\n",
       "      <td>[harsh, realities, life, taken, toll, even, je...</td>\n",
       "      <td>[harsh, realities, life, take, toll, even, jes...</td>\n",
       "      <td>harsh realities life take toll even jesus chri...</td>\n",
       "    </tr>\n",
       "    <tr>\n",
       "      <th>3</th>\n",
       "      <td>Das EFX</td>\n",
       "      <td>22</td>\n",
       "      <td>78</td>\n",
       "      <td>0.791</td>\n",
       "      <td>0.783</td>\n",
       "      <td>-10.470</td>\n",
       "      <td>0.416</td>\n",
       "      <td>0.29300</td>\n",
       "      <td>0.000000</td>\n",
       "      <td>0.2950</td>\n",
       "      <td>...</td>\n",
       "      <td>95.677</td>\n",
       "      <td>4</td>\n",
       "      <td>1995.0</td>\n",
       "      <td>skoob and dray giving shoutouts  chorus  well ...</td>\n",
       "      <td>3.23</td>\n",
       "      <td>316</td>\n",
       "      <td>1990-00s</td>\n",
       "      <td>[skoob, dray, giving, shoutouts, chorus, well,...</td>\n",
       "      <td>[skoob, dray, give, shoutouts, chorus, well, g...</td>\n",
       "      <td>skoob dray give shoutouts chorus well give buc...</td>\n",
       "    </tr>\n",
       "    <tr>\n",
       "      <th>4</th>\n",
       "      <td>Kool Moe Dee</td>\n",
       "      <td>11</td>\n",
       "      <td>77</td>\n",
       "      <td>0.801</td>\n",
       "      <td>0.481</td>\n",
       "      <td>-13.903</td>\n",
       "      <td>0.232</td>\n",
       "      <td>0.01930</td>\n",
       "      <td>0.000107</td>\n",
       "      <td>0.3950</td>\n",
       "      <td>...</td>\n",
       "      <td>108.597</td>\n",
       "      <td>4</td>\n",
       "      <td>1991.0</td>\n",
       "      <td>to the beat  to the beat y'all to the beat y'a...</td>\n",
       "      <td>3.35</td>\n",
       "      <td>290</td>\n",
       "      <td>1990-00s</td>\n",
       "      <td>[beat, beat, beat, beat, yes, goes, homeboys, ...</td>\n",
       "      <td>[beat, beat, beat, beat, yes, go, homeboys, ol...</td>\n",
       "      <td>beat beat beat beat yes go homeboys old school...</td>\n",
       "    </tr>\n",
       "  </tbody>\n",
       "</table>\n",
       "<p>5 rows × 21 columns</p>\n",
       "</div>"
      ],
      "text/plain": [
       "                             Artist  popularity  num_markets  danceability  \\\n",
       "0  DJ Jazzy Jeff & The Fresh Prince          24           79         0.735   \n",
       "1                 Machine Gun Kelly          78           79         0.744   \n",
       "2                           Big Pun          57           79         0.724   \n",
       "3                           Das EFX          22           78         0.791   \n",
       "4                      Kool Moe Dee          11           77         0.801   \n",
       "\n",
       "   energy  loudness  speechiness  acousticness  instrumentalness  liveness  \\\n",
       "0   0.559   -16.289        0.161       0.00172          0.000020    0.0648   \n",
       "1   0.638    -4.860        0.049       0.00829          0.000000    0.1820   \n",
       "2   0.887    -7.076        0.393       0.13400          0.000000    0.1120   \n",
       "3   0.783   -10.470        0.416       0.29300          0.000000    0.2950   \n",
       "4   0.481   -13.903        0.232       0.01930          0.000107    0.3950   \n",
       "\n",
       "   ...    tempo  time_signature Year_release  \\\n",
       "0  ...  170.385               4       1988.0   \n",
       "1  ...   98.019               4       2019.0   \n",
       "2  ...   90.945               4       1998.0   \n",
       "3  ...   95.677               4       1995.0   \n",
       "4  ...  108.597               4       1991.0   \n",
       "\n",
       "                                      Cleaned_lyrics duration_mins  \\\n",
       "0  for years i have been waitin and hesitatin to ...          4.43   \n",
       "1  haha big 14 you know what the fuck going on   ...          2.61   \n",
       "2  the harsh realities of life have taken toll ev...          4.25   \n",
       "3  skoob and dray giving shoutouts  chorus  well ...          3.23   \n",
       "4  to the beat  to the beat y'all to the beat y'a...          3.35   \n",
       "\n",
       "   Count_words    Decade                                             tokens  \\\n",
       "0          234  1980-90s  [years, waitin, hesitatin, make, rap, record, ...   \n",
       "1          165  2010-20s  [big, # # , know, Fword, going, know, keep, ca...   \n",
       "2          460  1990-00s  [harsh, realities, life, taken, toll, even, je...   \n",
       "3          316  1990-00s  [skoob, dray, giving, shoutouts, chorus, well,...   \n",
       "4          290  1990-00s  [beat, beat, beat, beat, yes, goes, homeboys, ...   \n",
       "\n",
       "                                   lemmatized_lyrics  \\\n",
       "0  [years, waitin, hesitatin, make, rap, record, ...   \n",
       "1  [big, # # , know, Fword, go, know, keep, candy...   \n",
       "2  [harsh, realities, life, take, toll, even, jes...   \n",
       "3  [skoob, dray, give, shoutouts, chorus, well, g...   \n",
       "4  [beat, beat, beat, beat, yes, go, homeboys, ol...   \n",
       "\n",
       "                                      working_lyrics  \n",
       "0  years waitin hesitatin make rap record pace sl...  \n",
       "1  big # #  know Fword go know keep candy need li...  \n",
       "2  harsh realities life take toll even jesus chri...  \n",
       "3  skoob dray give shoutouts chorus well give buc...  \n",
       "4  beat beat beat beat yes go homeboys old school...  \n",
       "\n",
       "[5 rows x 21 columns]"
      ]
     },
     "execution_count": 38,
     "metadata": {},
     "output_type": "execute_result"
    }
   ],
   "source": [
    "df.head()"
   ]
  },
  {
   "cell_type": "code",
   "execution_count": 39,
   "metadata": {},
   "outputs": [
    {
     "data": {
      "text/plain": [
       "27109"
      ]
     },
     "execution_count": 39,
     "metadata": {},
     "output_type": "execute_result"
    }
   ],
   "source": [
    "len(df) #27109"
   ]
  },
  {
   "cell_type": "markdown",
   "metadata": {},
   "source": [
    "after preparing the list of words - Let's get the words into vectors"
   ]
  },
  {
   "cell_type": "code",
   "execution_count": 40,
   "metadata": {},
   "outputs": [],
   "source": [
    "#max_df --> ignore words that appear in 95% of the songs \n",
    "#ignores words that occur in fewer than 25 songs - use my created stopword list\n",
    "# I am not interested in more than 1k features\n",
    "vectorizer = TfidfVectorizer(max_df=0.95, max_features=2000,\n",
    "                             min_df=25, stop_words=stopwords_list,\n",
    "                             use_idf=True, ngram_range=(1, 3))"
   ]
  },
  {
   "cell_type": "code",
   "execution_count": 41,
   "metadata": {},
   "outputs": [],
   "source": [
    "#using TF-IDF to vectorize \n",
    "lyrics_tfidf = vectorizer.fit_transform(df['working_lyrics'])"
   ]
  },
  {
   "cell_type": "code",
   "execution_count": 42,
   "metadata": {},
   "outputs": [
    {
     "name": "stdout",
     "output_type": "stream",
     "text": [
      "(27109, 1000)\n"
     ]
    }
   ],
   "source": [
    "#Checking the shape of my TF-IDF vectorizer\n",
    "print(lyrics_tfidf.shape) #(27109,1000)"
   ]
  },
  {
   "cell_type": "code",
   "execution_count": 134,
   "metadata": {
    "collapsed": true
   },
   "outputs": [
    {
     "name": "stdout",
     "output_type": "stream",
     "text": [
      "['act', 'act like', 'action', 'ahead', 'aim', 'air', 'album', 'alive', 'alone', 'along', 'already', 'alright', 'always', 'another', 'answer', 'anybody', 'anything', 'arm', 'around', 'ask', 'ass', 'ass nword', 'attention', 'away', 'aye', 'baby', 'baby baby', 'baby girl', 'back', 'bad', 'bad bword', 'bag', 'ball', 'band', 'bang', 'bang bang', 'bank', 'bar', 'battle', 'bear', 'beat', 'beautiful', 'become', 'bed', 'beef', 'begin', 'behind', 'believe', 'bend', 'benz', 'best', 'bet', 'better', 'big', 'bigger', 'bill', 'bird', 'bite', 'black', 'blame', 'blast', 'blaze', 'bleed', 'bless', 'blind', 'block', 'blood', 'blow', 'blue', 'blunt', 'body', 'bomb', 'bone', 'boo', 'book', 'boom', 'booty', 'boss', 'bottle', 'bottom', 'bounce', 'bout', 'bow', 'box', 'boy', 'boys', 'brain', 'brand', 'brand new', 'bread', 'break', 'breath', 'breathe', 'brick', 'bricks', 'bring', 'bro', 'brother', 'brothers', 'brown', 'buck', 'build', 'bullets', 'bullshit', 'bump', 'burn', 'bus', 'business', 'bust', 'buy', 'bword', 'bword bword', 'bword fword', 'bword get', 'bword know', 'bword like', 'bword nword', 'cake', 'call', 'candy', 'cap', 'car', 'card', 'care', 'carry', 'cars', 'case', 'cash', 'cat', 'catch', 'cause', 'cause get', 'cause know', 'cha', 'chain', 'chance', 'change', 'charge', 'chase', 'check', 'cheese', 'chest', 'chick', 'chicks', 'child', 'children', 'chill', 'choose', 'chop', 'chorus', 'chrome', 'city', 'claim', 'clap', 'class', 'clean', 'clear', 'click', 'clip', 'clock', 'close', 'clothe', 'club', 'coast', 'cock', 'coke', 'cold', 'color', 'come', 'come back', 'come come', 'come get', 'comin', 'control', 'cook', 'cool', 'cop', 'corner', 'cost', 'could', 'count', 'coupe', 'couple', 'cover', 'crack', 'crazy', 'cream', 'creep', 'crew', 'crib', 'crime', 'cross', 'crowd', 'cry', 'cup', 'cut', 'cuz', 'da', 'daddy', 'damn', 'dance', 'dark', 'dat', 'dawg', 'day', 'days', 'dead', 'deal', 'death', 'deep', 'dem', 'devil', 'diamonds', 'dick', 'die', 'different', 'dig', 'dip', 'dirt', 'dirty', 'diss', 'dj', 'dog', 'dogg', 'doin', 'dollar', 'dollars', 'dont', 'door', 'doors', 'dope', 'double', 'doubt', 'dough', 'drama', 'dream', 'dress', 'drink', 'drip', 'drive', 'drop', 'drug', 'duck', 'dude', 'dumb', 'earth', 'east', 'easy', 'eat', 'either', 'else', 'end', 'enemies', 'enough', 'even', 'even though', 'ever', 'every', 'every day', 'every time', 'everybody', 'everyday', 'everyone', 'everything', 'everywhere', 'evil', 'eye', 'face', 'fact', 'fade', 'fake', 'fall', 'fame', 'family', 'fan', 'far', 'fast', 'fat', 'father', 'fear', 'feds', 'fee', 'feel', 'feel like', 'feet', 'fell', 'felt', 'fight', 'figure', 'fill', 'find', 'fine', 'finger', 'finish', 'finna', 'fire', 'first', 'fit', 'five', 'flame', 'flex', 'flip', 'float', 'floor', 'flow', 'fly', 'fo', 'focus', 'follow', 'food', 'fool', 'force', 'forever', 'forget', 'four', 'freak', 'free', 'freeze', 'fresh', 'friend', 'friends', 'front', 'fuck', 'full', 'fun', 'funk', 'funky', 'funny', 'future', 'fword', 'fword around', 'fword bword', 'fword fword', 'fword get', 'fword nword', 'game', 'gang', 'gangsta', 'gas', 'get', 'get back', 'get bword', 'get fword', 'get get', 'get get get', 'get go', 'get high', 'get money', 'get nword', 'get pay', 'get right', 'get shit', 'gettin', 'ghetto', 'ghost', 'gimme', 'girl', 'girls', 'give', 'give fword', 'glass', 'glock', 'go', 'go back', 'go get', 'go go', 'go go go', 'go hard', 'god', 'goin', 'gold', 'gon', 'gonna', 'good', 'gotta', 'gotta get', 'grab', 'grand', 'great', 'green', 'grind', 'grip', 'grow', 'gucci', 'guess', 'gun', 'guy', 'hair', 'half', 'hammer', 'hand', 'handle', 'hang', 'happen', 'happy', 'hard', 'hat', 'hate', 'haters', 'head', 'hear', 'heart', 'heat', 'heaven', 'heavy', 'hell', 'hello', 'help', 'hey', 'hey hey', 'hide', 'high', 'higher', 'hill', 'hip', 'hiphop', 'hit', 'hoe', 'hold', 'hole', 'holla', 'home', 'homie', 'homies', 'honey', 'hood', 'hook', 'hop', 'hope', 'hot', 'house', 'huh', 'hundred', 'hurt', 'hustle', 'ice', 'ill', 'im', 'inside', 'jack', 'jail', 'jam', 'jeans', 'jesus', 'jet', 'job', 'joke', 'judge', 'juice', 'jump', 'keep', 'key', 'kick', 'kid', 'kill', 'killa', 'killer', 'kind', 'kinda', 'king', 'kiss', 'kitchen', 'knees', 'knock', 'know', 'know get', 'know go', 'know know', 'know know know', 'know nword', 'know say', 'kush', 'la', 'la la', 'la la la', 'label', 'ladies', 'lady', 'land', 'lane', 'last', 'late', 'later', 'laugh', 'law', 'lay', 'lead', 'lean', 'learn', 'leave', 'less', 'let', 'let get', 'let go', 'let know', 'let see', 'level', 'lick', 'lie', 'life', 'lift', 'light', 'like', 'like fword', 'like get', 'like know', 'like like', 'like nword', 'lil', 'line', 'liquor', 'listen', 'little', 'live', 'live life', 'load', 'lock', 'long', 'look', 'look like', 'lookin', 'loose', 'lord', 'lose', 'lot', 'loud', 'love', 'love love', 'low', 'lyric', 'mac', 'mack', 'mad', 'make', 'make nword', 'make sure', 'mama', 'man', 'man get', 'mane', 'many', 'master', 'matter', 'may', 'maybe', 'mc', 'mean', 'meet', 'men', 'mess', 'mic', 'middle', 'might', 'million', 'mind', 'mine', 'minute', 'mirror', 'miss', 'mix', 'mma', 'mo', 'mob', 'model', 'mom', 'moment', 'momma', 'mon', 'money', 'money get', 'morning', 'mother', 'motherfucking', 'mouth', 'move', 'movie', 'mr', 'much', 'murder', 'music', 'must', 'na', 'na na', 'na na na', 'nah', 'name', 'nasty', 'neck', 'need', 'never', 'never see', 'new', 'new york', 'next', 'nice', 'nigga', 'night', 'nine', 'nobody', 'none', 'north', 'nose', 'nothin', 'nothing', 'number', 'nut', 'nword', 'nword bword', 'nword fword', 'nword get', 'nword go', 'nword know', 'nword like', 'nword nword', 'nword say', 'nword wanna', 'og', 'okay', 'old', 'ones', 'open', 'order', 'outside', 'outta', 'pack', 'pain', 'paint', 'pant', 'paper', 'park', 'part', 'party', 'pass', 'past', 'pay', 'peace', 'peep', 'pen', 'people', 'perfect', 'phone', 'pick', 'picture', 'piece', 'pimp', 'piss', 'pistol', 'place', 'plan', 'play', 'playa', 'player', 'please', 'plug', 'plus', 'pocket', 'point', 'police', 'pop', 'pot', 'pound', 'pour', 'power', 'pray', 'pressure', 'pretty', 'price', 'probably', 'problem', 'problems', 'project', 'promise', 'puff', 'pull', 'pump', 'punk', 'push', 'pussy', 'put', 'queen', 'question', 'quick', 'quit', 'race', 'rack', 'radio', 'rain', 'raise', 'rap', 'rapper', 'rappers', 'rat', 'rather', 'raw', 'reach', 'read', 'ready', 'real', 'real nword', 'really', 'reason', 'record', 'red', 'remember', 'rep', 'repeat', 'represent', 'respect', 'rest', 'rhyme', 'rich', 'rid', 'ride', 'right', 'ring', 'rip', 'rise', 'road', 'rob', 'rock', 'roll', 'roof', 'room', 'round', 'rule', 'run', 'rush', 'safe', 'save', 'saw', 'say', 'say get', 'say say', 'sayin', 'scar', 'scene', 'school', 'scratch', 'scream', 'seat', 'second', 'see', 'see nword', 'seem', 'self', 'sell', 'send', 'serve', 'set', 'seven', 'sex', 'shake', 'shawty', 'shin', 'shine', 'shit', 'shit get', 'shit like', 'shit nword', 'shoe', 'shoot', 'shop', 'short', 'shorty', 'shots', 'shout', 'show', 'shut', 'sick', 'side', 'sign', 'since', 'sing', 'single', 'sip', 'sit', 'six', 'skin', 'sky', 'slang', 'slap', 'sleep', 'slide', 'slip', 'slow', 'smack', 'small', 'smash', 'smell', 'smile', 'smoke', 'snitch', 'soft', 'soldier', 'somebody', 'someone', 'somethin', 'something', 'sometimes', 'son', 'song', 'soon', 'sorry', 'soul', 'sound', 'south', 'space', 'speak', 'speed', 'spend', 'spin', 'spit', 'split', 'spot', 'spray', 'squad', 'stack', 'stage', 'stand', 'star', 'start', 'state', 'stay', 'steady', 'steal', 'step', 'stick', 'still', 'still get', 'stone', 'stop', 'store', 'story', 'straight', 'strap', 'street', 'streets', 'stress', 'strip', 'strong', 'struggle', 'stuff', 'stunt', 'stupid', 'style', 'suck', 'suit', 'summer', 'sun', 'super', 'suppose', 'sure', 'survive', 'swag', 'swear', 'sweat', 'sweet', 'swing', 'switch', 'system', 'table', 'take', 'talk', 'talk bout', 'talk shit', 'talkin', 'tap', 'taste', 'teach', 'team', 'tear', 'tell', 'ten', 'test', 'th', 'tha', 'thang', 'thank', 'thats', 'thick', 'thing', 'things', 'think', 'though', 'thoughts', 'thousand', 'three', 'throw', 'thug', 'thugs', 'tie', 'tight', 'til', 'till', 'time', 'time get', 'tip', 'tire', 'today', 'toe', 'together', 'tomorrow', 'tongue', 'tonight', 'top', 'touch', 'tough', 'tour', 'town', 'track', 'train', 'trap', 'treat', 'tree', 'trick', 'trip', 'triple', 'trouble', 'truck', 'true', 'trunk', 'trust', 'truth', 'try', 'try get', 'tryin', 'tryna', 'tryna get', 'turn', 'tv', 'twice', 'twist', 'two', 'type', 'understand', 'us', 'use', 'verse', 'voice', 'wait', 'wake', 'walk', 'wall', 'wanna', 'wanna fword', 'wanna get', 'wanna know', 'wanna see', 'want', 'war', 'waste', 'watch', 'water', 'wave', 'way', 'ways', 'weak', 'wear', 'weed', 'week', 'weight', 'welcome', 'well', 'west', 'wet', 'whatever', 'wheel', 'whip', 'white', 'whoa', 'whole', 'wife', 'wild', 'win', 'wind', 'window', 'wish', 'without', 'woah', 'woman', 'women', 'wonder', 'word', 'work', 'world', 'worry', 'worth', 'would', 'wrist', 'write', 'wrong', 'year', 'years', 'yellow', 'yes', 'yet', 'york', 'young', 'young nword', 'zone']\n"
     ]
    }
   ],
   "source": [
    "print(vectorizer.get_feature_names())"
   ]
  },
  {
   "cell_type": "markdown",
   "metadata": {},
   "source": [
    "Transform TF-IDF vectors into a DataFrame"
   ]
  },
  {
   "cell_type": "code",
   "execution_count": 44,
   "metadata": {},
   "outputs": [],
   "source": [
    "#TF-IDF vectorizer into DF\n",
    "vect_df = pd.DataFrame(lyrics_tfidf.toarray(), columns=vectorizer.get_feature_names())"
   ]
  },
  {
   "cell_type": "code",
   "execution_count": 45,
   "metadata": {
    "collapsed": true
   },
   "outputs": [
    {
     "data": {
      "text/html": [
       "<div>\n",
       "<style scoped>\n",
       "    .dataframe tbody tr th:only-of-type {\n",
       "        vertical-align: middle;\n",
       "    }\n",
       "\n",
       "    .dataframe tbody tr th {\n",
       "        vertical-align: top;\n",
       "    }\n",
       "\n",
       "    .dataframe thead th {\n",
       "        text-align: right;\n",
       "    }\n",
       "</style>\n",
       "<table border=\"1\" class=\"dataframe\">\n",
       "  <thead>\n",
       "    <tr style=\"text-align: right;\">\n",
       "      <th></th>\n",
       "      <th>act</th>\n",
       "      <th>act like</th>\n",
       "      <th>action</th>\n",
       "      <th>ahead</th>\n",
       "      <th>aim</th>\n",
       "      <th>air</th>\n",
       "      <th>album</th>\n",
       "      <th>alive</th>\n",
       "      <th>alone</th>\n",
       "      <th>along</th>\n",
       "      <th>...</th>\n",
       "      <th>wrong</th>\n",
       "      <th>year</th>\n",
       "      <th>years</th>\n",
       "      <th>yellow</th>\n",
       "      <th>yes</th>\n",
       "      <th>yet</th>\n",
       "      <th>york</th>\n",
       "      <th>young</th>\n",
       "      <th>young nword</th>\n",
       "      <th>zone</th>\n",
       "    </tr>\n",
       "  </thead>\n",
       "  <tbody>\n",
       "    <tr>\n",
       "      <th>13541</th>\n",
       "      <td>0.000000</td>\n",
       "      <td>0.000000</td>\n",
       "      <td>0.0</td>\n",
       "      <td>0.0</td>\n",
       "      <td>0.0</td>\n",
       "      <td>0.137435</td>\n",
       "      <td>0.000000</td>\n",
       "      <td>0.0</td>\n",
       "      <td>0.0</td>\n",
       "      <td>0.0</td>\n",
       "      <td>...</td>\n",
       "      <td>0.000000</td>\n",
       "      <td>0.0</td>\n",
       "      <td>0.000000</td>\n",
       "      <td>0.0</td>\n",
       "      <td>0.000000</td>\n",
       "      <td>0.000000</td>\n",
       "      <td>0.0</td>\n",
       "      <td>0.000000</td>\n",
       "      <td>0.0</td>\n",
       "      <td>0.08081</td>\n",
       "    </tr>\n",
       "    <tr>\n",
       "      <th>14919</th>\n",
       "      <td>0.000000</td>\n",
       "      <td>0.000000</td>\n",
       "      <td>0.0</td>\n",
       "      <td>0.0</td>\n",
       "      <td>0.0</td>\n",
       "      <td>0.000000</td>\n",
       "      <td>0.000000</td>\n",
       "      <td>0.0</td>\n",
       "      <td>0.0</td>\n",
       "      <td>0.0</td>\n",
       "      <td>...</td>\n",
       "      <td>0.000000</td>\n",
       "      <td>0.0</td>\n",
       "      <td>0.000000</td>\n",
       "      <td>0.0</td>\n",
       "      <td>0.000000</td>\n",
       "      <td>0.000000</td>\n",
       "      <td>0.0</td>\n",
       "      <td>0.000000</td>\n",
       "      <td>0.0</td>\n",
       "      <td>0.00000</td>\n",
       "    </tr>\n",
       "    <tr>\n",
       "      <th>11631</th>\n",
       "      <td>0.000000</td>\n",
       "      <td>0.000000</td>\n",
       "      <td>0.0</td>\n",
       "      <td>0.0</td>\n",
       "      <td>0.0</td>\n",
       "      <td>0.000000</td>\n",
       "      <td>0.000000</td>\n",
       "      <td>0.0</td>\n",
       "      <td>0.0</td>\n",
       "      <td>0.0</td>\n",
       "      <td>...</td>\n",
       "      <td>0.111296</td>\n",
       "      <td>0.0</td>\n",
       "      <td>0.039885</td>\n",
       "      <td>0.0</td>\n",
       "      <td>0.000000</td>\n",
       "      <td>0.000000</td>\n",
       "      <td>0.0</td>\n",
       "      <td>0.032290</td>\n",
       "      <td>0.0</td>\n",
       "      <td>0.00000</td>\n",
       "    </tr>\n",
       "    <tr>\n",
       "      <th>6844</th>\n",
       "      <td>0.000000</td>\n",
       "      <td>0.000000</td>\n",
       "      <td>0.0</td>\n",
       "      <td>0.0</td>\n",
       "      <td>0.0</td>\n",
       "      <td>0.000000</td>\n",
       "      <td>0.000000</td>\n",
       "      <td>0.0</td>\n",
       "      <td>0.0</td>\n",
       "      <td>0.0</td>\n",
       "      <td>...</td>\n",
       "      <td>0.000000</td>\n",
       "      <td>0.0</td>\n",
       "      <td>0.000000</td>\n",
       "      <td>0.0</td>\n",
       "      <td>0.000000</td>\n",
       "      <td>0.000000</td>\n",
       "      <td>0.0</td>\n",
       "      <td>0.000000</td>\n",
       "      <td>0.0</td>\n",
       "      <td>0.00000</td>\n",
       "    </tr>\n",
       "    <tr>\n",
       "      <th>17806</th>\n",
       "      <td>0.000000</td>\n",
       "      <td>0.000000</td>\n",
       "      <td>0.0</td>\n",
       "      <td>0.0</td>\n",
       "      <td>0.0</td>\n",
       "      <td>0.000000</td>\n",
       "      <td>0.000000</td>\n",
       "      <td>0.0</td>\n",
       "      <td>0.0</td>\n",
       "      <td>0.0</td>\n",
       "      <td>...</td>\n",
       "      <td>0.000000</td>\n",
       "      <td>0.0</td>\n",
       "      <td>0.000000</td>\n",
       "      <td>0.0</td>\n",
       "      <td>0.455109</td>\n",
       "      <td>0.000000</td>\n",
       "      <td>0.0</td>\n",
       "      <td>0.000000</td>\n",
       "      <td>0.0</td>\n",
       "      <td>0.00000</td>\n",
       "    </tr>\n",
       "    <tr>\n",
       "      <th>13140</th>\n",
       "      <td>0.031161</td>\n",
       "      <td>0.000000</td>\n",
       "      <td>0.0</td>\n",
       "      <td>0.0</td>\n",
       "      <td>0.0</td>\n",
       "      <td>0.000000</td>\n",
       "      <td>0.000000</td>\n",
       "      <td>0.0</td>\n",
       "      <td>0.0</td>\n",
       "      <td>0.0</td>\n",
       "      <td>...</td>\n",
       "      <td>0.033784</td>\n",
       "      <td>0.0</td>\n",
       "      <td>0.000000</td>\n",
       "      <td>0.0</td>\n",
       "      <td>0.000000</td>\n",
       "      <td>0.041277</td>\n",
       "      <td>0.0</td>\n",
       "      <td>0.000000</td>\n",
       "      <td>0.0</td>\n",
       "      <td>0.00000</td>\n",
       "    </tr>\n",
       "    <tr>\n",
       "      <th>1093</th>\n",
       "      <td>0.021173</td>\n",
       "      <td>0.000000</td>\n",
       "      <td>0.0</td>\n",
       "      <td>0.0</td>\n",
       "      <td>0.0</td>\n",
       "      <td>0.000000</td>\n",
       "      <td>0.000000</td>\n",
       "      <td>0.0</td>\n",
       "      <td>0.0</td>\n",
       "      <td>0.0</td>\n",
       "      <td>...</td>\n",
       "      <td>0.000000</td>\n",
       "      <td>0.0</td>\n",
       "      <td>0.000000</td>\n",
       "      <td>0.0</td>\n",
       "      <td>0.000000</td>\n",
       "      <td>0.000000</td>\n",
       "      <td>0.0</td>\n",
       "      <td>0.000000</td>\n",
       "      <td>0.0</td>\n",
       "      <td>0.00000</td>\n",
       "    </tr>\n",
       "    <tr>\n",
       "      <th>23116</th>\n",
       "      <td>0.000000</td>\n",
       "      <td>0.000000</td>\n",
       "      <td>0.0</td>\n",
       "      <td>0.0</td>\n",
       "      <td>0.0</td>\n",
       "      <td>0.000000</td>\n",
       "      <td>0.069579</td>\n",
       "      <td>0.0</td>\n",
       "      <td>0.0</td>\n",
       "      <td>0.0</td>\n",
       "      <td>...</td>\n",
       "      <td>0.000000</td>\n",
       "      <td>0.0</td>\n",
       "      <td>0.055754</td>\n",
       "      <td>0.0</td>\n",
       "      <td>0.000000</td>\n",
       "      <td>0.000000</td>\n",
       "      <td>0.0</td>\n",
       "      <td>0.000000</td>\n",
       "      <td>0.0</td>\n",
       "      <td>0.00000</td>\n",
       "    </tr>\n",
       "    <tr>\n",
       "      <th>2619</th>\n",
       "      <td>0.000000</td>\n",
       "      <td>0.000000</td>\n",
       "      <td>0.0</td>\n",
       "      <td>0.0</td>\n",
       "      <td>0.0</td>\n",
       "      <td>0.000000</td>\n",
       "      <td>0.000000</td>\n",
       "      <td>0.0</td>\n",
       "      <td>0.0</td>\n",
       "      <td>0.0</td>\n",
       "      <td>...</td>\n",
       "      <td>0.000000</td>\n",
       "      <td>0.0</td>\n",
       "      <td>0.000000</td>\n",
       "      <td>0.0</td>\n",
       "      <td>0.049428</td>\n",
       "      <td>0.000000</td>\n",
       "      <td>0.0</td>\n",
       "      <td>0.117345</td>\n",
       "      <td>0.0</td>\n",
       "      <td>0.00000</td>\n",
       "    </tr>\n",
       "    <tr>\n",
       "      <th>20647</th>\n",
       "      <td>0.225119</td>\n",
       "      <td>0.299053</td>\n",
       "      <td>0.0</td>\n",
       "      <td>0.0</td>\n",
       "      <td>0.0</td>\n",
       "      <td>0.000000</td>\n",
       "      <td>0.000000</td>\n",
       "      <td>0.0</td>\n",
       "      <td>0.0</td>\n",
       "      <td>0.0</td>\n",
       "      <td>...</td>\n",
       "      <td>0.000000</td>\n",
       "      <td>0.0</td>\n",
       "      <td>0.000000</td>\n",
       "      <td>0.0</td>\n",
       "      <td>0.000000</td>\n",
       "      <td>0.000000</td>\n",
       "      <td>0.0</td>\n",
       "      <td>0.000000</td>\n",
       "      <td>0.0</td>\n",
       "      <td>0.00000</td>\n",
       "    </tr>\n",
       "  </tbody>\n",
       "</table>\n",
       "<p>10 rows × 1000 columns</p>\n",
       "</div>"
      ],
      "text/plain": [
       "            act  act like  action  ahead  aim       air     album  alive  \\\n",
       "13541  0.000000  0.000000     0.0    0.0  0.0  0.137435  0.000000    0.0   \n",
       "14919  0.000000  0.000000     0.0    0.0  0.0  0.000000  0.000000    0.0   \n",
       "11631  0.000000  0.000000     0.0    0.0  0.0  0.000000  0.000000    0.0   \n",
       "6844   0.000000  0.000000     0.0    0.0  0.0  0.000000  0.000000    0.0   \n",
       "17806  0.000000  0.000000     0.0    0.0  0.0  0.000000  0.000000    0.0   \n",
       "13140  0.031161  0.000000     0.0    0.0  0.0  0.000000  0.000000    0.0   \n",
       "1093   0.021173  0.000000     0.0    0.0  0.0  0.000000  0.000000    0.0   \n",
       "23116  0.000000  0.000000     0.0    0.0  0.0  0.000000  0.069579    0.0   \n",
       "2619   0.000000  0.000000     0.0    0.0  0.0  0.000000  0.000000    0.0   \n",
       "20647  0.225119  0.299053     0.0    0.0  0.0  0.000000  0.000000    0.0   \n",
       "\n",
       "       alone  along  ...     wrong  year     years  yellow       yes  \\\n",
       "13541    0.0    0.0  ...  0.000000   0.0  0.000000     0.0  0.000000   \n",
       "14919    0.0    0.0  ...  0.000000   0.0  0.000000     0.0  0.000000   \n",
       "11631    0.0    0.0  ...  0.111296   0.0  0.039885     0.0  0.000000   \n",
       "6844     0.0    0.0  ...  0.000000   0.0  0.000000     0.0  0.000000   \n",
       "17806    0.0    0.0  ...  0.000000   0.0  0.000000     0.0  0.455109   \n",
       "13140    0.0    0.0  ...  0.033784   0.0  0.000000     0.0  0.000000   \n",
       "1093     0.0    0.0  ...  0.000000   0.0  0.000000     0.0  0.000000   \n",
       "23116    0.0    0.0  ...  0.000000   0.0  0.055754     0.0  0.000000   \n",
       "2619     0.0    0.0  ...  0.000000   0.0  0.000000     0.0  0.049428   \n",
       "20647    0.0    0.0  ...  0.000000   0.0  0.000000     0.0  0.000000   \n",
       "\n",
       "            yet  york     young  young nword     zone  \n",
       "13541  0.000000   0.0  0.000000          0.0  0.08081  \n",
       "14919  0.000000   0.0  0.000000          0.0  0.00000  \n",
       "11631  0.000000   0.0  0.032290          0.0  0.00000  \n",
       "6844   0.000000   0.0  0.000000          0.0  0.00000  \n",
       "17806  0.000000   0.0  0.000000          0.0  0.00000  \n",
       "13140  0.041277   0.0  0.000000          0.0  0.00000  \n",
       "1093   0.000000   0.0  0.000000          0.0  0.00000  \n",
       "23116  0.000000   0.0  0.000000          0.0  0.00000  \n",
       "2619   0.000000   0.0  0.117345          0.0  0.00000  \n",
       "20647  0.000000   0.0  0.000000          0.0  0.00000  \n",
       "\n",
       "[10 rows x 1000 columns]"
      ]
     },
     "execution_count": 45,
     "metadata": {},
     "output_type": "execute_result"
    }
   ],
   "source": [
    "#Having a look - checking for length and null values\n",
    "vect_df.sample(10)"
   ]
  },
  {
   "cell_type": "code",
   "execution_count": 46,
   "metadata": {},
   "outputs": [
    {
     "data": {
      "text/plain": [
       "(27109, 1000)"
      ]
     },
     "execution_count": 46,
     "metadata": {},
     "output_type": "execute_result"
    }
   ],
   "source": [
    "vect_df.shape #(27110, 1000)"
   ]
  },
  {
   "cell_type": "code",
   "execution_count": 47,
   "metadata": {
    "collapsed": true
   },
   "outputs": [
    {
     "data": {
      "text/plain": [
       "act            0\n",
       "act like       0\n",
       "action         0\n",
       "ahead          0\n",
       "aim            0\n",
       "              ..\n",
       "yet            0\n",
       "york           0\n",
       "young          0\n",
       "young nword    0\n",
       "zone           0\n",
       "Length: 1000, dtype: int64"
      ]
     },
     "execution_count": 47,
     "metadata": {},
     "output_type": "execute_result"
    }
   ],
   "source": [
    "vect_df.isna().sum()"
   ]
  },
  {
   "cell_type": "markdown",
   "metadata": {},
   "source": [
    "### Count Vector"
   ]
  },
  {
   "cell_type": "code",
   "execution_count": 64,
   "metadata": {},
   "outputs": [],
   "source": [
    "count_vectorizer = CountVectorizer(max_df=0.9, max_features=1000,\n",
    "                             min_df=25, stop_words=stopwords_list,\n",
    "                             ngram_range=(1, 3))"
   ]
  },
  {
   "cell_type": "code",
   "execution_count": 65,
   "metadata": {},
   "outputs": [],
   "source": [
    "#using counter to vectorize \n",
    "tf_vect = count_vectorizer.fit_transform(df['working_lyrics'])"
   ]
  },
  {
   "cell_type": "code",
   "execution_count": 67,
   "metadata": {},
   "outputs": [
    {
     "name": "stdout",
     "output_type": "stream",
     "text": [
      "(27109, 1000)\n"
     ]
    }
   ],
   "source": [
    "#Checking the shape of my counter vectorizer\n",
    "print(tf_vect.shape)"
   ]
  },
  {
   "cell_type": "code",
   "execution_count": 69,
   "metadata": {},
   "outputs": [],
   "source": [
    "tf_features = count_vectorizer.get_feature_names()"
   ]
  },
  {
   "cell_type": "code",
   "execution_count": 70,
   "metadata": {
    "collapsed": true
   },
   "outputs": [
    {
     "name": "stdout",
     "output_type": "stream",
     "text": [
      "['act', 'act like', 'action', 'ahead', 'aim', 'air', 'album', 'alive', 'alone', 'along', 'already', 'alright', 'always', 'another', 'answer', 'anybody', 'anything', 'arm', 'around', 'ask', 'ass', 'ass nword', 'attention', 'away', 'aye', 'baby', 'baby baby', 'baby girl', 'back', 'bad', 'bad bword', 'bag', 'ball', 'band', 'bang', 'bang bang', 'bank', 'bar', 'battle', 'bear', 'beat', 'beautiful', 'become', 'bed', 'beef', 'begin', 'behind', 'believe', 'bend', 'benz', 'best', 'bet', 'better', 'big', 'bigger', 'bill', 'bird', 'bite', 'black', 'blame', 'blast', 'blaze', 'bleed', 'bless', 'blind', 'block', 'blood', 'blow', 'blue', 'blunt', 'body', 'bomb', 'bone', 'boo', 'book', 'boom', 'booty', 'boss', 'bottle', 'bottom', 'bounce', 'bout', 'bow', 'box', 'boy', 'boys', 'brain', 'brand', 'brand new', 'bread', 'break', 'breath', 'breathe', 'brick', 'bricks', 'bring', 'bro', 'brother', 'brothers', 'brown', 'buck', 'build', 'bullets', 'bullshit', 'bump', 'burn', 'bus', 'business', 'bust', 'buy', 'bword', 'bword bword', 'bword fword', 'bword get', 'bword know', 'bword like', 'bword nword', 'cake', 'call', 'candy', 'cap', 'car', 'card', 'care', 'carry', 'cars', 'case', 'cash', 'cat', 'catch', 'cause', 'cause get', 'cause know', 'cha', 'chain', 'chance', 'change', 'charge', 'chase', 'check', 'cheese', 'chest', 'chick', 'chicks', 'child', 'children', 'chill', 'choose', 'chop', 'chorus', 'chrome', 'city', 'claim', 'clap', 'class', 'clean', 'clear', 'click', 'clip', 'clock', 'close', 'clothe', 'club', 'coast', 'cock', 'coke', 'cold', 'color', 'come', 'come back', 'come come', 'come get', 'comin', 'control', 'cook', 'cool', 'cop', 'corner', 'cost', 'could', 'count', 'coupe', 'couple', 'cover', 'crack', 'crazy', 'cream', 'creep', 'crew', 'crib', 'crime', 'cross', 'crowd', 'cry', 'cup', 'cut', 'cuz', 'da', 'daddy', 'damn', 'dance', 'dark', 'dat', 'dawg', 'day', 'days', 'dead', 'deal', 'death', 'deep', 'dem', 'devil', 'diamonds', 'dick', 'die', 'different', 'dig', 'dip', 'dirt', 'dirty', 'diss', 'dj', 'dog', 'dogg', 'doin', 'dollar', 'dollars', 'dont', 'door', 'doors', 'dope', 'double', 'doubt', 'dough', 'drama', 'dream', 'dress', 'drink', 'drip', 'drive', 'drop', 'drug', 'duck', 'dude', 'dumb', 'earth', 'east', 'easy', 'eat', 'either', 'else', 'end', 'enemies', 'enough', 'even', 'even though', 'ever', 'every', 'every day', 'every time', 'everybody', 'everyday', 'everyone', 'everything', 'everywhere', 'evil', 'eye', 'face', 'fact', 'fade', 'fake', 'fall', 'fame', 'family', 'fan', 'far', 'fast', 'fat', 'father', 'fear', 'feds', 'fee', 'feel', 'feel like', 'feet', 'fell', 'felt', 'fight', 'figure', 'fill', 'find', 'fine', 'finger', 'finish', 'finna', 'fire', 'first', 'fit', 'five', 'flame', 'flex', 'flip', 'float', 'floor', 'flow', 'fly', 'fo', 'focus', 'follow', 'food', 'fool', 'force', 'forever', 'forget', 'four', 'freak', 'free', 'freeze', 'fresh', 'friend', 'friends', 'front', 'fuck', 'full', 'fun', 'funk', 'funky', 'funny', 'future', 'fword', 'fword around', 'fword bword', 'fword fword', 'fword get', 'fword nword', 'game', 'gang', 'gangsta', 'gas', 'get back', 'get bword', 'get fword', 'get get', 'get get get', 'get go', 'get high', 'get money', 'get nword', 'get pay', 'get right', 'get shit', 'gettin', 'ghetto', 'ghost', 'gimme', 'girl', 'girls', 'give', 'give fword', 'glass', 'glock', 'go', 'go back', 'go get', 'go go', 'go go go', 'go hard', 'god', 'goin', 'gold', 'gon', 'gonna', 'good', 'gotta', 'gotta get', 'grab', 'grand', 'great', 'green', 'grind', 'grip', 'grow', 'gucci', 'guess', 'gun', 'guy', 'hair', 'half', 'hammer', 'hand', 'handle', 'hang', 'happen', 'happy', 'hard', 'hat', 'hate', 'haters', 'head', 'hear', 'heart', 'heat', 'heaven', 'heavy', 'hell', 'hello', 'help', 'hey', 'hey hey', 'hide', 'high', 'higher', 'hill', 'hip', 'hiphop', 'hit', 'hoe', 'hold', 'hole', 'holla', 'home', 'homie', 'homies', 'honey', 'hood', 'hook', 'hop', 'hope', 'hot', 'house', 'huh', 'hundred', 'hurt', 'hustle', 'ice', 'ill', 'im', 'inside', 'instead', 'jack', 'jail', 'jam', 'jeans', 'jesus', 'jet', 'job', 'joke', 'judge', 'juice', 'jump', 'keep', 'key', 'kick', 'kid', 'kill', 'killa', 'killer', 'kind', 'kinda', 'king', 'kiss', 'kitchen', 'knees', 'knock', 'know', 'know get', 'know go', 'know know', 'know know know', 'know nword', 'know say', 'kush', 'la', 'la la', 'la la la', 'label', 'ladies', 'lady', 'land', 'lane', 'last', 'late', 'later', 'laugh', 'law', 'lay', 'lead', 'lean', 'learn', 'leave', 'less', 'let', 'let get', 'let go', 'let know', 'let see', 'level', 'lick', 'lie', 'life', 'lift', 'light', 'like', 'like fword', 'like get', 'like know', 'like like', 'like nword', 'lil', 'line', 'liquor', 'listen', 'little', 'live', 'live life', 'load', 'lock', 'long', 'look', 'look like', 'lookin', 'loose', 'lord', 'lose', 'lot', 'loud', 'love', 'love love', 'low', 'lyric', 'mac', 'mack', 'mad', 'make', 'make nword', 'make sure', 'mama', 'man', 'man get', 'mane', 'many', 'master', 'matter', 'may', 'maybe', 'mc', 'mean', 'meet', 'men', 'mess', 'mic', 'middle', 'might', 'million', 'mind', 'mine', 'minute', 'mirror', 'miss', 'mix', 'mma', 'mo', 'mob', 'model', 'mom', 'moment', 'momma', 'mon', 'money', 'money get', 'morning', 'mother', 'motherfucking', 'mouth', 'move', 'movie', 'mr', 'much', 'murder', 'music', 'must', 'na', 'na na', 'na na na', 'nah', 'name', 'nasty', 'neck', 'need', 'never', 'never see', 'new', 'new york', 'next', 'nice', 'nigga', 'night', 'nine', 'nobody', 'none', 'north', 'nose', 'nothin', 'nothing', 'number', 'nut', 'nword', 'nword bword', 'nword fword', 'nword get', 'nword go', 'nword know', 'nword like', 'nword nword', 'nword say', 'nword wanna', 'og', 'okay', 'old', 'ones', 'open', 'order', 'outside', 'outta', 'pack', 'pain', 'paint', 'pant', 'paper', 'park', 'part', 'party', 'pass', 'past', 'pay', 'peace', 'peep', 'pen', 'people', 'perfect', 'phone', 'pick', 'picture', 'piece', 'pimp', 'piss', 'pistol', 'place', 'plan', 'play', 'playa', 'player', 'please', 'plug', 'plus', 'pocket', 'point', 'police', 'pop', 'pot', 'pound', 'pour', 'power', 'pray', 'pressure', 'pretty', 'price', 'probably', 'problem', 'problems', 'project', 'promise', 'puff', 'pull', 'pump', 'punk', 'push', 'pussy', 'put', 'queen', 'question', 'quick', 'quit', 'race', 'rack', 'radio', 'rain', 'raise', 'rap', 'rapper', 'rappers', 'rat', 'rather', 'raw', 'reach', 'read', 'ready', 'real', 'real nword', 'really', 'reason', 'record', 'red', 'remember', 'rep', 'repeat', 'represent', 'respect', 'rest', 'rhyme', 'rich', 'rid', 'ride', 'right', 'ring', 'rip', 'rise', 'road', 'rob', 'rock', 'roll', 'roof', 'room', 'round', 'rule', 'run', 'rush', 'safe', 'save', 'saw', 'say', 'say get', 'say say', 'sayin', 'scar', 'scene', 'school', 'scratch', 'scream', 'seat', 'second', 'see', 'see nword', 'seem', 'self', 'sell', 'send', 'serve', 'set', 'seven', 'sex', 'shake', 'shawty', 'shin', 'shine', 'shit', 'shit get', 'shit like', 'shit nword', 'shoe', 'shoot', 'shop', 'short', 'shorty', 'shots', 'shout', 'show', 'shut', 'sick', 'side', 'sign', 'since', 'sing', 'single', 'sip', 'sit', 'six', 'skin', 'sky', 'slang', 'slap', 'sleep', 'slide', 'slip', 'slow', 'smack', 'small', 'smash', 'smell', 'smile', 'smoke', 'snitch', 'soft', 'soldier', 'somebody', 'someone', 'somethin', 'something', 'sometimes', 'son', 'song', 'soon', 'sorry', 'soul', 'sound', 'south', 'space', 'speak', 'speed', 'spend', 'spin', 'spit', 'split', 'spot', 'spray', 'squad', 'stack', 'stage', 'stand', 'star', 'start', 'state', 'stay', 'steady', 'steal', 'step', 'stick', 'still', 'still get', 'stone', 'stop', 'store', 'story', 'straight', 'strap', 'street', 'streets', 'stress', 'strip', 'strong', 'struggle', 'stuff', 'stunt', 'stupid', 'style', 'suck', 'suit', 'summer', 'sun', 'super', 'suppose', 'sure', 'survive', 'swag', 'swear', 'sweat', 'sweet', 'swing', 'switch', 'system', 'table', 'take', 'talk', 'talk bout', 'talk shit', 'talkin', 'tap', 'taste', 'teach', 'team', 'tear', 'tell', 'ten', 'test', 'th', 'tha', 'thang', 'thank', 'thats', 'thick', 'thing', 'things', 'think', 'though', 'thoughts', 'thousand', 'three', 'throw', 'thug', 'thugs', 'tie', 'tight', 'til', 'till', 'time', 'time get', 'tip', 'tire', 'today', 'toe', 'together', 'tomorrow', 'tongue', 'tonight', 'top', 'touch', 'tough', 'tour', 'town', 'track', 'train', 'trap', 'treat', 'tree', 'trick', 'trip', 'triple', 'trouble', 'truck', 'true', 'trunk', 'trust', 'truth', 'try', 'try get', 'tryin', 'tryna', 'tryna get', 'turn', 'tv', 'twice', 'twist', 'two', 'type', 'understand', 'us', 'use', 'verse', 'voice', 'wait', 'wake', 'walk', 'wall', 'wanna', 'wanna fword', 'wanna get', 'wanna know', 'wanna see', 'want', 'war', 'waste', 'watch', 'water', 'wave', 'way', 'ways', 'weak', 'wear', 'weed', 'week', 'weight', 'welcome', 'well', 'west', 'wet', 'whatever', 'wheel', 'whip', 'white', 'whoa', 'whole', 'wife', 'wild', 'win', 'wind', 'window', 'wish', 'without', 'woah', 'woman', 'women', 'wonder', 'word', 'work', 'world', 'worry', 'worth', 'would', 'wrist', 'write', 'wrong', 'year', 'years', 'yellow', 'yes', 'yet', 'york', 'young', 'young nword', 'zone']\n"
     ]
    }
   ],
   "source": [
    "print(tf_features)"
   ]
  },
  {
   "cell_type": "markdown",
   "metadata": {},
   "source": [
    "Create a DF with the features from counter vect"
   ]
  },
  {
   "cell_type": "code",
   "execution_count": 71,
   "metadata": {},
   "outputs": [],
   "source": [
    "#Counter vectorizer into DF\n",
    "tf_df = pd.DataFrame(tf_vect.toarray(), columns=tf_features)"
   ]
  },
  {
   "cell_type": "code",
   "execution_count": 72,
   "metadata": {
    "collapsed": true
   },
   "outputs": [
    {
     "data": {
      "text/html": [
       "<div>\n",
       "<style scoped>\n",
       "    .dataframe tbody tr th:only-of-type {\n",
       "        vertical-align: middle;\n",
       "    }\n",
       "\n",
       "    .dataframe tbody tr th {\n",
       "        vertical-align: top;\n",
       "    }\n",
       "\n",
       "    .dataframe thead th {\n",
       "        text-align: right;\n",
       "    }\n",
       "</style>\n",
       "<table border=\"1\" class=\"dataframe\">\n",
       "  <thead>\n",
       "    <tr style=\"text-align: right;\">\n",
       "      <th></th>\n",
       "      <th>act</th>\n",
       "      <th>act like</th>\n",
       "      <th>action</th>\n",
       "      <th>ahead</th>\n",
       "      <th>aim</th>\n",
       "      <th>air</th>\n",
       "      <th>album</th>\n",
       "      <th>alive</th>\n",
       "      <th>alone</th>\n",
       "      <th>along</th>\n",
       "      <th>...</th>\n",
       "      <th>wrong</th>\n",
       "      <th>year</th>\n",
       "      <th>years</th>\n",
       "      <th>yellow</th>\n",
       "      <th>yes</th>\n",
       "      <th>yet</th>\n",
       "      <th>york</th>\n",
       "      <th>young</th>\n",
       "      <th>young nword</th>\n",
       "      <th>zone</th>\n",
       "    </tr>\n",
       "  </thead>\n",
       "  <tbody>\n",
       "    <tr>\n",
       "      <th>21807</th>\n",
       "      <td>0</td>\n",
       "      <td>0</td>\n",
       "      <td>0</td>\n",
       "      <td>0</td>\n",
       "      <td>0</td>\n",
       "      <td>0</td>\n",
       "      <td>0</td>\n",
       "      <td>0</td>\n",
       "      <td>0</td>\n",
       "      <td>0</td>\n",
       "      <td>...</td>\n",
       "      <td>0</td>\n",
       "      <td>0</td>\n",
       "      <td>0</td>\n",
       "      <td>0</td>\n",
       "      <td>1</td>\n",
       "      <td>0</td>\n",
       "      <td>0</td>\n",
       "      <td>0</td>\n",
       "      <td>0</td>\n",
       "      <td>0</td>\n",
       "    </tr>\n",
       "    <tr>\n",
       "      <th>19531</th>\n",
       "      <td>0</td>\n",
       "      <td>0</td>\n",
       "      <td>0</td>\n",
       "      <td>0</td>\n",
       "      <td>0</td>\n",
       "      <td>0</td>\n",
       "      <td>0</td>\n",
       "      <td>0</td>\n",
       "      <td>0</td>\n",
       "      <td>0</td>\n",
       "      <td>...</td>\n",
       "      <td>0</td>\n",
       "      <td>0</td>\n",
       "      <td>0</td>\n",
       "      <td>1</td>\n",
       "      <td>0</td>\n",
       "      <td>1</td>\n",
       "      <td>0</td>\n",
       "      <td>0</td>\n",
       "      <td>0</td>\n",
       "      <td>0</td>\n",
       "    </tr>\n",
       "    <tr>\n",
       "      <th>17516</th>\n",
       "      <td>0</td>\n",
       "      <td>0</td>\n",
       "      <td>0</td>\n",
       "      <td>0</td>\n",
       "      <td>0</td>\n",
       "      <td>0</td>\n",
       "      <td>0</td>\n",
       "      <td>0</td>\n",
       "      <td>0</td>\n",
       "      <td>0</td>\n",
       "      <td>...</td>\n",
       "      <td>0</td>\n",
       "      <td>0</td>\n",
       "      <td>0</td>\n",
       "      <td>0</td>\n",
       "      <td>0</td>\n",
       "      <td>0</td>\n",
       "      <td>0</td>\n",
       "      <td>0</td>\n",
       "      <td>0</td>\n",
       "      <td>0</td>\n",
       "    </tr>\n",
       "    <tr>\n",
       "      <th>17126</th>\n",
       "      <td>0</td>\n",
       "      <td>0</td>\n",
       "      <td>0</td>\n",
       "      <td>0</td>\n",
       "      <td>0</td>\n",
       "      <td>0</td>\n",
       "      <td>0</td>\n",
       "      <td>0</td>\n",
       "      <td>0</td>\n",
       "      <td>0</td>\n",
       "      <td>...</td>\n",
       "      <td>0</td>\n",
       "      <td>0</td>\n",
       "      <td>0</td>\n",
       "      <td>0</td>\n",
       "      <td>0</td>\n",
       "      <td>1</td>\n",
       "      <td>0</td>\n",
       "      <td>0</td>\n",
       "      <td>0</td>\n",
       "      <td>0</td>\n",
       "    </tr>\n",
       "    <tr>\n",
       "      <th>24448</th>\n",
       "      <td>0</td>\n",
       "      <td>0</td>\n",
       "      <td>0</td>\n",
       "      <td>0</td>\n",
       "      <td>0</td>\n",
       "      <td>0</td>\n",
       "      <td>0</td>\n",
       "      <td>0</td>\n",
       "      <td>0</td>\n",
       "      <td>0</td>\n",
       "      <td>...</td>\n",
       "      <td>2</td>\n",
       "      <td>0</td>\n",
       "      <td>0</td>\n",
       "      <td>0</td>\n",
       "      <td>0</td>\n",
       "      <td>0</td>\n",
       "      <td>0</td>\n",
       "      <td>0</td>\n",
       "      <td>0</td>\n",
       "      <td>0</td>\n",
       "    </tr>\n",
       "    <tr>\n",
       "      <th>7361</th>\n",
       "      <td>0</td>\n",
       "      <td>0</td>\n",
       "      <td>0</td>\n",
       "      <td>0</td>\n",
       "      <td>0</td>\n",
       "      <td>1</td>\n",
       "      <td>0</td>\n",
       "      <td>0</td>\n",
       "      <td>0</td>\n",
       "      <td>0</td>\n",
       "      <td>...</td>\n",
       "      <td>0</td>\n",
       "      <td>1</td>\n",
       "      <td>0</td>\n",
       "      <td>0</td>\n",
       "      <td>0</td>\n",
       "      <td>1</td>\n",
       "      <td>0</td>\n",
       "      <td>0</td>\n",
       "      <td>0</td>\n",
       "      <td>0</td>\n",
       "    </tr>\n",
       "    <tr>\n",
       "      <th>14963</th>\n",
       "      <td>0</td>\n",
       "      <td>0</td>\n",
       "      <td>0</td>\n",
       "      <td>0</td>\n",
       "      <td>0</td>\n",
       "      <td>0</td>\n",
       "      <td>0</td>\n",
       "      <td>0</td>\n",
       "      <td>0</td>\n",
       "      <td>0</td>\n",
       "      <td>...</td>\n",
       "      <td>0</td>\n",
       "      <td>0</td>\n",
       "      <td>0</td>\n",
       "      <td>0</td>\n",
       "      <td>0</td>\n",
       "      <td>0</td>\n",
       "      <td>0</td>\n",
       "      <td>0</td>\n",
       "      <td>0</td>\n",
       "      <td>0</td>\n",
       "    </tr>\n",
       "    <tr>\n",
       "      <th>6138</th>\n",
       "      <td>0</td>\n",
       "      <td>0</td>\n",
       "      <td>0</td>\n",
       "      <td>0</td>\n",
       "      <td>0</td>\n",
       "      <td>0</td>\n",
       "      <td>0</td>\n",
       "      <td>0</td>\n",
       "      <td>0</td>\n",
       "      <td>0</td>\n",
       "      <td>...</td>\n",
       "      <td>0</td>\n",
       "      <td>0</td>\n",
       "      <td>0</td>\n",
       "      <td>0</td>\n",
       "      <td>0</td>\n",
       "      <td>0</td>\n",
       "      <td>0</td>\n",
       "      <td>1</td>\n",
       "      <td>1</td>\n",
       "      <td>0</td>\n",
       "    </tr>\n",
       "    <tr>\n",
       "      <th>18837</th>\n",
       "      <td>0</td>\n",
       "      <td>0</td>\n",
       "      <td>0</td>\n",
       "      <td>0</td>\n",
       "      <td>0</td>\n",
       "      <td>0</td>\n",
       "      <td>0</td>\n",
       "      <td>0</td>\n",
       "      <td>0</td>\n",
       "      <td>0</td>\n",
       "      <td>...</td>\n",
       "      <td>0</td>\n",
       "      <td>0</td>\n",
       "      <td>0</td>\n",
       "      <td>0</td>\n",
       "      <td>0</td>\n",
       "      <td>0</td>\n",
       "      <td>0</td>\n",
       "      <td>0</td>\n",
       "      <td>0</td>\n",
       "      <td>0</td>\n",
       "    </tr>\n",
       "    <tr>\n",
       "      <th>20238</th>\n",
       "      <td>0</td>\n",
       "      <td>0</td>\n",
       "      <td>0</td>\n",
       "      <td>0</td>\n",
       "      <td>0</td>\n",
       "      <td>0</td>\n",
       "      <td>0</td>\n",
       "      <td>0</td>\n",
       "      <td>0</td>\n",
       "      <td>0</td>\n",
       "      <td>...</td>\n",
       "      <td>0</td>\n",
       "      <td>0</td>\n",
       "      <td>1</td>\n",
       "      <td>0</td>\n",
       "      <td>0</td>\n",
       "      <td>0</td>\n",
       "      <td>0</td>\n",
       "      <td>0</td>\n",
       "      <td>0</td>\n",
       "      <td>0</td>\n",
       "    </tr>\n",
       "  </tbody>\n",
       "</table>\n",
       "<p>10 rows × 1000 columns</p>\n",
       "</div>"
      ],
      "text/plain": [
       "       act  act like  action  ahead  aim  air  album  alive  alone  along  \\\n",
       "21807    0         0       0      0    0    0      0      0      0      0   \n",
       "19531    0         0       0      0    0    0      0      0      0      0   \n",
       "17516    0         0       0      0    0    0      0      0      0      0   \n",
       "17126    0         0       0      0    0    0      0      0      0      0   \n",
       "24448    0         0       0      0    0    0      0      0      0      0   \n",
       "7361     0         0       0      0    0    1      0      0      0      0   \n",
       "14963    0         0       0      0    0    0      0      0      0      0   \n",
       "6138     0         0       0      0    0    0      0      0      0      0   \n",
       "18837    0         0       0      0    0    0      0      0      0      0   \n",
       "20238    0         0       0      0    0    0      0      0      0      0   \n",
       "\n",
       "       ...  wrong  year  years  yellow  yes  yet  york  young  young nword  \\\n",
       "21807  ...      0     0      0       0    1    0     0      0            0   \n",
       "19531  ...      0     0      0       1    0    1     0      0            0   \n",
       "17516  ...      0     0      0       0    0    0     0      0            0   \n",
       "17126  ...      0     0      0       0    0    1     0      0            0   \n",
       "24448  ...      2     0      0       0    0    0     0      0            0   \n",
       "7361   ...      0     1      0       0    0    1     0      0            0   \n",
       "14963  ...      0     0      0       0    0    0     0      0            0   \n",
       "6138   ...      0     0      0       0    0    0     0      1            1   \n",
       "18837  ...      0     0      0       0    0    0     0      0            0   \n",
       "20238  ...      0     0      1       0    0    0     0      0            0   \n",
       "\n",
       "       zone  \n",
       "21807     0  \n",
       "19531     0  \n",
       "17516     0  \n",
       "17126     0  \n",
       "24448     0  \n",
       "7361      0  \n",
       "14963     0  \n",
       "6138      0  \n",
       "18837     0  \n",
       "20238     0  \n",
       "\n",
       "[10 rows x 1000 columns]"
      ]
     },
     "execution_count": 72,
     "metadata": {},
     "output_type": "execute_result"
    }
   ],
   "source": [
    "tf_df.sample(10)"
   ]
  },
  {
   "cell_type": "markdown",
   "metadata": {},
   "source": [
    "## Transformation SVD and LSA"
   ]
  },
  {
   "cell_type": "code",
   "execution_count": 50,
   "metadata": {},
   "outputs": [
    {
     "name": "stdout",
     "output_type": "stream",
     "text": [
      "Performing dimensionality reduction using LSA\n",
      "done in 8.769636s\n",
      "Explained variance of the SVD step: 75%\n",
      "\n"
     ]
    }
   ],
   "source": [
    "from sklearn.decomposition import TruncatedSVD\n",
    "from time import time\n",
    "# init svd\n",
    "print(\"Performing dimensionality reduction using LSA\")\n",
    "t0 = time()\n",
    "    # Vectorizer results are normalized, which makes KMeans behave as\n",
    "    # spherical k-means for better results. Since LSA/SVD results are\n",
    "    # not normalized, we have to redo the normalization.\n",
    "svd = TruncatedSVD(n_components=500, random_state=17)\n",
    "lsa = make_pipeline(svd, Normalizer(copy=False))\n",
    "# run svd\n",
    "lyrics_lsa = lsa.fit_transform(lyrics_tfidf)\n",
    "print(\"done in %fs\" % (time() - t0))\n",
    "\n",
    "explained_variance = svd.explained_variance_ratio_.sum()\n",
    "print(\"Explained variance of the SVD step: {}%\".format(\n",
    "int(explained_variance * 100)))\n",
    "\n",
    "print()"
   ]
  },
  {
   "cell_type": "code",
   "execution_count": 51,
   "metadata": {},
   "outputs": [
    {
     "data": {
      "text/plain": [
       "0.7520588263353238"
      ]
     },
     "execution_count": 51,
     "metadata": {},
     "output_type": "execute_result"
    }
   ],
   "source": [
    "sum(svd.explained_variance_ratio_[0:500])"
   ]
  },
  {
   "cell_type": "code",
   "execution_count": 52,
   "metadata": {},
   "outputs": [
    {
     "data": {
      "text/plain": [
       "(27109, 500)"
      ]
     },
     "execution_count": 52,
     "metadata": {},
     "output_type": "execute_result"
    }
   ],
   "source": [
    "lyrics_lsa.shape"
   ]
  },
  {
   "cell_type": "code",
   "execution_count": null,
   "metadata": {},
   "outputs": [],
   "source": [
    "#Trying to understand the components"
   ]
  },
  {
   "cell_type": "code",
   "execution_count": 58,
   "metadata": {
    "collapsed": true
   },
   "outputs": [
    {
     "data": {
      "image/png": "[encoded data removed]",
      "text/plain": [
       "<Figure size 432x288 with 1 Axes>"
      ]
     },
     "metadata": {
      "needs_background": "light"
     },
     "output_type": "display_data"
    },
    {
     "data": {
      "image/png": "[encoded data removed]",
      "text/plain": [
       "<Figure size 432x288 with 1 Axes>"
      ]
     },
     "metadata": {
      "needs_background": "light"
     },
     "output_type": "display_data"
    },
    {
     "data": {
      "image/png": "[encoded data removed]",
      "text/plain": [
       "<Figure size 432x288 with 1 Axes>"
      ]
     },
     "metadata": {
      "needs_background": "light"
     },
     "output_type": "display_data"
    },
    {
     "data": {
      "image/png": "[encoded data removed]",
      "text/plain": [
       "<Figure size 432x288 with 1 Axes>"
      ]
     },
     "metadata": {
      "needs_background": "light"
     },
     "output_type": "display_data"
    },
    {
     "data": {
      "image/png": "[encoded data removed]",
      "text/plain": [
       "<Figure size 432x288 with 1 Axes>"
      ]
     },
     "metadata": {
      "needs_background": "light"
     },
     "output_type": "display_data"
    },
    {
     "data": {
      "image/png": "[encoded data removed]",
      "text/plain": [
       "<Figure size 432x288 with 1 Axes>"
      ]
     },
     "metadata": {
      "needs_background": "light"
     },
     "output_type": "display_data"
    },
    {
     "data": {
      "image/png": "[encoded data removed]",
      "text/plain": [
       "<Figure size 432x288 with 1 Axes>"
      ]
     },
     "metadata": {
      "needs_background": "light"
     },
     "output_type": "display_data"
    },
    {
     "data": {
      "image/png": "[encoded data removed]",
      "text/plain": [
       "<Figure size 432x288 with 1 Axes>"
      ]
     },
     "metadata": {
      "needs_background": "light"
     },
     "output_type": "display_data"
    },
    {
     "data": {
      "image/png": "[encoded data removed]",
      "text/plain": [
       "<Figure size 432x288 with 1 Axes>"
      ]
     },
     "metadata": {
      "needs_background": "light"
     },
     "output_type": "display_data"
    },
    {
     "data": {
      "image/png": "[encoded data removed]",
      "text/plain": [
       "<Figure size 432x288 with 1 Axes>"
      ]
     },
     "metadata": {
      "needs_background": "light"
     },
     "output_type": "display_data"
    }
   ],
   "source": [
    "# taken from https://github.com/chrisjmccormick/LSA_Classification/blob/master/inspect_LSA.py\n",
    "for compNum in range(0, 10):\n",
    "\n",
    "    comp = svd.components_[compNum]\n",
    "    feat_names = vectorizer.get_feature_names()\n",
    "    \n",
    "    # Sort the weights in the first component, and get the indeces\n",
    "    indices = np.argsort(comp).tolist()\n",
    "    \n",
    "    # Reverse the indeces, so we have the largest weights first.\n",
    "    indices.reverse()\n",
    "    \n",
    "    # Grab the top 10 terms which have the highest weight in this component.        \n",
    "    terms = [feat_names[weightIndex] for weightIndex in indices[0:10]]    \n",
    "    weights = [comp[weightIndex] for weightIndex in indices[0:10]]    \n",
    "   \n",
    "    # Display these terms and their weights as a horizontal bar graph.    \n",
    "    # The horizontal bar graph displays the first item on the bottom; reverse\n",
    "    # the order of the terms so the biggest one is on top.\n",
    "    terms.reverse()\n",
    "    weights.reverse()\n",
    "    positions = arange(10) + .5    # the bar centers on the y axis\n",
    "    \n",
    "    figure(compNum)\n",
    "    barh(positions, weights, align='center')\n",
    "    yticks(positions, terms)\n",
    "    xlabel('Weight')\n",
    "    title('Strongest terms for component %d' % (compNum))\n",
    "    grid(True)\n",
    "    show()"
   ]
  },
  {
   "cell_type": "markdown",
   "metadata": {},
   "source": [
    "## Latent dirichlet allocation"
   ]
  },
  {
   "cell_type": "markdown",
   "metadata": {},
   "source": [
    "### from https://scikit-learn.org/stable/auto_examples/applications/plot_topics_extraction_with_nmf_lda.html#sphx-glr-auto-examples-applications-plot-topics-extraction-with-nmf-lda-py"
   ]
  },
  {
   "cell_type": "markdown",
   "metadata": {},
   "source": [
    "### v1"
   ]
  },
  {
   "cell_type": "code",
   "execution_count": 62,
   "metadata": {
    "collapsed": true
   },
   "outputs": [
    {
     "name": "stdout",
     "output_type": "stream",
     "text": [
      "Topic: 0 Word: 0.001*\"Nword\" + 0.000*\"Bword\" + 0.000*\"Fword\" + 0.000*\"baby\" + 0.000*\"girl\" + 0.000*\"'cause\" + 0.000*\"love\" + 0.000*\"shit\" + 0.000*\"i’m\" + 0.000*\"man\"\n",
      "Topic: 1 Word: 0.003*\"Nword\" + 0.002*\"Bword\" + 0.002*\"Fword\" + 0.001*\"money\" + 0.001*\"shit\" + 0.001*\"ass\" + 0.001*\"cause\" + 0.001*\"love\" + 0.001*\"baby\" + 0.001*\"wanna\"\n",
      "Topic: 2 Word: 0.002*\"Nword\" + 0.001*\"love\" + 0.001*\"i’m\" + 0.001*\"Fword\" + 0.001*\"life\" + 0.001*\"feel\" + 0.001*\"never\" + 0.001*\"cause\" + 0.001*\"man\" + 0.001*\"baby\"\n",
      "Topic: 3 Word: 0.002*\"Nword\" + 0.002*\"Bword\" + 0.001*\"i’m\" + 0.001*\"Fword\" + 0.001*\"baby\" + 0.001*\"money\" + 0.001*\"girl\" + 0.001*\"shit\" + 0.001*\"la\" + 0.001*\"love\"\n",
      "Topic: 4 Word: 0.001*\"Nword\" + 0.001*\"Bword\" + 0.000*\"Fword\" + 0.000*\"love\" + 0.000*\"baby\" + 0.000*\"shit\" + 0.000*\"let\" + 0.000*\"girl\" + 0.000*\"feel\" + 0.000*\"want\"\n"
     ]
    }
   ],
   "source": [
    "import gensim\n",
    "from gensim.models import LdaMulticore \n",
    "from gensim import corpora, models\n",
    "from gensim.sklearn_api import TfIdfTransformer\n",
    "\n",
    "# get all of the words in our corpus & create a bag of words\n",
    "dictionary = gensim.corpora.Dictionary(df['lemmatized_lyrics'])\n",
    "bow_corpus = [dictionary.doc2bow(doc) for doc in df['lemmatized_lyrics']]\n",
    "\n",
    "# get the tf-idf (gensim-style, using their implementation of \n",
    "# sklearn's tf-idf model) of our data\n",
    "model = TfIdfTransformer()\n",
    "corpus_tfidf = model.fit_transform(bow_corpus)\n",
    "\n",
    "# use LDA to get 10 topics to split up our descriptions into\n",
    "lda_model_tfidf = LdaMulticore(corpus_tfidf, num_topics=5, id2word=dictionary, passes=2, workers=4)\n",
    "\n",
    "for idx, topic in lda_model_tfidf.print_topics(-1):\n",
    "    print('Topic: {} Word: {}'.format(idx, topic))"
   ]
  },
  {
   "cell_type": "code",
   "execution_count": null,
   "metadata": {},
   "outputs": [],
   "source": [
    "for index, score in sorted(lda_model_tfidf[bow_corpus[1]], key=lambda tup: -1*tup[1]):\n",
    "    print(\"\\nScore: {}\\t \\nTopic: {}\".format(score, lda_model_tfidf.print_topic(index, 10)))"
   ]
  },
  {
   "cell_type": "code",
   "execution_count": null,
   "metadata": {},
   "outputs": [],
   "source": [
    "lda_categories = [lda_model_tfidf[bow_corpus[i]][0][0] for i in range(0, len(bow_corpus))]"
   ]
  },
  {
   "cell_type": "code",
   "execution_count": null,
   "metadata": {},
   "outputs": [],
   "source": [
    "#Lyrics join(pd.Series(lda_categories))\n",
    "lda_df = pd.concat([df, pd.Series(lda_categories, name='lda_category')], axis=1, join='outer')"
   ]
  },
  {
   "cell_type": "code",
   "execution_count": null,
   "metadata": {},
   "outputs": [],
   "source": [
    "lda_df.isna().sum()"
   ]
  },
  {
   "cell_type": "code",
   "execution_count": null,
   "metadata": {},
   "outputs": [],
   "source": [
    "lda_df.lda_category.value_counts()"
   ]
  },
  {
   "cell_type": "code",
   "execution_count": null,
   "metadata": {},
   "outputs": [],
   "source": [
    "lda_df.head(25)"
   ]
  },
  {
   "cell_type": "markdown",
   "metadata": {},
   "source": [
    "### v2"
   ]
  },
  {
   "cell_type": "code",
   "execution_count": 74,
   "metadata": {},
   "outputs": [],
   "source": [
    "from sklearn.decomposition import LatentDirichletAllocation"
   ]
  },
  {
   "cell_type": "code",
   "execution_count": 76,
   "metadata": {},
   "outputs": [],
   "source": [
    "# Run LDA for 10 topics\n",
    "no_topics = 10\n",
    "lda = LatentDirichletAllocation(n_components=no_topics, max_iter=5, learning_method='online', \n",
    "                                learning_offset=50.,random_state=0).fit(tf_vect)"
   ]
  },
  {
   "cell_type": "code",
   "execution_count": null,
   "metadata": {},
   "outputs": [],
   "source": [
    "# Function to display the topic\n",
    "def display_topics(model, feature_names, no_top_words):\n",
    "    for topic_idx, topic in enumerate(model.components_):\n",
    "        print \"Topic %d:\" % (topic_idx)\n",
    "        print \" \".join([feature_names[i]\n",
    "                        for i in topic.argsort()[:-no_top_words - 1:-1]])"
   ]
  },
  {
   "cell_type": "code",
   "execution_count": null,
   "metadata": {},
   "outputs": [],
   "source": [
    "# displaying the topic\n",
    "no_top_words = 10\n",
    "display_topics(lda, tf_feature_names, no_top_words)"
   ]
  },
  {
   "cell_type": "code",
   "execution_count": null,
   "metadata": {},
   "outputs": [],
   "source": []
  },
  {
   "cell_type": "code",
   "execution_count": null,
   "metadata": {},
   "outputs": [],
   "source": []
  },
  {
   "cell_type": "markdown",
   "metadata": {},
   "source": [
    "## Clustering 1 - with LDA"
   ]
  },
  {
   "cell_type": "code",
   "execution_count": 165,
   "metadata": {},
   "outputs": [],
   "source": [
    "# Required packages\n",
    "from sklearn.cluster import KMeans\n",
    "from sklearn import metrics\n",
    "from sklearn import datasets"
   ]
  },
  {
   "cell_type": "code",
   "execution_count": null,
   "metadata": {
    "scrolled": true
   },
   "outputs": [],
   "source": [
    "lda_df.columns"
   ]
  },
  {
   "cell_type": "code",
   "execution_count": null,
   "metadata": {},
   "outputs": [],
   "source": [
    "features = lda_df[['popularity', 'num_markets', 'danceability', 'energy',\n",
    "       'loudness', 'speechiness', 'acousticness', 'instrumentalness',\n",
    "       'liveness', 'valence', 'tempo', 'time_signature',\n",
    "       'duration_mins', 'Count_words','lda_category']]"
   ]
  },
  {
   "cell_type": "code",
   "execution_count": null,
   "metadata": {},
   "outputs": [],
   "source": [
    "features.head()"
   ]
  },
  {
   "cell_type": "code",
   "execution_count": null,
   "metadata": {},
   "outputs": [],
   "source": [
    "#Covert columns in object to float\n",
    "features['popularity'] = features['popularity'].astype('float64')"
   ]
  },
  {
   "cell_type": "code",
   "execution_count": null,
   "metadata": {},
   "outputs": [],
   "source": [
    "features['num_markets'] = features['num_markets'].astype('float64')"
   ]
  },
  {
   "cell_type": "code",
   "execution_count": null,
   "metadata": {},
   "outputs": [],
   "source": [
    "features.info()"
   ]
  },
  {
   "cell_type": "code",
   "execution_count": null,
   "metadata": {},
   "outputs": [],
   "source": [
    "#Checking for null value due to topic attributes\n",
    "features.isna().sum()"
   ]
  },
  {
   "cell_type": "code",
   "execution_count": null,
   "metadata": {},
   "outputs": [],
   "source": [
    "features.dropna(inplace=True)"
   ]
  },
  {
   "cell_type": "code",
   "execution_count": null,
   "metadata": {},
   "outputs": [],
   "source": [
    "features.isna().sum()"
   ]
  },
  {
   "cell_type": "code",
   "execution_count": null,
   "metadata": {},
   "outputs": [],
   "source": [
    "len(features)"
   ]
  },
  {
   "cell_type": "code",
   "execution_count": null,
   "metadata": {},
   "outputs": [],
   "source": [
    "#Create dummies variables\n",
    "ts_dummies = pd.get_dummies(features['time_signature'], prefix='timsign', drop_first=True)\n",
    "lda_dummies = pd.get_dummies(features['lda_category'], prefix='lda', drop_first=True)"
   ]
  },
  {
   "cell_type": "code",
   "execution_count": null,
   "metadata": {},
   "outputs": [],
   "source": [
    "#Remove the original columns\n",
    "features = features.drop(['time_signature','lda_category'], axis=1)"
   ]
  },
  {
   "cell_type": "code",
   "execution_count": null,
   "metadata": {},
   "outputs": [],
   "source": [
    "features.head()"
   ]
  },
  {
   "cell_type": "code",
   "execution_count": null,
   "metadata": {},
   "outputs": [],
   "source": [
    "features = pd.concat([features, ts_dummies, lda_dummies], axis=1)\n",
    "features.head()"
   ]
  },
  {
   "cell_type": "code",
   "execution_count": null,
   "metadata": {},
   "outputs": [],
   "source": [
    "#I forgot to scale my data - let's do it now\n",
    "from sklearn.preprocessing import Normalizer, MinMaxScaler\n",
    "norm = Normalizer()"
   ]
  },
  {
   "cell_type": "code",
   "execution_count": null,
   "metadata": {},
   "outputs": [],
   "source": [
    "features_norm = pd.DataFrame(norm.fit_transform(features),columns=features.columns)"
   ]
  },
  {
   "cell_type": "code",
   "execution_count": null,
   "metadata": {},
   "outputs": [],
   "source": [
    "features_norm.head()"
   ]
  },
  {
   "cell_type": "markdown",
   "metadata": {},
   "source": [
    "### Elbow Method"
   ]
  },
  {
   "cell_type": "code",
   "execution_count": null,
   "metadata": {},
   "outputs": [],
   "source": [
    "# Specifying the dataset and initializing variables\n",
    "X = features_norm\n",
    "distorsions = []\n",
    "\n",
    "# Calculate SSE for different K\n",
    "for k in range(2, 15):\n",
    "    kmeans = KMeans(n_clusters=k, random_state = 301)\n",
    "    kmeans.fit(X)\n",
    "    distorsions.append(kmeans.inertia_)\n",
    "\n",
    "# Plot values of SSE\n",
    "plt.figure(figsize=(15,8))\n",
    "plt.subplot(121, title='Elbow curve')\n",
    "plt.xlabel('Number of clusters (k)')\n",
    "plt.plot(range(2, 15), distorsions,'-o',color='black')\n",
    "plt.grid(True)"
   ]
  },
  {
   "cell_type": "markdown",
   "metadata": {},
   "source": [
    "### Silhouette coefficient"
   ]
  },
  {
   "cell_type": "code",
   "execution_count": null,
   "metadata": {},
   "outputs": [],
   "source": [
    "# Generate silhouette coefficient for each k\n",
    "X = features_norm\n",
    "silhouette_plot = []\n",
    "for k in range(2, 15):\n",
    "    clusters = KMeans(n_clusters=k, random_state=10)\n",
    "    cluster_labels = clusters.fit_predict(X)\n",
    "    silhouette_avg = metrics.silhouette_score(X, cluster_labels)\n",
    "    silhouette_plot.append(silhouette_avg)"
   ]
  },
  {
   "cell_type": "code",
   "execution_count": null,
   "metadata": {},
   "outputs": [],
   "source": [
    "# Plot Silhouette coefficient\n",
    "plt.figure(figsize=(15,8))\n",
    "plt.subplot(121, title='Silhouette coefficients over k')\n",
    "plt.xlabel('Number of cluster - k')\n",
    "plt.ylabel('silhouette coefficient')\n",
    "plt.plot(range(2, 15), silhouette_plot,'-o',color='black')\n",
    "plt.axhline(y=np.mean(silhouette_plot), color=\"red\", linestyle=\"--\")\n",
    "plt.grid(True)"
   ]
  },
  {
   "cell_type": "code",
   "execution_count": null,
   "metadata": {},
   "outputs": [],
   "source": [
    "model_1 = KMeans(n_clusters=4, random_state=10).fit(features_norm)\n",
    "model_1.cluster_centers_"
   ]
  },
  {
   "cell_type": "code",
   "execution_count": null,
   "metadata": {},
   "outputs": [],
   "source": [
    "cluster_labels = model_1.fit_predict(features_norm)"
   ]
  },
  {
   "cell_type": "code",
   "execution_count": null,
   "metadata": {},
   "outputs": [],
   "source": [
    "len(cluster_labels)"
   ]
  },
  {
   "cell_type": "code",
   "execution_count": null,
   "metadata": {},
   "outputs": [],
   "source": [
    "cluster_labels"
   ]
  },
  {
   "cell_type": "code",
   "execution_count": null,
   "metadata": {},
   "outputs": [],
   "source": [
    "#Lyrics join\n",
    "cluster_1_df = pd.concat([features, pd.Series(cluster_labels, name='cluster')], axis=1, join='outer')"
   ]
  },
  {
   "cell_type": "code",
   "execution_count": null,
   "metadata": {
    "scrolled": true
   },
   "outputs": [],
   "source": [
    "cluster_1_df.head()"
   ]
  },
  {
   "cell_type": "code",
   "execution_count": null,
   "metadata": {},
   "outputs": [],
   "source": [
    "cluster_1_df.cluster.value_counts()"
   ]
  },
  {
   "cell_type": "code",
   "execution_count": null,
   "metadata": {
    "scrolled": true
   },
   "outputs": [],
   "source": [
    "##\n",
    "cluster_1_df[cluster_1_df['cluster'] == 0]['duration_mins'].plot(kind='hist',color='r',bins=50)\n",
    "cluster_1_df[cluster_1_df['cluster'] == 1]['duration_mins'].plot(kind='hist',color='b',bins=50)\n",
    "cluster_1_df[cluster_1_df['cluster'] == 2]['duration_mins'].plot(kind='hist',color='grey',bins=50)\n",
    "# cluster_1_df[cluster_1_df['cluster'] == 3]['duration_mins'].plot(kind='hist',color='black',bins=50)\n",
    "# cluster_1_df[cluster_1_df['cluster'] == 4]['duration_mins'].plot(kind='hist',color='green',bins=50)\n",
    "plt.title('Duration distribution per cluster')\n",
    "plt.legend()\n",
    "plt.show()"
   ]
  },
  {
   "cell_type": "code",
   "execution_count": null,
   "metadata": {},
   "outputs": [],
   "source": [
    "cluster_1_df[cluster_1_df['cluster'] == 0]['Count_words'].plot(kind='hist',color='r',bins=50)\n",
    "cluster_1_df[cluster_1_df['cluster'] == 1]['Count_words'].plot(kind='hist',color='b',bins=50)\n",
    "cluster_1_df[cluster_1_df['cluster'] == 2]['Count_words'].plot(kind='hist',color='black',bins=50)\n",
    "# cluster_1_df[cluster_1_df['cluster'] == 3]['Count_words'].plot(kind='hist',color='grey',bins=50)\n",
    "# cluster_1_df[cluster_1_df['cluster'] == 4]['Count_words'].plot(kind='hist',color='green',bins=50)\n",
    "plt.title('Count words per cluster')\n",
    "plt.legend()\n",
    "plt.show()"
   ]
  },
  {
   "cell_type": "markdown",
   "metadata": {},
   "source": [
    "## Clustering 2 - with TFIDF"
   ]
  },
  {
   "cell_type": "markdown",
   "metadata": {},
   "source": [
    "### Preparation"
   ]
  },
  {
   "cell_type": "code",
   "execution_count": 135,
   "metadata": {},
   "outputs": [
    {
     "name": "stdout",
     "output_type": "stream",
     "text": [
      "(27109, 1000)\n"
     ]
    },
    {
     "data": {
      "text/html": [
       "<div>\n",
       "<style scoped>\n",
       "    .dataframe tbody tr th:only-of-type {\n",
       "        vertical-align: middle;\n",
       "    }\n",
       "\n",
       "    .dataframe tbody tr th {\n",
       "        vertical-align: top;\n",
       "    }\n",
       "\n",
       "    .dataframe thead th {\n",
       "        text-align: right;\n",
       "    }\n",
       "</style>\n",
       "<table border=\"1\" class=\"dataframe\">\n",
       "  <thead>\n",
       "    <tr style=\"text-align: right;\">\n",
       "      <th></th>\n",
       "      <th>act</th>\n",
       "      <th>act like</th>\n",
       "      <th>action</th>\n",
       "      <th>ahead</th>\n",
       "      <th>aim</th>\n",
       "      <th>air</th>\n",
       "      <th>album</th>\n",
       "      <th>alive</th>\n",
       "      <th>alone</th>\n",
       "      <th>along</th>\n",
       "      <th>...</th>\n",
       "      <th>wrong</th>\n",
       "      <th>year</th>\n",
       "      <th>years</th>\n",
       "      <th>yellow</th>\n",
       "      <th>yes</th>\n",
       "      <th>yet</th>\n",
       "      <th>york</th>\n",
       "      <th>young</th>\n",
       "      <th>young nword</th>\n",
       "      <th>zone</th>\n",
       "    </tr>\n",
       "  </thead>\n",
       "  <tbody>\n",
       "    <tr>\n",
       "      <th>0</th>\n",
       "      <td>0.0</td>\n",
       "      <td>0.0</td>\n",
       "      <td>0.000000</td>\n",
       "      <td>0.0</td>\n",
       "      <td>0.0</td>\n",
       "      <td>0.000000</td>\n",
       "      <td>0.0</td>\n",
       "      <td>0.000000</td>\n",
       "      <td>0.0</td>\n",
       "      <td>0.0000</td>\n",
       "      <td>...</td>\n",
       "      <td>0.0</td>\n",
       "      <td>0.0</td>\n",
       "      <td>0.077285</td>\n",
       "      <td>0.0</td>\n",
       "      <td>0.000000</td>\n",
       "      <td>0.0</td>\n",
       "      <td>0.000000</td>\n",
       "      <td>0.0</td>\n",
       "      <td>0.0</td>\n",
       "      <td>0.0</td>\n",
       "    </tr>\n",
       "    <tr>\n",
       "      <th>1</th>\n",
       "      <td>0.0</td>\n",
       "      <td>0.0</td>\n",
       "      <td>0.000000</td>\n",
       "      <td>0.0</td>\n",
       "      <td>0.0</td>\n",
       "      <td>0.000000</td>\n",
       "      <td>0.0</td>\n",
       "      <td>0.000000</td>\n",
       "      <td>0.0</td>\n",
       "      <td>0.0000</td>\n",
       "      <td>...</td>\n",
       "      <td>0.0</td>\n",
       "      <td>0.0</td>\n",
       "      <td>0.000000</td>\n",
       "      <td>0.0</td>\n",
       "      <td>0.000000</td>\n",
       "      <td>0.0</td>\n",
       "      <td>0.000000</td>\n",
       "      <td>0.0</td>\n",
       "      <td>0.0</td>\n",
       "      <td>0.0</td>\n",
       "    </tr>\n",
       "    <tr>\n",
       "      <th>2</th>\n",
       "      <td>0.0</td>\n",
       "      <td>0.0</td>\n",
       "      <td>0.000000</td>\n",
       "      <td>0.0</td>\n",
       "      <td>0.0</td>\n",
       "      <td>0.000000</td>\n",
       "      <td>0.0</td>\n",
       "      <td>0.093323</td>\n",
       "      <td>0.0</td>\n",
       "      <td>0.0000</td>\n",
       "      <td>...</td>\n",
       "      <td>0.0</td>\n",
       "      <td>0.0</td>\n",
       "      <td>0.000000</td>\n",
       "      <td>0.0</td>\n",
       "      <td>0.038533</td>\n",
       "      <td>0.0</td>\n",
       "      <td>0.228884</td>\n",
       "      <td>0.0</td>\n",
       "      <td>0.0</td>\n",
       "      <td>0.0</td>\n",
       "    </tr>\n",
       "    <tr>\n",
       "      <th>3</th>\n",
       "      <td>0.0</td>\n",
       "      <td>0.0</td>\n",
       "      <td>0.000000</td>\n",
       "      <td>0.0</td>\n",
       "      <td>0.0</td>\n",
       "      <td>0.423628</td>\n",
       "      <td>0.0</td>\n",
       "      <td>0.000000</td>\n",
       "      <td>0.0</td>\n",
       "      <td>0.0000</td>\n",
       "      <td>...</td>\n",
       "      <td>0.0</td>\n",
       "      <td>0.0</td>\n",
       "      <td>0.000000</td>\n",
       "      <td>0.0</td>\n",
       "      <td>0.000000</td>\n",
       "      <td>0.0</td>\n",
       "      <td>0.000000</td>\n",
       "      <td>0.0</td>\n",
       "      <td>0.0</td>\n",
       "      <td>0.0</td>\n",
       "    </tr>\n",
       "    <tr>\n",
       "      <th>4</th>\n",
       "      <td>0.0</td>\n",
       "      <td>0.0</td>\n",
       "      <td>0.053319</td>\n",
       "      <td>0.0</td>\n",
       "      <td>0.0</td>\n",
       "      <td>0.000000</td>\n",
       "      <td>0.0</td>\n",
       "      <td>0.000000</td>\n",
       "      <td>0.0</td>\n",
       "      <td>0.0546</td>\n",
       "      <td>...</td>\n",
       "      <td>0.0</td>\n",
       "      <td>0.0</td>\n",
       "      <td>0.000000</td>\n",
       "      <td>0.0</td>\n",
       "      <td>0.082255</td>\n",
       "      <td>0.0</td>\n",
       "      <td>0.000000</td>\n",
       "      <td>0.0</td>\n",
       "      <td>0.0</td>\n",
       "      <td>0.0</td>\n",
       "    </tr>\n",
       "  </tbody>\n",
       "</table>\n",
       "<p>5 rows × 1000 columns</p>\n",
       "</div>"
      ],
      "text/plain": [
       "   act  act like    action  ahead  aim       air  album     alive  alone  \\\n",
       "0  0.0       0.0  0.000000    0.0  0.0  0.000000    0.0  0.000000    0.0   \n",
       "1  0.0       0.0  0.000000    0.0  0.0  0.000000    0.0  0.000000    0.0   \n",
       "2  0.0       0.0  0.000000    0.0  0.0  0.000000    0.0  0.093323    0.0   \n",
       "3  0.0       0.0  0.000000    0.0  0.0  0.423628    0.0  0.000000    0.0   \n",
       "4  0.0       0.0  0.053319    0.0  0.0  0.000000    0.0  0.000000    0.0   \n",
       "\n",
       "    along  ...  wrong  year     years  yellow       yes  yet      york  young  \\\n",
       "0  0.0000  ...    0.0   0.0  0.077285     0.0  0.000000  0.0  0.000000    0.0   \n",
       "1  0.0000  ...    0.0   0.0  0.000000     0.0  0.000000  0.0  0.000000    0.0   \n",
       "2  0.0000  ...    0.0   0.0  0.000000     0.0  0.038533  0.0  0.228884    0.0   \n",
       "3  0.0000  ...    0.0   0.0  0.000000     0.0  0.000000  0.0  0.000000    0.0   \n",
       "4  0.0546  ...    0.0   0.0  0.000000     0.0  0.082255  0.0  0.000000    0.0   \n",
       "\n",
       "   young nword  zone  \n",
       "0          0.0   0.0  \n",
       "1          0.0   0.0  \n",
       "2          0.0   0.0  \n",
       "3          0.0   0.0  \n",
       "4          0.0   0.0  \n",
       "\n",
       "[5 rows x 1000 columns]"
      ]
     },
     "execution_count": 135,
     "metadata": {},
     "output_type": "execute_result"
    }
   ],
   "source": [
    "print(vect_df.shape)\n",
    "vect_df.head()"
   ]
  },
  {
   "cell_type": "code",
   "execution_count": 136,
   "metadata": {
    "collapsed": true
   },
   "outputs": [
    {
     "name": "stdout",
     "output_type": "stream",
     "text": [
      "(27109, 21)\n"
     ]
    },
    {
     "data": {
      "text/html": [
       "<div>\n",
       "<style scoped>\n",
       "    .dataframe tbody tr th:only-of-type {\n",
       "        vertical-align: middle;\n",
       "    }\n",
       "\n",
       "    .dataframe tbody tr th {\n",
       "        vertical-align: top;\n",
       "    }\n",
       "\n",
       "    .dataframe thead th {\n",
       "        text-align: right;\n",
       "    }\n",
       "</style>\n",
       "<table border=\"1\" class=\"dataframe\">\n",
       "  <thead>\n",
       "    <tr style=\"text-align: right;\">\n",
       "      <th></th>\n",
       "      <th>Artist</th>\n",
       "      <th>popularity</th>\n",
       "      <th>num_markets</th>\n",
       "      <th>danceability</th>\n",
       "      <th>energy</th>\n",
       "      <th>loudness</th>\n",
       "      <th>speechiness</th>\n",
       "      <th>acousticness</th>\n",
       "      <th>instrumentalness</th>\n",
       "      <th>liveness</th>\n",
       "      <th>...</th>\n",
       "      <th>tempo</th>\n",
       "      <th>time_signature</th>\n",
       "      <th>Year_release</th>\n",
       "      <th>Cleaned_lyrics</th>\n",
       "      <th>duration_mins</th>\n",
       "      <th>Count_words</th>\n",
       "      <th>Decade</th>\n",
       "      <th>tokens</th>\n",
       "      <th>lemmatized_lyrics</th>\n",
       "      <th>working_lyrics</th>\n",
       "    </tr>\n",
       "  </thead>\n",
       "  <tbody>\n",
       "    <tr>\n",
       "      <th>0</th>\n",
       "      <td>DJ Jazzy Jeff &amp; The Fresh Prince</td>\n",
       "      <td>24</td>\n",
       "      <td>79</td>\n",
       "      <td>0.735</td>\n",
       "      <td>0.559</td>\n",
       "      <td>-16.289</td>\n",
       "      <td>0.161</td>\n",
       "      <td>0.00172</td>\n",
       "      <td>0.000020</td>\n",
       "      <td>0.0648</td>\n",
       "      <td>...</td>\n",
       "      <td>170.385</td>\n",
       "      <td>4</td>\n",
       "      <td>1988.0</td>\n",
       "      <td>for years i have been waitin and hesitatin to ...</td>\n",
       "      <td>4.43</td>\n",
       "      <td>234</td>\n",
       "      <td>1980-90s</td>\n",
       "      <td>[years, waitin, hesitatin, make, rap, record, ...</td>\n",
       "      <td>[years, waitin, hesitatin, make, rap, record, ...</td>\n",
       "      <td>years waitin hesitatin make rap record pace sl...</td>\n",
       "    </tr>\n",
       "    <tr>\n",
       "      <th>1</th>\n",
       "      <td>Machine Gun Kelly</td>\n",
       "      <td>78</td>\n",
       "      <td>79</td>\n",
       "      <td>0.744</td>\n",
       "      <td>0.638</td>\n",
       "      <td>-4.860</td>\n",
       "      <td>0.049</td>\n",
       "      <td>0.00829</td>\n",
       "      <td>0.000000</td>\n",
       "      <td>0.1820</td>\n",
       "      <td>...</td>\n",
       "      <td>98.019</td>\n",
       "      <td>4</td>\n",
       "      <td>2019.0</td>\n",
       "      <td>haha big 14 you know what the fuck going on   ...</td>\n",
       "      <td>2.61</td>\n",
       "      <td>165</td>\n",
       "      <td>2010-20s</td>\n",
       "      <td>[big, # # , know, Fword, going, know, keep, ca...</td>\n",
       "      <td>[big, # # , know, Fword, go, know, keep, candy...</td>\n",
       "      <td>big # #  know Fword go know keep candy need li...</td>\n",
       "    </tr>\n",
       "    <tr>\n",
       "      <th>2</th>\n",
       "      <td>Big Pun</td>\n",
       "      <td>57</td>\n",
       "      <td>79</td>\n",
       "      <td>0.724</td>\n",
       "      <td>0.887</td>\n",
       "      <td>-7.076</td>\n",
       "      <td>0.393</td>\n",
       "      <td>0.13400</td>\n",
       "      <td>0.000000</td>\n",
       "      <td>0.1120</td>\n",
       "      <td>...</td>\n",
       "      <td>90.945</td>\n",
       "      <td>4</td>\n",
       "      <td>1998.0</td>\n",
       "      <td>the harsh realities of life have taken toll ev...</td>\n",
       "      <td>4.25</td>\n",
       "      <td>460</td>\n",
       "      <td>1990-00s</td>\n",
       "      <td>[harsh, realities, life, taken, toll, even, je...</td>\n",
       "      <td>[harsh, realities, life, take, toll, even, jes...</td>\n",
       "      <td>harsh realities life take toll even jesus chri...</td>\n",
       "    </tr>\n",
       "    <tr>\n",
       "      <th>3</th>\n",
       "      <td>Das EFX</td>\n",
       "      <td>22</td>\n",
       "      <td>78</td>\n",
       "      <td>0.791</td>\n",
       "      <td>0.783</td>\n",
       "      <td>-10.470</td>\n",
       "      <td>0.416</td>\n",
       "      <td>0.29300</td>\n",
       "      <td>0.000000</td>\n",
       "      <td>0.2950</td>\n",
       "      <td>...</td>\n",
       "      <td>95.677</td>\n",
       "      <td>4</td>\n",
       "      <td>1995.0</td>\n",
       "      <td>skoob and dray giving shoutouts  chorus  well ...</td>\n",
       "      <td>3.23</td>\n",
       "      <td>316</td>\n",
       "      <td>1990-00s</td>\n",
       "      <td>[skoob, dray, giving, shoutouts, chorus, well,...</td>\n",
       "      <td>[skoob, dray, give, shoutouts, chorus, well, g...</td>\n",
       "      <td>skoob dray give shoutouts chorus well give buc...</td>\n",
       "    </tr>\n",
       "    <tr>\n",
       "      <th>4</th>\n",
       "      <td>Kool Moe Dee</td>\n",
       "      <td>11</td>\n",
       "      <td>77</td>\n",
       "      <td>0.801</td>\n",
       "      <td>0.481</td>\n",
       "      <td>-13.903</td>\n",
       "      <td>0.232</td>\n",
       "      <td>0.01930</td>\n",
       "      <td>0.000107</td>\n",
       "      <td>0.3950</td>\n",
       "      <td>...</td>\n",
       "      <td>108.597</td>\n",
       "      <td>4</td>\n",
       "      <td>1991.0</td>\n",
       "      <td>to the beat  to the beat y'all to the beat y'a...</td>\n",
       "      <td>3.35</td>\n",
       "      <td>290</td>\n",
       "      <td>1990-00s</td>\n",
       "      <td>[beat, beat, beat, beat, yes, goes, homeboys, ...</td>\n",
       "      <td>[beat, beat, beat, beat, yes, go, homeboys, ol...</td>\n",
       "      <td>beat beat beat beat yes go homeboys old school...</td>\n",
       "    </tr>\n",
       "  </tbody>\n",
       "</table>\n",
       "<p>5 rows × 21 columns</p>\n",
       "</div>"
      ],
      "text/plain": [
       "                             Artist  popularity  num_markets  danceability  \\\n",
       "0  DJ Jazzy Jeff & The Fresh Prince          24           79         0.735   \n",
       "1                 Machine Gun Kelly          78           79         0.744   \n",
       "2                           Big Pun          57           79         0.724   \n",
       "3                           Das EFX          22           78         0.791   \n",
       "4                      Kool Moe Dee          11           77         0.801   \n",
       "\n",
       "   energy  loudness  speechiness  acousticness  instrumentalness  liveness  \\\n",
       "0   0.559   -16.289        0.161       0.00172          0.000020    0.0648   \n",
       "1   0.638    -4.860        0.049       0.00829          0.000000    0.1820   \n",
       "2   0.887    -7.076        0.393       0.13400          0.000000    0.1120   \n",
       "3   0.783   -10.470        0.416       0.29300          0.000000    0.2950   \n",
       "4   0.481   -13.903        0.232       0.01930          0.000107    0.3950   \n",
       "\n",
       "   ...    tempo  time_signature Year_release  \\\n",
       "0  ...  170.385               4       1988.0   \n",
       "1  ...   98.019               4       2019.0   \n",
       "2  ...   90.945               4       1998.0   \n",
       "3  ...   95.677               4       1995.0   \n",
       "4  ...  108.597               4       1991.0   \n",
       "\n",
       "                                      Cleaned_lyrics duration_mins  \\\n",
       "0  for years i have been waitin and hesitatin to ...          4.43   \n",
       "1  haha big 14 you know what the fuck going on   ...          2.61   \n",
       "2  the harsh realities of life have taken toll ev...          4.25   \n",
       "3  skoob and dray giving shoutouts  chorus  well ...          3.23   \n",
       "4  to the beat  to the beat y'all to the beat y'a...          3.35   \n",
       "\n",
       "   Count_words    Decade                                             tokens  \\\n",
       "0          234  1980-90s  [years, waitin, hesitatin, make, rap, record, ...   \n",
       "1          165  2010-20s  [big, # # , know, Fword, going, know, keep, ca...   \n",
       "2          460  1990-00s  [harsh, realities, life, taken, toll, even, je...   \n",
       "3          316  1990-00s  [skoob, dray, giving, shoutouts, chorus, well,...   \n",
       "4          290  1990-00s  [beat, beat, beat, beat, yes, goes, homeboys, ...   \n",
       "\n",
       "                                   lemmatized_lyrics  \\\n",
       "0  [years, waitin, hesitatin, make, rap, record, ...   \n",
       "1  [big, # # , know, Fword, go, know, keep, candy...   \n",
       "2  [harsh, realities, life, take, toll, even, jes...   \n",
       "3  [skoob, dray, give, shoutouts, chorus, well, g...   \n",
       "4  [beat, beat, beat, beat, yes, go, homeboys, ol...   \n",
       "\n",
       "                                      working_lyrics  \n",
       "0  years waitin hesitatin make rap record pace sl...  \n",
       "1  big # #  know Fword go know keep candy need li...  \n",
       "2  harsh realities life take toll even jesus chri...  \n",
       "3  skoob dray give shoutouts chorus well give buc...  \n",
       "4  beat beat beat beat yes go homeboys old school...  \n",
       "\n",
       "[5 rows x 21 columns]"
      ]
     },
     "execution_count": 136,
     "metadata": {},
     "output_type": "execute_result"
    }
   ],
   "source": [
    "print(df.shape)\n",
    "df.head()"
   ]
  },
  {
   "cell_type": "code",
   "execution_count": 137,
   "metadata": {},
   "outputs": [
    {
     "data": {
      "text/plain": [
       "Index(['Artist', 'popularity', 'num_markets', 'danceability', 'energy',\n",
       "       'loudness', 'speechiness', 'acousticness', 'instrumentalness',\n",
       "       'liveness', 'valence', 'tempo', 'time_signature', 'Year_release',\n",
       "       'Cleaned_lyrics', 'duration_mins', 'Count_words', 'Decade', 'tokens',\n",
       "       'lemmatized_lyrics', 'working_lyrics'],\n",
       "      dtype='object')"
      ]
     },
     "execution_count": 137,
     "metadata": {},
     "output_type": "execute_result"
    }
   ],
   "source": [
    "df.columns"
   ]
  },
  {
   "cell_type": "code",
   "execution_count": 140,
   "metadata": {},
   "outputs": [],
   "source": [
    "#Keep the columns I will use for clustering\n",
    "df_short = df[['popularity', 'num_markets', 'danceability', 'energy',\n",
    "       'loudness', 'speechiness', 'acousticness', 'instrumentalness',\n",
    "       'liveness', 'valence', 'tempo',\n",
    "       'duration_mins', 'Count_words']]"
   ]
  },
  {
   "cell_type": "code",
   "execution_count": 141,
   "metadata": {},
   "outputs": [
    {
     "name": "stdout",
     "output_type": "stream",
     "text": [
      "<class 'pandas.core.frame.DataFrame'>\n",
      "Int64Index: 27109 entries, 0 to 27513\n",
      "Data columns (total 13 columns):\n",
      "popularity          27109 non-null int64\n",
      "num_markets         27109 non-null int64\n",
      "danceability        27109 non-null float64\n",
      "energy              27109 non-null float64\n",
      "loudness            27109 non-null float64\n",
      "speechiness         27109 non-null float64\n",
      "acousticness        27109 non-null float64\n",
      "instrumentalness    27109 non-null float64\n",
      "liveness            27109 non-null float64\n",
      "valence             27109 non-null float64\n",
      "tempo               27109 non-null float64\n",
      "duration_mins       27109 non-null float64\n",
      "Count_words         27109 non-null int64\n",
      "dtypes: float64(10), int64(3)\n",
      "memory usage: 4.1 MB\n"
     ]
    }
   ],
   "source": [
    "df_short.info()"
   ]
  },
  {
   "cell_type": "code",
   "execution_count": 142,
   "metadata": {},
   "outputs": [
    {
     "data": {
      "text/plain": [
       "popularity          0\n",
       "num_markets         0\n",
       "danceability        0\n",
       "energy              0\n",
       "loudness            0\n",
       "speechiness         0\n",
       "acousticness        0\n",
       "instrumentalness    0\n",
       "liveness            0\n",
       "valence             0\n",
       "tempo               0\n",
       "duration_mins       0\n",
       "Count_words         0\n",
       "dtype: int64"
      ]
     },
     "execution_count": 142,
     "metadata": {},
     "output_type": "execute_result"
    }
   ],
   "source": [
    "df_short.isna().sum()"
   ]
  },
  {
   "cell_type": "code",
   "execution_count": 155,
   "metadata": {
    "scrolled": true
   },
   "outputs": [
    {
     "data": {
      "text/html": [
       "<div>\n",
       "<style scoped>\n",
       "    .dataframe tbody tr th:only-of-type {\n",
       "        vertical-align: middle;\n",
       "    }\n",
       "\n",
       "    .dataframe tbody tr th {\n",
       "        vertical-align: top;\n",
       "    }\n",
       "\n",
       "    .dataframe thead th {\n",
       "        text-align: right;\n",
       "    }\n",
       "</style>\n",
       "<table border=\"1\" class=\"dataframe\">\n",
       "  <thead>\n",
       "    <tr style=\"text-align: right;\">\n",
       "      <th></th>\n",
       "      <th>popularity</th>\n",
       "      <th>num_markets</th>\n",
       "      <th>danceability</th>\n",
       "      <th>energy</th>\n",
       "      <th>loudness</th>\n",
       "      <th>speechiness</th>\n",
       "      <th>acousticness</th>\n",
       "      <th>instrumentalness</th>\n",
       "      <th>liveness</th>\n",
       "      <th>valence</th>\n",
       "      <th>...</th>\n",
       "      <th>wrong</th>\n",
       "      <th>year</th>\n",
       "      <th>years</th>\n",
       "      <th>yellow</th>\n",
       "      <th>yes</th>\n",
       "      <th>yet</th>\n",
       "      <th>york</th>\n",
       "      <th>young</th>\n",
       "      <th>young nword</th>\n",
       "      <th>zone</th>\n",
       "    </tr>\n",
       "  </thead>\n",
       "  <tbody>\n",
       "    <tr>\n",
       "      <th>27509</th>\n",
       "      <td>68.0</td>\n",
       "      <td>79.0</td>\n",
       "      <td>0.743</td>\n",
       "      <td>0.660</td>\n",
       "      <td>-4.802</td>\n",
       "      <td>0.418</td>\n",
       "      <td>0.1150</td>\n",
       "      <td>0.000000</td>\n",
       "      <td>0.101</td>\n",
       "      <td>0.549</td>\n",
       "      <td>...</td>\n",
       "      <td>NaN</td>\n",
       "      <td>NaN</td>\n",
       "      <td>NaN</td>\n",
       "      <td>NaN</td>\n",
       "      <td>NaN</td>\n",
       "      <td>NaN</td>\n",
       "      <td>NaN</td>\n",
       "      <td>NaN</td>\n",
       "      <td>NaN</td>\n",
       "      <td>NaN</td>\n",
       "    </tr>\n",
       "    <tr>\n",
       "      <th>27510</th>\n",
       "      <td>32.0</td>\n",
       "      <td>79.0</td>\n",
       "      <td>0.686</td>\n",
       "      <td>0.420</td>\n",
       "      <td>-16.039</td>\n",
       "      <td>0.292</td>\n",
       "      <td>0.1370</td>\n",
       "      <td>0.000000</td>\n",
       "      <td>0.120</td>\n",
       "      <td>0.320</td>\n",
       "      <td>...</td>\n",
       "      <td>NaN</td>\n",
       "      <td>NaN</td>\n",
       "      <td>NaN</td>\n",
       "      <td>NaN</td>\n",
       "      <td>NaN</td>\n",
       "      <td>NaN</td>\n",
       "      <td>NaN</td>\n",
       "      <td>NaN</td>\n",
       "      <td>NaN</td>\n",
       "      <td>NaN</td>\n",
       "    </tr>\n",
       "    <tr>\n",
       "      <th>27511</th>\n",
       "      <td>61.0</td>\n",
       "      <td>79.0</td>\n",
       "      <td>0.551</td>\n",
       "      <td>0.609</td>\n",
       "      <td>-8.975</td>\n",
       "      <td>0.143</td>\n",
       "      <td>0.3680</td>\n",
       "      <td>0.000154</td>\n",
       "      <td>0.192</td>\n",
       "      <td>0.324</td>\n",
       "      <td>...</td>\n",
       "      <td>NaN</td>\n",
       "      <td>NaN</td>\n",
       "      <td>NaN</td>\n",
       "      <td>NaN</td>\n",
       "      <td>NaN</td>\n",
       "      <td>NaN</td>\n",
       "      <td>NaN</td>\n",
       "      <td>NaN</td>\n",
       "      <td>NaN</td>\n",
       "      <td>NaN</td>\n",
       "    </tr>\n",
       "    <tr>\n",
       "      <th>27512</th>\n",
       "      <td>32.0</td>\n",
       "      <td>79.0</td>\n",
       "      <td>0.671</td>\n",
       "      <td>0.889</td>\n",
       "      <td>-4.269</td>\n",
       "      <td>0.295</td>\n",
       "      <td>0.2680</td>\n",
       "      <td>0.000349</td>\n",
       "      <td>0.216</td>\n",
       "      <td>0.747</td>\n",
       "      <td>...</td>\n",
       "      <td>NaN</td>\n",
       "      <td>NaN</td>\n",
       "      <td>NaN</td>\n",
       "      <td>NaN</td>\n",
       "      <td>NaN</td>\n",
       "      <td>NaN</td>\n",
       "      <td>NaN</td>\n",
       "      <td>NaN</td>\n",
       "      <td>NaN</td>\n",
       "      <td>NaN</td>\n",
       "    </tr>\n",
       "    <tr>\n",
       "      <th>27513</th>\n",
       "      <td>10.0</td>\n",
       "      <td>1.0</td>\n",
       "      <td>0.371</td>\n",
       "      <td>0.957</td>\n",
       "      <td>-3.475</td>\n",
       "      <td>0.382</td>\n",
       "      <td>0.0736</td>\n",
       "      <td>0.000000</td>\n",
       "      <td>0.743</td>\n",
       "      <td>0.627</td>\n",
       "      <td>...</td>\n",
       "      <td>NaN</td>\n",
       "      <td>NaN</td>\n",
       "      <td>NaN</td>\n",
       "      <td>NaN</td>\n",
       "      <td>NaN</td>\n",
       "      <td>NaN</td>\n",
       "      <td>NaN</td>\n",
       "      <td>NaN</td>\n",
       "      <td>NaN</td>\n",
       "      <td>NaN</td>\n",
       "    </tr>\n",
       "  </tbody>\n",
       "</table>\n",
       "<p>5 rows × 1013 columns</p>\n",
       "</div>"
      ],
      "text/plain": [
       "       popularity  num_markets  danceability  energy  loudness  speechiness  \\\n",
       "27509        68.0         79.0         0.743   0.660    -4.802        0.418   \n",
       "27510        32.0         79.0         0.686   0.420   -16.039        0.292   \n",
       "27511        61.0         79.0         0.551   0.609    -8.975        0.143   \n",
       "27512        32.0         79.0         0.671   0.889    -4.269        0.295   \n",
       "27513        10.0          1.0         0.371   0.957    -3.475        0.382   \n",
       "\n",
       "       acousticness  instrumentalness  liveness  valence  ...  wrong  year  \\\n",
       "27509        0.1150          0.000000     0.101    0.549  ...    NaN   NaN   \n",
       "27510        0.1370          0.000000     0.120    0.320  ...    NaN   NaN   \n",
       "27511        0.3680          0.000154     0.192    0.324  ...    NaN   NaN   \n",
       "27512        0.2680          0.000349     0.216    0.747  ...    NaN   NaN   \n",
       "27513        0.0736          0.000000     0.743    0.627  ...    NaN   NaN   \n",
       "\n",
       "       years  yellow  yes  yet  york  young  young nword  zone  \n",
       "27509    NaN     NaN  NaN  NaN   NaN    NaN          NaN   NaN  \n",
       "27510    NaN     NaN  NaN  NaN   NaN    NaN          NaN   NaN  \n",
       "27511    NaN     NaN  NaN  NaN   NaN    NaN          NaN   NaN  \n",
       "27512    NaN     NaN  NaN  NaN   NaN    NaN          NaN   NaN  \n",
       "27513    NaN     NaN  NaN  NaN   NaN    NaN          NaN   NaN  \n",
       "\n",
       "[5 rows x 1013 columns]"
      ]
     },
     "execution_count": 155,
     "metadata": {},
     "output_type": "execute_result"
    }
   ],
   "source": [
    "#Concat the features with tf-idf\n",
    "data_tfidf = pd.concat([df_short, vect_df], axis=1)\n",
    "data_tfidf.tail()"
   ]
  },
  {
   "cell_type": "code",
   "execution_count": 154,
   "metadata": {},
   "outputs": [
    {
     "data": {
      "text/plain": [
       "(27510, 1013)"
      ]
     },
     "execution_count": 154,
     "metadata": {},
     "output_type": "execute_result"
    }
   ],
   "source": [
    "data_tfidf.shape"
   ]
  },
  {
   "cell_type": "code",
   "execution_count": 156,
   "metadata": {},
   "outputs": [
    {
     "data": {
      "text/plain": [
       "popularity      401\n",
       "num_markets     401\n",
       "danceability    401\n",
       "energy          401\n",
       "loudness        401\n",
       "               ... \n",
       "yet             401\n",
       "york            401\n",
       "young           401\n",
       "young nword     401\n",
       "zone            401\n",
       "Length: 1013, dtype: int64"
      ]
     },
     "execution_count": 156,
     "metadata": {},
     "output_type": "execute_result"
    }
   ],
   "source": [
    "#Checking for null values\n",
    "data_tfidf.isna().sum()"
   ]
  },
  {
   "cell_type": "code",
   "execution_count": 157,
   "metadata": {},
   "outputs": [],
   "source": [
    "#Dropp\n",
    "data_tfidf.fillna(value=0,inplace=True)"
   ]
  },
  {
   "cell_type": "code",
   "execution_count": 158,
   "metadata": {},
   "outputs": [
    {
     "data": {
      "text/plain": [
       "(27510, 1013)"
      ]
     },
     "execution_count": 158,
     "metadata": {},
     "output_type": "execute_result"
    }
   ],
   "source": [
    "data_tfidf.shape"
   ]
  },
  {
   "cell_type": "code",
   "execution_count": 159,
   "metadata": {},
   "outputs": [
    {
     "data": {
      "text/plain": [
       "popularity      0\n",
       "num_markets     0\n",
       "danceability    0\n",
       "energy          0\n",
       "loudness        0\n",
       "               ..\n",
       "yet             0\n",
       "york            0\n",
       "young           0\n",
       "young nword     0\n",
       "zone            0\n",
       "Length: 1013, dtype: int64"
      ]
     },
     "execution_count": 159,
     "metadata": {},
     "output_type": "execute_result"
    }
   ],
   "source": [
    "#Checking for null values\n",
    "data_tfidf.isna().sum()"
   ]
  },
  {
   "cell_type": "code",
   "execution_count": 161,
   "metadata": {},
   "outputs": [],
   "source": [
    "from sklearn.preprocessing import StandardScaler\n",
    "norm = StandardScaler()"
   ]
  },
  {
   "cell_type": "code",
   "execution_count": 162,
   "metadata": {
    "scrolled": true
   },
   "outputs": [],
   "source": [
    "#Scaling data\n",
    "data_tfidf_norm = pd.DataFrame(norm.fit_transform(data_tfidf),columns=data_tfidf.columns)"
   ]
  },
  {
   "cell_type": "code",
   "execution_count": 163,
   "metadata": {},
   "outputs": [
    {
     "data": {
      "text/html": [
       "<div>\n",
       "<style scoped>\n",
       "    .dataframe tbody tr th:only-of-type {\n",
       "        vertical-align: middle;\n",
       "    }\n",
       "\n",
       "    .dataframe tbody tr th {\n",
       "        vertical-align: top;\n",
       "    }\n",
       "\n",
       "    .dataframe thead th {\n",
       "        text-align: right;\n",
       "    }\n",
       "</style>\n",
       "<table border=\"1\" class=\"dataframe\">\n",
       "  <thead>\n",
       "    <tr style=\"text-align: right;\">\n",
       "      <th></th>\n",
       "      <th>popularity</th>\n",
       "      <th>num_markets</th>\n",
       "      <th>danceability</th>\n",
       "      <th>energy</th>\n",
       "      <th>loudness</th>\n",
       "      <th>speechiness</th>\n",
       "      <th>acousticness</th>\n",
       "      <th>instrumentalness</th>\n",
       "      <th>liveness</th>\n",
       "      <th>valence</th>\n",
       "      <th>...</th>\n",
       "      <th>wrong</th>\n",
       "      <th>year</th>\n",
       "      <th>years</th>\n",
       "      <th>yellow</th>\n",
       "      <th>yes</th>\n",
       "      <th>yet</th>\n",
       "      <th>york</th>\n",
       "      <th>young</th>\n",
       "      <th>young nword</th>\n",
       "      <th>zone</th>\n",
       "    </tr>\n",
       "  </thead>\n",
       "  <tbody>\n",
       "    <tr>\n",
       "      <th>0</th>\n",
       "      <td>-0.321125</td>\n",
       "      <td>0.464729</td>\n",
       "      <td>0.359164</td>\n",
       "      <td>-0.692812</td>\n",
       "      <td>-2.996303</td>\n",
       "      <td>-0.603833</td>\n",
       "      <td>-0.797476</td>\n",
       "      <td>-0.150334</td>\n",
       "      <td>-0.914008</td>\n",
       "      <td>1.649194</td>\n",
       "      <td>...</td>\n",
       "      <td>-0.271141</td>\n",
       "      <td>-0.221757</td>\n",
       "      <td>2.779213</td>\n",
       "      <td>-0.130686</td>\n",
       "      <td>-0.216998</td>\n",
       "      <td>-0.208401</td>\n",
       "      <td>-0.170933</td>\n",
       "      <td>-0.321195</td>\n",
       "      <td>-0.151176</td>\n",
       "      <td>-0.164108</td>\n",
       "    </tr>\n",
       "    <tr>\n",
       "      <th>1</th>\n",
       "      <td>2.644479</td>\n",
       "      <td>0.464729</td>\n",
       "      <td>0.414200</td>\n",
       "      <td>-0.251169</td>\n",
       "      <td>0.643409</td>\n",
       "      <td>-1.346421</td>\n",
       "      <td>-0.763297</td>\n",
       "      <td>-0.150556</td>\n",
       "      <td>-0.270692</td>\n",
       "      <td>-0.194294</td>\n",
       "      <td>...</td>\n",
       "      <td>-0.271141</td>\n",
       "      <td>-0.221757</td>\n",
       "      <td>-0.266310</td>\n",
       "      <td>-0.130686</td>\n",
       "      <td>-0.216998</td>\n",
       "      <td>-0.208401</td>\n",
       "      <td>-0.170933</td>\n",
       "      <td>-0.321195</td>\n",
       "      <td>-0.151176</td>\n",
       "      <td>-0.164108</td>\n",
       "    </tr>\n",
       "    <tr>\n",
       "      <th>2</th>\n",
       "      <td>1.491189</td>\n",
       "      <td>0.464729</td>\n",
       "      <td>0.291898</td>\n",
       "      <td>1.140843</td>\n",
       "      <td>-0.062305</td>\n",
       "      <td>0.934385</td>\n",
       "      <td>-0.109316</td>\n",
       "      <td>-0.150556</td>\n",
       "      <td>-0.654925</td>\n",
       "      <td>1.006011</td>\n",
       "      <td>...</td>\n",
       "      <td>-0.271141</td>\n",
       "      <td>-0.221757</td>\n",
       "      <td>-0.266310</td>\n",
       "      <td>-0.130686</td>\n",
       "      <td>0.817642</td>\n",
       "      <td>-0.208401</td>\n",
       "      <td>8.513157</td>\n",
       "      <td>-0.321195</td>\n",
       "      <td>-0.151176</td>\n",
       "      <td>-0.164108</td>\n",
       "    </tr>\n",
       "    <tr>\n",
       "      <th>3</th>\n",
       "      <td>-0.430962</td>\n",
       "      <td>0.424351</td>\n",
       "      <td>0.701610</td>\n",
       "      <td>0.559441</td>\n",
       "      <td>-1.143168</td>\n",
       "      <td>1.086880</td>\n",
       "      <td>0.717849</td>\n",
       "      <td>-0.150556</td>\n",
       "      <td>0.349570</td>\n",
       "      <td>0.036708</td>\n",
       "      <td>...</td>\n",
       "      <td>-0.271141</td>\n",
       "      <td>-0.221757</td>\n",
       "      <td>-0.266310</td>\n",
       "      <td>-0.130686</td>\n",
       "      <td>-0.216998</td>\n",
       "      <td>-0.208401</td>\n",
       "      <td>-0.170933</td>\n",
       "      <td>-0.321195</td>\n",
       "      <td>-0.151176</td>\n",
       "      <td>-0.164108</td>\n",
       "    </tr>\n",
       "    <tr>\n",
       "      <th>4</th>\n",
       "      <td>-1.035067</td>\n",
       "      <td>0.383974</td>\n",
       "      <td>0.762761</td>\n",
       "      <td>-1.128864</td>\n",
       "      <td>-2.236450</td>\n",
       "      <td>-0.133085</td>\n",
       "      <td>-0.706020</td>\n",
       "      <td>-0.149350</td>\n",
       "      <td>0.898475</td>\n",
       "      <td>0.249592</td>\n",
       "      <td>...</td>\n",
       "      <td>-0.271141</td>\n",
       "      <td>-0.221757</td>\n",
       "      <td>-0.266310</td>\n",
       "      <td>-0.130686</td>\n",
       "      <td>1.991630</td>\n",
       "      <td>-0.208401</td>\n",
       "      <td>-0.170933</td>\n",
       "      <td>-0.321195</td>\n",
       "      <td>-0.151176</td>\n",
       "      <td>-0.164108</td>\n",
       "    </tr>\n",
       "  </tbody>\n",
       "</table>\n",
       "<p>5 rows × 1013 columns</p>\n",
       "</div>"
      ],
      "text/plain": [
       "   popularity  num_markets  danceability    energy  loudness  speechiness  \\\n",
       "0   -0.321125     0.464729      0.359164 -0.692812 -2.996303    -0.603833   \n",
       "1    2.644479     0.464729      0.414200 -0.251169  0.643409    -1.346421   \n",
       "2    1.491189     0.464729      0.291898  1.140843 -0.062305     0.934385   \n",
       "3   -0.430962     0.424351      0.701610  0.559441 -1.143168     1.086880   \n",
       "4   -1.035067     0.383974      0.762761 -1.128864 -2.236450    -0.133085   \n",
       "\n",
       "   acousticness  instrumentalness  liveness   valence  ...     wrong  \\\n",
       "0     -0.797476         -0.150334 -0.914008  1.649194  ... -0.271141   \n",
       "1     -0.763297         -0.150556 -0.270692 -0.194294  ... -0.271141   \n",
       "2     -0.109316         -0.150556 -0.654925  1.006011  ... -0.271141   \n",
       "3      0.717849         -0.150556  0.349570  0.036708  ... -0.271141   \n",
       "4     -0.706020         -0.149350  0.898475  0.249592  ... -0.271141   \n",
       "\n",
       "       year     years    yellow       yes       yet      york     young  \\\n",
       "0 -0.221757  2.779213 -0.130686 -0.216998 -0.208401 -0.170933 -0.321195   \n",
       "1 -0.221757 -0.266310 -0.130686 -0.216998 -0.208401 -0.170933 -0.321195   \n",
       "2 -0.221757 -0.266310 -0.130686  0.817642 -0.208401  8.513157 -0.321195   \n",
       "3 -0.221757 -0.266310 -0.130686 -0.216998 -0.208401 -0.170933 -0.321195   \n",
       "4 -0.221757 -0.266310 -0.130686  1.991630 -0.208401 -0.170933 -0.321195   \n",
       "\n",
       "   young nword      zone  \n",
       "0    -0.151176 -0.164108  \n",
       "1    -0.151176 -0.164108  \n",
       "2    -0.151176 -0.164108  \n",
       "3    -0.151176 -0.164108  \n",
       "4    -0.151176 -0.164108  \n",
       "\n",
       "[5 rows x 1013 columns]"
      ]
     },
     "execution_count": 163,
     "metadata": {},
     "output_type": "execute_result"
    }
   ],
   "source": [
    "data_tfidf_norm.head()"
   ]
  },
  {
   "cell_type": "markdown",
   "metadata": {},
   "source": [
    "### Let's cluster"
   ]
  },
  {
   "cell_type": "code",
   "execution_count": 166,
   "metadata": {},
   "outputs": [
    {
     "data": {
      "image/png": "[encoded data removed]",
      "text/plain": [
       "<Figure size 1080x576 with 1 Axes>"
      ]
     },
     "metadata": {
      "needs_background": "light"
     },
     "output_type": "display_data"
    }
   ],
   "source": [
    "#Elbow\n",
    "# Specifying the dataset and initializing variables\n",
    "X = data_tfidf_norm\n",
    "distorsions = []\n",
    "\n",
    "# Calculate SSE for different K\n",
    "for k in range(2, 15):\n",
    "    kmeans = KMeans(n_clusters=k, random_state = 301)\n",
    "    kmeans.fit(X)\n",
    "    distorsions.append(kmeans.inertia_)\n",
    "\n",
    "# Plot values of SSE\n",
    "plt.figure(figsize=(15,8))\n",
    "plt.subplot(121, title='Elbow curve')\n",
    "plt.xlabel('Number of clusters (k)')\n",
    "plt.plot(range(2, 15), distorsions,'-o',color='black')\n",
    "plt.grid(True)"
   ]
  },
  {
   "cell_type": "code",
   "execution_count": 167,
   "metadata": {},
   "outputs": [],
   "source": [
    "#Silhouette\n",
    "# Generate silhouette coefficient for each k\n",
    "X = data_tfidf_norm\n",
    "silhouette_plot = []\n",
    "for k in range(2, 15):\n",
    "    clusters = KMeans(n_clusters=k, random_state=10)\n",
    "    cluster_labels = clusters.fit_predict(X)\n",
    "    silhouette_avg = metrics.silhouette_score(X, cluster_labels)\n",
    "    silhouette_plot.append(silhouette_avg)"
   ]
  },
  {
   "cell_type": "code",
   "execution_count": 168,
   "metadata": {},
   "outputs": [
    {
     "data": {
      "image/png": "[encoded data removed]",
      "text/plain": [
       "<Figure size 1080x576 with 1 Axes>"
      ]
     },
     "metadata": {
      "needs_background": "light"
     },
     "output_type": "display_data"
    }
   ],
   "source": [
    "# Plot Silhouette coefficient\n",
    "plt.figure(figsize=(15,8))\n",
    "plt.subplot(121, title='Silhouette coefficients over k')\n",
    "plt.xlabel('Number of cluster - k')\n",
    "plt.ylabel('silhouette coefficient')\n",
    "plt.plot(range(2, 15), silhouette_plot,'-o',color='black')\n",
    "plt.axhline(y=np.mean(silhouette_plot), color=\"red\", linestyle=\"--\")\n",
    "plt.grid(True)"
   ]
  },
  {
   "cell_type": "code",
   "execution_count": 169,
   "metadata": {},
   "outputs": [
    {
     "data": {
      "text/plain": [
       "array([[-0.01467366,  0.00386057, -0.01214144, ...,  0.07095326,\n",
       "         0.02125076,  0.01517981],\n",
       "       [ 0.02171279, -0.0018152 , -0.00750425, ...,  0.26931959,\n",
       "         0.40569013,  0.01968181],\n",
       "       [-0.03651766, -0.01868751, -0.0066835 , ..., -0.09391224,\n",
       "        -0.12049722, -0.00188224],\n",
       "       [ 0.00865259, -0.02012886,  0.02095086, ..., -0.10060441,\n",
       "        -0.14076034,  0.09893108],\n",
       "       [ 0.01043088, -0.00343327, -0.00885813, ...,  0.01484982,\n",
       "        -0.08371758, -0.00525009],\n",
       "       [ 0.00863458,  0.02580795,  0.0175306 , ..., -0.16396075,\n",
       "        -0.10521714, -0.07589989]])"
      ]
     },
     "execution_count": 169,
     "metadata": {},
     "output_type": "execute_result"
    }
   ],
   "source": [
    "model_2 = KMeans(n_clusters=6, random_state=10).fit(data_tfidf_norm)\n",
    "model_2.cluster_centers_"
   ]
  },
  {
   "cell_type": "code",
   "execution_count": 170,
   "metadata": {},
   "outputs": [],
   "source": [
    "cluster_2_labels = model_2.fit_predict(data_tfidf_norm)"
   ]
  },
  {
   "cell_type": "code",
   "execution_count": 171,
   "metadata": {},
   "outputs": [],
   "source": [
    "#Lyrics join\n",
    "cluster_2_df = pd.concat([data_tfidf, pd.Series(cluster_2_labels, name='cluster')], axis=1, join='outer')\n"
   ]
  },
  {
   "cell_type": "code",
   "execution_count": 172,
   "metadata": {},
   "outputs": [
    {
     "data": {
      "text/html": [
       "<div>\n",
       "<style scoped>\n",
       "    .dataframe tbody tr th:only-of-type {\n",
       "        vertical-align: middle;\n",
       "    }\n",
       "\n",
       "    .dataframe tbody tr th {\n",
       "        vertical-align: top;\n",
       "    }\n",
       "\n",
       "    .dataframe thead th {\n",
       "        text-align: right;\n",
       "    }\n",
       "</style>\n",
       "<table border=\"1\" class=\"dataframe\">\n",
       "  <thead>\n",
       "    <tr style=\"text-align: right;\">\n",
       "      <th></th>\n",
       "      <th>popularity</th>\n",
       "      <th>num_markets</th>\n",
       "      <th>danceability</th>\n",
       "      <th>energy</th>\n",
       "      <th>loudness</th>\n",
       "      <th>speechiness</th>\n",
       "      <th>acousticness</th>\n",
       "      <th>instrumentalness</th>\n",
       "      <th>liveness</th>\n",
       "      <th>valence</th>\n",
       "      <th>...</th>\n",
       "      <th>year</th>\n",
       "      <th>years</th>\n",
       "      <th>yellow</th>\n",
       "      <th>yes</th>\n",
       "      <th>yet</th>\n",
       "      <th>york</th>\n",
       "      <th>young</th>\n",
       "      <th>young nword</th>\n",
       "      <th>zone</th>\n",
       "      <th>cluster</th>\n",
       "    </tr>\n",
       "  </thead>\n",
       "  <tbody>\n",
       "    <tr>\n",
       "      <th>0</th>\n",
       "      <td>24.0</td>\n",
       "      <td>79.0</td>\n",
       "      <td>0.735</td>\n",
       "      <td>0.559</td>\n",
       "      <td>-16.289</td>\n",
       "      <td>0.161</td>\n",
       "      <td>0.00172</td>\n",
       "      <td>0.000020</td>\n",
       "      <td>0.0648</td>\n",
       "      <td>0.887</td>\n",
       "      <td>...</td>\n",
       "      <td>0.0</td>\n",
       "      <td>0.077285</td>\n",
       "      <td>0.0</td>\n",
       "      <td>0.000000</td>\n",
       "      <td>0.0</td>\n",
       "      <td>0.000000</td>\n",
       "      <td>0.0</td>\n",
       "      <td>0.0</td>\n",
       "      <td>0.0</td>\n",
       "      <td>3.0</td>\n",
       "    </tr>\n",
       "    <tr>\n",
       "      <th>1</th>\n",
       "      <td>78.0</td>\n",
       "      <td>79.0</td>\n",
       "      <td>0.744</td>\n",
       "      <td>0.638</td>\n",
       "      <td>-4.860</td>\n",
       "      <td>0.049</td>\n",
       "      <td>0.00829</td>\n",
       "      <td>0.000000</td>\n",
       "      <td>0.1820</td>\n",
       "      <td>0.480</td>\n",
       "      <td>...</td>\n",
       "      <td>0.0</td>\n",
       "      <td>0.000000</td>\n",
       "      <td>0.0</td>\n",
       "      <td>0.000000</td>\n",
       "      <td>0.0</td>\n",
       "      <td>0.000000</td>\n",
       "      <td>0.0</td>\n",
       "      <td>0.0</td>\n",
       "      <td>0.0</td>\n",
       "      <td>5.0</td>\n",
       "    </tr>\n",
       "    <tr>\n",
       "      <th>2</th>\n",
       "      <td>57.0</td>\n",
       "      <td>79.0</td>\n",
       "      <td>0.724</td>\n",
       "      <td>0.887</td>\n",
       "      <td>-7.076</td>\n",
       "      <td>0.393</td>\n",
       "      <td>0.13400</td>\n",
       "      <td>0.000000</td>\n",
       "      <td>0.1120</td>\n",
       "      <td>0.745</td>\n",
       "      <td>...</td>\n",
       "      <td>0.0</td>\n",
       "      <td>0.000000</td>\n",
       "      <td>0.0</td>\n",
       "      <td>0.038533</td>\n",
       "      <td>0.0</td>\n",
       "      <td>0.228884</td>\n",
       "      <td>0.0</td>\n",
       "      <td>0.0</td>\n",
       "      <td>0.0</td>\n",
       "      <td>4.0</td>\n",
       "    </tr>\n",
       "    <tr>\n",
       "      <th>3</th>\n",
       "      <td>22.0</td>\n",
       "      <td>78.0</td>\n",
       "      <td>0.791</td>\n",
       "      <td>0.783</td>\n",
       "      <td>-10.470</td>\n",
       "      <td>0.416</td>\n",
       "      <td>0.29300</td>\n",
       "      <td>0.000000</td>\n",
       "      <td>0.2950</td>\n",
       "      <td>0.531</td>\n",
       "      <td>...</td>\n",
       "      <td>0.0</td>\n",
       "      <td>0.000000</td>\n",
       "      <td>0.0</td>\n",
       "      <td>0.000000</td>\n",
       "      <td>0.0</td>\n",
       "      <td>0.000000</td>\n",
       "      <td>0.0</td>\n",
       "      <td>0.0</td>\n",
       "      <td>0.0</td>\n",
       "      <td>3.0</td>\n",
       "    </tr>\n",
       "    <tr>\n",
       "      <th>4</th>\n",
       "      <td>11.0</td>\n",
       "      <td>77.0</td>\n",
       "      <td>0.801</td>\n",
       "      <td>0.481</td>\n",
       "      <td>-13.903</td>\n",
       "      <td>0.232</td>\n",
       "      <td>0.01930</td>\n",
       "      <td>0.000107</td>\n",
       "      <td>0.3950</td>\n",
       "      <td>0.578</td>\n",
       "      <td>...</td>\n",
       "      <td>0.0</td>\n",
       "      <td>0.000000</td>\n",
       "      <td>0.0</td>\n",
       "      <td>0.082255</td>\n",
       "      <td>0.0</td>\n",
       "      <td>0.000000</td>\n",
       "      <td>0.0</td>\n",
       "      <td>0.0</td>\n",
       "      <td>0.0</td>\n",
       "      <td>3.0</td>\n",
       "    </tr>\n",
       "  </tbody>\n",
       "</table>\n",
       "<p>5 rows × 1014 columns</p>\n",
       "</div>"
      ],
      "text/plain": [
       "   popularity  num_markets  danceability  energy  loudness  speechiness  \\\n",
       "0        24.0         79.0         0.735   0.559   -16.289        0.161   \n",
       "1        78.0         79.0         0.744   0.638    -4.860        0.049   \n",
       "2        57.0         79.0         0.724   0.887    -7.076        0.393   \n",
       "3        22.0         78.0         0.791   0.783   -10.470        0.416   \n",
       "4        11.0         77.0         0.801   0.481   -13.903        0.232   \n",
       "\n",
       "   acousticness  instrumentalness  liveness  valence  ...  year     years  \\\n",
       "0       0.00172          0.000020    0.0648    0.887  ...   0.0  0.077285   \n",
       "1       0.00829          0.000000    0.1820    0.480  ...   0.0  0.000000   \n",
       "2       0.13400          0.000000    0.1120    0.745  ...   0.0  0.000000   \n",
       "3       0.29300          0.000000    0.2950    0.531  ...   0.0  0.000000   \n",
       "4       0.01930          0.000107    0.3950    0.578  ...   0.0  0.000000   \n",
       "\n",
       "   yellow       yes  yet      york  young  young nword  zone  cluster  \n",
       "0     0.0  0.000000  0.0  0.000000    0.0          0.0   0.0      3.0  \n",
       "1     0.0  0.000000  0.0  0.000000    0.0          0.0   0.0      5.0  \n",
       "2     0.0  0.038533  0.0  0.228884    0.0          0.0   0.0      4.0  \n",
       "3     0.0  0.000000  0.0  0.000000    0.0          0.0   0.0      3.0  \n",
       "4     0.0  0.082255  0.0  0.000000    0.0          0.0   0.0      3.0  \n",
       "\n",
       "[5 rows x 1014 columns]"
      ]
     },
     "execution_count": 172,
     "metadata": {},
     "output_type": "execute_result"
    }
   ],
   "source": [
    "cluster_2_df.head()"
   ]
  },
  {
   "cell_type": "code",
   "execution_count": 173,
   "metadata": {},
   "outputs": [
    {
     "data": {
      "text/plain": [
       "(27514, 1014)"
      ]
     },
     "execution_count": 173,
     "metadata": {},
     "output_type": "execute_result"
    }
   ],
   "source": [
    "cluster_2_df.shape"
   ]
  },
  {
   "cell_type": "code",
   "execution_count": 174,
   "metadata": {},
   "outputs": [
    {
     "data": {
      "text/plain": [
       "5.0    5756\n",
       "4.0    4916\n",
       "0.0    4875\n",
       "1.0    4595\n",
       "2.0    4272\n",
       "3.0    3096\n",
       "Name: cluster, dtype: int64"
      ]
     },
     "execution_count": 174,
     "metadata": {},
     "output_type": "execute_result"
    }
   ],
   "source": [
    "cluster_2_df.cluster.value_counts()"
   ]
  },
  {
   "cell_type": "code",
   "execution_count": null,
   "metadata": {},
   "outputs": [],
   "source": [
    "##\n",
    "cluster_2_df[cluster_2_df['cluster'] == 0]['duration_mins'].plot(kind='hist',color='r',bins=50)\n",
    "cluster_2_df[cluster_2_df['cluster'] == 1]['duration_mins'].plot(kind='hist',color='b',bins=50)\n",
    "cluster_2_df[cluster_2_df['cluster'] == 2]['duration_mins'].plot(kind='hist',color='black',bins=50)\n",
    "cluster_2_df[cluster_2_df['cluster'] == 3]['duration_mins'].plot(kind='hist',color='grey',bins=50)\n",
    "# cluster_2_df[cluster_2_df['cluster'] == 4]['duration_mins'].plot(kind='hist',color='green',bins=50)\n",
    "# cluster_2_df[cluster_2_df['cluster'] == 5]['duration_mins'].plot(kind='hist',color='steelblue',bins=50)\n",
    "plt.title('Duration distribution per cluster')\n",
    "plt.legend()\n",
    "plt.show()"
   ]
  },
  {
   "cell_type": "code",
   "execution_count": null,
   "metadata": {},
   "outputs": [],
   "source": [
    "#PCA for visualization"
   ]
  },
  {
   "cell_type": "code",
   "execution_count": null,
   "metadata": {},
   "outputs": [],
   "source": [
    "cluster_2_df.dropna(inplace=True)"
   ]
  },
  {
   "cell_type": "code",
   "execution_count": null,
   "metadata": {},
   "outputs": [],
   "source": [
    "test = cluster_2_df.drop(columns=['cluster'])"
   ]
  },
  {
   "cell_type": "code",
   "execution_count": null,
   "metadata": {},
   "outputs": [],
   "source": [
    "len(test)"
   ]
  },
  {
   "cell_type": "code",
   "execution_count": null,
   "metadata": {},
   "outputs": [],
   "source": [
    "test.head()"
   ]
  },
  {
   "cell_type": "code",
   "execution_count": null,
   "metadata": {},
   "outputs": [],
   "source": [
    "len(cluster_2_df)"
   ]
  },
  {
   "cell_type": "code",
   "execution_count": null,
   "metadata": {},
   "outputs": [],
   "source": [
    "from sklearn.decomposition import PCA\n",
    "\n",
    "pca = PCA(n_components=2)\n",
    "X_new = pca.fit_transform(test)\n",
    "x,y = zip(*X_new)\n",
    "cluster_2_df['x'] = x\n",
    "cluster_2_df['y'] = y\n",
    "components = pca.components_\n",
    "explained_variance = pca.explained_variance_\n",
    "explained_variance_ratio = pca.explained_variance_ratio_\n",
    "singular_values = pca.singular_values_"
   ]
  },
  {
   "cell_type": "code",
   "execution_count": null,
   "metadata": {},
   "outputs": [],
   "source": [
    "explained_variance_ratio"
   ]
  },
  {
   "cell_type": "code",
   "execution_count": null,
   "metadata": {},
   "outputs": [],
   "source": [
    "sns.set(font_scale=1.5)\n",
    "sns.lmplot(data=cluster_2_df, x='x', y='y', hue='cluster', fit_reg=False, legend=True, size=8, palette='Set1',\n",
    "           scatter_kws={'alpha':0.35, 's':25})\n",
    "plt.legend(loc='lower right')\n",
    "# plt.ylim(-0.7,1.8)\n",
    "# plt.xlim(-0.7,1.8)\n",
    "# plt.savefig('pca_scatter_genres.png')\n",
    "plt.title(\"Clustering - Reduced Dimension\")\n",
    "plt.show()"
   ]
  },
  {
   "cell_type": "code",
   "execution_count": null,
   "metadata": {},
   "outputs": [],
   "source": [
    "from mpl_toolkits import mplot3d\n",
    "from mpl_toolkits.mplot3d import Axes3D"
   ]
  },
  {
   "cell_type": "code",
   "execution_count": null,
   "metadata": {},
   "outputs": [],
   "source": [
    "#Visualize top 3 components\n",
    "fig = plt.figure(1, figsize=(8, 6))\n",
    "ax = Axes3D(fig, elev=-150, azim=110)\n",
    "\n",
    "ax.scatter(cluster_2_df['x'], cluster_2_df['y'], cluster_2_df['cluster'], c=cluster_2_df['cluster'],\n",
    "           cmap=plt.cm.Set1, edgecolor='k', s=40)\n",
    "\n",
    "ax.set_title('Clustering vs. Reduced Dimension')\n",
    "ax.set_xlabel(\"1st eigenvector\")\n",
    "ax.w_xaxis.set_ticklabels([])\n",
    "ax.set_ylabel(\"2nd eigenvector\")\n",
    "ax.w_yaxis.set_ticklabels([])\n",
    "ax.set_zlabel(\"Cluster\")\n",
    "ax.w_zaxis.set_ticklabels([])\n",
    "\n",
    "plt.show()"
   ]
  },
  {
   "cell_type": "code",
   "execution_count": null,
   "metadata": {
    "scrolled": true
   },
   "outputs": [],
   "source": [
    "cluster_2_df.head()"
   ]
  },
  {
   "cell_type": "code",
   "execution_count": null,
   "metadata": {},
   "outputs": [],
   "source": [
    "list(cluster_2_df.columns)"
   ]
  },
  {
   "cell_type": "code",
   "execution_count": null,
   "metadata": {},
   "outputs": [],
   "source": [
    "cluster_centers = pd.DataFrame(model_2.cluster_centers_,columns=test.columns)"
   ]
  },
  {
   "cell_type": "code",
   "execution_count": null,
   "metadata": {},
   "outputs": [],
   "source": [
    "cluster_centers"
   ]
  },
  {
   "cell_type": "code",
   "execution_count": null,
   "metadata": {},
   "outputs": [],
   "source": [
    "cluster_summary_c = cluster_centers[['popularity','num_markets',\n",
    "                'danceability','energy', 'loudness',\n",
    "       'speechiness', 'acousticness', 'instrumentalness','liveness',\n",
    "       'valence','tempo','time_signature','duration_mins','Count_words']]"
   ]
  },
  {
   "cell_type": "code",
   "execution_count": null,
   "metadata": {},
   "outputs": [],
   "source": [
    "cluster_summary_c.head(10)"
   ]
  },
  {
   "cell_type": "code",
   "execution_count": null,
   "metadata": {},
   "outputs": [],
   "source": [
    "plt.figure(figsize=(10,10))\n",
    "sns.set(font_scale=0.8)\n",
    "\n",
    "sns.heatmap(\n",
    "    data=cluster_summary_c,\n",
    "    annot=True,cmap = \"Blues\",fmt='.1g',square=True\n",
    ")\n",
    "plt.ylabel(\"KMeansLabel\")\n",
    "plt.show()"
   ]
  },
  {
   "cell_type": "code",
   "execution_count": null,
   "metadata": {},
   "outputs": [],
   "source": [
    "test.shape"
   ]
  },
  {
   "cell_type": "code",
   "execution_count": null,
   "metadata": {},
   "outputs": [],
   "source": [
    "cluster_2_df.shape"
   ]
  },
  {
   "cell_type": "code",
   "execution_count": null,
   "metadata": {},
   "outputs": [],
   "source": [
    "#evaluation"
   ]
  },
  {
   "cell_type": "code",
   "execution_count": null,
   "metadata": {},
   "outputs": [],
   "source": [
    ">>> kmeans_model = KMeans(n_clusters=4, random_state=17).fit(data_tfidf_norm)\n",
    ">>> labels = kmeans_model.labels_\n",
    ">>> metrics.silhouette_score(X, labels, metric='euclidean')"
   ]
  },
  {
   "cell_type": "code",
   "execution_count": null,
   "metadata": {},
   "outputs": [],
   "source": []
  },
  {
   "cell_type": "code",
   "execution_count": null,
   "metadata": {},
   "outputs": [],
   "source": [
    "# k=4 --- sil = "
   ]
  },
  {
   "cell_type": "code",
   "execution_count": null,
   "metadata": {},
   "outputs": [],
   "source": [
    "#Calinski-Harabasz Index\n",
    ">>> import numpy as np\n",
    ">>> from sklearn.cluster import KMeans\n",
    ">>> kmeans_model = KMeans(n_clusters=3, random_state=1).fit(X)\n",
    ">>> labels = kmeans_model.labels_\n",
    ">>> metrics.calinski_harabasz_score(X, labels)  \n",
    "561.62..."
   ]
  },
  {
   "cell_type": "code",
   "execution_count": null,
   "metadata": {},
   "outputs": [],
   "source": []
  },
  {
   "cell_type": "code",
   "execution_count": null,
   "metadata": {},
   "outputs": [],
   "source": [
    ">>> from sklearn.cluster import AgglomerativeClustering\n",
    ">>> import numpy as np\n",
    ">>> X = np.array([[1, 2], [1, 4], [1, 0],\n",
    "...               [4, 2], [4, 4], [4, 0]])\n",
    ">>> clustering = AgglomerativeClustering().fit(X)\n",
    ">>> clustering \n",
    "AgglomerativeClustering(affinity='euclidean', compute_full_tree='auto',\n",
    "                        connectivity=None, distance_threshold=None,\n",
    "                        linkage='ward', memory=None, n_clusters=2,\n",
    "                        pooling_func='deprecated')\n",
    ">>> clustering.labels_\n",
    "array([1, 1, 1, 0, 0, 0])"
   ]
  },
  {
   "cell_type": "code",
   "execution_count": null,
   "metadata": {},
   "outputs": [],
   "source": []
  },
  {
   "cell_type": "code",
   "execution_count": null,
   "metadata": {},
   "outputs": [],
   "source": []
  },
  {
   "cell_type": "code",
   "execution_count": null,
   "metadata": {},
   "outputs": [],
   "source": []
  },
  {
   "cell_type": "code",
   "execution_count": null,
   "metadata": {},
   "outputs": [],
   "source": []
  },
  {
   "cell_type": "code",
   "execution_count": null,
   "metadata": {},
   "outputs": [],
   "source": [
    "## Clusters artist"
   ]
  },
  {
   "cell_type": "code",
   "execution_count": null,
   "metadata": {},
   "outputs": [],
   "source": [
    "\n",
    "#open data frame\n",
    "with open('../Data-Cleaning-EDA/cleaned_year_data.pkl', 'wb') as file:\n",
    "    pickle.dump(year_df, file)"
   ]
  }
 ],
 "metadata": {
  "kernelspec": {
   "display_name": "Python 3",
   "language": "python",
   "name": "python3"
  },
  "language_info": {
   "codemirror_mode": {
    "name": "ipython",
    "version": 3
   },
   "file_extension": ".py",
   "mimetype": "text/x-python",
   "name": "python",
   "nbconvert_exporter": "python",
   "pygments_lexer": "ipython3",
   "version": "3.7.3"
  },
  "toc": {
   "base_numbering": 1,
   "nav_menu": {},
   "number_sections": true,
   "sideBar": true,
   "skip_h1_title": false,
   "title_cell": "Table of Contents",
   "title_sidebar": "Contents",
   "toc_cell": false,
   "toc_position": {
    "height": "calc(100% - 180px)",
    "left": "10px",
    "top": "150px",
    "width": "285px"
   },
   "toc_section_display": true,
   "toc_window_display": true
  }
 },
 "nbformat": 4,
 "nbformat_minor": 2
}
