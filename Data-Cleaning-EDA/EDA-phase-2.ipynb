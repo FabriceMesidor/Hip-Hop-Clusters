{
 "cells": [
  {
   "cell_type": "markdown",
   "metadata": {},
   "source": [
    "### Helpers"
   ]
  },
  {
   "cell_type": "code",
   "execution_count": 2,
   "metadata": {},
   "outputs": [],
   "source": [
    "#Packages for NLP\n",
    "import pickle\n",
    "import numpy as np\n",
    "from tqdm import tqdm\n",
    "import pandas as pd\n",
    "import json\n",
    "import string\n",
    "import nltk\n",
    "from nltk.corpus import stopwords\n",
    "from  nltk import FreqDist\n",
    "from nltk import word_tokenize\n",
    "from nltk.stem import WordNetLemmatizer \n",
    "from sklearn.feature_extraction.text import CountVectorizer, TfidfVectorizer\n",
    "import itertools\n",
    "import seaborn as sns\n",
    "import matplotlib.pyplot as plt\n",
    "%matplotlib inline\n",
    "import spacy\n",
    "from textblob import TextBlob\n",
    "from textblob import Word\n",
    "from wordcloud import WordCloud, ImageColorGenerator\n",
    "import warnings\n",
    "warnings.filterwarnings('ignore')\n",
    "from sklearn.feature_extraction.text import CountVectorizer\n",
    "\n",
    "nlp = spacy.load(\"en_core_web_sm\")"
   ]
  },
  {
   "cell_type": "markdown",
   "metadata": {},
   "source": [
    "## Getting dataframes"
   ]
  },
  {
   "cell_type": "code",
   "execution_count": 3,
   "metadata": {},
   "outputs": [],
   "source": [
    "#Importing big dataframes and dataframes per year\n",
    "df = pd.read_pickle('../Data-Cleaning-EDA/cleaned_full_data.pkl')\n",
    "year_df = pd.read_pickle('../Data-Cleaning-EDA/cleaned_year_data.pkl')"
   ]
  },
  {
   "cell_type": "code",
   "execution_count": 4,
   "metadata": {
    "collapsed": true
   },
   "outputs": [
    {
     "name": "stdout",
     "output_type": "stream",
     "text": [
      "(27122, 22)\n"
     ]
    },
    {
     "data": {
      "text/html": [
       "<div>\n",
       "<style scoped>\n",
       "    .dataframe tbody tr th:only-of-type {\n",
       "        vertical-align: middle;\n",
       "    }\n",
       "\n",
       "    .dataframe tbody tr th {\n",
       "        vertical-align: top;\n",
       "    }\n",
       "\n",
       "    .dataframe thead th {\n",
       "        text-align: right;\n",
       "    }\n",
       "</style>\n",
       "<table border=\"1\" class=\"dataframe\">\n",
       "  <thead>\n",
       "    <tr style=\"text-align: right;\">\n",
       "      <th></th>\n",
       "      <th>Artist</th>\n",
       "      <th>Title</th>\n",
       "      <th>Album</th>\n",
       "      <th>duration_ms</th>\n",
       "      <th>popularity</th>\n",
       "      <th>num_markets</th>\n",
       "      <th>danceability</th>\n",
       "      <th>energy</th>\n",
       "      <th>loudness</th>\n",
       "      <th>speechiness</th>\n",
       "      <th>...</th>\n",
       "      <th>liveness</th>\n",
       "      <th>valence</th>\n",
       "      <th>tempo</th>\n",
       "      <th>time_signature</th>\n",
       "      <th>Year_release</th>\n",
       "      <th>Cleaned_lyrics</th>\n",
       "      <th>duration_mins</th>\n",
       "      <th>tokens</th>\n",
       "      <th>tokens_lemma</th>\n",
       "      <th>Count_words</th>\n",
       "    </tr>\n",
       "  </thead>\n",
       "  <tbody>\n",
       "    <tr>\n",
       "      <th>0</th>\n",
       "      <td>DJ Jazzy Jeff &amp; The Fresh Prince</td>\n",
       "      <td>Time to Chill</td>\n",
       "      <td>He’s The DJ, I’m The Rapper</td>\n",
       "      <td>266040</td>\n",
       "      <td>24</td>\n",
       "      <td>79</td>\n",
       "      <td>0.735</td>\n",
       "      <td>0.559</td>\n",
       "      <td>-16.289</td>\n",
       "      <td>0.161</td>\n",
       "      <td>...</td>\n",
       "      <td>0.0648</td>\n",
       "      <td>0.887</td>\n",
       "      <td>170.385</td>\n",
       "      <td>4</td>\n",
       "      <td>1988</td>\n",
       "      <td>for years i have been waitin and hesitatin to ...</td>\n",
       "      <td>4.43</td>\n",
       "      <td>[years, waitin, hesitatin, make, rap, record, ...</td>\n",
       "      <td>[years, waitin, hesitatin, make, rap, record, ...</td>\n",
       "      <td>234</td>\n",
       "    </tr>\n",
       "    <tr>\n",
       "      <th>1</th>\n",
       "      <td>Machine Gun Kelly</td>\n",
       "      <td>Candy</td>\n",
       "      <td>Hotel Diablo</td>\n",
       "      <td>156719</td>\n",
       "      <td>78</td>\n",
       "      <td>79</td>\n",
       "      <td>0.744</td>\n",
       "      <td>0.638</td>\n",
       "      <td>-4.860</td>\n",
       "      <td>0.049</td>\n",
       "      <td>...</td>\n",
       "      <td>0.1820</td>\n",
       "      <td>0.480</td>\n",
       "      <td>98.019</td>\n",
       "      <td>4</td>\n",
       "      <td>2019</td>\n",
       "      <td>haha big 14 you know what the fuck going on   ...</td>\n",
       "      <td>2.61</td>\n",
       "      <td>[haha, big, 14, know, Fword, going, ayy, know,...</td>\n",
       "      <td>[haha, big, 14, know, Fword, go, ayy, know, ke...</td>\n",
       "      <td>168</td>\n",
       "    </tr>\n",
       "    <tr>\n",
       "      <th>2</th>\n",
       "      <td>Big Pun</td>\n",
       "      <td>You Ain’t a Killer</td>\n",
       "      <td>Capital Punishment</td>\n",
       "      <td>254866</td>\n",
       "      <td>57</td>\n",
       "      <td>79</td>\n",
       "      <td>0.724</td>\n",
       "      <td>0.887</td>\n",
       "      <td>-7.076</td>\n",
       "      <td>0.393</td>\n",
       "      <td>...</td>\n",
       "      <td>0.1120</td>\n",
       "      <td>0.745</td>\n",
       "      <td>90.945</td>\n",
       "      <td>4</td>\n",
       "      <td>1998</td>\n",
       "      <td>the harsh realities of life have taken toll ev...</td>\n",
       "      <td>4.25</td>\n",
       "      <td>[harsh, realities, life, taken, toll, even, je...</td>\n",
       "      <td>[harsh, realities, life, take, toll, even, jes...</td>\n",
       "      <td>464</td>\n",
       "    </tr>\n",
       "    <tr>\n",
       "      <th>3</th>\n",
       "      <td>Das EFX</td>\n",
       "      <td>Buck-Buck</td>\n",
       "      <td>Hold It Down</td>\n",
       "      <td>193626</td>\n",
       "      <td>22</td>\n",
       "      <td>78</td>\n",
       "      <td>0.791</td>\n",
       "      <td>0.783</td>\n",
       "      <td>-10.470</td>\n",
       "      <td>0.416</td>\n",
       "      <td>...</td>\n",
       "      <td>0.2950</td>\n",
       "      <td>0.531</td>\n",
       "      <td>95.677</td>\n",
       "      <td>4</td>\n",
       "      <td>1995</td>\n",
       "      <td>skoob and dray giving shoutouts  chorus  well ...</td>\n",
       "      <td>3.23</td>\n",
       "      <td>[skoob, dray, giving, shoutouts, chorus, well,...</td>\n",
       "      <td>[skoob, dray, give, shoutouts, chorus, well, g...</td>\n",
       "      <td>327</td>\n",
       "    </tr>\n",
       "    <tr>\n",
       "      <th>4</th>\n",
       "      <td>Kool Moe Dee</td>\n",
       "      <td>To the Beat Y’all</td>\n",
       "      <td>Funke Funke Wisdom</td>\n",
       "      <td>201266</td>\n",
       "      <td>11</td>\n",
       "      <td>77</td>\n",
       "      <td>0.801</td>\n",
       "      <td>0.481</td>\n",
       "      <td>-13.903</td>\n",
       "      <td>0.232</td>\n",
       "      <td>...</td>\n",
       "      <td>0.3950</td>\n",
       "      <td>0.578</td>\n",
       "      <td>108.597</td>\n",
       "      <td>4</td>\n",
       "      <td>1991</td>\n",
       "      <td>to the beat  to the beat y'all to the beat y'a...</td>\n",
       "      <td>3.35</td>\n",
       "      <td>[beat, beat, y'all, beat, y'all, beat, y'all, ...</td>\n",
       "      <td>[beat, beat, y'all, beat, y'all, beat, y'all, ...</td>\n",
       "      <td>309</td>\n",
       "    </tr>\n",
       "  </tbody>\n",
       "</table>\n",
       "<p>5 rows × 22 columns</p>\n",
       "</div>"
      ],
      "text/plain": [
       "                             Artist               Title  \\\n",
       "0  DJ Jazzy Jeff & The Fresh Prince       Time to Chill   \n",
       "1                 Machine Gun Kelly               Candy   \n",
       "2                           Big Pun  You Ain’t a Killer   \n",
       "3                           Das EFX           Buck-Buck   \n",
       "4                      Kool Moe Dee   To the Beat Y’all   \n",
       "\n",
       "                         Album duration_ms popularity num_markets  \\\n",
       "0  He’s The DJ, I’m The Rapper      266040         24          79   \n",
       "1                 Hotel Diablo      156719         78          79   \n",
       "2           Capital Punishment      254866         57          79   \n",
       "3                 Hold It Down      193626         22          78   \n",
       "4           Funke Funke Wisdom      201266         11          77   \n",
       "\n",
       "   danceability  energy  loudness  speechiness  ...  liveness  valence  \\\n",
       "0         0.735   0.559   -16.289        0.161  ...    0.0648    0.887   \n",
       "1         0.744   0.638    -4.860        0.049  ...    0.1820    0.480   \n",
       "2         0.724   0.887    -7.076        0.393  ...    0.1120    0.745   \n",
       "3         0.791   0.783   -10.470        0.416  ...    0.2950    0.531   \n",
       "4         0.801   0.481   -13.903        0.232  ...    0.3950    0.578   \n",
       "\n",
       "     tempo  time_signature  Year_release  \\\n",
       "0  170.385               4          1988   \n",
       "1   98.019               4          2019   \n",
       "2   90.945               4          1998   \n",
       "3   95.677               4          1995   \n",
       "4  108.597               4          1991   \n",
       "\n",
       "                                      Cleaned_lyrics duration_mins  \\\n",
       "0  for years i have been waitin and hesitatin to ...          4.43   \n",
       "1  haha big 14 you know what the fuck going on   ...          2.61   \n",
       "2  the harsh realities of life have taken toll ev...          4.25   \n",
       "3  skoob and dray giving shoutouts  chorus  well ...          3.23   \n",
       "4  to the beat  to the beat y'all to the beat y'a...          3.35   \n",
       "\n",
       "                                              tokens  \\\n",
       "0  [years, waitin, hesitatin, make, rap, record, ...   \n",
       "1  [haha, big, 14, know, Fword, going, ayy, know,...   \n",
       "2  [harsh, realities, life, taken, toll, even, je...   \n",
       "3  [skoob, dray, giving, shoutouts, chorus, well,...   \n",
       "4  [beat, beat, y'all, beat, y'all, beat, y'all, ...   \n",
       "\n",
       "                                        tokens_lemma Count_words  \n",
       "0  [years, waitin, hesitatin, make, rap, record, ...         234  \n",
       "1  [haha, big, 14, know, Fword, go, ayy, know, ke...         168  \n",
       "2  [harsh, realities, life, take, toll, even, jes...         464  \n",
       "3  [skoob, dray, give, shoutouts, chorus, well, g...         327  \n",
       "4  [beat, beat, y'all, beat, y'all, beat, y'all, ...         309  \n",
       "\n",
       "[5 rows x 22 columns]"
      ]
     },
     "execution_count": 4,
     "metadata": {},
     "output_type": "execute_result"
    }
   ],
   "source": [
    "print(df.shape)\n",
    "df.head()"
   ]
  },
  {
   "cell_type": "code",
   "execution_count": null,
   "metadata": {},
   "outputs": [],
   "source": []
  },
  {
   "cell_type": "code",
   "execution_count": 5,
   "metadata": {},
   "outputs": [],
   "source": [
    "def get_top_n_words(ngram_start, ngram_end, corpus, n=10):\n",
    "    \"\"\"\n",
    "    List the top n words in a vocabulary according to occurrence in corpus.\n",
    "    \"\"\"\n",
    "    vec = CountVectorizer(ngram_range = (ngram_start, ngram_end))\n",
    "    bag_of_words = vec.fit_transform(corpus)\n",
    "    sum_words = bag_of_words.sum(axis=0) \n",
    "    words_freq = [(word, sum_words[0, idx]) for word, idx in vec.vocabulary_.items()]\n",
    "    words_freq =sorted(words_freq, key = lambda x: x[1], reverse=True)\n",
    "    return words_freq[:n]"
   ]
  },
  {
   "cell_type": "code",
   "execution_count": 17,
   "metadata": {},
   "outputs": [],
   "source": [
    "def graph_top_n_ngrams(corpus, n, ngram_start, ngram_end):\n",
    "    \"\"\"\n",
    "    Given corpus, number of top words you want, the range of \n",
    "    ngrams you're interested in (eg, just words: start = 1, end=1;\n",
    "    words & bigrams: start=1, end=2), this function will graph the\n",
    "    top words/ngrams in your corpus.\n",
    "    \"\"\"\n",
    "    # get top n words\n",
    "    top_words = get_top_n_words(ngram_start, ngram_end, corpus, n)\n",
    "    \n",
    "    # plot top n words\n",
    "    fig = plt.figure(figsize=(10,5))\n",
    "    ax = plt.barh([x[0] for x in top_words], [y[1] for y in top_words], \n",
    "            align='center', alpha=0.5,color='r')\n",
    "    plt.title('Word Frequency')\n",
    "    plt.xlabel('Frequency')\n",
    "    plt.ylabel('Word')\n",
    "\n"
   ]
  },
  {
   "cell_type": "code",
   "execution_count": 15,
   "metadata": {},
   "outputs": [],
   "source": [
    "corpus = df.tokens_lemma.apply(lambda x: ' '.join([word for word in x]))"
   ]
  },
  {
   "cell_type": "code",
   "execution_count": 18,
   "metadata": {},
   "outputs": [
    {
     "data": {
      "image/png": "[encoded data removed]",
      "text/plain": [
       "<Figure size 720x360 with 1 Axes>"
      ]
     },
     "metadata": {
      "needs_background": "light"
     },
     "output_type": "display_data"
    }
   ],
   "source": [
    "graph_top_n_ngrams(corpus, 25, 1, 1)"
   ]
  },
  {
   "cell_type": "code",
   "execution_count": 19,
   "metadata": {},
   "outputs": [
    {
     "data": {
      "image/png": "[encoded data removed]",
      "text/plain": [
       "<Figure size 720x360 with 1 Axes>"
      ]
     },
     "metadata": {
      "needs_background": "light"
     },
     "output_type": "display_data"
    }
   ],
   "source": [
    "graph_top_n_ngrams(corpus, 25, 2, 2)"
   ]
  },
  {
   "cell_type": "code",
   "execution_count": 20,
   "metadata": {},
   "outputs": [
    {
     "data": {
      "image/png": "[encoded data removed]",
      "text/plain": [
       "<Figure size 720x360 with 1 Axes>"
      ]
     },
     "metadata": {
      "needs_background": "light"
     },
     "output_type": "display_data"
    }
   ],
   "source": [
    "graph_top_n_ngrams(corpus, 20, 3, 3)"
   ]
  },
  {
   "cell_type": "code",
   "execution_count": null,
   "metadata": {},
   "outputs": [],
   "source": []
  }
 ],
 "metadata": {
  "kernelspec": {
   "display_name": "Python 3",
   "language": "python",
   "name": "python3"
  },
  "language_info": {
   "codemirror_mode": {
    "name": "ipython",
    "version": 3
   },
   "file_extension": ".py",
   "mimetype": "text/x-python",
   "name": "python",
   "nbconvert_exporter": "python",
   "pygments_lexer": "ipython3",
   "version": "3.7.3"
  },
  "toc": {
   "base_numbering": 1,
   "nav_menu": {},
   "number_sections": true,
   "sideBar": true,
   "skip_h1_title": false,
   "title_cell": "Table of Contents",
   "title_sidebar": "Contents",
   "toc_cell": false,
   "toc_position": {},
   "toc_section_display": true,
   "toc_window_display": false
  }
 },
 "nbformat": 4,
 "nbformat_minor": 2
}
