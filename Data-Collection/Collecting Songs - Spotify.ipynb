{
 "cells": [
  {
   "cell_type": "markdown",
   "metadata": {},
   "source": [
    "### Helpers"
   ]
  },
  {
   "cell_type": "code",
   "execution_count": 2,
   "metadata": {},
   "outputs": [],
   "source": [
    "import sys\n",
    "from spotipy.oauth2 import SpotifyClientCredentials\n",
    "import spotipy\n",
    "from Lyrics import credentials\n",
    "import pandas as pd\n",
    "import matplotlib as plt\n",
    "import json\n",
    "import pickle\n",
    "import tqdm"
   ]
  },
  {
   "cell_type": "code",
   "execution_count": 3,
   "metadata": {},
   "outputs": [],
   "source": [
    "#Using the spotify client to connect\n",
    "id_ = credentials.spotify_client_id\n",
    "secret = credentials.my_secret\n",
    "ccm = SpotifyClientCredentials(client_id=id_, client_secret=secret)\n",
    "sp = spotipy.Spotify(client_credentials_manager=ccm)"
   ]
  },
  {
   "cell_type": "markdown",
   "metadata": {},
   "source": [
    "## .- Functions"
   ]
  },
  {
   "cell_type": "code",
   "execution_count": 4,
   "metadata": {},
   "outputs": [],
   "source": [
    "#Use the artist and track to find a song id\n",
    "def get_track_id(artist_name,track_name):\n",
    "    results = sp.search(\"artist: \" + artist_name + \", track: \" + track_name)\n",
    "    return results['tracks']['items'][0]['uri']"
   ]
  },
  {
   "cell_type": "code",
   "execution_count": 5,
   "metadata": {},
   "outputs": [],
   "source": [
    "#Create a function to collect the tracks info for a given list of ids\n",
    "def get_track_objects(track_ids):\n",
    "    tracks_info = []\n",
    "    for track_id_list in track_ids:\n",
    "        info = sp.tracks(track_id_list)\n",
    "        tracks_info.append(info)\n",
    "    return tracks_info"
   ]
  },
  {
   "cell_type": "code",
   "execution_count": 6,
   "metadata": {},
   "outputs": [],
   "source": [
    "#Create a functin to collect the tracks features for a given list of ids\n",
    "def get_track_features(track_ids):\n",
    "    tracks_audio_features = []\n",
    "    for track_id_list in track_ids:\n",
    "        features = sp.audio_features(track_id_list)\n",
    "        tracks_audio_features.append(features)\n",
    "        name\n",
    "    return tracks_audio_features"
   ]
  },
  {
   "cell_type": "code",
   "execution_count": 7,
   "metadata": {},
   "outputs": [],
   "source": [
    "# Create a function to save the information collected\n",
    "def save_track_info(tracks_audio_features,tracks_info):\n",
    "\n",
    "    track_spotify_data = {\n",
    "        \"audio_features\": tracks_audio_features,\n",
    "        \"tracks\": tracks_info\n",
    "    }\n",
    "\n",
    "    return track_spotify_data"
   ]
  },
  {
   "cell_type": "code",
   "execution_count": null,
   "metadata": {},
   "outputs": [],
   "source": [
    " #use to save as json\n",
    "with open('placeholder.json', \"w\") as f:\n",
    "    json.dump(result, f)"
   ]
  },
  {
   "cell_type": "code",
   "execution_count": null,
   "metadata": {},
   "outputs": [],
   "source": []
  },
  {
   "cell_type": "code",
   "execution_count": null,
   "metadata": {},
   "outputs": [],
   "source": []
  },
  {
   "cell_type": "code",
   "execution_count": null,
   "metadata": {},
   "outputs": [],
   "source": []
  },
  {
   "cell_type": "code",
   "execution_count": null,
   "metadata": {},
   "outputs": [],
   "source": [
    "#Codes to transform the dictionary with all the info into dataframe\n",
    "df = pd.DataFrame(columns=[\n",
    "    'name',\n",
    "    'duration_ms',\n",
    "    'popularity',\n",
    "    'num_markets',\n",
    "    'album',\n",
    "    'disc_number',\n",
    "    'is_explicit',\n",
    "    'track_number',\n",
    "    'release_date',\n",
    "    'artist',\n",
    "    'danceability',\n",
    "    'energy',\n",
    "    'key',\n",
    "    'loudness',\n",
    "    'mode',\n",
    "    'speechiness',\n",
    "    'acousticness',\n",
    "    'instrumentalness',\n",
    "    'liveness',\n",
    "    'valence',\n",
    "    'tempo',\n",
    "    'time_signature',\n",
    "])\n",
    "for album_info, album_features in zip(\n",
    "        spotify_data.get('tracks'), \n",
    "        spotify_data.get('audio_features')\n",
    "        ):\n",
    "    for track_info, track_features in zip(\n",
    "        album_info.get('tracks'),\n",
    "        album_features\n",
    "        ):\n",
    "        y = {\n",
    "            'name': track_info['name'],\n",
    "            'duration_ms': track_info['duration_ms'],\n",
    "            'popularity': track_info['popularity'],\n",
    "            'num_markets': len(track_info['available_markets']),\n",
    "            'album': track_info['album']['name'],\n",
    "            'disc_number': track_info['disc_number'],\n",
    "            'is_explicit': track_info['explicit'],\n",
    "            'track_number': track_info['track_number'],\n",
    "            'release_date': track_info['album']['release_date'],\n",
    "            'artist': track_info['artists'][0]['name'],\n",
    "            'danceability': track_features['danceability'],\n",
    "            'energy': track_features['energy'],\n",
    "            'key': track_features['key'],\n",
    "            'loudness': track_features['loudness'],\n",
    "            'mode': track_features['mode'],\n",
    "            'speechiness': track_features['speechiness'],\n",
    "            'acousticness': track_features['acousticness'],\n",
    "            'instrumentalness': track_features['instrumentalness'],\n",
    "            'liveness': track_features['liveness'],\n",
    "            'valence': track_features['valence'],\n",
    "            'tempo': track_features['tempo'],\n",
    "            'time_signature': track_features['time_signature'],\n",
    "        }\n",
    "        df = df.append(y, ignore_index=True)"
   ]
  },
  {
   "cell_type": "markdown",
   "metadata": {
    "heading_collapsed": true
   },
   "source": [
    "## Testing"
   ]
  },
  {
   "cell_type": "markdown",
   "metadata": {
    "hidden": true
   },
   "source": [
    "Inspired by http://jdaytn.com/posts/download-blink-182-data/"
   ]
  },
  {
   "cell_type": "code",
   "execution_count": null,
   "metadata": {
    "hidden": true
   },
   "outputs": [],
   "source": [
    "#Create a function to get only the ID of an artist\n",
    "def get_artist_id(artist_name):\n",
    "    results = sp.search(\"artist:\"+artist_name)\n",
    "    artist_id = results['tracks']['items'][0]['artists'][0]['uri']\n",
    "    return artist_id.strip('spotify:artist:')"
   ]
  },
  {
   "cell_type": "code",
   "execution_count": null,
   "metadata": {
    "hidden": true
   },
   "outputs": [],
   "source": [
    "#testing above function\n",
    "#spotify:artist:7dGJo4pcD2V6oG8kP0tJRR\n",
    "eminem_id = get_artist_id('eminem')"
   ]
  },
  {
   "cell_type": "code",
   "execution_count": null,
   "metadata": {
    "hidden": true
   },
   "outputs": [],
   "source": [
    "print(eminem_id)"
   ]
  },
  {
   "cell_type": "code",
   "execution_count": null,
   "metadata": {
    "hidden": true
   },
   "outputs": [],
   "source": [
    "#Create a function to get all albums IDs related to one artist\n",
    "def get_albums_id(artist_id, limit=50):\n",
    "#     albums_ids = []\n",
    "    albums = sp.artist_albums(artist_id,country=\"US\", limit=limit)\n",
    "    album_ids = [album['uri'].strip('spotify:album:') for album in albums['items']]\n",
    "    return album_ids"
   ]
  },
  {
   "cell_type": "code",
   "execution_count": null,
   "metadata": {
    "hidden": true
   },
   "outputs": [],
   "source": [
    "#testing above function #3HNnxK7NgLXbDoxRZxNWiR 1st value\n",
    "eminem_album = get_albums_id(eminem_id)"
   ]
  },
  {
   "cell_type": "code",
   "execution_count": null,
   "metadata": {
    "hidden": true
   },
   "outputs": [],
   "source": [
    "eminem_album"
   ]
  },
  {
   "cell_type": "code",
   "execution_count": null,
   "metadata": {
    "hidden": true
   },
   "outputs": [],
   "source": [
    "albums = sp.artist_albums('7dGJo4pcD2V6oG8kP0tJRR',country=\"US\", limit=50)\n",
    "print(albums['next'])"
   ]
  },
  {
   "cell_type": "code",
   "execution_count": null,
   "metadata": {
    "hidden": true
   },
   "outputs": [],
   "source": [
    "album_ids = [album['uri'] for album in albums['items']]\n",
    "print(len(album_ids))\n",
    "print(album_ids[0])"
   ]
  },
  {
   "cell_type": "code",
   "execution_count": null,
   "metadata": {
    "hidden": true
   },
   "outputs": [],
   "source": [
    "all_tracks = []\n",
    "for album_id in album_ids:\n",
    "    tracks = sp.album_tracks(album_id, limit=50)\n",
    "    all_tracks.append(tracks)"
   ]
  },
  {
   "cell_type": "code",
   "execution_count": null,
   "metadata": {
    "hidden": true
   },
   "outputs": [],
   "source": [
    "all_tracks"
   ]
  },
  {
   "cell_type": "code",
   "execution_count": null,
   "metadata": {
    "hidden": true
   },
   "outputs": [],
   "source": [
    "track_ids = []\n",
    "for tracks in all_tracks:\n",
    "    album_tracks = []\n",
    "    for track in tracks.get('items'):\n",
    "        album_tracks.append(track.get('uri'))\n",
    "    track_ids.append(album_tracks)"
   ]
  },
  {
   "cell_type": "code",
   "execution_count": null,
   "metadata": {
    "hidden": true
   },
   "outputs": [],
   "source": [
    "track_ids[0]"
   ]
  },
  {
   "cell_type": "code",
   "execution_count": null,
   "metadata": {
    "hidden": true
   },
   "outputs": [],
   "source": [
    "len(track_ids)"
   ]
  },
  {
   "cell_type": "code",
   "execution_count": null,
   "metadata": {
    "hidden": true
   },
   "outputs": [],
   "source": [
    "track_objects = []\n",
    "for track_id_list in track_ids:\n",
    "    tracks = sp.tracks(track_id_list)\n",
    "    track_objects.append(tracks)"
   ]
  },
  {
   "cell_type": "code",
   "execution_count": null,
   "metadata": {
    "hidden": true
   },
   "outputs": [],
   "source": [
    "len(track_objects)"
   ]
  },
  {
   "cell_type": "code",
   "execution_count": null,
   "metadata": {
    "hidden": true
   },
   "outputs": [],
   "source": [
    "audio_feature_objects = []\n",
    "for track_id_list in track_ids:\n",
    "    features = sp.audio_features(track_id_list)\n",
    "    audio_feature_objects.append(features)"
   ]
  },
  {
   "cell_type": "code",
   "execution_count": null,
   "metadata": {
    "hidden": true
   },
   "outputs": [],
   "source": [
    "len(audio_feature_objects)"
   ]
  },
  {
   "cell_type": "code",
   "execution_count": null,
   "metadata": {
    "hidden": true
   },
   "outputs": [],
   "source": [
    "for tracks, album in zip(all_tracks, albums.get('items')):\n",
    "    print(\n",
    "        len(tracks.get('items')),\n",
    "        \"\\t\",\n",
    "        album.get('name')\n",
    "    )"
   ]
  },
  {
   "cell_type": "code",
   "execution_count": null,
   "metadata": {
    "hidden": true
   },
   "outputs": [],
   "source": []
  },
  {
   "cell_type": "code",
   "execution_count": null,
   "metadata": {
    "hidden": true
   },
   "outputs": [],
   "source": [
    "# all_tracks[0].get('items')[0].get('uri')"
   ]
  },
  {
   "cell_type": "code",
   "execution_count": null,
   "metadata": {
    "hidden": true
   },
   "outputs": [],
   "source": []
  },
  {
   "cell_type": "code",
   "execution_count": null,
   "metadata": {
    "hidden": true
   },
   "outputs": [],
   "source": [
    "results"
   ]
  },
  {
   "cell_type": "code",
   "execution_count": null,
   "metadata": {
    "hidden": true
   },
   "outputs": [],
   "source": [
    "results['tracks']['items'][0]['uri']"
   ]
  },
  {
   "cell_type": "code",
   "execution_count": null,
   "metadata": {
    "hidden": true
   },
   "outputs": [],
   "source": [
    "results['tracks']['items'][0]['artists'][0]['uri']"
   ]
  },
  {
   "cell_type": "code",
   "execution_count": null,
   "metadata": {
    "hidden": true
   },
   "outputs": [],
   "source": [
    "print(df.shape)\n",
    "df.head(50)"
   ]
  },
  {
   "cell_type": "code",
   "execution_count": null,
   "metadata": {
    "hidden": true
   },
   "outputs": [],
   "source": [
    "df.speechiness.hist()"
   ]
  },
  {
   "cell_type": "markdown",
   "metadata": {},
   "source": [
    "## Testing Functions"
   ]
  },
  {
   "cell_type": "code",
   "execution_count": 8,
   "metadata": {},
   "outputs": [],
   "source": [
    "songs = [['Mobb Deep','Party Over'], ['eminem','the ringer']]"
   ]
  },
  {
   "cell_type": "code",
   "execution_count": 9,
   "metadata": {},
   "outputs": [],
   "source": [
    "test_ids = []\n",
    "for song in songs:\n",
    "        test_ids.append([get_track_id(song[0],song[1]),song[0],song[1]])"
   ]
  },
  {
   "cell_type": "code",
   "execution_count": 10,
   "metadata": {},
   "outputs": [
    {
     "data": {
      "text/plain": [
       "[['spotify:track:4cC7b7V5bSP7NHTAhr5efn', 'Mobb Deep', 'Party Over'],\n",
       " ['spotify:track:2jt2WxXMCD4zjACthkJQVE', 'eminem', 'the ringer']]"
      ]
     },
     "execution_count": 10,
     "metadata": {},
     "output_type": "execute_result"
    }
   ],
   "source": [
    "test_ids"
   ]
  },
  {
   "cell_type": "code",
   "execution_count": 11,
   "metadata": {},
   "outputs": [
    {
     "name": "stdout",
     "output_type": "stream",
     "text": [
      "spotify:track:4cC7b7V5bSP7NHTAhr5efn\n",
      "spotify:track:2jt2WxXMCD4zjACthkJQVE\n"
     ]
    }
   ],
   "source": [
    "test_objects = []\n",
    "for test_id_list in test_ids:\n",
    "    print(test_id_list[0])\n",
    "    tracks = sp.tracks([test_id_list[0]])\n",
    "    test_objects.append(tracks)"
   ]
  },
  {
   "cell_type": "code",
   "execution_count": 12,
   "metadata": {
    "collapsed": true
   },
   "outputs": [
    {
     "data": {
      "text/plain": [
       "[{'tracks': [{'album': {'album_type': 'album',\n",
       "     'artists': [{'external_urls': {'spotify': 'https://open.spotify.com/artist/6O2zJ0tId7g07yzHtX0yap'},\n",
       "       'href': 'https://api.spotify.com/v1/artists/6O2zJ0tId7g07yzHtX0yap',\n",
       "       'id': '6O2zJ0tId7g07yzHtX0yap',\n",
       "       'name': 'Mobb Deep',\n",
       "       'type': 'artist',\n",
       "       'uri': 'spotify:artist:6O2zJ0tId7g07yzHtX0yap'}],\n",
       "     'available_markets': ['AD',\n",
       "      'AE',\n",
       "      'AR',\n",
       "      'AT',\n",
       "      'AU',\n",
       "      'BE',\n",
       "      'BG',\n",
       "      'BH',\n",
       "      'BO',\n",
       "      'BR',\n",
       "      'CA',\n",
       "      'CH',\n",
       "      'CL',\n",
       "      'CO',\n",
       "      'CR',\n",
       "      'CY',\n",
       "      'CZ',\n",
       "      'DE',\n",
       "      'DK',\n",
       "      'DO',\n",
       "      'DZ',\n",
       "      'EC',\n",
       "      'EE',\n",
       "      'EG',\n",
       "      'ES',\n",
       "      'FI',\n",
       "      'FR',\n",
       "      'GB',\n",
       "      'GR',\n",
       "      'GT',\n",
       "      'HK',\n",
       "      'HN',\n",
       "      'HU',\n",
       "      'ID',\n",
       "      'IE',\n",
       "      'IL',\n",
       "      'IN',\n",
       "      'IS',\n",
       "      'IT',\n",
       "      'JO',\n",
       "      'JP',\n",
       "      'KW',\n",
       "      'LB',\n",
       "      'LI',\n",
       "      'LT',\n",
       "      'LU',\n",
       "      'LV',\n",
       "      'MA',\n",
       "      'MC',\n",
       "      'MT',\n",
       "      'MX',\n",
       "      'MY',\n",
       "      'NI',\n",
       "      'NL',\n",
       "      'NO',\n",
       "      'NZ',\n",
       "      'OM',\n",
       "      'PA',\n",
       "      'PE',\n",
       "      'PH',\n",
       "      'PL',\n",
       "      'PS',\n",
       "      'PT',\n",
       "      'PY',\n",
       "      'QA',\n",
       "      'RO',\n",
       "      'SA',\n",
       "      'SE',\n",
       "      'SG',\n",
       "      'SK',\n",
       "      'SV',\n",
       "      'TH',\n",
       "      'TN',\n",
       "      'TR',\n",
       "      'TW',\n",
       "      'US',\n",
       "      'UY',\n",
       "      'VN',\n",
       "      'ZA'],\n",
       "     'external_urls': {'spotify': 'https://open.spotify.com/album/1cCAb1vN8uUsdfEylVmTLs'},\n",
       "     'href': 'https://api.spotify.com/v1/albums/1cCAb1vN8uUsdfEylVmTLs',\n",
       "     'id': '1cCAb1vN8uUsdfEylVmTLs',\n",
       "     'images': [{'height': 640,\n",
       "       'url': 'https://i.scdn.co/image/ab67616d0000b27368c92f2112860896f905c6c9',\n",
       "       'width': 640},\n",
       "      {'height': 300,\n",
       "       'url': 'https://i.scdn.co/image/ab67616d00001e0268c92f2112860896f905c6c9',\n",
       "       'width': 300},\n",
       "      {'height': 64,\n",
       "       'url': 'https://i.scdn.co/image/ab67616d0000485168c92f2112860896f905c6c9',\n",
       "       'width': 64}],\n",
       "     'name': 'The Infamous',\n",
       "     'release_date': '1995-04-25',\n",
       "     'release_date_precision': 'day',\n",
       "     'total_tracks': 16,\n",
       "     'type': 'album',\n",
       "     'uri': 'spotify:album:1cCAb1vN8uUsdfEylVmTLs'},\n",
       "    'artists': [{'external_urls': {'spotify': 'https://open.spotify.com/artist/6O2zJ0tId7g07yzHtX0yap'},\n",
       "      'href': 'https://api.spotify.com/v1/artists/6O2zJ0tId7g07yzHtX0yap',\n",
       "      'id': '6O2zJ0tId7g07yzHtX0yap',\n",
       "      'name': 'Mobb Deep',\n",
       "      'type': 'artist',\n",
       "      'uri': 'spotify:artist:6O2zJ0tId7g07yzHtX0yap'},\n",
       "     {'external_urls': {'spotify': 'https://open.spotify.com/artist/4bwxkkA3AAwyymVwXjxz0F'},\n",
       "      'href': 'https://api.spotify.com/v1/artists/4bwxkkA3AAwyymVwXjxz0F',\n",
       "      'id': '4bwxkkA3AAwyymVwXjxz0F',\n",
       "      'name': 'Big Noyd',\n",
       "      'type': 'artist',\n",
       "      'uri': 'spotify:artist:4bwxkkA3AAwyymVwXjxz0F'}],\n",
       "    'available_markets': ['AD',\n",
       "     'AE',\n",
       "     'AR',\n",
       "     'AT',\n",
       "     'AU',\n",
       "     'BE',\n",
       "     'BG',\n",
       "     'BH',\n",
       "     'BO',\n",
       "     'BR',\n",
       "     'CA',\n",
       "     'CH',\n",
       "     'CL',\n",
       "     'CO',\n",
       "     'CR',\n",
       "     'CY',\n",
       "     'CZ',\n",
       "     'DE',\n",
       "     'DK',\n",
       "     'DO',\n",
       "     'DZ',\n",
       "     'EC',\n",
       "     'EE',\n",
       "     'EG',\n",
       "     'ES',\n",
       "     'FI',\n",
       "     'FR',\n",
       "     'GB',\n",
       "     'GR',\n",
       "     'GT',\n",
       "     'HK',\n",
       "     'HN',\n",
       "     'HU',\n",
       "     'ID',\n",
       "     'IE',\n",
       "     'IL',\n",
       "     'IN',\n",
       "     'IS',\n",
       "     'IT',\n",
       "     'JO',\n",
       "     'JP',\n",
       "     'KW',\n",
       "     'LB',\n",
       "     'LI',\n",
       "     'LT',\n",
       "     'LU',\n",
       "     'LV',\n",
       "     'MA',\n",
       "     'MC',\n",
       "     'MT',\n",
       "     'MX',\n",
       "     'MY',\n",
       "     'NI',\n",
       "     'NL',\n",
       "     'NO',\n",
       "     'NZ',\n",
       "     'OM',\n",
       "     'PA',\n",
       "     'PE',\n",
       "     'PH',\n",
       "     'PL',\n",
       "     'PS',\n",
       "     'PT',\n",
       "     'PY',\n",
       "     'QA',\n",
       "     'RO',\n",
       "     'SA',\n",
       "     'SE',\n",
       "     'SG',\n",
       "     'SK',\n",
       "     'SV',\n",
       "     'TH',\n",
       "     'TN',\n",
       "     'TR',\n",
       "     'TW',\n",
       "     'US',\n",
       "     'UY',\n",
       "     'VN',\n",
       "     'ZA'],\n",
       "    'disc_number': 1,\n",
       "    'duration_ms': 341160,\n",
       "    'explicit': True,\n",
       "    'external_ids': {'isrc': 'USRC19501722'},\n",
       "    'external_urls': {'spotify': 'https://open.spotify.com/track/4cC7b7V5bSP7NHTAhr5efn'},\n",
       "    'href': 'https://api.spotify.com/v1/tracks/4cC7b7V5bSP7NHTAhr5efn',\n",
       "    'id': '4cC7b7V5bSP7NHTAhr5efn',\n",
       "    'is_local': False,\n",
       "    'name': 'Party Over (feat. Big Noyd)',\n",
       "    'popularity': 44,\n",
       "    'preview_url': 'https://p.scdn.co/mp3-preview/8e5c0bff5c59959f045d687fb5ba2141dc20b43c?cid=dfec06d100834fdeb40893f40e2361c2',\n",
       "    'track_number': 16,\n",
       "    'type': 'track',\n",
       "    'uri': 'spotify:track:4cC7b7V5bSP7NHTAhr5efn'}]},\n",
       " {'tracks': [{'album': {'album_type': 'album',\n",
       "     'artists': [{'external_urls': {'spotify': 'https://open.spotify.com/artist/7dGJo4pcD2V6oG8kP0tJRR'},\n",
       "       'href': 'https://api.spotify.com/v1/artists/7dGJo4pcD2V6oG8kP0tJRR',\n",
       "       'id': '7dGJo4pcD2V6oG8kP0tJRR',\n",
       "       'name': 'Eminem',\n",
       "       'type': 'artist',\n",
       "       'uri': 'spotify:artist:7dGJo4pcD2V6oG8kP0tJRR'}],\n",
       "     'available_markets': ['AD',\n",
       "      'AE',\n",
       "      'AR',\n",
       "      'AT',\n",
       "      'AU',\n",
       "      'BE',\n",
       "      'BG',\n",
       "      'BH',\n",
       "      'BO',\n",
       "      'BR',\n",
       "      'CA',\n",
       "      'CH',\n",
       "      'CL',\n",
       "      'CO',\n",
       "      'CR',\n",
       "      'CY',\n",
       "      'CZ',\n",
       "      'DE',\n",
       "      'DK',\n",
       "      'DO',\n",
       "      'DZ',\n",
       "      'EC',\n",
       "      'EE',\n",
       "      'EG',\n",
       "      'ES',\n",
       "      'FI',\n",
       "      'FR',\n",
       "      'GB',\n",
       "      'GR',\n",
       "      'GT',\n",
       "      'HK',\n",
       "      'HN',\n",
       "      'HU',\n",
       "      'ID',\n",
       "      'IE',\n",
       "      'IL',\n",
       "      'IN',\n",
       "      'IS',\n",
       "      'IT',\n",
       "      'JO',\n",
       "      'JP',\n",
       "      'KW',\n",
       "      'LB',\n",
       "      'LI',\n",
       "      'LT',\n",
       "      'LU',\n",
       "      'LV',\n",
       "      'MA',\n",
       "      'MC',\n",
       "      'MT',\n",
       "      'MX',\n",
       "      'MY',\n",
       "      'NI',\n",
       "      'NL',\n",
       "      'NO',\n",
       "      'NZ',\n",
       "      'OM',\n",
       "      'PA',\n",
       "      'PE',\n",
       "      'PH',\n",
       "      'PL',\n",
       "      'PS',\n",
       "      'PT',\n",
       "      'PY',\n",
       "      'QA',\n",
       "      'RO',\n",
       "      'SA',\n",
       "      'SE',\n",
       "      'SG',\n",
       "      'SK',\n",
       "      'SV',\n",
       "      'TH',\n",
       "      'TN',\n",
       "      'TR',\n",
       "      'TW',\n",
       "      'US',\n",
       "      'UY',\n",
       "      'VN',\n",
       "      'ZA'],\n",
       "     'external_urls': {'spotify': 'https://open.spotify.com/album/3HNnxK7NgLXbDoxRZxNWiR'},\n",
       "     'href': 'https://api.spotify.com/v1/albums/3HNnxK7NgLXbDoxRZxNWiR',\n",
       "     'id': '3HNnxK7NgLXbDoxRZxNWiR',\n",
       "     'images': [{'height': 640,\n",
       "       'url': 'https://i.scdn.co/image/1f920bcfbf6707bc36b4df0b0d8d27acdf369991',\n",
       "       'width': 640},\n",
       "      {'height': 300,\n",
       "       'url': 'https://i.scdn.co/image/b79d4f9eff8433cc45b79bc6765abf3d4a2d93eb',\n",
       "       'width': 300},\n",
       "      {'height': 64,\n",
       "       'url': 'https://i.scdn.co/image/fb9889df22f77e8e766ce88a43b81866e4ef0ea7',\n",
       "       'width': 64}],\n",
       "     'name': 'Kamikaze',\n",
       "     'release_date': '2018-08-31',\n",
       "     'release_date_precision': 'day',\n",
       "     'total_tracks': 13,\n",
       "     'type': 'album',\n",
       "     'uri': 'spotify:album:3HNnxK7NgLXbDoxRZxNWiR'},\n",
       "    'artists': [{'external_urls': {'spotify': 'https://open.spotify.com/artist/7dGJo4pcD2V6oG8kP0tJRR'},\n",
       "      'href': 'https://api.spotify.com/v1/artists/7dGJo4pcD2V6oG8kP0tJRR',\n",
       "      'id': '7dGJo4pcD2V6oG8kP0tJRR',\n",
       "      'name': 'Eminem',\n",
       "      'type': 'artist',\n",
       "      'uri': 'spotify:artist:7dGJo4pcD2V6oG8kP0tJRR'}],\n",
       "    'available_markets': ['AD',\n",
       "     'AE',\n",
       "     'AR',\n",
       "     'AT',\n",
       "     'AU',\n",
       "     'BE',\n",
       "     'BG',\n",
       "     'BH',\n",
       "     'BO',\n",
       "     'BR',\n",
       "     'CA',\n",
       "     'CH',\n",
       "     'CL',\n",
       "     'CO',\n",
       "     'CR',\n",
       "     'CY',\n",
       "     'CZ',\n",
       "     'DE',\n",
       "     'DK',\n",
       "     'DO',\n",
       "     'DZ',\n",
       "     'EC',\n",
       "     'EE',\n",
       "     'EG',\n",
       "     'ES',\n",
       "     'FI',\n",
       "     'FR',\n",
       "     'GB',\n",
       "     'GR',\n",
       "     'GT',\n",
       "     'HK',\n",
       "     'HN',\n",
       "     'HU',\n",
       "     'ID',\n",
       "     'IE',\n",
       "     'IL',\n",
       "     'IN',\n",
       "     'IS',\n",
       "     'IT',\n",
       "     'JO',\n",
       "     'JP',\n",
       "     'KW',\n",
       "     'LB',\n",
       "     'LI',\n",
       "     'LT',\n",
       "     'LU',\n",
       "     'LV',\n",
       "     'MA',\n",
       "     'MC',\n",
       "     'MT',\n",
       "     'MX',\n",
       "     'MY',\n",
       "     'NI',\n",
       "     'NL',\n",
       "     'NO',\n",
       "     'NZ',\n",
       "     'OM',\n",
       "     'PA',\n",
       "     'PE',\n",
       "     'PH',\n",
       "     'PL',\n",
       "     'PS',\n",
       "     'PT',\n",
       "     'PY',\n",
       "     'QA',\n",
       "     'RO',\n",
       "     'SA',\n",
       "     'SE',\n",
       "     'SG',\n",
       "     'SK',\n",
       "     'SV',\n",
       "     'TH',\n",
       "     'TN',\n",
       "     'TR',\n",
       "     'TW',\n",
       "     'US',\n",
       "     'UY',\n",
       "     'VN',\n",
       "     'ZA'],\n",
       "    'disc_number': 1,\n",
       "    'duration_ms': 337941,\n",
       "    'explicit': True,\n",
       "    'external_ids': {'isrc': 'USUM71813329'},\n",
       "    'external_urls': {'spotify': 'https://open.spotify.com/track/2jt2WxXMCD4zjACthkJQVE'},\n",
       "    'href': 'https://api.spotify.com/v1/tracks/2jt2WxXMCD4zjACthkJQVE',\n",
       "    'id': '2jt2WxXMCD4zjACthkJQVE',\n",
       "    'is_local': False,\n",
       "    'name': 'The Ringer',\n",
       "    'popularity': 76,\n",
       "    'preview_url': None,\n",
       "    'track_number': 1,\n",
       "    'type': 'track',\n",
       "    'uri': 'spotify:track:2jt2WxXMCD4zjACthkJQVE'}]}]"
      ]
     },
     "execution_count": 12,
     "metadata": {},
     "output_type": "execute_result"
    }
   ],
   "source": [
    "test_objects"
   ]
  },
  {
   "cell_type": "code",
   "execution_count": null,
   "metadata": {},
   "outputs": [],
   "source": [
    "len(test_objects)"
   ]
  },
  {
   "cell_type": "code",
   "execution_count": null,
   "metadata": {},
   "outputs": [],
   "source": [
    "test_audio_feature_objects = []\n",
    "for test_id_list in test_ids:\n",
    "    features = sp.audio_features(test_id_list)\n",
    "    test_audio_feature_objects.append(features)"
   ]
  },
  {
   "cell_type": "code",
   "execution_count": null,
   "metadata": {},
   "outputs": [],
   "source": [
    "len(test_audio_feature_objects)"
   ]
  },
  {
   "cell_type": "code",
   "execution_count": null,
   "metadata": {},
   "outputs": [],
   "source": [
    "test_spotify_data = {\n",
    "    \"audio_features\": test_audio_feature_objects,\n",
    "    \"tracks\": test_objects\n",
    "}"
   ]
  },
  {
   "cell_type": "code",
   "execution_count": null,
   "metadata": {},
   "outputs": [],
   "source": [
    "spotify_data=test_spotify_data"
   ]
  },
  {
   "cell_type": "code",
   "execution_count": null,
   "metadata": {},
   "outputs": [],
   "source": [
    "spotify_data.get('track')[0].get('tracks')"
   ]
  },
  {
   "cell_type": "code",
   "execution_count": null,
   "metadata": {},
   "outputs": [],
   "source": [
    "#Reformatting from a dictionary to a table\n",
    "df = pd.DataFrame(columns=[\n",
    "    'name',\n",
    "    'duration_ms',\n",
    "    'popularity',\n",
    "    'num_markets',\n",
    "    'album',\n",
    "    'disc_number',\n",
    "    'is_explicit',\n",
    "    'track_number',\n",
    "    'release_date',\n",
    "    'artist',\n",
    "    'danceability',\n",
    "    'energy',\n",
    "    'key',\n",
    "    'loudness',\n",
    "    'mode',\n",
    "    'speechiness',\n",
    "    'acousticness',\n",
    "    'instrumentalness',\n",
    "    'liveness',\n",
    "    'valence',\n",
    "    'tempo',\n",
    "    'time_signature',\n",
    "])\n",
    "for album_info, album_features in zip(\n",
    "        spotify_data.get('tracks'), \n",
    "        spotify_data.get('audio_features')\n",
    "        ):\n",
    "    for track_info, track_features in zip(\n",
    "        album_info.get('tracks'),\n",
    "        album_features\n",
    "        ):\n",
    "        y = {\n",
    "            'name': track_info['name'],\n",
    "            'duration_ms': track_info['duration_ms'],\n",
    "            'popularity': track_info['popularity'],\n",
    "            'num_markets': len(track_info['available_markets']),\n",
    "            'album': track_info['album']['name'],\n",
    "            'disc_number': track_info['disc_number'],\n",
    "            'is_explicit': track_info['explicit'],\n",
    "            'track_number': track_info['track_number'],\n",
    "            'release_date': track_info['album']['release_date'],\n",
    "            'artist': track_info['artists'][0]['name'],\n",
    "            'danceability': track_features['danceability'],\n",
    "            'energy': track_features['energy'],\n",
    "            'key': track_features['key'],\n",
    "            'loudness': track_features['loudness'],\n",
    "            'mode': track_features['mode'],\n",
    "            'speechiness': track_features['speechiness'],\n",
    "            'acousticness': track_features['acousticness'],\n",
    "            'instrumentalness': track_features['instrumentalness'],\n",
    "            'liveness': track_features['liveness'],\n",
    "            'valence': track_features['valence'],\n",
    "            'tempo': track_features['tempo'],\n",
    "            'time_signature': track_features['time_signature'],\n",
    "        }\n",
    "        df = df.append(y, ignore_index=True)"
   ]
  },
  {
   "cell_type": "markdown",
   "metadata": {},
   "source": [
    "## Getting songs"
   ]
  },
  {
   "cell_type": "markdown",
   "metadata": {},
   "source": [
    "### Preparing the combo artist-song for spotify search"
   ]
  },
  {
   "cell_type": "code",
   "execution_count": 13,
   "metadata": {},
   "outputs": [],
   "source": [
    "#Load in a Dataframe all lyrics and artist names\n",
    "tracks_df = pd.read_pickle('../Data-Cleaning/tracks_df.pkl')"
   ]
  },
  {
   "cell_type": "code",
   "execution_count": 14,
   "metadata": {
    "scrolled": false
   },
   "outputs": [
    {
     "data": {
      "text/html": [
       "<div>\n",
       "<style scoped>\n",
       "    .dataframe tbody tr th:only-of-type {\n",
       "        vertical-align: middle;\n",
       "    }\n",
       "\n",
       "    .dataframe tbody tr th {\n",
       "        vertical-align: top;\n",
       "    }\n",
       "\n",
       "    .dataframe thead th {\n",
       "        text-align: right;\n",
       "    }\n",
       "</style>\n",
       "<table border=\"1\" class=\"dataframe\">\n",
       "  <thead>\n",
       "    <tr style=\"text-align: right;\">\n",
       "      <th></th>\n",
       "      <th>Artist</th>\n",
       "      <th>Title</th>\n",
       "      <th>Album</th>\n",
       "      <th>Year</th>\n",
       "      <th>Lyrics</th>\n",
       "    </tr>\n",
       "  </thead>\n",
       "  <tbody>\n",
       "    <tr>\n",
       "      <th>0</th>\n",
       "      <td>Frank Ocean</td>\n",
       "      <td>Trouble</td>\n",
       "      <td>None</td>\n",
       "      <td>2012-01-01</td>\n",
       "      <td>Go, go, go\\n\\n[Verse 1]\\nForbidden from the be...</td>\n",
       "    </tr>\n",
       "    <tr>\n",
       "      <th>1</th>\n",
       "      <td>DJ Jazzy Jeff &amp; The Fresh Prince</td>\n",
       "      <td>Time to Chill</td>\n",
       "      <td>He’s The DJ, I’m The Rapper</td>\n",
       "      <td>1988-03-29</td>\n",
       "      <td>[Fresh Prince]\\nFor years I have been waitin a...</td>\n",
       "    </tr>\n",
       "    <tr>\n",
       "      <th>2</th>\n",
       "      <td>Eminem</td>\n",
       "      <td>Walk On Water/Stan/Love The Way You Lie (SNL M...</td>\n",
       "      <td>None</td>\n",
       "      <td>2017-11-18</td>\n",
       "      <td>Walk On Water\\n\\n[Chorus: Skylar Grey]\\nI walk...</td>\n",
       "    </tr>\n",
       "    <tr>\n",
       "      <th>3</th>\n",
       "      <td>Machine Gun Kelly</td>\n",
       "      <td>Candy</td>\n",
       "      <td>Hotel Diablo</td>\n",
       "      <td>2019-07-05</td>\n",
       "      <td>[Intro: Trippie Redd]\\nHaha, Big 14, you know ...</td>\n",
       "    </tr>\n",
       "    <tr>\n",
       "      <th>4</th>\n",
       "      <td>Big Pun</td>\n",
       "      <td>You Ain’t a Killer</td>\n",
       "      <td>Capital Punishment</td>\n",
       "      <td>1998-04-28</td>\n",
       "      <td>[Verse 1]\\nThe harsh realities of life have ta...</td>\n",
       "    </tr>\n",
       "  </tbody>\n",
       "</table>\n",
       "</div>"
      ],
      "text/plain": [
       "                             Artist  \\\n",
       "0                       Frank Ocean   \n",
       "1  DJ Jazzy Jeff & The Fresh Prince   \n",
       "2                            Eminem   \n",
       "3                 Machine Gun Kelly   \n",
       "4                           Big Pun   \n",
       "\n",
       "                                               Title  \\\n",
       "0                                            Trouble   \n",
       "1                                      Time to Chill   \n",
       "2  Walk On Water/Stan/Love The Way You Lie (SNL M...   \n",
       "3                                              Candy   \n",
       "4                                 You Ain’t a Killer   \n",
       "\n",
       "                         Album        Year  \\\n",
       "0                         None  2012-01-01   \n",
       "1  He’s The DJ, I’m The Rapper  1988-03-29   \n",
       "2                         None  2017-11-18   \n",
       "3                 Hotel Diablo  2019-07-05   \n",
       "4           Capital Punishment  1998-04-28   \n",
       "\n",
       "                                              Lyrics  \n",
       "0  Go, go, go\\n\\n[Verse 1]\\nForbidden from the be...  \n",
       "1  [Fresh Prince]\\nFor years I have been waitin a...  \n",
       "2  Walk On Water\\n\\n[Chorus: Skylar Grey]\\nI walk...  \n",
       "3  [Intro: Trippie Redd]\\nHaha, Big 14, you know ...  \n",
       "4  [Verse 1]\\nThe harsh realities of life have ta...  "
      ]
     },
     "execution_count": 14,
     "metadata": {},
     "output_type": "execute_result"
    }
   ],
   "source": [
    "#Have a look at the data\n",
    "tracks_df.head()"
   ]
  },
  {
   "cell_type": "code",
   "execution_count": 15,
   "metadata": {
    "scrolled": true
   },
   "outputs": [
    {
     "data": {
      "text/plain": [
       "'Problem'"
      ]
     },
     "execution_count": 15,
     "metadata": {},
     "output_type": "execute_result"
    }
   ],
   "source": [
    "tracks_df.Title[55009]"
   ]
  },
  {
   "cell_type": "code",
   "execution_count": 16,
   "metadata": {
    "scrolled": true
   },
   "outputs": [
    {
     "data": {
      "text/plain": [
       "Artist      284\n",
       "Title     46063\n",
       "Album      4731\n",
       "Year       4872\n",
       "Lyrics    53244\n",
       "dtype: int64"
      ]
     },
     "execution_count": 16,
     "metadata": {},
     "output_type": "execute_result"
    }
   ],
   "source": [
    "tracks_df.nunique()"
   ]
  },
  {
   "cell_type": "code",
   "execution_count": 17,
   "metadata": {},
   "outputs": [
    {
     "data": {
      "text/plain": [
       "(55010, 5)"
      ]
     },
     "execution_count": 17,
     "metadata": {},
     "output_type": "execute_result"
    }
   ],
   "source": [
    "tracks_df.shape"
   ]
  },
  {
   "cell_type": "code",
   "execution_count": 18,
   "metadata": {},
   "outputs": [
    {
     "data": {
      "text/plain": [
       "Artist        0\n",
       "Title         0\n",
       "Album     13716\n",
       "Year      18269\n",
       "Lyrics        3\n",
       "dtype: int64"
      ]
     },
     "execution_count": 18,
     "metadata": {},
     "output_type": "execute_result"
    }
   ],
   "source": [
    "tracks_df.isna().sum()"
   ]
  },
  {
   "cell_type": "code",
   "execution_count": 19,
   "metadata": {},
   "outputs": [],
   "source": [
    "# Create a list with name of artist and title for spotify search\n",
    "#list_batchs = []\n",
    "list_batchs = [[tracks_df.Artist[x],tracks_df.Title[x]] for x in range(len(tracks_df))]"
   ]
  },
  {
   "cell_type": "code",
   "execution_count": 20,
   "metadata": {},
   "outputs": [
    {
     "data": {
      "text/plain": [
       "55010"
      ]
     },
     "execution_count": 20,
     "metadata": {},
     "output_type": "execute_result"
    }
   ],
   "source": [
    "#Checking consistency\n",
    "len(list_batchs)"
   ]
  },
  {
   "cell_type": "code",
   "execution_count": 21,
   "metadata": {},
   "outputs": [
    {
     "data": {
      "text/plain": [
       "['Frank Ocean', 'Trouble']"
      ]
     },
     "execution_count": 21,
     "metadata": {},
     "output_type": "execute_result"
    }
   ],
   "source": [
    "list_batchs[0]"
   ]
  },
  {
   "cell_type": "code",
   "execution_count": 23,
   "metadata": {},
   "outputs": [
    {
     "data": {
      "text/html": [
       "<div>\n",
       "<style scoped>\n",
       "    .dataframe tbody tr th:only-of-type {\n",
       "        vertical-align: middle;\n",
       "    }\n",
       "\n",
       "    .dataframe tbody tr th {\n",
       "        vertical-align: top;\n",
       "    }\n",
       "\n",
       "    .dataframe thead th {\n",
       "        text-align: right;\n",
       "    }\n",
       "</style>\n",
       "<table border=\"1\" class=\"dataframe\">\n",
       "  <thead>\n",
       "    <tr style=\"text-align: right;\">\n",
       "      <th></th>\n",
       "      <th>Artist</th>\n",
       "      <th>Title</th>\n",
       "      <th>Album</th>\n",
       "      <th>Year</th>\n",
       "      <th>Lyrics</th>\n",
       "    </tr>\n",
       "  </thead>\n",
       "  <tbody>\n",
       "    <tr>\n",
       "      <th>55005</th>\n",
       "      <td>House of Pain</td>\n",
       "      <td>The Have Nots</td>\n",
       "      <td>Truth Crushed To Earth Shall Rise Again</td>\n",
       "      <td>1996-10-22</td>\n",
       "      <td>Benevolence, mercy, discipline...\\nBenevolence...</td>\n",
       "    </tr>\n",
       "    <tr>\n",
       "      <th>55006</th>\n",
       "      <td>Future</td>\n",
       "      <td>XanaX Damage</td>\n",
       "      <td>SAVE ME</td>\n",
       "      <td>2019-06-07</td>\n",
       "      <td>[Intro: FXXXXY]\\nBlood, blood, blood\\nXanax dr...</td>\n",
       "    </tr>\n",
       "    <tr>\n",
       "      <th>55007</th>\n",
       "      <td>Three 6 Mafia</td>\n",
       "      <td>In da Game</td>\n",
       "      <td>Mystic Stylez</td>\n",
       "      <td>1995-05-25</td>\n",
       "      <td>[Hook]\\nDope game cocaine\\nDope game dope dope...</td>\n",
       "    </tr>\n",
       "    <tr>\n",
       "      <th>55008</th>\n",
       "      <td>M.O.P.</td>\n",
       "      <td>Shake Em Up</td>\n",
       "      <td>Street Certified</td>\n",
       "      <td>2014-11-18</td>\n",
       "      <td>[Verse 1: Billy Danze]\\nUh\\nFrom the glitzed t...</td>\n",
       "    </tr>\n",
       "    <tr>\n",
       "      <th>55009</th>\n",
       "      <td>Meek Mill</td>\n",
       "      <td>Problem</td>\n",
       "      <td>Priorities 4</td>\n",
       "      <td>2016-01-18</td>\n",
       "      <td>[Produced by Beats Billionaire]\\n\\n[Intro: 2Pa...</td>\n",
       "    </tr>\n",
       "  </tbody>\n",
       "</table>\n",
       "</div>"
      ],
      "text/plain": [
       "              Artist          Title                                    Album  \\\n",
       "55005  House of Pain  The Have Nots  Truth Crushed To Earth Shall Rise Again   \n",
       "55006         Future   XanaX Damage                                  SAVE ME   \n",
       "55007  Three 6 Mafia     In da Game                            Mystic Stylez   \n",
       "55008         M.O.P.    Shake Em Up                         Street Certified   \n",
       "55009      Meek Mill        Problem                             Priorities 4   \n",
       "\n",
       "             Year                                             Lyrics  \n",
       "55005  1996-10-22  Benevolence, mercy, discipline...\\nBenevolence...  \n",
       "55006  2019-06-07  [Intro: FXXXXY]\\nBlood, blood, blood\\nXanax dr...  \n",
       "55007  1995-05-25  [Hook]\\nDope game cocaine\\nDope game dope dope...  \n",
       "55008  2014-11-18  [Verse 1: Billy Danze]\\nUh\\nFrom the glitzed t...  \n",
       "55009  2016-01-18  [Produced by Beats Billionaire]\\n\\n[Intro: 2Pa...  "
      ]
     },
     "execution_count": 23,
     "metadata": {},
     "output_type": "execute_result"
    }
   ],
   "source": [
    "tracks_df.tail()"
   ]
  },
  {
   "cell_type": "markdown",
   "metadata": {},
   "source": [
    "### Getting data from spotify"
   ]
  },
  {
   "cell_type": "code",
   "execution_count": null,
   "metadata": {
    "scrolled": true
   },
   "outputs": [],
   "source": [
    "#adding in 2 list Spotify songs ID and combo ID/artist (For DB)\n",
    "for batch in list_batchs:\n",
    "    try:\n",
    "        songs_artist_ids.append([get_track_id(batch[0],batch[1]),batch[0],batch[1]])\n",
    "        songs_ids.append([get_track_id(batch[0],batch[1])])\n",
    "    except:\n",
    "        songs_artist_ids.append(['Spotify features Not found',batch[0],batch[1]])\n",
    "        songs_ids.append(['Spotify features Not found'])"
   ]
  },
  {
   "cell_type": "code",
   "execution_count": null,
   "metadata": {},
   "outputs": [],
   "source": [
    "#saving\n",
    "with open('batch_songs_ids.pkl', 'wb') as f:\n",
    "    pickle.dump(songs_ids, f)"
   ]
  },
  {
   "cell_type": "code",
   "execution_count": null,
   "metadata": {},
   "outputs": [],
   "source": [
    "#saving\n",
    "with open('batch_songs_artist_ids.pkl', 'wb') as f:\n",
    "    pickle.dump(songs_artist_ids, f)"
   ]
  },
  {
   "cell_type": "code",
   "execution_count": 26,
   "metadata": {},
   "outputs": [
    {
     "data": {
      "text/plain": [
       "55010"
      ]
     },
     "execution_count": 26,
     "metadata": {},
     "output_type": "execute_result"
    }
   ],
   "source": [
    "#open the saved file with pickle\n",
    "with open('batch_songs_ids.pkl', 'rb') as f:\n",
    "    songs_ids = pickle.load(f)\n",
    "\n",
    "len(songs_ids)"
   ]
  },
  {
   "cell_type": "code",
   "execution_count": 27,
   "metadata": {
    "code_folding": [
     0
    ]
   },
   "outputs": [
    {
     "data": {
      "text/plain": [
       "55012"
      ]
     },
     "execution_count": 27,
     "metadata": {},
     "output_type": "execute_result"
    }
   ],
   "source": [
    "#open the saved file with pickle\n",
    "with open('batch_songs_artist_ids.pkl', 'rb') as f:\n",
    "    songs_artist_ids = pickle.load(f)\n",
    "\n",
    "len(songs_artist_ids)\n",
    "\n",
    "# songs_artist_ids"
   ]
  },
  {
   "cell_type": "code",
   "execution_count": 28,
   "metadata": {},
   "outputs": [
    {
     "data": {
      "text/plain": [
       "28375"
      ]
     },
     "execution_count": 28,
     "metadata": {},
     "output_type": "execute_result"
    }
   ],
   "source": [
    "#number of songs not found on Spotify\n",
    "len(tracks_df)-songs_ids.count(['Spotify features Not found'])"
   ]
  },
  {
   "cell_type": "code",
   "execution_count": 40,
   "metadata": {},
   "outputs": [
    {
     "data": {
      "text/plain": [
       "['spotify:track:3gELjm2WUp2dqDbRnnLjiK', 'M.O.P.', 'Shake Em Up']"
      ]
     },
     "execution_count": 40,
     "metadata": {},
     "output_type": "execute_result"
    }
   ],
   "source": [
    "songs_artist_ids[-2]"
   ]
  },
  {
   "cell_type": "code",
   "execution_count": 34,
   "metadata": {},
   "outputs": [],
   "source": [
    "#Getting the info from the songs\n",
    "tracks_objects = []\n",
    "for song_ids_list in songs_ids:\n",
    "    if song_ids_list != ['Spotify features Not found']:\n",
    "        tracks = sp.tracks(song_ids_list)\n",
    "        tracks_objects.append(tracks)\n",
    "        with open('object1_spotify.pkl', 'wb') as f:\n",
    "            pickle.dump(tracks_objects, f)\n",
    "    else:\n",
    "        #in case the ID doesn't exist create a place holder for mapping later\n",
    "        tracks_objects.append({'status':'Not found'})"
   ]
  },
  {
   "cell_type": "code",
   "execution_count": 44,
   "metadata": {},
   "outputs": [
    {
     "data": {
      "text/plain": [
       "{'status': 'Not found'}"
      ]
     },
     "execution_count": 44,
     "metadata": {},
     "output_type": "execute_result"
    }
   ],
   "source": [
    "#to read file with objects\n",
    "pd.read_pickle('object1_spotify.pkl')"
   ]
  },
  {
   "cell_type": "code",
   "execution_count": 35,
   "metadata": {},
   "outputs": [
    {
     "data": {
      "text/plain": [
       "55010"
      ]
     },
     "execution_count": 35,
     "metadata": {},
     "output_type": "execute_result"
    }
   ],
   "source": [
    "#Checking I get the info for all the songs\n",
    "len(tracks_objects)"
   ]
  },
  {
   "cell_type": "code",
   "execution_count": 37,
   "metadata": {
    "collapsed": true
   },
   "outputs": [
    {
     "data": {
      "text/plain": [
       "{'tracks': [{'album': {'album_type': 'album',\n",
       "    'artists': [{'external_urls': {'spotify': 'https://open.spotify.com/artist/1BH45DVSTeGBvcYXNCd67g'},\n",
       "      'href': 'https://api.spotify.com/v1/artists/1BH45DVSTeGBvcYXNCd67g',\n",
       "      'id': '1BH45DVSTeGBvcYXNCd67g',\n",
       "      'name': 'M.O.P.',\n",
       "      'type': 'artist',\n",
       "      'uri': 'spotify:artist:1BH45DVSTeGBvcYXNCd67g'}],\n",
       "    'available_markets': ['US'],\n",
       "    'external_urls': {'spotify': 'https://open.spotify.com/album/26ISFtLn1LvnlonE7EXrXX'},\n",
       "    'href': 'https://api.spotify.com/v1/albums/26ISFtLn1LvnlonE7EXrXX',\n",
       "    'id': '26ISFtLn1LvnlonE7EXrXX',\n",
       "    'images': [{'height': 640,\n",
       "      'url': 'https://i.scdn.co/image/ab67616d0000b27395ade194c782bdf4d225452c',\n",
       "      'width': 640},\n",
       "     {'height': 300,\n",
       "      'url': 'https://i.scdn.co/image/ab67616d00001e0295ade194c782bdf4d225452c',\n",
       "      'width': 300},\n",
       "     {'height': 64,\n",
       "      'url': 'https://i.scdn.co/image/ab67616d0000485195ade194c782bdf4d225452c',\n",
       "      'width': 64}],\n",
       "    'name': 'Street Certified',\n",
       "    'release_date': '2014-11-18',\n",
       "    'release_date_precision': 'day',\n",
       "    'total_tracks': 9,\n",
       "    'type': 'album',\n",
       "    'uri': 'spotify:album:26ISFtLn1LvnlonE7EXrXX'},\n",
       "   'artists': [{'external_urls': {'spotify': 'https://open.spotify.com/artist/1BH45DVSTeGBvcYXNCd67g'},\n",
       "     'href': 'https://api.spotify.com/v1/artists/1BH45DVSTeGBvcYXNCd67g',\n",
       "     'id': '1BH45DVSTeGBvcYXNCd67g',\n",
       "     'name': 'M.O.P.',\n",
       "     'type': 'artist',\n",
       "     'uri': 'spotify:artist:1BH45DVSTeGBvcYXNCd67g'}],\n",
       "   'available_markets': ['US'],\n",
       "   'disc_number': 1,\n",
       "   'duration_ms': 197536,\n",
       "   'explicit': True,\n",
       "   'external_ids': {'isrc': 'USHKR0916504'},\n",
       "   'external_urls': {'spotify': 'https://open.spotify.com/track/3gELjm2WUp2dqDbRnnLjiK'},\n",
       "   'href': 'https://api.spotify.com/v1/tracks/3gELjm2WUp2dqDbRnnLjiK',\n",
       "   'id': '3gELjm2WUp2dqDbRnnLjiK',\n",
       "   'is_local': False,\n",
       "   'name': 'Shake Em Up',\n",
       "   'popularity': 10,\n",
       "   'preview_url': 'https://p.scdn.co/mp3-preview/9fff8b39d5b7a790ca081f4b142998b17535a82d?cid=dfec06d100834fdeb40893f40e2361c2',\n",
       "   'track_number': 4,\n",
       "   'type': 'track',\n",
       "   'uri': 'spotify:track:3gELjm2WUp2dqDbRnnLjiK'}]}"
      ]
     },
     "execution_count": 37,
     "metadata": {},
     "output_type": "execute_result"
    }
   ],
   "source": [
    "tracks_objects[-2]"
   ]
  },
  {
   "cell_type": "code",
   "execution_count": 45,
   "metadata": {},
   "outputs": [
    {
     "name": "stdout",
     "output_type": "stream",
     "text": [
      "retrying ...1secs\n",
      "retrying ...1secs\n",
      "retrying ...1secs\n"
     ]
    }
   ],
   "source": [
    "#collect the tracks features for the list of ids\n",
    "tracks_audio_features = []\n",
    "for song_ids_list in songs_ids:\n",
    "    if song_ids_list != ['Spotify features Not found']:\n",
    "        features = sp.audio_features(song_ids_list)\n",
    "        tracks_audio_features.append(features)\n",
    "        with open('features_spotify.pkl', 'wb') as f:\n",
    "            pickle.dump(tracks_audio_features, f)\n",
    "    else:\n",
    "        #in case the ID doesn't exist create a place holder for mapping later\n",
    "        tracks_audio_features.append({'status':'Not found'})\n",
    "        with open('features_spotify.pkl', 'wb') as f:\n",
    "            pickle.dump(tracks_audio_features, f)"
   ]
  },
  {
   "cell_type": "code",
   "execution_count": 46,
   "metadata": {},
   "outputs": [
    {
     "data": {
      "text/plain": [
       "55010"
      ]
     },
     "execution_count": 46,
     "metadata": {},
     "output_type": "execute_result"
    }
   ],
   "source": [
    "len(tracks_audio_features)"
   ]
  },
  {
   "cell_type": "code",
   "execution_count": 52,
   "metadata": {},
   "outputs": [
    {
     "data": {
      "text/plain": [
       "({'status': 'Not found'}, {'status': 'Not found'})"
      ]
     },
     "execution_count": 52,
     "metadata": {},
     "output_type": "execute_result"
    }
   ],
   "source": [
    "tracks_objects[1004], tracks_audio_features[1004]"
   ]
  },
  {
   "cell_type": "code",
   "execution_count": null,
   "metadata": {},
   "outputs": [],
   "source": [
    "#Reformatting from a dictionary to a table\n",
    "df = pd.DataFrame(columns=[\n",
    "    'name',\n",
    "    'duration_ms',\n",
    "    'popularity',\n",
    "    'num_markets',\n",
    "    'album',\n",
    "    'disc_number',\n",
    "    'is_explicit',\n",
    "    'track_number',\n",
    "    'release_date',\n",
    "    'artist',\n",
    "    'danceability',\n",
    "    'energy',\n",
    "    'key',\n",
    "    'loudness',\n",
    "    'mode',\n",
    "    'speechiness',\n",
    "    'acousticness',\n",
    "    'instrumentalness',\n",
    "    'liveness',\n",
    "    'valence',\n",
    "    'tempo',\n",
    "    'time_signature',\n",
    "])\n",
    "for album_info, album_features in zip(\n",
    "        spotify_data.get('tracks'), \n",
    "        spotify_data.get('audio_features')\n",
    "        ):\n",
    "    for track_info, track_features in zip(\n",
    "        album_info.get('tracks'),\n",
    "        album_features\n",
    "        ):\n",
    "        y = {\n",
    "            'name': track_info['name'],\n",
    "            'duration_ms': track_info['duration_ms'],\n",
    "            'popularity': track_info['popularity'],\n",
    "            'num_markets': len(track_info['available_markets']),\n",
    "            'album': track_info['album']['name'],\n",
    "            'disc_number': track_info['disc_number'],\n",
    "            'is_explicit': track_info['explicit'],\n",
    "            'track_number': track_info['track_number'],\n",
    "            'release_date': track_info['album']['release_date'],\n",
    "            'artist': track_info['artists'][0]['name'],\n",
    "            'danceability': track_features['danceability'],\n",
    "            'energy': track_features['energy'],\n",
    "            'key': track_features['key'],\n",
    "            'loudness': track_features['loudness'],\n",
    "            'mode': track_features['mode'],\n",
    "            'speechiness': track_features['speechiness'],\n",
    "            'acousticness': track_features['acousticness'],\n",
    "            'instrumentalness': track_features['instrumentalness'],\n",
    "            'liveness': track_features['liveness'],\n",
    "            'valence': track_features['valence'],\n",
    "            'tempo': track_features['tempo'],\n",
    "            'time_signature': track_features['time_signature'],\n",
    "        }\n",
    "        df = df.append(y, ignore_index=True)"
   ]
  }
 ],
 "metadata": {
  "kernelspec": {
   "display_name": "Python 3",
   "language": "python",
   "name": "python3"
  },
  "language_info": {
   "codemirror_mode": {
    "name": "ipython",
    "version": 3
   },
   "file_extension": ".py",
   "mimetype": "text/x-python",
   "name": "python",
   "nbconvert_exporter": "python",
   "pygments_lexer": "ipython3",
   "version": "3.7.3"
  },
  "toc": {
   "base_numbering": 1,
   "nav_menu": {},
   "number_sections": true,
   "sideBar": true,
   "skip_h1_title": false,
   "title_cell": "Table of Contents",
   "title_sidebar": "Contents",
   "toc_cell": false,
   "toc_position": {},
   "toc_section_display": true,
   "toc_window_display": true
  }
 },
 "nbformat": 4,
 "nbformat_minor": 2
}
