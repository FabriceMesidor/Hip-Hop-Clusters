{
 "cells": [
  {
   "cell_type": "markdown",
   "metadata": {},
   "source": [
    "### Helpers"
   ]
  },
  {
   "cell_type": "code",
   "execution_count": null,
   "metadata": {},
   "outputs": [],
   "source": [
    "import sys\n",
    "from spotipy.oauth2 import SpotifyClientCredentials\n",
    "import spotipy\n",
    "from Lyrics import credentials\n",
    "import pandas as pd\n",
    "import matplotlib as plt\n",
    "import json"
   ]
  },
  {
   "cell_type": "code",
   "execution_count": null,
   "metadata": {},
   "outputs": [],
   "source": [
    "#Using the spotify client to connect\n",
    "id_ = credentials.spotify_client_id\n",
    "secret = credentials.my_secret\n",
    "ccm = SpotifyClientCredentials(client_id=id_, client_secret=secret)\n",
    "sp = spotipy.Spotify(client_credentials_manager=ccm)"
   ]
  },
  {
   "cell_type": "markdown",
   "metadata": {},
   "source": [
    "## .- Functions"
   ]
  },
  {
   "cell_type": "code",
   "execution_count": null,
   "metadata": {},
   "outputs": [],
   "source": [
    "#Use the artist and track to find a song id\n",
    "def get_track_id(artist_name,track_name):\n",
    "    results = sp.search(\"artist: \" + artist_name + \", track: \" + track_name)\n",
    "    return results['tracks']['items'][0]['uri']"
   ]
  },
  {
   "cell_type": "code",
   "execution_count": null,
   "metadata": {},
   "outputs": [],
   "source": [
    "#Create a function to collect the tracks info for a given list of ids\n",
    "def get_track_objects(track_ids):\n",
    "    tracks_info = []\n",
    "    for track_id_list in track_ids:\n",
    "        info = sp.tracks(track_id_list)\n",
    "        tracks_info.append(info)\n",
    "    return tracks_info"
   ]
  },
  {
   "cell_type": "code",
   "execution_count": null,
   "metadata": {},
   "outputs": [],
   "source": [
    "#Create a functin to collect the tracks features for a given list of ids\n",
    "def get_track_features(track_ids):\n",
    "    tracks_audio_features = []\n",
    "    for track_id_list in track_ids:\n",
    "        features = sp.audio_features(track_id_list)\n",
    "        tracks_audio_features.append(features)\n",
    "        name\n",
    "    return tracks_audio_features"
   ]
  },
  {
   "cell_type": "code",
   "execution_count": null,
   "metadata": {},
   "outputs": [],
   "source": [
    "# Create a function to save the information collected\n",
    "def save_track_info(tracks_audio_features,tracks_info):\n",
    "\n",
    "    track_spotify_data = {\n",
    "        \"audio_features\": tracks_audio_features,\n",
    "        \"tracks\": tracks_info\n",
    "    }\n",
    "\n",
    "    return track_spotify_data"
   ]
  },
  {
   "cell_type": "code",
   "execution_count": null,
   "metadata": {},
   "outputs": [],
   "source": [
    " #use to save as json\n",
    "with open('placeholder.json', \"w\") as f:\n",
    "    json.dump(result, f)"
   ]
  },
  {
   "cell_type": "code",
   "execution_count": null,
   "metadata": {},
   "outputs": [],
   "source": []
  },
  {
   "cell_type": "code",
   "execution_count": null,
   "metadata": {},
   "outputs": [],
   "source": []
  },
  {
   "cell_type": "code",
   "execution_count": null,
   "metadata": {},
   "outputs": [],
   "source": []
  },
  {
   "cell_type": "code",
   "execution_count": null,
   "metadata": {},
   "outputs": [],
   "source": [
    "#Codes to transform the dictionary with all the info into dataframe\n",
    "df = pd.DataFrame(columns=[\n",
    "    'name',\n",
    "    'duration_ms',\n",
    "    'popularity',\n",
    "    'num_markets',\n",
    "    'album',\n",
    "    'disc_number',\n",
    "    'is_explicit',\n",
    "    'track_number',\n",
    "    'release_date',\n",
    "    'artist',\n",
    "    'danceability',\n",
    "    'energy',\n",
    "    'key',\n",
    "    'loudness',\n",
    "    'mode',\n",
    "    'speechiness',\n",
    "    'acousticness',\n",
    "    'instrumentalness',\n",
    "    'liveness',\n",
    "    'valence',\n",
    "    'tempo',\n",
    "    'time_signature',\n",
    "])\n",
    "for album_info, album_features in zip(\n",
    "        spotify_data.get('tracks'), \n",
    "        spotify_data.get('audio_features')\n",
    "        ):\n",
    "    for track_info, track_features in zip(\n",
    "        album_info.get('tracks'),\n",
    "        album_features\n",
    "        ):\n",
    "        y = {\n",
    "            'name': track_info['name'],\n",
    "            'duration_ms': track_info['duration_ms'],\n",
    "            'popularity': track_info['popularity'],\n",
    "            'num_markets': len(track_info['available_markets']),\n",
    "            'album': track_info['album']['name'],\n",
    "            'disc_number': track_info['disc_number'],\n",
    "            'is_explicit': track_info['explicit'],\n",
    "            'track_number': track_info['track_number'],\n",
    "            'release_date': track_info['album']['release_date'],\n",
    "            'artist': track_info['artists'][0]['name'],\n",
    "            'danceability': track_features['danceability'],\n",
    "            'energy': track_features['energy'],\n",
    "            'key': track_features['key'],\n",
    "            'loudness': track_features['loudness'],\n",
    "            'mode': track_features['mode'],\n",
    "            'speechiness': track_features['speechiness'],\n",
    "            'acousticness': track_features['acousticness'],\n",
    "            'instrumentalness': track_features['instrumentalness'],\n",
    "            'liveness': track_features['liveness'],\n",
    "            'valence': track_features['valence'],\n",
    "            'tempo': track_features['tempo'],\n",
    "            'time_signature': track_features['time_signature'],\n",
    "        }\n",
    "        df = df.append(y, ignore_index=True)"
   ]
  },
  {
   "cell_type": "markdown",
   "metadata": {},
   "source": [
    "## Testing"
   ]
  },
  {
   "cell_type": "markdown",
   "metadata": {},
   "source": [
    "Inspired by http://jdaytn.com/posts/download-blink-182-data/"
   ]
  },
  {
   "cell_type": "code",
   "execution_count": null,
   "metadata": {},
   "outputs": [],
   "source": [
    "#Create a function to get only the ID of an artist\n",
    "def get_artist_id(artist_name):\n",
    "    results = sp.search(\"artist:\"+artist_name)\n",
    "    artist_id = results['tracks']['items'][0]['artists'][0]['uri']\n",
    "    return artist_id.strip('spotify:artist:')"
   ]
  },
  {
   "cell_type": "code",
   "execution_count": null,
   "metadata": {},
   "outputs": [],
   "source": [
    "#testing above function\n",
    "#spotify:artist:7dGJo4pcD2V6oG8kP0tJRR\n",
    "eminem_id = get_artist_id('eminem')"
   ]
  },
  {
   "cell_type": "code",
   "execution_count": null,
   "metadata": {},
   "outputs": [],
   "source": [
    "print(eminem_id)"
   ]
  },
  {
   "cell_type": "code",
   "execution_count": null,
   "metadata": {},
   "outputs": [],
   "source": [
    "#Create a function to get all albums IDs related to one artist\n",
    "def get_albums_id(artist_id, limit=50):\n",
    "#     albums_ids = []\n",
    "    albums = sp.artist_albums(artist_id,country=\"US\", limit=limit)\n",
    "    album_ids = [album['uri'].strip('spotify:album:') for album in albums['items']]\n",
    "    return album_ids"
   ]
  },
  {
   "cell_type": "code",
   "execution_count": null,
   "metadata": {},
   "outputs": [],
   "source": [
    "#testing above function #3HNnxK7NgLXbDoxRZxNWiR 1st value\n",
    "eminem_album = get_albums_id(eminem_id)"
   ]
  },
  {
   "cell_type": "code",
   "execution_count": null,
   "metadata": {},
   "outputs": [],
   "source": [
    "eminem_album"
   ]
  },
  {
   "cell_type": "code",
   "execution_count": null,
   "metadata": {},
   "outputs": [],
   "source": [
    "albums = sp.artist_albums('7dGJo4pcD2V6oG8kP0tJRR',country=\"US\", limit=50)\n",
    "print(albums['next'])"
   ]
  },
  {
   "cell_type": "code",
   "execution_count": null,
   "metadata": {},
   "outputs": [],
   "source": [
    "album_ids = [album['uri'] for album in albums['items']]\n",
    "print(len(album_ids))\n",
    "print(album_ids[0])"
   ]
  },
  {
   "cell_type": "code",
   "execution_count": null,
   "metadata": {},
   "outputs": [],
   "source": [
    "all_tracks = []\n",
    "for album_id in album_ids:\n",
    "    tracks = sp.album_tracks(album_id, limit=50)\n",
    "    all_tracks.append(tracks)"
   ]
  },
  {
   "cell_type": "code",
   "execution_count": null,
   "metadata": {},
   "outputs": [],
   "source": [
    "all_tracks"
   ]
  },
  {
   "cell_type": "code",
   "execution_count": null,
   "metadata": {},
   "outputs": [],
   "source": [
    "track_ids = []\n",
    "for tracks in all_tracks:\n",
    "    album_tracks = []\n",
    "    for track in tracks.get('items'):\n",
    "        album_tracks.append(track.get('uri'))\n",
    "    track_ids.append(album_tracks)"
   ]
  },
  {
   "cell_type": "code",
   "execution_count": null,
   "metadata": {},
   "outputs": [],
   "source": [
    "track_ids[0]"
   ]
  },
  {
   "cell_type": "code",
   "execution_count": null,
   "metadata": {},
   "outputs": [],
   "source": [
    "len(track_ids)"
   ]
  },
  {
   "cell_type": "code",
   "execution_count": null,
   "metadata": {},
   "outputs": [],
   "source": [
    "track_objects = []\n",
    "for track_id_list in track_ids:\n",
    "    tracks = sp.tracks(track_id_list)\n",
    "    track_objects.append(tracks)"
   ]
  },
  {
   "cell_type": "code",
   "execution_count": null,
   "metadata": {},
   "outputs": [],
   "source": [
    "len(track_objects)"
   ]
  },
  {
   "cell_type": "code",
   "execution_count": null,
   "metadata": {},
   "outputs": [],
   "source": [
    "audio_feature_objects = []\n",
    "for track_id_list in track_ids:\n",
    "    features = sp.audio_features(track_id_list)\n",
    "    audio_feature_objects.append(features)"
   ]
  },
  {
   "cell_type": "code",
   "execution_count": null,
   "metadata": {},
   "outputs": [],
   "source": [
    "len(audio_feature_objects)"
   ]
  },
  {
   "cell_type": "code",
   "execution_count": null,
   "metadata": {},
   "outputs": [],
   "source": [
    "for tracks, album in zip(all_tracks, albums.get('items')):\n",
    "    print(\n",
    "        len(tracks.get('items')),\n",
    "        \"\\t\",\n",
    "        album.get('name')\n",
    "    )"
   ]
  },
  {
   "cell_type": "code",
   "execution_count": null,
   "metadata": {},
   "outputs": [],
   "source": []
  },
  {
   "cell_type": "code",
   "execution_count": null,
   "metadata": {},
   "outputs": [],
   "source": [
    "# all_tracks[0].get('items')[0].get('uri')"
   ]
  },
  {
   "cell_type": "code",
   "execution_count": null,
   "metadata": {},
   "outputs": [],
   "source": []
  },
  {
   "cell_type": "code",
   "execution_count": null,
   "metadata": {},
   "outputs": [],
   "source": [
    "results"
   ]
  },
  {
   "cell_type": "code",
   "execution_count": null,
   "metadata": {},
   "outputs": [],
   "source": [
    "results['tracks']['items'][0]['uri']"
   ]
  },
  {
   "cell_type": "code",
   "execution_count": null,
   "metadata": {},
   "outputs": [],
   "source": [
    "results['tracks']['items'][0]['artists'][0]['uri']"
   ]
  },
  {
   "cell_type": "code",
   "execution_count": null,
   "metadata": {},
   "outputs": [],
   "source": [
    "print(df.shape)\n",
    "df.head(50)"
   ]
  },
  {
   "cell_type": "code",
   "execution_count": null,
   "metadata": {},
   "outputs": [],
   "source": [
    "df.speechiness.hist()"
   ]
  },
  {
   "cell_type": "markdown",
   "metadata": {},
   "source": [
    "## Testing Functions"
   ]
  },
  {
   "cell_type": "code",
   "execution_count": null,
   "metadata": {},
   "outputs": [],
   "source": [
    "songs = [['Mobb Deep','Party Over'], ['eminem','the ringer']]"
   ]
  },
  {
   "cell_type": "code",
   "execution_count": null,
   "metadata": {},
   "outputs": [],
   "source": [
    "test_ids = []\n",
    "for song in songs:\n",
    "        test_ids.append([get_track_id(song[0],song[1])])"
   ]
  },
  {
   "cell_type": "code",
   "execution_count": null,
   "metadata": {},
   "outputs": [],
   "source": [
    "test_ids"
   ]
  },
  {
   "cell_type": "code",
   "execution_count": null,
   "metadata": {},
   "outputs": [],
   "source": [
    "test_objects = []\n",
    "for test_id_list in test_ids:\n",
    "    tracks = sp.tracks(test_id_list)\n",
    "    test_objects.append(tracks)"
   ]
  },
  {
   "cell_type": "code",
   "execution_count": null,
   "metadata": {},
   "outputs": [],
   "source": [
    "len(test_objects)"
   ]
  },
  {
   "cell_type": "code",
   "execution_count": null,
   "metadata": {},
   "outputs": [],
   "source": [
    "test_audio_feature_objects = []\n",
    "for test_id_list in test_ids:\n",
    "    features = sp.audio_features(test_id_list)\n",
    "    test_audio_feature_objects.append(features)"
   ]
  },
  {
   "cell_type": "code",
   "execution_count": null,
   "metadata": {},
   "outputs": [],
   "source": [
    "len(test_audio_feature_objects)"
   ]
  },
  {
   "cell_type": "code",
   "execution_count": null,
   "metadata": {},
   "outputs": [],
   "source": [
    "test_spotify_data = {\n",
    "    \"audio_features\": test_audio_feature_objects,\n",
    "    \"tracks\": test_objects\n",
    "}"
   ]
  },
  {
   "cell_type": "code",
   "execution_count": null,
   "metadata": {},
   "outputs": [],
   "source": [
    "spotify_data=test_spotify_data"
   ]
  },
  {
   "cell_type": "code",
   "execution_count": null,
   "metadata": {},
   "outputs": [],
   "source": [
    "spotify_data.get('track')[0].get('tracks')"
   ]
  },
  {
   "cell_type": "code",
   "execution_count": null,
   "metadata": {},
   "outputs": [],
   "source": [
    "#Reformatting from a dictionary to a table\n",
    "df = pd.DataFrame(columns=[\n",
    "    'name',\n",
    "    'duration_ms',\n",
    "    'popularity',\n",
    "    'num_markets',\n",
    "    'album',\n",
    "    'disc_number',\n",
    "    'is_explicit',\n",
    "    'track_number',\n",
    "    'release_date',\n",
    "    'artist',\n",
    "    'danceability',\n",
    "    'energy',\n",
    "    'key',\n",
    "    'loudness',\n",
    "    'mode',\n",
    "    'speechiness',\n",
    "    'acousticness',\n",
    "    'instrumentalness',\n",
    "    'liveness',\n",
    "    'valence',\n",
    "    'tempo',\n",
    "    'time_signature',\n",
    "])\n",
    "for album_info, album_features in zip(\n",
    "        spotify_data.get('tracks'), \n",
    "        spotify_data.get('audio_features')\n",
    "        ):\n",
    "    for track_info, track_features in zip(\n",
    "        album_info.get('tracks'),\n",
    "        album_features\n",
    "        ):\n",
    "        y = {\n",
    "            'name': track_info['name'],\n",
    "            'duration_ms': track_info['duration_ms'],\n",
    "            'popularity': track_info['popularity'],\n",
    "            'num_markets': len(track_info['available_markets']),\n",
    "            'album': track_info['album']['name'],\n",
    "            'disc_number': track_info['disc_number'],\n",
    "            'is_explicit': track_info['explicit'],\n",
    "            'track_number': track_info['track_number'],\n",
    "            'release_date': track_info['album']['release_date'],\n",
    "            'artist': track_info['artists'][0]['name'],\n",
    "            'danceability': track_features['danceability'],\n",
    "            'energy': track_features['energy'],\n",
    "            'key': track_features['key'],\n",
    "            'loudness': track_features['loudness'],\n",
    "            'mode': track_features['mode'],\n",
    "            'speechiness': track_features['speechiness'],\n",
    "            'acousticness': track_features['acousticness'],\n",
    "            'instrumentalness': track_features['instrumentalness'],\n",
    "            'liveness': track_features['liveness'],\n",
    "            'valence': track_features['valence'],\n",
    "            'tempo': track_features['tempo'],\n",
    "            'time_signature': track_features['time_signature'],\n",
    "        }\n",
    "        df = df.append(y, ignore_index=True)"
   ]
  },
  {
   "cell_type": "code",
   "execution_count": null,
   "metadata": {},
   "outputs": [],
   "source": []
  }
 ],
 "metadata": {
  "kernelspec": {
   "display_name": "Python 3",
   "language": "python",
   "name": "python3"
  },
  "language_info": {
   "codemirror_mode": {
    "name": "ipython",
    "version": 3
   },
   "file_extension": ".py",
   "mimetype": "text/x-python",
   "name": "python",
   "nbconvert_exporter": "python",
   "pygments_lexer": "ipython3",
   "version": "3.7.3"
  },
  "toc": {
   "base_numbering": 1,
   "nav_menu": {},
   "number_sections": true,
   "sideBar": true,
   "skip_h1_title": false,
   "title_cell": "Table of Contents",
   "title_sidebar": "Contents",
   "toc_cell": false,
   "toc_position": {},
   "toc_section_display": true,
   "toc_window_display": false
  }
 },
 "nbformat": 4,
 "nbformat_minor": 2
}
