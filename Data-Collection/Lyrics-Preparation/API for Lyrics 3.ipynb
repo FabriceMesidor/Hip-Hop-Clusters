{
 "cells": [
  {
   "cell_type": "markdown",
   "metadata": {},
   "source": [
    "#### Helpers"
   ]
  },
  {
   "cell_type": "code",
   "execution_count": 1,
   "metadata": {},
   "outputs": [],
   "source": [
    "import lyricsgenius as genius\n",
    "from tqdm import tqdm\n",
    "import time\n",
    "import credentials as cd"
   ]
  },
  {
   "cell_type": "code",
   "execution_count": 2,
   "metadata": {},
   "outputs": [],
   "source": [
    "#Authentification\n",
    "api = genius.Genius(client_access_token=cd.access_token)"
   ]
  },
  {
   "cell_type": "markdown",
   "metadata": {},
   "source": [
    "### Functions"
   ]
  },
  {
   "cell_type": "code",
   "execution_count": 3,
   "metadata": {},
   "outputs": [],
   "source": [
    "#building a search function to find a defined number of songs for an artist\n",
    "def search_song(artist,number_song):\n",
    "        results= api.search_artist(artist, max_songs=number_song)\n",
    "        return results"
   ]
  },
  {
   "cell_type": "code",
   "execution_count": 4,
   "metadata": {},
   "outputs": [],
   "source": [
    "#Function to find songs titles\n",
    "def find_song_title(results):\n",
    "    return [results.songs]"
   ]
  },
  {
   "cell_type": "code",
   "execution_count": 5,
   "metadata": {},
   "outputs": [],
   "source": [
    "#Function to find songs lyrics\n",
    "def save_lyrics(artist,number_song):\n",
    "    return search_song(artist,number_song).save_lyrics()"
   ]
  },
  {
   "cell_type": "markdown",
   "metadata": {},
   "source": [
    "### Getting songs from the artists list"
   ]
  },
  {
   "cell_type": "code",
   "execution_count": 6,
   "metadata": {},
   "outputs": [],
   "source": [
    "# Load file with all artists\n",
    "import pickle\n",
    "\n",
    "with open('../hip-hop-artist-ranker.pkl', 'rb') as f:\n",
    "    artists_list = pickle.load(f)"
   ]
  },
  {
   "cell_type": "code",
   "execution_count": 7,
   "metadata": {},
   "outputs": [
    {
     "data": {
      "text/plain": [
       "814"
      ]
     },
     "execution_count": 7,
     "metadata": {},
     "output_type": "execute_result"
    }
   ],
   "source": [
    "#Checking correct list was imported\n",
    "len(artists_list)"
   ]
  },
  {
   "cell_type": "code",
   "execution_count": 21,
   "metadata": {},
   "outputs": [
    {
     "name": "stderr",
     "output_type": "stream",
     "text": [
      "\n",
      "\n",
      "\n",
      "\n",
      "\n",
      "\n",
      "\n",
      "\n",
      "\n",
      "\n",
      "\n",
      "\n",
      "\n",
      "  0%|          | 0/11 [00:00<?, ?it/s]\u001b[A\u001b[A\u001b[A\u001b[A\u001b[A\u001b[A\u001b[A\u001b[A\u001b[A\u001b[A\u001b[A\u001b[A\u001b[A"
     ]
    },
    {
     "name": "stdout",
     "output_type": "stream",
     "text": [
      "----------Getting the # 90 artist----------\n",
      "Searching for songs by Eric B. & Rakim...\n",
      "\n",
      "Song 1: \"Paid in Full\"\n",
      "Song 2: \"I Ain’t No Joke\"\n",
      "Song 3: \"My Melody\"\n",
      "Song 4: \"Follow the Leader\"\n",
      "Song 5: \"I Know You Got Soul\"\n",
      "Song 6: \"Microphone Fiend\"\n",
      "Song 7: \"Eric B. Is President\"\n",
      "Song 8: \"Juice (Know the Ledge)\"\n",
      "Song 9: \"Don’t Sweat the Technique\"\n",
      "Song 10: \"As the Rhyme Goes On\"\n",
      "Song 11: \"Lyrics of Fury\"\n",
      "Song 12: \"In The Ghetto\"\n",
      "Song 13: \"Mahogany\"\n",
      "Song 14: \"Let the Rhythm Hit ’Em\"\n",
      "Song 15: \"Move the Crowd\"\n",
      "Song 16: \"Paid in Full Album Cover (Annotated by Artist)\"\n",
      "Song 17: \"What’s On Your Mind\"\n",
      "Song 18: \"No Competition\"\n",
      "Song 19: \"Paid in Full (Seven Minutes of Madness – The Coldcut Remix)\"\n",
      "Song 20: \"Casualties of War\"\n",
      "Song 21: \"No Omega\"\n",
      "Song 22: \"The Punisher\"\n",
      "Song 23: \"Musical Massacre\"\n",
      "Song 24: \"Eric B. Is on the Cut\"\n",
      "Song 25: \"Put Your Hands Together\"\n",
      "Song 26: \"The R\"\n",
      "Song 27: \"Teach the Children\"\n",
      "Song 28: \"Chinese Arithmetic\"\n",
      "Song 29: \"Keep the Beat\"\n",
      "Song 30: \"Untouchables\"\n",
      "Song 31: \"Step Back\"\n",
      "Song 32: \"Pass the Hand Grenade\"\n",
      "Song 33: \"To the Listeners\"\n",
      "Song 34: \"Extended Beat\"\n",
      "Song 35: \"What’s Going On?\"\n",
      "Song 36: \"Run for Cover\"\n",
      "Song 37: \"Set ’Em Straight\"\n",
      "Song 38: \"Kick Along\"\n",
      "Song 39: \"Relax With Pep\"\n",
      "Song 40: \"Eric B. Never Scared\"\n",
      "Song 41: \"My Melody (Original Mix)\"\n",
      "Song 42: \"Rest Assured\"\n",
      "Song 43: \"Keep ’Em Eager to Listen\"\n",
      "Song 44: \"Just A Beat\"\n",
      "Song 45: \"Microphone Fiend (Extended Remix)\"\n",
      "Song 46: \"My Melody (Dub Version)\"\n",
      "Song 47: \"Beats for the Listeners\"\n",
      "Song 48: \"I Know You Got Soul (The Richie Rich Mega Mix)\"\n",
      "Song 49: \"Paid in Full (Derek B’s Urban Respray)\"\n",
      "Song 50: \"Eric B. Made My Day\"\n",
      "Song 51: \"I Know You Got Soul (Acappella Version)\"\n",
      "Song 52: \"Let The Rhythm Hit ’Em (12\" Vocal Version Remix)\"\n",
      "Song 53: \"As the Rhyme Goes On (Radio Mix)\"\n",
      "Song 54: \"In the Ghetto (extended mix)\"\n",
      "Song 55: \"The R (remix edit)\"\n",
      "Song 56: \"Eric B. Is President (dub version)\"\n",
      "Song 57: \"As the Rhyme Goes On (Pumpin’ the Turbo: Chad Jay in Effect)\"\n",
      "Song 58: \"Move the Crowd (The Wild Bunch Remix)\"\n",
      "Song 59: \"Flow Forever\"\n",
      "Song 60: \"I Know\"\n",
      "Song 61: \"What’s on Your Mind (House Party II Rap Theme) (extended vocal version)\"\n",
      "Song 62: \"Let the Rhythm Hit ’Em (clean UPSO mix)\"\n",
      "Song 63: \"Mahogany (clean version)\"\n",
      "Song 64: \"St. Ides Commercial\"\n",
      "Song 65: \"My Melody (clean original mix)\"\n",
      "Song 66: \"No Omega (extended remix)\"\n",
      "Song 67: \"Let the Rhythm Hit Em (DJ Shadow remix)\"\n",
      "Song 68: \"Casualties of War (Radical radio edit)\"\n"
     ]
    },
    {
     "name": "stderr",
     "output_type": "stream",
     "text": [
      "\n",
      "\n",
      "\n",
      "\n",
      "\n",
      "\n",
      "\n",
      "\n",
      "\n",
      "\n",
      "\n",
      "\n",
      "\n",
      "  9%|▉         | 1/11 [02:28<24:48, 148.81s/it]\u001b[A\u001b[A\u001b[A\u001b[A\u001b[A\u001b[A\u001b[A\u001b[A\u001b[A\u001b[A\u001b[A\u001b[A\u001b[A"
     ]
    },
    {
     "name": "stdout",
     "output_type": "stream",
     "text": [
      "Done. Found 68 songs.\n",
      "Wrote Paid in Full to lyrics_ericb.rakim_paidinfull.json.\n",
      "Wrote I Ain’t No Joke to lyrics_ericb.rakim_iaintnojoke.json.\n",
      "Wrote My Melody to lyrics_ericb.rakim_mymelody.json.\n",
      "Wrote Follow the Leader to lyrics_ericb.rakim_followtheleader.json.\n",
      "Wrote I Know You Got Soul to lyrics_ericb.rakim_iknowyougotsoul.json.\n",
      "Wrote Microphone Fiend to lyrics_ericb.rakim_microphonefiend.json.\n",
      "Wrote Eric B. Is President to lyrics_ericb.rakim_ericb.ispresident.json.\n",
      "Wrote Juice (Know the Ledge) to lyrics_ericb.rakim_juiceknowtheledge.json.\n",
      "Wrote Don’t Sweat the Technique to lyrics_ericb.rakim_dontsweatthetechnique.json.\n",
      "Wrote As the Rhyme Goes On to lyrics_ericb.rakim_astherhymegoeson.json.\n",
      "Wrote Lyrics of Fury to lyrics_ericb.rakim_lyricsoffury.json.\n",
      "Wrote In The Ghetto to lyrics_ericb.rakim_intheghetto.json.\n",
      "Wrote Mahogany to lyrics_ericb.rakim_mahogany.json.\n",
      "Wrote Let the Rhythm Hit ’Em to lyrics_ericb.rakim_lettherhythmhitem.json.\n",
      "Wrote Move the Crowd to lyrics_ericb.rakim_movethecrowd.json.\n",
      "Wrote Paid in Full Album Cover (Annotated by Artist) to lyrics_ericb.rakim_paidinfullalbumcoverannotatedbyartist.json.\n",
      "Wrote What’s On Your Mind to lyrics_ericb.rakim_whatsonyourmind.json.\n",
      "Wrote No Competition to lyrics_ericb.rakim_nocompetition.json.\n",
      "Wrote Paid in Full (Seven Minutes of Madness – The Coldcut Remix) to lyrics_ericb.rakim_paidinfullsevenminutesofmadnessthecoldcutremix.json.\n",
      "Wrote Casualties of War to lyrics_ericb.rakim_casualtiesofwar.json.\n",
      "Wrote No Omega to lyrics_ericb.rakim_noomega.json.\n",
      "Wrote The Punisher to lyrics_ericb.rakim_thepunisher.json.\n",
      "Wrote Musical Massacre to lyrics_ericb.rakim_musicalmassacre.json.\n",
      "Wrote Eric B. Is on the Cut to lyrics_ericb.rakim_ericb.isonthecut.json.\n",
      "Wrote Put Your Hands Together to lyrics_ericb.rakim_putyourhandstogether.json.\n",
      "Wrote The R to lyrics_ericb.rakim_ther.json.\n",
      "Wrote Teach the Children to lyrics_ericb.rakim_teachthechildren.json.\n",
      "Wrote Chinese Arithmetic to lyrics_ericb.rakim_chinesearithmetic.json.\n",
      "Wrote Keep the Beat to lyrics_ericb.rakim_keepthebeat.json.\n",
      "Wrote Untouchables to lyrics_ericb.rakim_untouchables.json.\n",
      "Wrote Step Back to lyrics_ericb.rakim_stepback.json.\n",
      "Wrote Pass the Hand Grenade to lyrics_ericb.rakim_passthehandgrenade.json.\n",
      "Wrote To the Listeners to lyrics_ericb.rakim_tothelisteners.json.\n",
      "Wrote Extended Beat to lyrics_ericb.rakim_extendedbeat.json.\n",
      "Wrote What’s Going On? to lyrics_ericb.rakim_whatsgoingon.json.\n",
      "Wrote Run for Cover to lyrics_ericb.rakim_runforcover.json.\n",
      "Wrote Set ’Em Straight to lyrics_ericb.rakim_setemstraight.json.\n",
      "Wrote Kick Along to lyrics_ericb.rakim_kickalong.json.\n",
      "Wrote Relax With Pep to lyrics_ericb.rakim_relaxwithpep.json.\n",
      "Wrote Eric B. Never Scared to lyrics_ericb.rakim_ericb.neverscared.json.\n",
      "Wrote My Melody (Original Mix) to lyrics_ericb.rakim_mymelodyoriginalmix.json.\n",
      "Wrote Rest Assured to lyrics_ericb.rakim_restassured.json.\n",
      "Wrote Keep ’Em Eager to Listen to lyrics_ericb.rakim_keepemeagertolisten.json.\n",
      "Wrote Just A Beat to lyrics_ericb.rakim_justabeat.json.\n",
      "Wrote Microphone Fiend (Extended Remix) to lyrics_ericb.rakim_microphonefiendextendedremix.json.\n",
      "Wrote My Melody (Dub Version) to lyrics_ericb.rakim_mymelodydubversion.json.\n",
      "Wrote Beats for the Listeners to lyrics_ericb.rakim_beatsforthelisteners.json.\n",
      "Wrote I Know You Got Soul (The Richie Rich Mega Mix) to lyrics_ericb.rakim_iknowyougotsoultherichierichmegamix.json.\n",
      "Wrote Paid in Full (Derek B’s Urban Respray) to lyrics_ericb.rakim_paidinfullderekbsurbanrespray.json.\n",
      "Wrote Eric B. Made My Day to lyrics_ericb.rakim_ericb.mademyday.json.\n",
      "Wrote I Know You Got Soul (Acappella Version) to lyrics_ericb.rakim_iknowyougotsoulacappellaversion.json.\n",
      "Wrote Let The Rhythm Hit ’Em (12\" Vocal Version Remix) to lyrics_ericb.rakim_lettherhythmhitem12vocalversionremix.json.\n",
      "Wrote As the Rhyme Goes On (Radio Mix) to lyrics_ericb.rakim_astherhymegoesonradiomix.json.\n",
      "Wrote In the Ghetto (extended mix) to lyrics_ericb.rakim_intheghettoextendedmix.json.\n",
      "Wrote The R (remix edit) to lyrics_ericb.rakim_therremixedit.json.\n",
      "Wrote Eric B. Is President (dub version) to lyrics_ericb.rakim_ericb.ispresidentdubversion.json.\n",
      "Wrote As the Rhyme Goes On (Pumpin’ the Turbo: Chad Jay in Effect) to lyrics_ericb.rakim_astherhymegoesonpumpintheturbochadjayineffect.json.\n",
      "Wrote Move the Crowd (The Wild Bunch Remix) to lyrics_ericb.rakim_movethecrowdthewildbunchremix.json.\n",
      "Wrote Flow Forever to lyrics_ericb.rakim_flowforever.json.\n",
      "Wrote I Know to lyrics_ericb.rakim_iknow.json.\n",
      "Wrote What’s on Your Mind (House Party II Rap Theme) (extended vocal version) to lyrics_ericb.rakim_whatsonyourmindhousepartyiirapthemeextendedvocalversion.json.\n",
      "Wrote Let the Rhythm Hit ’Em (clean UPSO mix) to lyrics_ericb.rakim_lettherhythmhitemcleanupsomix.json.\n",
      "Wrote Mahogany (clean version) to lyrics_ericb.rakim_mahoganycleanversion.json.\n",
      "Wrote St. Ides Commercial to lyrics_ericb.rakim_st.idescommercial.json.\n",
      "Wrote My Melody (clean original mix) to lyrics_ericb.rakim_mymelodycleanoriginalmix.json.\n",
      "Wrote No Omega (extended remix) to lyrics_ericb.rakim_noomegaextendedremix.json.\n",
      "Wrote Let the Rhythm Hit Em (DJ Shadow remix) to lyrics_ericb.rakim_lettherhythmhitemdjshadowremix.json.\n",
      "Wrote Casualties of War (Radical radio edit) to lyrics_ericb.rakim_casualtiesofwarradicalradioedit.json.\n",
      "----------Getting the # 91 artist----------\n",
      "Searching for songs by Lil Uzi Vert...\n",
      "\n",
      "Song 1: \"XO TOUR Llif3\"\n",
      "Song 2: \"The Way Life Goes\"\n",
      "Song 3: \"New Patek\"\n",
      "Song 4: \"You Was Right\"\n",
      "Song 5: \"Money Longer\"\n",
      "Song 6: \"Ps & Qs\"\n",
      "Song 7: \"Erase Your Social\"\n",
      "Song 8: \"The Way Life Goes (Remix)\"\n",
      "Song 9: \"Sanguine Paradise\"\n",
      "Song 10: \"20 Min\"\n",
      "Song 11: \"Buy It\"\n",
      "Song 12: \"Sauce It Up\"\n",
      "Song 13: \"Top\"\n",
      "Song 14: \"Do What I Want\"\n",
      "Song 15: \"7AM\"\n",
      "Song 16: \"Dark Queen\"\n",
      "Song 17: \"Neon Guts\"\n",
      "Song 18: \"SideLine Watching (Hold Up)\"\n",
      "Song 19: \"That’s a Rack\"\n",
      "Song 20: \"444+222\"\n",
      "Song 21: \"X\"\n",
      "Song 22: \"LUV SCARS K.o 1600\"\n",
      "Song 23: \"Free Uzi\"\n",
      "Song 24: \"Grab the Wheel\"\n",
      "Song 25: \"Canadian Goose\"\n",
      "Song 26: \"Seven Million\"\n",
      "Song 27: \"Zoom\"\n",
      "Song 28: \"Hi Roller\"\n",
      "Song 29: \"For Real\"\n",
      "Song 30: \"Two®\"\n",
      "Song 31: \"Super Saiyan\"\n",
      "Song 32: \"Feelings Mutual\"\n",
      "Song 33: \"UnFazed\"\n",
      "Song 34: \"Enemies\"\n",
      "Song 35: \"Baby Are You Home\"\n",
      "Song 36: \"How to Talk\"\n",
      "Song 37: \"Ronda (Winners)\"\n",
      "Song 38: \"Like Me (Myron)*\"\n",
      "Song 39: \"No Sleep Leak\"\n",
      "Song 40: \"I Can Drive\"\n",
      "Song 41: \"Right Now\"\n",
      "Song 42: \"Scott and Ramona\"\n",
      "Song 43: \"Of Course\"\n",
      "Song 44: \"Nuyork Nights at 21\"\n",
      "Song 45: \"Pretty Mami\"\n",
      "Song 46: \"Loaded\"\n",
      "Song 47: \"Of Course We Ghetto Flowers\"\n",
      "Song 48: \"YSL\"\n",
      "Song 49: \"Team Rocket\"\n",
      "Song 50: \"Early 20 Rager\"\n",
      "Song 51: \"Count Up*\"\n",
      "Song 52: \"All My Chains\"\n",
      "Song 53: \"Money Mitch\"\n",
      "Song 54: \"You’re Lost\"\n",
      "Song 55: \"Ready Set Go (VLone)\"\n",
      "Timeout raised and caught:\n",
      "HTTPSConnectionPool(host='api.genius.com', port=443): Read timed out. (read timeout=5)\n"
     ]
    },
    {
     "ename": "TypeError",
     "evalue": "argument of type 'NoneType' is not iterable",
     "output_type": "error",
     "traceback": [
      "\u001b[0;31m---------------------------------------------------------------------------\u001b[0m",
      "\u001b[0;31mTypeError\u001b[0m                                 Traceback (most recent call last)",
      "\u001b[0;32m<ipython-input-21-96716d722e13>\u001b[0m in \u001b[0;36m<module>\u001b[0;34m\u001b[0m\n\u001b[1;32m      3\u001b[0m     \u001b[0mtime\u001b[0m\u001b[0;34m.\u001b[0m\u001b[0msleep\u001b[0m\u001b[0;34m(\u001b[0m\u001b[0;36m0.5\u001b[0m\u001b[0;34m)\u001b[0m\u001b[0;34m\u001b[0m\u001b[0;34m\u001b[0m\u001b[0m\n\u001b[1;32m      4\u001b[0m     \u001b[0mprint\u001b[0m\u001b[0;34m(\u001b[0m\u001b[0;34m'-'\u001b[0m\u001b[0;34m*\u001b[0m\u001b[0;36m10\u001b[0m\u001b[0;34m+\u001b[0m\u001b[0;34m'Getting the # '\u001b[0m\u001b[0;34m+\u001b[0m \u001b[0mstr\u001b[0m\u001b[0;34m(\u001b[0m\u001b[0mx\u001b[0m\u001b[0;34m+\u001b[0m\u001b[0;36m1\u001b[0m\u001b[0;34m)\u001b[0m\u001b[0;34m+\u001b[0m\u001b[0;34m' artist'\u001b[0m\u001b[0;34m+\u001b[0m\u001b[0;34m'-'\u001b[0m\u001b[0;34m*\u001b[0m\u001b[0;36m10\u001b[0m\u001b[0;34m)\u001b[0m\u001b[0;34m\u001b[0m\u001b[0;34m\u001b[0m\u001b[0m\n\u001b[0;32m----> 5\u001b[0;31m     \u001b[0msave_lyrics\u001b[0m\u001b[0;34m(\u001b[0m\u001b[0martists_list\u001b[0m\u001b[0;34m[\u001b[0m\u001b[0mx\u001b[0m\u001b[0;34m]\u001b[0m\u001b[0;34m,\u001b[0m\u001b[0;36m500\u001b[0m\u001b[0;34m)\u001b[0m\u001b[0;34m\u001b[0m\u001b[0;34m\u001b[0m\u001b[0m\n\u001b[0m",
      "\u001b[0;32m<ipython-input-5-15f565c8829c>\u001b[0m in \u001b[0;36msave_lyrics\u001b[0;34m(artist, number_song)\u001b[0m\n\u001b[1;32m      1\u001b[0m \u001b[0;31m#Function to find songs lyrics\u001b[0m\u001b[0;34m\u001b[0m\u001b[0;34m\u001b[0m\u001b[0;34m\u001b[0m\u001b[0m\n\u001b[1;32m      2\u001b[0m \u001b[0;32mdef\u001b[0m \u001b[0msave_lyrics\u001b[0m\u001b[0;34m(\u001b[0m\u001b[0martist\u001b[0m\u001b[0;34m,\u001b[0m\u001b[0mnumber_song\u001b[0m\u001b[0;34m)\u001b[0m\u001b[0;34m:\u001b[0m\u001b[0;34m\u001b[0m\u001b[0;34m\u001b[0m\u001b[0m\n\u001b[0;32m----> 3\u001b[0;31m     \u001b[0;32mreturn\u001b[0m \u001b[0msearch_song\u001b[0m\u001b[0;34m(\u001b[0m\u001b[0martist\u001b[0m\u001b[0;34m,\u001b[0m\u001b[0mnumber_song\u001b[0m\u001b[0;34m)\u001b[0m\u001b[0;34m.\u001b[0m\u001b[0msave_lyrics\u001b[0m\u001b[0;34m(\u001b[0m\u001b[0;34m)\u001b[0m\u001b[0;34m\u001b[0m\u001b[0;34m\u001b[0m\u001b[0m\n\u001b[0m",
      "\u001b[0;32m<ipython-input-3-9ed02a29f5a8>\u001b[0m in \u001b[0;36msearch_song\u001b[0;34m(artist, number_song)\u001b[0m\n\u001b[1;32m      1\u001b[0m \u001b[0;31m#building a search function to find a defined number of songs for an artist\u001b[0m\u001b[0;34m\u001b[0m\u001b[0;34m\u001b[0m\u001b[0;34m\u001b[0m\u001b[0m\n\u001b[1;32m      2\u001b[0m \u001b[0;32mdef\u001b[0m \u001b[0msearch_song\u001b[0m\u001b[0;34m(\u001b[0m\u001b[0martist\u001b[0m\u001b[0;34m,\u001b[0m\u001b[0mnumber_song\u001b[0m\u001b[0;34m)\u001b[0m\u001b[0;34m:\u001b[0m\u001b[0;34m\u001b[0m\u001b[0;34m\u001b[0m\u001b[0m\n\u001b[0;32m----> 3\u001b[0;31m         \u001b[0mresults\u001b[0m\u001b[0;34m=\u001b[0m \u001b[0mapi\u001b[0m\u001b[0;34m.\u001b[0m\u001b[0msearch_artist\u001b[0m\u001b[0;34m(\u001b[0m\u001b[0martist\u001b[0m\u001b[0;34m,\u001b[0m \u001b[0mmax_songs\u001b[0m\u001b[0;34m=\u001b[0m\u001b[0mnumber_song\u001b[0m\u001b[0;34m)\u001b[0m\u001b[0;34m\u001b[0m\u001b[0;34m\u001b[0m\u001b[0m\n\u001b[0m\u001b[1;32m      4\u001b[0m         \u001b[0;32mreturn\u001b[0m \u001b[0mresults\u001b[0m\u001b[0;34m\u001b[0m\u001b[0;34m\u001b[0m\u001b[0m\n",
      "\u001b[0;32m~/anaconda3/lib/python3.7/site-packages/lyricsgenius/api.py\u001b[0m in \u001b[0;36msearch_artist\u001b[0;34m(self, artist_name, max_songs, sort, per_page, get_full_info, allow_name_change, artist_id)\u001b[0m\n\u001b[1;32m    354\u001b[0m                 \u001b[0;32melse\u001b[0m\u001b[0;34m:\u001b[0m\u001b[0;34m\u001b[0m\u001b[0;34m\u001b[0m\u001b[0m\n\u001b[1;32m    355\u001b[0m                     \u001b[0minfo\u001b[0m \u001b[0;34m=\u001b[0m \u001b[0;34m{\u001b[0m\u001b[0;34m'song'\u001b[0m\u001b[0;34m:\u001b[0m \u001b[0msong_info\u001b[0m\u001b[0;34m}\u001b[0m\u001b[0;34m\u001b[0m\u001b[0;34m\u001b[0m\u001b[0m\n\u001b[0;32m--> 356\u001b[0;31m                 \u001b[0msong\u001b[0m \u001b[0;34m=\u001b[0m \u001b[0mSong\u001b[0m\u001b[0;34m(\u001b[0m\u001b[0minfo\u001b[0m\u001b[0;34m,\u001b[0m \u001b[0mlyrics\u001b[0m\u001b[0;34m)\u001b[0m\u001b[0;34m\u001b[0m\u001b[0;34m\u001b[0m\u001b[0m\n\u001b[0m\u001b[1;32m    357\u001b[0m \u001b[0;34m\u001b[0m\u001b[0m\n\u001b[1;32m    358\u001b[0m                 \u001b[0;31m# Attempt to add the Song to the Artist\u001b[0m\u001b[0;34m\u001b[0m\u001b[0;34m\u001b[0m\u001b[0;34m\u001b[0m\u001b[0m\n",
      "\u001b[0;32m~/anaconda3/lib/python3.7/site-packages/lyricsgenius/song.py\u001b[0m in \u001b[0;36m__init__\u001b[0;34m(self, json_dict, lyrics)\u001b[0m\n\u001b[1;32m     24\u001b[0m             \u001b[0msave_lyrics\u001b[0m\u001b[0;34m:\u001b[0m \u001b[0mSave\u001b[0m \u001b[0mthe\u001b[0m \u001b[0msong\u001b[0m \u001b[0mlyrics\u001b[0m \u001b[0mto\u001b[0m \u001b[0ma\u001b[0m \u001b[0mJSON\u001b[0m \u001b[0;32mor\u001b[0m \u001b[0mTXT\u001b[0m \u001b[0mfile\u001b[0m\u001b[0;34m.\u001b[0m\u001b[0;34m\u001b[0m\u001b[0;34m\u001b[0m\u001b[0m\n\u001b[1;32m     25\u001b[0m         \"\"\"\n\u001b[0;32m---> 26\u001b[0;31m         \u001b[0mself\u001b[0m\u001b[0;34m.\u001b[0m\u001b[0m_body\u001b[0m \u001b[0;34m=\u001b[0m \u001b[0mjson_dict\u001b[0m\u001b[0;34m[\u001b[0m\u001b[0;34m'song'\u001b[0m\u001b[0;34m]\u001b[0m \u001b[0;32mif\u001b[0m \u001b[0;34m'song'\u001b[0m \u001b[0;32min\u001b[0m \u001b[0mjson_dict\u001b[0m \u001b[0;32melse\u001b[0m \u001b[0mjson_dict\u001b[0m\u001b[0;34m\u001b[0m\u001b[0;34m\u001b[0m\u001b[0m\n\u001b[0m\u001b[1;32m     27\u001b[0m         \u001b[0mself\u001b[0m\u001b[0;34m.\u001b[0m\u001b[0m_body\u001b[0m\u001b[0;34m[\u001b[0m\u001b[0;34m'lyrics'\u001b[0m\u001b[0;34m]\u001b[0m \u001b[0;34m=\u001b[0m \u001b[0mlyrics\u001b[0m\u001b[0;34m\u001b[0m\u001b[0;34m\u001b[0m\u001b[0m\n\u001b[1;32m     28\u001b[0m         \u001b[0mself\u001b[0m\u001b[0;34m.\u001b[0m\u001b[0m_url\u001b[0m \u001b[0;34m=\u001b[0m \u001b[0mself\u001b[0m\u001b[0;34m.\u001b[0m\u001b[0m_body\u001b[0m\u001b[0;34m[\u001b[0m\u001b[0;34m'url'\u001b[0m\u001b[0;34m]\u001b[0m\u001b[0;34m\u001b[0m\u001b[0;34m\u001b[0m\u001b[0m\n",
      "\u001b[0;31mTypeError\u001b[0m: argument of type 'NoneType' is not iterable"
     ]
    }
   ],
   "source": [
    "#Saving lyrics for 50 artists\n",
    "for x in tqdm(range(90,100)):\n",
    "    time.sleep(0.5)\n",
    "    print('-'*10+'Getting the # '+ str(x+1)+' artist'+'-'*10)\n",
    "    save_lyrics(artists_list[x],500)"
   ]
  },
  {
   "cell_type": "code",
   "execution_count": null,
   "metadata": {},
   "outputs": [],
   "source": []
  }
 ],
 "metadata": {
  "kernelspec": {
   "display_name": "Python 3",
   "language": "python",
   "name": "python3"
  },
  "language_info": {
   "codemirror_mode": {
    "name": "ipython",
    "version": 3
   },
   "file_extension": ".py",
   "mimetype": "text/x-python",
   "name": "python",
   "nbconvert_exporter": "python",
   "pygments_lexer": "ipython3",
   "version": "3.7.3"
  },
  "toc": {
   "base_numbering": 1,
   "nav_menu": {},
   "number_sections": true,
   "sideBar": true,
   "skip_h1_title": false,
   "title_cell": "Table of Contents",
   "title_sidebar": "Contents",
   "toc_cell": false,
   "toc_position": {},
   "toc_section_display": true,
   "toc_window_display": false
  }
 },
 "nbformat": 4,
 "nbformat_minor": 2
}
