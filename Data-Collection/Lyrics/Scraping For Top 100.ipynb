{
 "cells": [
  {
   "cell_type": "markdown",
   "metadata": {},
   "source": [
    "### Helpers"
   ]
  },
  {
   "cell_type": "code",
   "execution_count": 10,
   "metadata": {},
   "outputs": [],
   "source": [
    "import requests\n",
    "from IPython.display import HTML, display\n",
    "from bs4 import BeautifulSoup\n",
    "import pickle\n",
    "import numpy as np\n",
    "import pandas as pd\n",
    "import sys\n",
    "import re"
   ]
  },
  {
   "cell_type": "code",
   "execution_count": 11,
   "metadata": {},
   "outputs": [],
   "source": [
    "#from 49 Years of Music - A Data Driven Study of Lyrics by Carl Sharpe\n",
    "def collect_songs_from_billboard(start_year,end_year):\n",
    "    '''This function takes in a start year and and end year, then iterates through each year to \n",
    "    pull song data from billboard or bobborst as needed. Then it uses beautiful soup to clean\n",
    "    the data. Finally it stores the cleaned data in a dataframe and returns it\n",
    "    \n",
    "    Parameters:\n",
    "    \n",
    "    start_year (int): the year to start at.\n",
    "    end_year (int): the year to end at.\n",
    "    Returns: \n",
    "    \n",
    "    dataframe.\n",
    "    '''\n",
    "    \n",
    "    years = np.arange(start_year, end_year + 1).astype(int)\n",
    "    dataset = pd.DataFrame()\n",
    "    url_list = []\n",
    "    all_years = pd.DataFrame()\n",
    "    ### Billboard doesn't have it's own complete results from 1970 to 2016,\n",
    "    ### so we'll use bobborst.com as our primary and collect from billboard as needed\n",
    "    alternate_site_collection_range = np.arange(start_year, 2017)\n",
    "    #URL Constructor\n",
    "    for i in range (0, len(years)):\n",
    "        url_list.append(\"https://www.billboard.com/charts/year-end/\" + str(years[i]) + \"/hot-100-songs\")      \n",
    "    for i in range(0, len(url_list)):\n",
    "        if years[i] in alternate_site_collection_range:\n",
    "            sys.stdout.write(\"\\r\" + \"Collecting Songs from \" +str(years[i]) + \" via http://www.bobborst.com\")\n",
    "            sys.stdout.flush()    \n",
    "            url = \"http://www.bobborst.com/popculture/top-100-songs-of-the-year/?year=\" + str(years[i])\n",
    "            page = requests.get(url)\n",
    "            soup = BeautifulSoup(page.content, \"html.parser\")\n",
    "            table = soup.find('table', {'class': 'sortable alternate songtable'})\n",
    "            rows = table.find_all('tr')\n",
    "            for j in range(2,102):\n",
    "                columns = rows[j].find_all('td')\n",
    "                #print(columns)\n",
    "                row = {\n",
    "                    \"Rank\": columns[0].get_text(strip=True),\n",
    "                    \"Artist\": columns[1].get_text(strip=True),\n",
    "                    \"Song Title\": columns[2].get_text(strip=True),\n",
    "                    \"Year\": years[i]\n",
    "                }\n",
    "                dataset = dataset.append(row, ignore_index=True)\n",
    "            \n",
    "        else:\n",
    "            sys.stdout.write(\"\\r\" + \"Collecting Songs from \" +str(years[i]) + \" via https://www.billboard.com\")\n",
    "            sys.stdout.flush()\n",
    "            url = \"https://www.billboard.com/charts/year-end/\" + str(years[i]) + \"/hot-100-songs\"\n",
    "            page = requests.get(url)\n",
    "            soup = BeautifulSoup(page.content, \"html.parser\")\n",
    "            all_ranks = soup.find_all(\"div\", class_=\"ye-chart-item__rank\")\n",
    "            all_titles = soup.find_all('div', class_=\"ye-chart-item__title\")\n",
    "            all_artists = soup.find_all(\"div\", class_=\"ye-chart-item__artist\")\n",
    "            for j in range (0, len(all_ranks)):\n",
    "                row = {\n",
    "                    \"Rank\": all_ranks[j].get_text(strip=True),\n",
    "                    \"Song Title\": all_titles[j].get_text(strip=True),\n",
    "                    \"Artist\": all_artists[j].get_text(strip=True),\n",
    "                    \"Year\": years[i]\n",
    "                }\n",
    "                dataset = dataset.append(row, ignore_index=True)\n",
    "    dataset['Year'] = dataset['Year'].astype(int)\n",
    "    return dataset"
   ]
  },
  {
   "cell_type": "code",
   "execution_count": 12,
   "metadata": {},
   "outputs": [
    {
     "name": "stdout",
     "output_type": "stream",
     "text": [
      "Collecting Songs from 2018 via https://www.billboard.com"
     ]
    }
   ],
   "source": [
    "all_songs = collect_songs_from_billboard(1970, 2018)"
   ]
  },
  {
   "cell_type": "code",
   "execution_count": 13,
   "metadata": {},
   "outputs": [
    {
     "data": {
      "text/html": [
       "<div>\n",
       "<style scoped>\n",
       "    .dataframe tbody tr th:only-of-type {\n",
       "        vertical-align: middle;\n",
       "    }\n",
       "\n",
       "    .dataframe tbody tr th {\n",
       "        vertical-align: top;\n",
       "    }\n",
       "\n",
       "    .dataframe thead th {\n",
       "        text-align: right;\n",
       "    }\n",
       "</style>\n",
       "<table border=\"1\" class=\"dataframe\">\n",
       "  <thead>\n",
       "    <tr style=\"text-align: right;\">\n",
       "      <th></th>\n",
       "      <th>Artist</th>\n",
       "      <th>Rank</th>\n",
       "      <th>Song Title</th>\n",
       "      <th>Year</th>\n",
       "    </tr>\n",
       "  </thead>\n",
       "  <tbody>\n",
       "    <tr>\n",
       "      <th>0</th>\n",
       "      <td>Simon and Garfunkel</td>\n",
       "      <td>1</td>\n",
       "      <td>Bridge Over Troubled Water</td>\n",
       "      <td>1970</td>\n",
       "    </tr>\n",
       "    <tr>\n",
       "      <th>1</th>\n",
       "      <td>Carpenters</td>\n",
       "      <td>2</td>\n",
       "      <td>(They Long To Be) Close To You</td>\n",
       "      <td>1970</td>\n",
       "    </tr>\n",
       "    <tr>\n",
       "      <th>2</th>\n",
       "      <td>Guess Who</td>\n",
       "      <td>3</td>\n",
       "      <td>American Woman / No Sugar Tonight</td>\n",
       "      <td>1970</td>\n",
       "    </tr>\n",
       "    <tr>\n",
       "      <th>3</th>\n",
       "      <td>B.J. Thomas</td>\n",
       "      <td>4</td>\n",
       "      <td>Raindrops Keep Fallin' On My Head</td>\n",
       "      <td>1970</td>\n",
       "    </tr>\n",
       "    <tr>\n",
       "      <th>4</th>\n",
       "      <td>Edwin Starr</td>\n",
       "      <td>5</td>\n",
       "      <td>War</td>\n",
       "      <td>1970</td>\n",
       "    </tr>\n",
       "  </tbody>\n",
       "</table>\n",
       "</div>"
      ],
      "text/plain": [
       "                Artist Rank                         Song Title  Year\n",
       "0  Simon and Garfunkel    1         Bridge Over Troubled Water  1970\n",
       "1           Carpenters    2     (They Long To Be) Close To You  1970\n",
       "2            Guess Who    3  American Woman / No Sugar Tonight  1970\n",
       "3          B.J. Thomas    4  Raindrops Keep Fallin' On My Head  1970\n",
       "4          Edwin Starr    5                                War  1970"
      ]
     },
     "metadata": {},
     "output_type": "display_data"
    },
    {
     "data": {
      "text/html": [
       "<div>\n",
       "<style scoped>\n",
       "    .dataframe tbody tr th:only-of-type {\n",
       "        vertical-align: middle;\n",
       "    }\n",
       "\n",
       "    .dataframe tbody tr th {\n",
       "        vertical-align: top;\n",
       "    }\n",
       "\n",
       "    .dataframe thead th {\n",
       "        text-align: right;\n",
       "    }\n",
       "</style>\n",
       "<table border=\"1\" class=\"dataframe\">\n",
       "  <thead>\n",
       "    <tr style=\"text-align: right;\">\n",
       "      <th></th>\n",
       "      <th>Artist</th>\n",
       "      <th>Rank</th>\n",
       "      <th>Song Title</th>\n",
       "      <th>Year</th>\n",
       "    </tr>\n",
       "  </thead>\n",
       "  <tbody>\n",
       "    <tr>\n",
       "      <th>4895</th>\n",
       "      <td>Luke Combs</td>\n",
       "      <td>96</td>\n",
       "      <td>One Number Away</td>\n",
       "      <td>2018</td>\n",
       "    </tr>\n",
       "    <tr>\n",
       "      <th>4896</th>\n",
       "      <td>Rae Sremmurd &amp; Juicy J</td>\n",
       "      <td>97</td>\n",
       "      <td>Powerglide</td>\n",
       "      <td>2018</td>\n",
       "    </tr>\n",
       "    <tr>\n",
       "      <th>4897</th>\n",
       "      <td>Dua Lipa</td>\n",
       "      <td>98</td>\n",
       "      <td>IDGAF</td>\n",
       "      <td>2018</td>\n",
       "    </tr>\n",
       "    <tr>\n",
       "      <th>4898</th>\n",
       "      <td>J Balvin &amp; Willy William Featuring Beyonce</td>\n",
       "      <td>99</td>\n",
       "      <td>Mi Gente</td>\n",
       "      <td>2018</td>\n",
       "    </tr>\n",
       "    <tr>\n",
       "      <th>4899</th>\n",
       "      <td>Imagine Dragons</td>\n",
       "      <td>100</td>\n",
       "      <td>Believer</td>\n",
       "      <td>2018</td>\n",
       "    </tr>\n",
       "  </tbody>\n",
       "</table>\n",
       "</div>"
      ],
      "text/plain": [
       "                                          Artist Rank       Song Title  Year\n",
       "4895                                  Luke Combs   96  One Number Away  2018\n",
       "4896                      Rae Sremmurd & Juicy J   97       Powerglide  2018\n",
       "4897                                    Dua Lipa   98            IDGAF  2018\n",
       "4898  J Balvin & Willy William Featuring Beyonce   99         Mi Gente  2018\n",
       "4899                             Imagine Dragons  100         Believer  2018"
      ]
     },
     "metadata": {},
     "output_type": "display_data"
    },
    {
     "data": {
      "text/plain": [
       "(4900, 4)"
      ]
     },
     "metadata": {},
     "output_type": "display_data"
    }
   ],
   "source": [
    "display(all_songs.head(5))\n",
    "display(all_songs.tail(5))\n",
    "display(all_songs.shape)"
   ]
  },
  {
   "cell_type": "code",
   "execution_count": null,
   "metadata": {},
   "outputs": [],
   "source": []
  }
 ],
 "metadata": {
  "kernelspec": {
   "display_name": "Python 3",
   "language": "python",
   "name": "python3"
  },
  "language_info": {
   "codemirror_mode": {
    "name": "ipython",
    "version": 3
   },
   "file_extension": ".py",
   "mimetype": "text/x-python",
   "name": "python",
   "nbconvert_exporter": "python",
   "pygments_lexer": "ipython3",
   "version": "3.7.3"
  },
  "toc": {
   "base_numbering": 1,
   "nav_menu": {},
   "number_sections": true,
   "sideBar": true,
   "skip_h1_title": false,
   "title_cell": "Table of Contents",
   "title_sidebar": "Contents",
   "toc_cell": false,
   "toc_position": {},
   "toc_section_display": true,
   "toc_window_display": false
  }
 },
 "nbformat": 4,
 "nbformat_minor": 2
}
