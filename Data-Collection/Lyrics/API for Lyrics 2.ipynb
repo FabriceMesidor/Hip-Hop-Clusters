{
 "cells": [
  {
   "cell_type": "markdown",
   "metadata": {},
   "source": [
    "#### Helpers"
   ]
  },
  {
   "cell_type": "code",
   "execution_count": 1,
   "metadata": {},
   "outputs": [],
   "source": [
    "import lyricsgenius as genius\n",
    "from tqdm import tqdm\n",
    "import time\n",
    "import credentials as cd "
   ]
  },
  {
   "cell_type": "code",
   "execution_count": 2,
   "metadata": {},
   "outputs": [],
   "source": [
    "#Authentification\n",
    "api = genius.Genius(client_access_token=cd.access_token)"
   ]
  },
  {
   "cell_type": "markdown",
   "metadata": {},
   "source": [
    "### Functions"
   ]
  },
  {
   "cell_type": "code",
   "execution_count": 3,
   "metadata": {},
   "outputs": [],
   "source": [
    "#building a search function to find a defined number of songs for an artist\n",
    "def search_song(artist,number_song):\n",
    "        results= api.search_artist(artist, max_songs=number_song)\n",
    "        return results"
   ]
  },
  {
   "cell_type": "code",
   "execution_count": 4,
   "metadata": {},
   "outputs": [],
   "source": [
    "#Function to find songs titles\n",
    "def find_song_title(results):\n",
    "    return [results.songs]"
   ]
  },
  {
   "cell_type": "code",
   "execution_count": 5,
   "metadata": {},
   "outputs": [],
   "source": [
    "#Function to find songs lyrics\n",
    "def save_lyrics(artist,number_song):\n",
    "    return search_song(artist,number_song).save_lyrics()"
   ]
  },
  {
   "cell_type": "markdown",
   "metadata": {},
   "source": [
    "### Getting songs from the artists list"
   ]
  },
  {
   "cell_type": "code",
   "execution_count": 6,
   "metadata": {},
   "outputs": [],
   "source": [
    "# Load file with all artists\n",
    "import pickle\n",
    "\n",
    "with open('../hip-hop-artist-ranker.pkl', 'rb') as f:\n",
    "    artists_list = pickle.load(f)"
   ]
  },
  {
   "cell_type": "code",
   "execution_count": 7,
   "metadata": {
    "scrolled": true
   },
   "outputs": [
    {
     "data": {
      "text/plain": [
       "814"
      ]
     },
     "execution_count": 7,
     "metadata": {},
     "output_type": "execute_result"
    }
   ],
   "source": [
    "#Checking correct list was imported\n",
    "len(artists_list)"
   ]
  },
  {
   "cell_type": "code",
   "execution_count": null,
   "metadata": {},
   "outputs": [
    {
     "name": "stderr",
     "output_type": "stream",
     "text": [
      "\n",
      "\n",
      "\n",
      "\n",
      "  0%|          | 0/46 [00:00<?, ?it/s]\u001b[A\u001b[A\u001b[A\u001b[A"
     ]
    },
    {
     "name": "stdout",
     "output_type": "stream",
     "text": [
      "----------Getting the # 205 artist----------\n",
      "Searching for songs by El-P...\n",
      "\n",
      "Song 1: \"The Full Retard\"\n"
     ]
    }
   ],
   "source": [
    "#Saving lyrics for 50 artists\n",
    "for x in tqdm(range(204,250)):\n",
    "    time.sleep(0.5)\n",
    "    print('-'*10+'Getting the # '+ str(x+1)+' artist'+'-'*10)\n",
    "    save_lyrics(artists_list[x],500)"
   ]
  },
  {
   "cell_type": "code",
   "execution_count": null,
   "metadata": {},
   "outputs": [],
   "source": [
    "\n"
   ]
  }
 ],
 "metadata": {
  "kernelspec": {
   "display_name": "Python 3",
   "language": "python",
   "name": "python3"
  },
  "toc": {
   "base_numbering": 1,
   "nav_menu": {},
   "number_sections": true,
   "sideBar": true,
   "skip_h1_title": false,
   "title_cell": "Table of Contents",
   "title_sidebar": "Contents",
   "toc_cell": false,
   "toc_position": {},
   "toc_section_display": true,
   "toc_window_display": false
  }
 },
 "nbformat": 4,
 "nbformat_minor": 2
}
