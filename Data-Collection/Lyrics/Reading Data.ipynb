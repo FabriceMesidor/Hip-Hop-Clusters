{
 "cells": [
  {
   "cell_type": "markdown",
   "metadata": {},
   "source": [
    "### Packages"
   ]
  },
  {
   "cell_type": "code",
   "execution_count": 1,
   "metadata": {},
   "outputs": [],
   "source": [
    "import pandas as pd\n",
    "import os, json\n",
    "from pathlib import Path\n",
    "import pickle\n",
    "import matplotlib.pyplot as plt"
   ]
  },
  {
   "cell_type": "code",
   "execution_count": null,
   "metadata": {},
   "outputs": [],
   "source": [
    "pwd"
   ]
  },
  {
   "cell_type": "markdown",
   "metadata": {},
   "source": [
    "## What in a json file"
   ]
  },
  {
   "cell_type": "code",
   "execution_count": 27,
   "metadata": {},
   "outputs": [
    {
     "data": {
      "text/plain": [
       "35214"
      ]
     },
     "execution_count": 27,
     "metadata": {},
     "output_type": "execute_result"
    }
   ],
   "source": [
    "#Save all json files that I have in the folder\n",
    "path_to_json ='/Users/fabricemesidor/Documents/Flatiron School/Projects/Final-Project/Hip-Hop-Clusters/Data-Collection/Lyrics'\n",
    "json_files = [pos_json for pos_json in os.listdir(path_to_json) if pos_json.endswith('.json')]\n",
    "len(json_files)"
   ]
  },
  {
   "cell_type": "code",
   "execution_count": 28,
   "metadata": {},
   "outputs": [],
   "source": [
    "with open('lyrics_eminem_walkonwaterstanlovethewayyouliesnlmedley.json') as json_file:\n",
    "    data = json.load(json_file)"
   ]
  },
  {
   "cell_type": "code",
   "execution_count": 29,
   "metadata": {},
   "outputs": [
    {
     "data": {
      "text/plain": [
       "{'songs': [{'title': 'Walk On Water/Stan/Love The Way You Lie (SNL Medley)',\n",
       "   'album': None,\n",
       "   'year': '2017-11-18',\n",
       "   'lyrics': 'Walk On Water\\n\\n[Chorus: Skylar Grey]\\nI walk on water\\nBut I ain\\'t no Jesus\\nI walk on water\\nBut only when it freezes\\n\\n[Verse 1: Eminem]\\nWhy are expectations so high? Is it the bar I set?\\nMy arms, I stretch, but I can\\'t reach\\nA far cry from it, or it\\'s in my grasp, but as\\nSoon as I grab, squeeze\\nI lose my grip like the flyin\\' trapeze\\nInto the dark I plummet, now the sky\\'s blackening\\nI know the mark\\'s high, butter–\\nFlies rip apart my stomach\\nKnowin\\' that no matter what bars I come with\\nYou\\'re gonna harp, gripe, and\\nThat\\'s a hard Vicodin to swallow, so I scrap these\\nAs pressure increases like khakis\\nI feel the ice cracking, because—\\n\\n[Chorus: Skylar Grey]\\nI walk on water\\nBut I ain\\'t no Jesus\\nI walk on water\\nBut only when it freezes\\n\\n[Verse 2: Eminem]\\nIt\\'s the curse of the standard\\nThat the first of the Mathers discs set\\nAlways in search of the verse that I haven\\'t spit yet\\nWill this step just be another misstep\\nTo tarnish whatever the legacy, love or respect\\nI\\'ve garnered? The rhyme has to be perfect, the delivery flawless\\nAnd it always feels like I\\'m hittin\\' the mark\\n\\'Til I go sit in the car, listen and pick it apart\\nLike, \"This shit is garbage!\"\\nGod\\'s given me all this, still, I feel no different regardless\\nKids look to me as a god, this is retarded\\nIf only they knew, it\\'s a facade and it\\'s exhaustive\\nAnd I try not to listen to nonsense\\nBut if you bitches are tryin\\' to strip me of my confidence\\nMission accomplished\\nI\\'m not God-sent, Nas, Rakim, \\'Pac, B.I.G., James Todd Smith\\nAnd I\\'m not Prince, so…\\n\\n[Chorus: Skylar Grey]\\nI walk on water\\nBut I ain\\'t no Jesus\\nI walk on water\\nBut only when it freezes\\n\\n[Post-Chorus: Skylar Grey]\\n\\'Cause I\\'m only human, just like you\\nMaking my mistakes, oh if you only knew\\nI don\\'t think you should believe in me the way that you do\\n\\'Cause I\\'m terrified to let you down, oh\\n\\n[Verse 3: Eminem]\\nIt\\'s true, I\\'m a Rubik\\'s — a beautiful mess\\nAt times juvenile, yes, I goof and I jest\\nA flawed human, I guess\\nBut I\\'m doin\\' my best to not ruin your ex–\\nPectations and meet \\'em, but first\\nThe \"Speedom\" verse, now Big Sean\\nHe\\'s goin\\' too fast, is he gonna shout or curse out his mom?\\nThere was a time I had the world by the balls, eatin\\' out my palm\\nEvery album song I was spazzin\\' the fuck out on\\nAnd now I\\'m gettin\\' frowned and clowned on\\nBut the only one who\\'s looking down on\\nMe that matters now\\'s DeShaun\\nAm I lucky to be around this long?\\nBegs the question though\\nEspecially after the methadone\\nAs yesterday fades and the Dresden home\\nIs burnt to the ground, and all that\\'s left of my house is lawn\\nThe crowds are gone\\nAnd it\\'s time to wash out the blonde\\nSales decline, the curtain\\'s drawn\\nThey\\'re closin\\' the set, I\\'m still pokin\\' my head from out behind\\nAnd everyone who has doubt, remind\\nNow take your best rhyme, outdo it, now do it a thousand times\\nNow let \\'em tell ya the world no longer cares or gives a fuck about your rhymes\\nAnd as I grow outta sight, outta mind, I might go outta mine\\n\\'Cause how do I ever let this mic go without a fight\\nWhen I made a fuckin\\' tightrope outta twine?\\nBut when I do fall from these heights though, I\\'ll be fine\\nI won\\'t pout or cry or spiral down or whine\\nBut I\\'ll decide if it\\'s my final bow this time around, \\'cause—\\n\\n[Chorus: Skylar Grey]\\nI walk on water\\nBut I ain\\'t no Jesus\\nI walk on water\\nBut only when it freezes\\n\\n[Post-Chorus: Skylar Grey]\\n\\'Cause I\\'m only human, just like you\\nI\\'ve been making my mistakes, oh if you only knew\\nI don\\'t think you should believe in me the way that you do\\n\\'Cause I\\'m terrified to let you down, oh\\nIf I walked on water, I would drown\\n\\n[Outro: Eminem]\\n\\'Cause I\\'m just a man\\nBut as long as I got a mic, I\\'m godlike\\nSo me and you are not alike\\nBitch, I wrote \"Stan\"\\n\\nStan\\n\\n[Chorus: Skylar Grey]\\nMy tea\\'s gone cold\\nI\\'m wondering why I got out of bed at all\\nThe morning rain clouds up my window\\nAnd I can\\'t see at all\\nAnd even if I could it\\'d all be gray\\nBut your picture on my wall\\nIt reminds me that it\\'s not so bad, it\\'s not so bad\\n\\n[Verse 1: Eminem (as Stan)]\\nDear Slim, I wrote you, but you still ain\\'t callin\\'\\nI left my cell, my pager and my home phone at the bottom\\nI sent two letters back in autumn, you must not\\'ve got \\'em\\nThere probably was a problem at the post office or somethin\\'\\nSometimes I scribble addresses too sloppy when I jot \\'em\\nBut anyways, fuck it, what\\'s been up, man? How\\'s your daughter?\\nMy girlfriend\\'s pregnant too, I\\'m \\'bout to be a father\\nIf I have a daughter, guess what I\\'ma call her?\\nI\\'ma name her Bonnie\\nI read about your Uncle Ronnie too, I\\'m sorry\\nI had a friend kill himself over some bitch who didn\\'t want him\\nI know you probably hear this every day, but I\\'m your biggest fan\\nI even got the underground shit that you did with Skam\\nI got a room full of your posters and your pictures, man\\nI like the shit you did with Rawkus too, that shit was phat\\nAnyways, I hope you get this, man, hit me back\\nJust to chat, truly yours, your biggest fan, this is Stan\\n\\n[Chorus: Skylar Grey]\\nMy tea\\'s gone cold\\nI\\'m wondering why I got out of bed at all\\nThe morning rain clouds up my window\\nAnd I can\\'t see at all\\nAnd even if I could it\\'d all be gray\\nBut your picture on my wall\\nIt reminds me that it\\'s not so bad, it\\'s not so bad\\n\\nLove the Way You Lie\\n\\n[Chorus: Skylar Grey]\\nJust gonna stand there and watch me burn\\nWell, that\\'s all right\\nBecause I like the way it hurts\\nJust gonna stand there and hear me cry\\nWell, that\\'s all right\\nBecause I love the way you lie\\nI love the way you lie\\n\\n[Verse 1: Eminem]\\nI can\\'t tell you what it really is\\nI can only tell you what it feels like\\nAnd right now there\\'s a steel knife in my windpipe\\nI can\\'t breathe, but I still fight while I can fight\\nAs long as the wrong feels right, it\\'s like I\\'m in flight\\nHigh off her love, drunk from her hate\\nIt\\'s like I\\'m huffin\\' paint\\nAnd I love her the more I suffer, I suffocate\\nAnd right before I\\'m about to drown she resuscitates me\\nShe fuckin\\' hates me, and I love it, “Wait!\\nWhere you going?”, “I\\'m leaving you.” “No, you ain\\'t\\nCome back!” We\\'re runnin\\' right back, here we go again\\nIt\\'s so insane, \\'cause when it\\'s goin\\' good it\\'s goin\\' great\\nI\\'m Superman with the wind at his back, she\\'s Lois Lane\\nBut when it\\'s bad it\\'s awful, I feel so ashamed\\nI snap, “Who\\'s that dude?”, I don\\'t even know his name\\nI laid hands on her, I\\'ll never stoop so low again\\nI guess I don\\'t know my own strength\\n\\n[Chorus: Skylar Grey]\\nJust gonna stand there and watch me burn\\nWell, that\\'s all right\\nBecause I like the way it hurts\\nJust gonna stand there and hear me cry\\nWell, that\\'s all right\\nBecause I love the way you lie\\nI love the way you lie\\nI love the way you lie',\n",
       "   'image': 'https://images.genius.com/b2ea8d981cb947d1c03afd85eebfe62a.630x630x1.jpg'}],\n",
       " 'artist': 'Eminem'}"
      ]
     },
     "execution_count": 29,
     "metadata": {},
     "output_type": "execute_result"
    }
   ],
   "source": [
    "data"
   ]
  },
  {
   "cell_type": "code",
   "execution_count": 30,
   "metadata": {
    "scrolled": true
   },
   "outputs": [
    {
     "data": {
      "text/plain": [
       "dict_keys(['songs', 'artist'])"
      ]
     },
     "execution_count": 30,
     "metadata": {},
     "output_type": "execute_result"
    }
   ],
   "source": [
    "data.keys()"
   ]
  },
  {
   "cell_type": "code",
   "execution_count": 31,
   "metadata": {},
   "outputs": [
    {
     "data": {
      "text/plain": [
       "dict_keys(['title', 'album', 'year', 'lyrics', 'image'])"
      ]
     },
     "execution_count": 31,
     "metadata": {},
     "output_type": "execute_result"
    }
   ],
   "source": [
    "data['songs'][0].keys()"
   ]
  },
  {
   "cell_type": "code",
   "execution_count": 32,
   "metadata": {},
   "outputs": [
    {
     "data": {
      "text/plain": [
       "'Eminem'"
      ]
     },
     "execution_count": 32,
     "metadata": {},
     "output_type": "execute_result"
    }
   ],
   "source": [
    "data['artist']"
   ]
  },
  {
   "cell_type": "code",
   "execution_count": 33,
   "metadata": {},
   "outputs": [
    {
     "data": {
      "text/plain": [
       "'lyrics_frankocean_trouble.json'"
      ]
     },
     "execution_count": 33,
     "metadata": {},
     "output_type": "execute_result"
    }
   ],
   "source": [
    "json_files[0]"
   ]
  },
  {
   "cell_type": "code",
   "execution_count": 34,
   "metadata": {},
   "outputs": [
    {
     "name": "stdout",
     "output_type": "stream",
     "text": [
      "0    Method Man\n",
      "Name: artist, dtype: object\n",
      "{'title': 'Torture', 'album': 'Tical 2000: Judgement Day', 'year': '1998-11-10', 'lyrics': \"[Intro]\\nYou know? Through being humbles\\nTrue Mast' on the track. Like that, you know?\\nBeen in this rap game for like the past..\\nFour bullets now, you know? Doing bids, yeah-yeah\\nI done peeped a lotta cats come through\\nCourageous cats, stray cats, ha-ha\\nTop cats with top hats, you know what I'm saying?\\nBut it all boils down to this: we talking lyrics\\nRhymes, line for line - numero uno, who the best? I don't know\\nCheck it\\n\\n[Verse 1]\\nFlame on, I rain fire, when Johnny Storm\\nI'm shocking like live wire, you have been warned\\nI prolong this next chamber, to make it strong\\nAnd prove all them doubters wrong\\nKillin 'Em Softly with this song, adding on\\nLet them toes get they tag on, dead men run no marathons\\nOn my shift, shooting that gift, knowin' he snitched\\nOn the telethon, running his lips, sinking the ship\\nGive back what his mother gave him, mother made him\\nAnd now she can't even save him, Johnny Blaze 'em\\nSend him to his final resting\\nBack to the essence, Faces of Death, the Final Lesson\\n\\n[Hook]\\nTorture, torture, torture\\nMothafuckin' torture, y'all niggas know\\n\\n[Verse 2]\\nWho got John Blaze shit?\\nSucking my dick to get famous\\nSo I switched Blaze to Dangerous\\nWelcome to my torture chambers, torture chambers\\nWhere John Doe's remain nameless, hear me?\\nI know it's Def Jam, but think clearly\\nI made it possible for y'all cats to come near me\\nKeep your enemies, close and your heat closer\\nI slam just like my culture on all theories\\nDead that, straight off the meat rack with this one\\nYou get burned playing Nix-on, Hot Biscuit\\nStand back, don't make me spit one, and paint pictures\\nOn the walls of your mental\\nWith hot lead from out these pencils\\nIron Lung since I was young and not knowing\\nWhere the next meal was coming from, been troublesome\\nTo all those posing a threat\\nIf I go, everybody gotta go next, y'all niggas know\\nThe code of the street soldier, I'm watching time\\nAnd time watching me colder, Grim Reaper\\nBreathing death on my shoulder\\nWaiting for the day to take me over, take me over\\n\\n[Hook]\\n\\n[Verse 3]\\nThat you can never touch my flow, go 'head and hate me\\nStill tryna fuck my ho, Johnny-come-latelies?\\nGot me in a world of shit, and now I'm pissed\\nMama said there'd be days like this\\nThis the Season for Ducks and my pen's bleeding\\nLeaving kids barely breathing for sneak-thieving\\nFamished from lack of eating and lack of teaching\\nBanished from Rhyme and Reason for high treason\\nCan it be, that the kid with the knock knees\\nGot G to make a grown man cop pleas, for this track\\nI got a Lovebug like Starski\\nBlow back, until I drop Tical Part 3\\nAin't no stopping when you start me, John Jay\\nPulling your card, mayday mayday, niggas owe they life to God\\nAnd now it's payday, take it how ya wanna take it\\nFully clothed or butt-naked, I learned the hard way\\nAin't nothing sacred in this world, time to face it\\nJohnny Basic, instinct, I'm sure to make it\\nWhile others fake it, fuck the spotlight, G-O-D already got light\\nSay what you like, just spell my name right\\nNo doubt, this one goes out, to all you trout-fish\\nCake niggas, keep my dick up out your mouth\\n\\n[Hook]\", 'image': 'https://images.genius.com/7bb2fc25db22a3900f489969a9537f35.954x951x1.jpg'}\n"
     ]
    }
   ],
   "source": [
    "test_json = pd.read_json(json_files[876])\n",
    "print(test_json.artist)\n",
    "print(test_json.songs[0])"
   ]
  },
  {
   "cell_type": "markdown",
   "metadata": {},
   "source": [
    "## Working with all json"
   ]
  },
  {
   "cell_type": "code",
   "execution_count": 35,
   "metadata": {},
   "outputs": [
    {
     "data": {
      "text/plain": [
       "35214"
      ]
     },
     "execution_count": 35,
     "metadata": {},
     "output_type": "execute_result"
    }
   ],
   "source": [
    "# I have all my json files saved already in json_files\n",
    "len(json_files)"
   ]
  },
  {
   "cell_type": "code",
   "execution_count": 36,
   "metadata": {},
   "outputs": [],
   "source": [
    "# I define my pandas Dataframe with the columns I want to get from the json\n",
    "tracks_df = pd.DataFrame(columns=['Artist', 'Title', 'Album','Year','Lyrics'])"
   ]
  },
  {
   "cell_type": "code",
   "execution_count": 37,
   "metadata": {},
   "outputs": [
    {
     "data": {
      "text/html": [
       "<div>\n",
       "<style scoped>\n",
       "    .dataframe tbody tr th:only-of-type {\n",
       "        vertical-align: middle;\n",
       "    }\n",
       "\n",
       "    .dataframe tbody tr th {\n",
       "        vertical-align: top;\n",
       "    }\n",
       "\n",
       "    .dataframe thead th {\n",
       "        text-align: right;\n",
       "    }\n",
       "</style>\n",
       "<table border=\"1\" class=\"dataframe\">\n",
       "  <thead>\n",
       "    <tr style=\"text-align: right;\">\n",
       "      <th></th>\n",
       "      <th>Artist</th>\n",
       "      <th>Title</th>\n",
       "      <th>Album</th>\n",
       "      <th>Year</th>\n",
       "      <th>Lyrics</th>\n",
       "    </tr>\n",
       "  </thead>\n",
       "  <tbody>\n",
       "  </tbody>\n",
       "</table>\n",
       "</div>"
      ],
      "text/plain": [
       "Empty DataFrame\n",
       "Columns: [Artist, Title, Album, Year, Lyrics]\n",
       "Index: []"
      ]
     },
     "execution_count": 37,
     "metadata": {},
     "output_type": "execute_result"
    }
   ],
   "source": [
    "tracks_df"
   ]
  },
  {
   "cell_type": "code",
   "execution_count": 38,
   "metadata": {},
   "outputs": [],
   "source": [
    "# using an index I'm saving the content of the json files\n",
    "for index, js in enumerate(json_files):\n",
    "    with open(os.path.join(path_to_json, js)) as json_file:\n",
    "        json_text = json.load(json_file)\n",
    "\n",
    "        Artist = json_text['artist']\n",
    "        Title = json_text['songs'][0]['title']\n",
    "        Album = json_text['songs'][0]['album']\n",
    "        Year = json_text['songs'][0]['year']\n",
    "        Lyrics = json_text['songs'][0]['lyrics']\n",
    "        \n",
    "        # I push a list of data into the dataframe that I created earlier\n",
    "        tracks_df.loc[index] = [Artist, Title, Album,Year,Lyrics]"
   ]
  },
  {
   "cell_type": "code",
   "execution_count": 15,
   "metadata": {
    "collapsed": true
   },
   "outputs": [
    {
     "data": {
      "text/html": [
       "<div>\n",
       "<style scoped>\n",
       "    .dataframe tbody tr th:only-of-type {\n",
       "        vertical-align: middle;\n",
       "    }\n",
       "\n",
       "    .dataframe tbody tr th {\n",
       "        vertical-align: top;\n",
       "    }\n",
       "\n",
       "    .dataframe thead th {\n",
       "        text-align: right;\n",
       "    }\n",
       "</style>\n",
       "<table border=\"1\" class=\"dataframe\">\n",
       "  <thead>\n",
       "    <tr style=\"text-align: right;\">\n",
       "      <th></th>\n",
       "      <th>Artist</th>\n",
       "      <th>Title</th>\n",
       "      <th>Album</th>\n",
       "      <th>Year</th>\n",
       "      <th>Lyrics</th>\n",
       "    </tr>\n",
       "  </thead>\n",
       "  <tbody>\n",
       "    <tr>\n",
       "      <th>0</th>\n",
       "      <td>Eminem</td>\n",
       "      <td>Walk On Water/Stan/Love The Way You Lie (SNL M...</td>\n",
       "      <td>None</td>\n",
       "      <td>2017-11-18</td>\n",
       "      <td>Walk On Water\\n\\n[Chorus: Skylar Grey]\\nI walk...</td>\n",
       "    </tr>\n",
       "    <tr>\n",
       "      <th>1</th>\n",
       "      <td>Big Pun</td>\n",
       "      <td>You Ain’t a Killer</td>\n",
       "      <td>Capital Punishment</td>\n",
       "      <td>1998-04-28</td>\n",
       "      <td>[Verse 1]\\nThe harsh realities of life have ta...</td>\n",
       "    </tr>\n",
       "    <tr>\n",
       "      <th>2</th>\n",
       "      <td>50 Cent</td>\n",
       "      <td>Jerk</td>\n",
       "      <td>None</td>\n",
       "      <td>None</td>\n",
       "      <td>[50 Cent]\\nNext and 50\\n(Uh-huh)\\nNext and 50\\...</td>\n",
       "    </tr>\n",
       "    <tr>\n",
       "      <th>3</th>\n",
       "      <td>Cypress Hill</td>\n",
       "      <td>Ez Come Ez Go</td>\n",
       "      <td>Greatest Hits from the Bong</td>\n",
       "      <td>2006-01-27</td>\n",
       "      <td>[Verse 1 : B-Real]\\nI'm in the city of sunshin...</td>\n",
       "    </tr>\n",
       "    <tr>\n",
       "      <th>4</th>\n",
       "      <td>Nas</td>\n",
       "      <td>Keep It Raw (Intro)</td>\n",
       "      <td>None</td>\n",
       "      <td>2011-01-01</td>\n",
       "      <td>[Intro]\\nKeep it raw for ya. No doubt PR. Chec...</td>\n",
       "    </tr>\n",
       "    <tr>\n",
       "      <th>5</th>\n",
       "      <td>Nicki Minaj</td>\n",
       "      <td>Up in Flames</td>\n",
       "      <td>Pink Friday: Roman Reloaded - The Re-Up</td>\n",
       "      <td>2012-11-19</td>\n",
       "      <td>[Hook: Rene Rowe &amp; Amoy Levy]\\nWe are going up...</td>\n",
       "    </tr>\n",
       "    <tr>\n",
       "      <th>6</th>\n",
       "      <td>Xzibit</td>\n",
       "      <td>State Of The Union</td>\n",
       "      <td>Weapons of Mass Destruction</td>\n",
       "      <td>2004-12-14</td>\n",
       "      <td>[applause]\\nAnd now a message from the Preside...</td>\n",
       "    </tr>\n",
       "    <tr>\n",
       "      <th>7</th>\n",
       "      <td>Nas</td>\n",
       "      <td>No Idea’s Original</td>\n",
       "      <td>The Lost Tapes</td>\n",
       "      <td>2002-09-23</td>\n",
       "      <td>[Intro]\\nUhh, uhh\\nUhhh, uhhh, uhhh\\n\\n[Chorus...</td>\n",
       "    </tr>\n",
       "    <tr>\n",
       "      <th>8</th>\n",
       "      <td>Nicki Minaj</td>\n",
       "      <td>Good Luck*</td>\n",
       "      <td>None</td>\n",
       "      <td>None</td>\n",
       "      <td>Full lyrics to Nicki Minaj's track \"Good Luck\"...</td>\n",
       "    </tr>\n",
       "    <tr>\n",
       "      <th>9</th>\n",
       "      <td>Coolio</td>\n",
       "      <td>C U When U Get There (feat. 40 Thevz) (Bill &amp; ...</td>\n",
       "      <td>None</td>\n",
       "      <td>None</td>\n",
       "      <td>Now I've seen places and faces\\nAnd things you...</td>\n",
       "    </tr>\n",
       "    <tr>\n",
       "      <th>10</th>\n",
       "      <td>KRS-One</td>\n",
       "      <td>The Raptism</td>\n",
       "      <td>The Sneak Attack</td>\n",
       "      <td>None</td>\n",
       "      <td>* H.W.C. harmonizes a melody (no words) where ...</td>\n",
       "    </tr>\n",
       "    <tr>\n",
       "      <th>11</th>\n",
       "      <td>Common</td>\n",
       "      <td>Payback Is a Grandmother</td>\n",
       "      <td>Like Water for Chocolate</td>\n",
       "      <td>2000-03-28</td>\n",
       "      <td>[Intro]\\nYo.. I don't know what was on y'all n...</td>\n",
       "    </tr>\n",
       "    <tr>\n",
       "      <th>12</th>\n",
       "      <td>Raekwon</td>\n",
       "      <td>Dart School</td>\n",
       "      <td>Shaolin vs. Wu-Tang</td>\n",
       "      <td>2011-03-07</td>\n",
       "      <td>[Intro: Raekwon]\\nDon't open that fucking safe...</td>\n",
       "    </tr>\n",
       "    <tr>\n",
       "      <th>13</th>\n",
       "      <td>Nicki Minaj</td>\n",
       "      <td>Pound the Alarm (Nick Lees mix)</td>\n",
       "      <td>None</td>\n",
       "      <td>None</td>\n",
       "      <td>Oh! Oh! Oh! Come fill my glass up a little mor...</td>\n",
       "    </tr>\n",
       "    <tr>\n",
       "      <th>14</th>\n",
       "      <td>The Notorious B.I.G.</td>\n",
       "      <td>Ready To Die (Bridgeport Sample Removed)</td>\n",
       "      <td>Ready To Die - The Remaster</td>\n",
       "      <td>None</td>\n",
       "      <td>[Intro: Puff Daddy &amp; The Notorious B.I.G.]\\nYe...</td>\n",
       "    </tr>\n",
       "    <tr>\n",
       "      <th>15</th>\n",
       "      <td>Slick Rick</td>\n",
       "      <td>Lick the Balls</td>\n",
       "      <td>The Great Adventures of Slick Rick</td>\n",
       "      <td>None</td>\n",
       "      <td>[Verse 1]\\nExcuse me, I'm trying to earn a mer...</td>\n",
       "    </tr>\n",
       "    <tr>\n",
       "      <th>16</th>\n",
       "      <td>Tyler, The Creator</td>\n",
       "      <td>Nightmare</td>\n",
       "      <td>Goblin</td>\n",
       "      <td>2011-05-10</td>\n",
       "      <td>[Intro: Dr. TC]\\nSo, you tell me that everythi...</td>\n",
       "    </tr>\n",
       "    <tr>\n",
       "      <th>17</th>\n",
       "      <td>Cypress Hill</td>\n",
       "      <td>Killa Hill</td>\n",
       "      <td>None</td>\n",
       "      <td>None</td>\n",
       "      <td>{Capitan Pingaloca}\\n\"Esto no me gusta. Aqui l...</td>\n",
       "    </tr>\n",
       "    <tr>\n",
       "      <th>18</th>\n",
       "      <td>LL Cool J</td>\n",
       "      <td>I Need Love (Full Length version)</td>\n",
       "      <td>None</td>\n",
       "      <td>None</td>\n",
       "      <td>When I'm alone in my room sometimes I stare at...</td>\n",
       "    </tr>\n",
       "    <tr>\n",
       "      <th>19</th>\n",
       "      <td>Gucci Mane</td>\n",
       "      <td>Hell Yes</td>\n",
       "      <td>Trap House III</td>\n",
       "      <td>2013-05-21</td>\n",
       "      <td>[Intro: Gucci Mane]\\n(Da Honorable C.N.O.T.E)\\...</td>\n",
       "    </tr>\n",
       "    <tr>\n",
       "      <th>20</th>\n",
       "      <td>KRS-One</td>\n",
       "      <td>Somebody</td>\n",
       "      <td>Kristyles</td>\n",
       "      <td>None</td>\n",
       "      <td>[Intro]\\nOh, do it now, oh, do it now\\nYeah, w...</td>\n",
       "    </tr>\n",
       "    <tr>\n",
       "      <th>21</th>\n",
       "      <td>Ski Mask the Slump God</td>\n",
       "      <td>BUKKAKE</td>\n",
       "      <td>BEWARE THE BOOK OF ELI</td>\n",
       "      <td>2017-12-16</td>\n",
       "      <td>[Intro: Ski Mask The Slump God]\\nYuh, yuh, yuh...</td>\n",
       "    </tr>\n",
       "    <tr>\n",
       "      <th>22</th>\n",
       "      <td>Tech N9ne</td>\n",
       "      <td>Tappin’ In</td>\n",
       "      <td>Planet</td>\n",
       "      <td>2018-03-02</td>\n",
       "      <td>[Intro: Tech N9ne]\\nI got a story to tell, 'bo...</td>\n",
       "    </tr>\n",
       "    <tr>\n",
       "      <th>23</th>\n",
       "      <td>Gucci Mane</td>\n",
       "      <td>Bottom</td>\n",
       "      <td>Delusions of Grandeur</td>\n",
       "      <td>2019-06-21</td>\n",
       "      <td>[Intro]\\nTay Keith, fuck these niggas up\\nTay ...</td>\n",
       "    </tr>\n",
       "    <tr>\n",
       "      <th>24</th>\n",
       "      <td>Tech N9ne</td>\n",
       "      <td>Active</td>\n",
       "      <td>N9NA</td>\n",
       "      <td>2019-04-19</td>\n",
       "      <td>[Intro: Tech N9ne]\\nGoing to a funeral almost ...</td>\n",
       "    </tr>\n",
       "  </tbody>\n",
       "</table>\n",
       "</div>"
      ],
      "text/plain": [
       "                    Artist                                              Title  \\\n",
       "0                   Eminem  Walk On Water/Stan/Love The Way You Lie (SNL M...   \n",
       "1                  Big Pun                                 You Ain’t a Killer   \n",
       "2                  50 Cent                                               Jerk   \n",
       "3             Cypress Hill                                      Ez Come Ez Go   \n",
       "4                      Nas                                Keep It Raw (Intro)   \n",
       "5              Nicki Minaj                                       Up in Flames   \n",
       "6                   Xzibit                                 State Of The Union   \n",
       "7                      Nas                                 No Idea’s Original   \n",
       "8              Nicki Minaj                                         Good Luck*   \n",
       "9                   Coolio  C U When U Get There (feat. 40 Thevz) (Bill & ...   \n",
       "10                 KRS-One                                        The Raptism   \n",
       "11                  Common                           Payback Is a Grandmother   \n",
       "12                 Raekwon                                        Dart School   \n",
       "13             Nicki Minaj                    Pound the Alarm (Nick Lees mix)   \n",
       "14    The Notorious B.I.G.           Ready To Die (Bridgeport Sample Removed)   \n",
       "15              Slick Rick                                     Lick the Balls   \n",
       "16      Tyler, The Creator                                          Nightmare   \n",
       "17            Cypress Hill                                         Killa Hill   \n",
       "18               LL Cool J                  I Need Love (Full Length version)   \n",
       "19              Gucci Mane                                           Hell Yes   \n",
       "20                 KRS-One                                           Somebody   \n",
       "21  Ski Mask the Slump God                                            BUKKAKE   \n",
       "22               Tech N9ne                                         Tappin’ In   \n",
       "23              Gucci Mane                                             Bottom   \n",
       "24               Tech N9ne                                             Active   \n",
       "\n",
       "                                      Album        Year  \\\n",
       "0                                      None  2017-11-18   \n",
       "1                        Capital Punishment  1998-04-28   \n",
       "2                                      None        None   \n",
       "3               Greatest Hits from the Bong  2006-01-27   \n",
       "4                                      None  2011-01-01   \n",
       "5   Pink Friday: Roman Reloaded - The Re-Up  2012-11-19   \n",
       "6               Weapons of Mass Destruction  2004-12-14   \n",
       "7                            The Lost Tapes  2002-09-23   \n",
       "8                                      None        None   \n",
       "9                                      None        None   \n",
       "10                         The Sneak Attack        None   \n",
       "11                 Like Water for Chocolate  2000-03-28   \n",
       "12                      Shaolin vs. Wu-Tang  2011-03-07   \n",
       "13                                     None        None   \n",
       "14              Ready To Die - The Remaster        None   \n",
       "15       The Great Adventures of Slick Rick        None   \n",
       "16                                   Goblin  2011-05-10   \n",
       "17                                     None        None   \n",
       "18                                     None        None   \n",
       "19                           Trap House III  2013-05-21   \n",
       "20                                Kristyles        None   \n",
       "21                   BEWARE THE BOOK OF ELI  2017-12-16   \n",
       "22                                   Planet  2018-03-02   \n",
       "23                    Delusions of Grandeur  2019-06-21   \n",
       "24                                     N9NA  2019-04-19   \n",
       "\n",
       "                                               Lyrics  \n",
       "0   Walk On Water\\n\\n[Chorus: Skylar Grey]\\nI walk...  \n",
       "1   [Verse 1]\\nThe harsh realities of life have ta...  \n",
       "2   [50 Cent]\\nNext and 50\\n(Uh-huh)\\nNext and 50\\...  \n",
       "3   [Verse 1 : B-Real]\\nI'm in the city of sunshin...  \n",
       "4   [Intro]\\nKeep it raw for ya. No doubt PR. Chec...  \n",
       "5   [Hook: Rene Rowe & Amoy Levy]\\nWe are going up...  \n",
       "6   [applause]\\nAnd now a message from the Preside...  \n",
       "7   [Intro]\\nUhh, uhh\\nUhhh, uhhh, uhhh\\n\\n[Chorus...  \n",
       "8   Full lyrics to Nicki Minaj's track \"Good Luck\"...  \n",
       "9   Now I've seen places and faces\\nAnd things you...  \n",
       "10  * H.W.C. harmonizes a melody (no words) where ...  \n",
       "11  [Intro]\\nYo.. I don't know what was on y'all n...  \n",
       "12  [Intro: Raekwon]\\nDon't open that fucking safe...  \n",
       "13  Oh! Oh! Oh! Come fill my glass up a little mor...  \n",
       "14  [Intro: Puff Daddy & The Notorious B.I.G.]\\nYe...  \n",
       "15  [Verse 1]\\nExcuse me, I'm trying to earn a mer...  \n",
       "16  [Intro: Dr. TC]\\nSo, you tell me that everythi...  \n",
       "17  {Capitan Pingaloca}\\n\"Esto no me gusta. Aqui l...  \n",
       "18  When I'm alone in my room sometimes I stare at...  \n",
       "19  [Intro: Gucci Mane]\\n(Da Honorable C.N.O.T.E)\\...  \n",
       "20  [Intro]\\nOh, do it now, oh, do it now\\nYeah, w...  \n",
       "21  [Intro: Ski Mask The Slump God]\\nYuh, yuh, yuh...  \n",
       "22  [Intro: Tech N9ne]\\nI got a story to tell, 'bo...  \n",
       "23  [Intro]\\nTay Keith, fuck these niggas up\\nTay ...  \n",
       "24  [Intro: Tech N9ne]\\nGoing to a funeral almost ...  "
      ]
     },
     "execution_count": 15,
     "metadata": {},
     "output_type": "execute_result"
    }
   ],
   "source": [
    "# now that I have the pertinent json data in our DataFrame let's have a look\n",
    "tracks_df.head(25)"
   ]
  },
  {
   "cell_type": "code",
   "execution_count": 39,
   "metadata": {},
   "outputs": [
    {
     "data": {
      "image/png": "[encoded data removed]",
      "text/plain": [
       "<Figure size 432x288 with 1 Axes>"
      ]
     },
     "metadata": {
      "needs_background": "light"
     },
     "output_type": "display_data"
    }
   ],
   "source": [
    "pd.DataFrame(tracks_df.Artist.value_counts()).hist()\n",
    "plt.show()"
   ]
  },
  {
   "cell_type": "code",
   "execution_count": 40,
   "metadata": {},
   "outputs": [],
   "source": [
    "#save the dataframes so I can import it when going to clean\n",
    "with open('../../Data-Cleaning/tracks_df.pkl', 'wb') as f:\n",
    "    pickle.dump(tracks_df, f)"
   ]
  },
  {
   "cell_type": "code",
   "execution_count": null,
   "metadata": {},
   "outputs": [],
   "source": []
  }
 ],
 "metadata": {
  "kernelspec": {
   "display_name": "Python 3",
   "language": "python",
   "name": "python3"
  },
  "language_info": {
   "codemirror_mode": {
    "name": "ipython",
    "version": 3
   },
   "file_extension": ".py",
   "mimetype": "text/x-python",
   "name": "python",
   "nbconvert_exporter": "python",
   "pygments_lexer": "ipython3",
   "version": "3.7.3"
  },
  "toc": {
   "base_numbering": 1,
   "nav_menu": {},
   "number_sections": true,
   "sideBar": true,
   "skip_h1_title": false,
   "title_cell": "Table of Contents",
   "title_sidebar": "Contents",
   "toc_cell": false,
   "toc_position": {},
   "toc_section_display": true,
   "toc_window_display": false
  }
 },
 "nbformat": 4,
 "nbformat_minor": 2
}
