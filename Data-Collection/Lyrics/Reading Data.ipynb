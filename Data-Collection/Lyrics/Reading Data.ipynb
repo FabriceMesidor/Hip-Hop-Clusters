{
 "cells": [
  {
   "cell_type": "markdown",
   "metadata": {},
   "source": [
    "### Packages"
   ]
  },
  {
   "cell_type": "code",
   "execution_count": 1,
   "metadata": {},
   "outputs": [],
   "source": [
    "import pandas as pd\n",
    "import os, json\n",
    "from pathlib import Path\n",
    "import pickle\n",
    "import matplotlib.pyplot as plt"
   ]
  },
  {
   "cell_type": "code",
   "execution_count": 2,
   "metadata": {},
   "outputs": [
    {
     "data": {
      "text/plain": [
       "'/Users/fabricemesidor/Documents/Flatiron School/Projects/Final-Project/Hip-Hop-Clusters/Data-Collection/Lyrics'"
      ]
     },
     "execution_count": 2,
     "metadata": {},
     "output_type": "execute_result"
    }
   ],
   "source": [
    "pwd"
   ]
  },
  {
   "cell_type": "markdown",
   "metadata": {},
   "source": [
    "## What in a json file"
   ]
  },
  {
   "cell_type": "code",
   "execution_count": 14,
   "metadata": {},
   "outputs": [
    {
     "data": {
      "text/plain": [
       "54186"
      ]
     },
     "execution_count": 14,
     "metadata": {},
     "output_type": "execute_result"
    }
   ],
   "source": [
    "#Save all json files that I have in the folder\n",
    "path_to_json ='/Users/fabricemesidor/Documents/Flatiron School/Projects/Final-Project/Hip-Hop-Clusters/Data-Collection/Lyrics'\n",
    "json_files = [pos_json for pos_json in os.listdir(path_to_json) if pos_json.endswith('.json')]\n",
    "len(json_files)"
   ]
  },
  {
   "cell_type": "code",
   "execution_count": 28,
   "metadata": {},
   "outputs": [],
   "source": [
    "with open('lyrics_eminem_walkonwaterstanlovethewayyouliesnlmedley.json') as json_file:\n",
    "    data = json.load(json_file)"
   ]
  },
  {
   "cell_type": "code",
   "execution_count": 29,
   "metadata": {
    "collapsed": true
   },
   "outputs": [
    {
     "data": {
      "text/plain": [
       "{'songs': [{'title': 'Walk On Water/Stan/Love The Way You Lie (SNL Medley)',\n",
       "   'album': None,\n",
       "   'year': '2017-11-18',\n",
       "   'lyrics': 'Walk On Water\\n\\n[Chorus: Skylar Grey]\\nI walk on water\\nBut I ain\\'t no Jesus\\nI walk on water\\nBut only when it freezes\\n\\n[Verse 1: Eminem]\\nWhy are expectations so high? Is it the bar I set?\\nMy arms, I stretch, but I can\\'t reach\\nA far cry from it, or it\\'s in my grasp, but as\\nSoon as I grab, squeeze\\nI lose my grip like the flyin\\' trapeze\\nInto the dark I plummet, now the sky\\'s blackening\\nI know the mark\\'s high, butter–\\nFlies rip apart my stomach\\nKnowin\\' that no matter what bars I come with\\nYou\\'re gonna harp, gripe, and\\nThat\\'s a hard Vicodin to swallow, so I scrap these\\nAs pressure increases like khakis\\nI feel the ice cracking, because—\\n\\n[Chorus: Skylar Grey]\\nI walk on water\\nBut I ain\\'t no Jesus\\nI walk on water\\nBut only when it freezes\\n\\n[Verse 2: Eminem]\\nIt\\'s the curse of the standard\\nThat the first of the Mathers discs set\\nAlways in search of the verse that I haven\\'t spit yet\\nWill this step just be another misstep\\nTo tarnish whatever the legacy, love or respect\\nI\\'ve garnered? The rhyme has to be perfect, the delivery flawless\\nAnd it always feels like I\\'m hittin\\' the mark\\n\\'Til I go sit in the car, listen and pick it apart\\nLike, \"This shit is garbage!\"\\nGod\\'s given me all this, still, I feel no different regardless\\nKids look to me as a god, this is retarded\\nIf only they knew, it\\'s a facade and it\\'s exhaustive\\nAnd I try not to listen to nonsense\\nBut if you bitches are tryin\\' to strip me of my confidence\\nMission accomplished\\nI\\'m not God-sent, Nas, Rakim, \\'Pac, B.I.G., James Todd Smith\\nAnd I\\'m not Prince, so…\\n\\n[Chorus: Skylar Grey]\\nI walk on water\\nBut I ain\\'t no Jesus\\nI walk on water\\nBut only when it freezes\\n\\n[Post-Chorus: Skylar Grey]\\n\\'Cause I\\'m only human, just like you\\nMaking my mistakes, oh if you only knew\\nI don\\'t think you should believe in me the way that you do\\n\\'Cause I\\'m terrified to let you down, oh\\n\\n[Verse 3: Eminem]\\nIt\\'s true, I\\'m a Rubik\\'s — a beautiful mess\\nAt times juvenile, yes, I goof and I jest\\nA flawed human, I guess\\nBut I\\'m doin\\' my best to not ruin your ex–\\nPectations and meet \\'em, but first\\nThe \"Speedom\" verse, now Big Sean\\nHe\\'s goin\\' too fast, is he gonna shout or curse out his mom?\\nThere was a time I had the world by the balls, eatin\\' out my palm\\nEvery album song I was spazzin\\' the fuck out on\\nAnd now I\\'m gettin\\' frowned and clowned on\\nBut the only one who\\'s looking down on\\nMe that matters now\\'s DeShaun\\nAm I lucky to be around this long?\\nBegs the question though\\nEspecially after the methadone\\nAs yesterday fades and the Dresden home\\nIs burnt to the ground, and all that\\'s left of my house is lawn\\nThe crowds are gone\\nAnd it\\'s time to wash out the blonde\\nSales decline, the curtain\\'s drawn\\nThey\\'re closin\\' the set, I\\'m still pokin\\' my head from out behind\\nAnd everyone who has doubt, remind\\nNow take your best rhyme, outdo it, now do it a thousand times\\nNow let \\'em tell ya the world no longer cares or gives a fuck about your rhymes\\nAnd as I grow outta sight, outta mind, I might go outta mine\\n\\'Cause how do I ever let this mic go without a fight\\nWhen I made a fuckin\\' tightrope outta twine?\\nBut when I do fall from these heights though, I\\'ll be fine\\nI won\\'t pout or cry or spiral down or whine\\nBut I\\'ll decide if it\\'s my final bow this time around, \\'cause—\\n\\n[Chorus: Skylar Grey]\\nI walk on water\\nBut I ain\\'t no Jesus\\nI walk on water\\nBut only when it freezes\\n\\n[Post-Chorus: Skylar Grey]\\n\\'Cause I\\'m only human, just like you\\nI\\'ve been making my mistakes, oh if you only knew\\nI don\\'t think you should believe in me the way that you do\\n\\'Cause I\\'m terrified to let you down, oh\\nIf I walked on water, I would drown\\n\\n[Outro: Eminem]\\n\\'Cause I\\'m just a man\\nBut as long as I got a mic, I\\'m godlike\\nSo me and you are not alike\\nBitch, I wrote \"Stan\"\\n\\nStan\\n\\n[Chorus: Skylar Grey]\\nMy tea\\'s gone cold\\nI\\'m wondering why I got out of bed at all\\nThe morning rain clouds up my window\\nAnd I can\\'t see at all\\nAnd even if I could it\\'d all be gray\\nBut your picture on my wall\\nIt reminds me that it\\'s not so bad, it\\'s not so bad\\n\\n[Verse 1: Eminem (as Stan)]\\nDear Slim, I wrote you, but you still ain\\'t callin\\'\\nI left my cell, my pager and my home phone at the bottom\\nI sent two letters back in autumn, you must not\\'ve got \\'em\\nThere probably was a problem at the post office or somethin\\'\\nSometimes I scribble addresses too sloppy when I jot \\'em\\nBut anyways, fuck it, what\\'s been up, man? How\\'s your daughter?\\nMy girlfriend\\'s pregnant too, I\\'m \\'bout to be a father\\nIf I have a daughter, guess what I\\'ma call her?\\nI\\'ma name her Bonnie\\nI read about your Uncle Ronnie too, I\\'m sorry\\nI had a friend kill himself over some bitch who didn\\'t want him\\nI know you probably hear this every day, but I\\'m your biggest fan\\nI even got the underground shit that you did with Skam\\nI got a room full of your posters and your pictures, man\\nI like the shit you did with Rawkus too, that shit was phat\\nAnyways, I hope you get this, man, hit me back\\nJust to chat, truly yours, your biggest fan, this is Stan\\n\\n[Chorus: Skylar Grey]\\nMy tea\\'s gone cold\\nI\\'m wondering why I got out of bed at all\\nThe morning rain clouds up my window\\nAnd I can\\'t see at all\\nAnd even if I could it\\'d all be gray\\nBut your picture on my wall\\nIt reminds me that it\\'s not so bad, it\\'s not so bad\\n\\nLove the Way You Lie\\n\\n[Chorus: Skylar Grey]\\nJust gonna stand there and watch me burn\\nWell, that\\'s all right\\nBecause I like the way it hurts\\nJust gonna stand there and hear me cry\\nWell, that\\'s all right\\nBecause I love the way you lie\\nI love the way you lie\\n\\n[Verse 1: Eminem]\\nI can\\'t tell you what it really is\\nI can only tell you what it feels like\\nAnd right now there\\'s a steel knife in my windpipe\\nI can\\'t breathe, but I still fight while I can fight\\nAs long as the wrong feels right, it\\'s like I\\'m in flight\\nHigh off her love, drunk from her hate\\nIt\\'s like I\\'m huffin\\' paint\\nAnd I love her the more I suffer, I suffocate\\nAnd right before I\\'m about to drown she resuscitates me\\nShe fuckin\\' hates me, and I love it, “Wait!\\nWhere you going?”, “I\\'m leaving you.” “No, you ain\\'t\\nCome back!” We\\'re runnin\\' right back, here we go again\\nIt\\'s so insane, \\'cause when it\\'s goin\\' good it\\'s goin\\' great\\nI\\'m Superman with the wind at his back, she\\'s Lois Lane\\nBut when it\\'s bad it\\'s awful, I feel so ashamed\\nI snap, “Who\\'s that dude?”, I don\\'t even know his name\\nI laid hands on her, I\\'ll never stoop so low again\\nI guess I don\\'t know my own strength\\n\\n[Chorus: Skylar Grey]\\nJust gonna stand there and watch me burn\\nWell, that\\'s all right\\nBecause I like the way it hurts\\nJust gonna stand there and hear me cry\\nWell, that\\'s all right\\nBecause I love the way you lie\\nI love the way you lie\\nI love the way you lie',\n",
       "   'image': 'https://images.genius.com/b2ea8d981cb947d1c03afd85eebfe62a.630x630x1.jpg'}],\n",
       " 'artist': 'Eminem'}"
      ]
     },
     "execution_count": 29,
     "metadata": {},
     "output_type": "execute_result"
    }
   ],
   "source": [
    "data"
   ]
  },
  {
   "cell_type": "code",
   "execution_count": 30,
   "metadata": {
    "scrolled": true
   },
   "outputs": [
    {
     "data": {
      "text/plain": [
       "dict_keys(['songs', 'artist'])"
      ]
     },
     "execution_count": 30,
     "metadata": {},
     "output_type": "execute_result"
    }
   ],
   "source": [
    "data.keys()"
   ]
  },
  {
   "cell_type": "code",
   "execution_count": 31,
   "metadata": {},
   "outputs": [
    {
     "data": {
      "text/plain": [
       "dict_keys(['title', 'album', 'year', 'lyrics', 'image'])"
      ]
     },
     "execution_count": 31,
     "metadata": {},
     "output_type": "execute_result"
    }
   ],
   "source": [
    "data['songs'][0].keys()"
   ]
  },
  {
   "cell_type": "code",
   "execution_count": 32,
   "metadata": {},
   "outputs": [
    {
     "data": {
      "text/plain": [
       "'Eminem'"
      ]
     },
     "execution_count": 32,
     "metadata": {},
     "output_type": "execute_result"
    }
   ],
   "source": [
    "data['artist']"
   ]
  },
  {
   "cell_type": "code",
   "execution_count": 33,
   "metadata": {},
   "outputs": [
    {
     "data": {
      "text/plain": [
       "'lyrics_frankocean_trouble.json'"
      ]
     },
     "execution_count": 33,
     "metadata": {},
     "output_type": "execute_result"
    }
   ],
   "source": [
    "json_files[0]"
   ]
  },
  {
   "cell_type": "code",
   "execution_count": 34,
   "metadata": {
    "collapsed": true
   },
   "outputs": [
    {
     "name": "stdout",
     "output_type": "stream",
     "text": [
      "0    Method Man\n",
      "Name: artist, dtype: object\n",
      "{'title': 'Torture', 'album': 'Tical 2000: Judgement Day', 'year': '1998-11-10', 'lyrics': \"[Intro]\\nYou know? Through being humbles\\nTrue Mast' on the track. Like that, you know?\\nBeen in this rap game for like the past..\\nFour bullets now, you know? Doing bids, yeah-yeah\\nI done peeped a lotta cats come through\\nCourageous cats, stray cats, ha-ha\\nTop cats with top hats, you know what I'm saying?\\nBut it all boils down to this: we talking lyrics\\nRhymes, line for line - numero uno, who the best? I don't know\\nCheck it\\n\\n[Verse 1]\\nFlame on, I rain fire, when Johnny Storm\\nI'm shocking like live wire, you have been warned\\nI prolong this next chamber, to make it strong\\nAnd prove all them doubters wrong\\nKillin 'Em Softly with this song, adding on\\nLet them toes get they tag on, dead men run no marathons\\nOn my shift, shooting that gift, knowin' he snitched\\nOn the telethon, running his lips, sinking the ship\\nGive back what his mother gave him, mother made him\\nAnd now she can't even save him, Johnny Blaze 'em\\nSend him to his final resting\\nBack to the essence, Faces of Death, the Final Lesson\\n\\n[Hook]\\nTorture, torture, torture\\nMothafuckin' torture, y'all niggas know\\n\\n[Verse 2]\\nWho got John Blaze shit?\\nSucking my dick to get famous\\nSo I switched Blaze to Dangerous\\nWelcome to my torture chambers, torture chambers\\nWhere John Doe's remain nameless, hear me?\\nI know it's Def Jam, but think clearly\\nI made it possible for y'all cats to come near me\\nKeep your enemies, close and your heat closer\\nI slam just like my culture on all theories\\nDead that, straight off the meat rack with this one\\nYou get burned playing Nix-on, Hot Biscuit\\nStand back, don't make me spit one, and paint pictures\\nOn the walls of your mental\\nWith hot lead from out these pencils\\nIron Lung since I was young and not knowing\\nWhere the next meal was coming from, been troublesome\\nTo all those posing a threat\\nIf I go, everybody gotta go next, y'all niggas know\\nThe code of the street soldier, I'm watching time\\nAnd time watching me colder, Grim Reaper\\nBreathing death on my shoulder\\nWaiting for the day to take me over, take me over\\n\\n[Hook]\\n\\n[Verse 3]\\nThat you can never touch my flow, go 'head and hate me\\nStill tryna fuck my ho, Johnny-come-latelies?\\nGot me in a world of shit, and now I'm pissed\\nMama said there'd be days like this\\nThis the Season for Ducks and my pen's bleeding\\nLeaving kids barely breathing for sneak-thieving\\nFamished from lack of eating and lack of teaching\\nBanished from Rhyme and Reason for high treason\\nCan it be, that the kid with the knock knees\\nGot G to make a grown man cop pleas, for this track\\nI got a Lovebug like Starski\\nBlow back, until I drop Tical Part 3\\nAin't no stopping when you start me, John Jay\\nPulling your card, mayday mayday, niggas owe they life to God\\nAnd now it's payday, take it how ya wanna take it\\nFully clothed or butt-naked, I learned the hard way\\nAin't nothing sacred in this world, time to face it\\nJohnny Basic, instinct, I'm sure to make it\\nWhile others fake it, fuck the spotlight, G-O-D already got light\\nSay what you like, just spell my name right\\nNo doubt, this one goes out, to all you trout-fish\\nCake niggas, keep my dick up out your mouth\\n\\n[Hook]\", 'image': 'https://images.genius.com/7bb2fc25db22a3900f489969a9537f35.954x951x1.jpg'}\n"
     ]
    }
   ],
   "source": [
    "test_json = pd.read_json(json_files[876])\n",
    "print(test_json.artist)\n",
    "print(test_json.songs[0])"
   ]
  },
  {
   "cell_type": "markdown",
   "metadata": {},
   "source": [
    "## Working with all json"
   ]
  },
  {
   "cell_type": "code",
   "execution_count": 35,
   "metadata": {},
   "outputs": [
    {
     "data": {
      "text/plain": [
       "35214"
      ]
     },
     "execution_count": 35,
     "metadata": {},
     "output_type": "execute_result"
    }
   ],
   "source": [
    "# I have all my json files saved already in json_files\n",
    "len(json_files)"
   ]
  },
  {
   "cell_type": "code",
   "execution_count": 4,
   "metadata": {},
   "outputs": [],
   "source": [
    "# I define my pandas Dataframe with the columns I want to get from the json\n",
    "tracks_df = pd.DataFrame(columns=['Artist', 'Title', 'Album','Year','Lyrics'])"
   ]
  },
  {
   "cell_type": "code",
   "execution_count": 5,
   "metadata": {},
   "outputs": [
    {
     "data": {
      "text/html": [
       "<div>\n",
       "<style scoped>\n",
       "    .dataframe tbody tr th:only-of-type {\n",
       "        vertical-align: middle;\n",
       "    }\n",
       "\n",
       "    .dataframe tbody tr th {\n",
       "        vertical-align: top;\n",
       "    }\n",
       "\n",
       "    .dataframe thead th {\n",
       "        text-align: right;\n",
       "    }\n",
       "</style>\n",
       "<table border=\"1\" class=\"dataframe\">\n",
       "  <thead>\n",
       "    <tr style=\"text-align: right;\">\n",
       "      <th></th>\n",
       "      <th>Artist</th>\n",
       "      <th>Title</th>\n",
       "      <th>Album</th>\n",
       "      <th>Year</th>\n",
       "      <th>Lyrics</th>\n",
       "    </tr>\n",
       "  </thead>\n",
       "  <tbody>\n",
       "  </tbody>\n",
       "</table>\n",
       "</div>"
      ],
      "text/plain": [
       "Empty DataFrame\n",
       "Columns: [Artist, Title, Album, Year, Lyrics]\n",
       "Index: []"
      ]
     },
     "execution_count": 5,
     "metadata": {},
     "output_type": "execute_result"
    }
   ],
   "source": [
    "tracks_df"
   ]
  },
  {
   "cell_type": "code",
   "execution_count": 9,
   "metadata": {},
   "outputs": [],
   "source": [
    "# using an index I'm saving the content of the json files\n",
    "for index, js in enumerate(json_files):\n",
    "    with open(os.path.join(path_to_json, js)) as json_file:\n",
    "        json_text = json.load(json_file)\n",
    "\n",
    "        Artist = json_text['artist']\n",
    "        Title = json_text['songs'][0]['title']\n",
    "        Album = json_text['songs'][0]['album']\n",
    "        Year = json_text['songs'][0]['year']\n",
    "        Lyrics = json_text['songs'][0]['lyrics']\n",
    "        \n",
    "        # I push a list of data into the dataframe that I created earlier\n",
    "        tracks_df.loc[index] = [Artist, Title, Album,Year,Lyrics]"
   ]
  },
  {
   "cell_type": "code",
   "execution_count": 7,
   "metadata": {
    "scrolled": true
   },
   "outputs": [
    {
     "data": {
      "text/html": [
       "<div>\n",
       "<style scoped>\n",
       "    .dataframe tbody tr th:only-of-type {\n",
       "        vertical-align: middle;\n",
       "    }\n",
       "\n",
       "    .dataframe tbody tr th {\n",
       "        vertical-align: top;\n",
       "    }\n",
       "\n",
       "    .dataframe thead th {\n",
       "        text-align: right;\n",
       "    }\n",
       "</style>\n",
       "<table border=\"1\" class=\"dataframe\">\n",
       "  <thead>\n",
       "    <tr style=\"text-align: right;\">\n",
       "      <th></th>\n",
       "      <th>Artist</th>\n",
       "      <th>Title</th>\n",
       "      <th>Album</th>\n",
       "      <th>Year</th>\n",
       "      <th>Lyrics</th>\n",
       "    </tr>\n",
       "  </thead>\n",
       "  <tbody>\n",
       "    <tr>\n",
       "      <th>45607</th>\n",
       "      <td>Rick Ross</td>\n",
       "      <td>You The Boss</td>\n",
       "      <td>None</td>\n",
       "      <td>2011-10-07</td>\n",
       "      <td>[Intro: Rick Ross]\\nUgh!\\n(Maybach Music)\\nIn ...</td>\n",
       "    </tr>\n",
       "    <tr>\n",
       "      <th>45608</th>\n",
       "      <td>Ice Cube</td>\n",
       "      <td>Horny Lil’ Devil</td>\n",
       "      <td>Death Certificate</td>\n",
       "      <td>1991-10-29</td>\n",
       "      <td>[Intro]\\nYou are the prince of darkness\\nArch ...</td>\n",
       "    </tr>\n",
       "    <tr>\n",
       "      <th>45609</th>\n",
       "      <td>2 Chainz</td>\n",
       "      <td>Garlic Mashed Potatoes</td>\n",
       "      <td>#MEALTIME</td>\n",
       "      <td>None</td>\n",
       "      <td>Garlic Mashed Potatoes\\n\\n• 2-3 pounds yukon g...</td>\n",
       "    </tr>\n",
       "    <tr>\n",
       "      <th>45610</th>\n",
       "      <td>50 Cent</td>\n",
       "      <td>I Get It In</td>\n",
       "      <td>Best Of</td>\n",
       "      <td>2009-01-15</td>\n",
       "      <td>[Intro]\\nYeah, Na na na na\\nYeah, Na na na na\\...</td>\n",
       "    </tr>\n",
       "    <tr>\n",
       "      <th>45611</th>\n",
       "      <td>Ace Hood</td>\n",
       "      <td>Outro (New Beginnings)</td>\n",
       "      <td>Trust the Process II: Undefeated</td>\n",
       "      <td>2018-05-11</td>\n",
       "      <td>To a new year, man\\nA happy new year\\nTo more ...</td>\n",
       "    </tr>\n",
       "    <tr>\n",
       "      <th>45612</th>\n",
       "      <td>Kid Cudi</td>\n",
       "      <td>Wedding Tux</td>\n",
       "      <td>Speedin’ Bullet 2 Heaven</td>\n",
       "      <td>2015-12-04</td>\n",
       "      <td>[Verse 1]\\nEmotional slave slut\\nShe push and ...</td>\n",
       "    </tr>\n",
       "    <tr>\n",
       "      <th>45613</th>\n",
       "      <td>Lupe Fiasco</td>\n",
       "      <td>You My</td>\n",
       "      <td>None</td>\n",
       "      <td>None</td>\n",
       "      <td>Fresh to def she is\\nFrom her steps to her set...</td>\n",
       "    </tr>\n",
       "    <tr>\n",
       "      <th>45614</th>\n",
       "      <td>Chamillionaire</td>\n",
       "      <td>Call Me (Tosin Remix)</td>\n",
       "      <td>None</td>\n",
       "      <td>None</td>\n",
       "      <td>C'mon... pick up man...\\n[phone rings again] P...</td>\n",
       "    </tr>\n",
       "    <tr>\n",
       "      <th>45615</th>\n",
       "      <td>DJ Quik</td>\n",
       "      <td>Do Today</td>\n",
       "      <td>The Book of David</td>\n",
       "      <td>2011-04-19</td>\n",
       "      <td>[DJ Quik]\\nFour, three, two\\n\\nLet's count it ...</td>\n",
       "    </tr>\n",
       "    <tr>\n",
       "      <th>45616</th>\n",
       "      <td>House of Pain</td>\n",
       "      <td>Danny Boy, Danny Boy</td>\n",
       "      <td>House of Pain</td>\n",
       "      <td>1992-07-28</td>\n",
       "      <td>[Verse 1: Everlast]\\nPeckerwood, peckerwood, t...</td>\n",
       "    </tr>\n",
       "    <tr>\n",
       "      <th>45617</th>\n",
       "      <td>Travis Scott</td>\n",
       "      <td>Pull Up*</td>\n",
       "      <td>None</td>\n",
       "      <td>None</td>\n",
       "      <td>[Lyrics from Snippet]\\n\\n[Verse]\\nPatek on my ...</td>\n",
       "    </tr>\n",
       "    <tr>\n",
       "      <th>45618</th>\n",
       "      <td>Danny Brown</td>\n",
       "      <td>Let’s Go</td>\n",
       "      <td>Hot Soup</td>\n",
       "      <td>None</td>\n",
       "      <td>[Verse 1: Danny Brown]\\nAnother day, another d...</td>\n",
       "    </tr>\n",
       "    <tr>\n",
       "      <th>45619</th>\n",
       "      <td>Big K.R.I.T.</td>\n",
       "      <td>[VIII/XII] No Chance (Freestyle)</td>\n",
       "      <td>#12FOR12</td>\n",
       "      <td>2016-07-05</td>\n",
       "      <td>[Intro]\\nShout out to Rae Sremmurd, Ear Drumme...</td>\n",
       "    </tr>\n",
       "    <tr>\n",
       "      <th>45620</th>\n",
       "      <td>Ludacris</td>\n",
       "      <td>I Do It for Hip Hop</td>\n",
       "      <td>Theater of the Mind</td>\n",
       "      <td>2008-11-24</td>\n",
       "      <td>[Intro: Ludacris]\\nI do it for hip-hop\\nI do i...</td>\n",
       "    </tr>\n",
       "    <tr>\n",
       "      <th>45621</th>\n",
       "      <td>Scarface</td>\n",
       "      <td>Mr. Scarface: Part III the Final Chapter</td>\n",
       "      <td>The World is Yours</td>\n",
       "      <td>1993-08-17</td>\n",
       "      <td>(All I have in this world)\\n--] Tony 'Scarface...</td>\n",
       "    </tr>\n",
       "    <tr>\n",
       "      <th>45622</th>\n",
       "      <td>Common</td>\n",
       "      <td>The Food (Live)</td>\n",
       "      <td>Be</td>\n",
       "      <td>None</td>\n",
       "      <td>[Dave Chappelle]\\nTonight's musical guest\\nTwo...</td>\n",
       "    </tr>\n",
       "    <tr>\n",
       "      <th>45623</th>\n",
       "      <td>Young Thug</td>\n",
       "      <td>Chanel (Go Get It) [Demo 2]</td>\n",
       "      <td>None</td>\n",
       "      <td>2018-11-05</td>\n",
       "      <td>[Intro: Gunna]\\nAnything she want she can get,...</td>\n",
       "    </tr>\n",
       "    <tr>\n",
       "      <th>45624</th>\n",
       "      <td>Chief Keef</td>\n",
       "      <td>Hoez N Oz</td>\n",
       "      <td>Bang 2</td>\n",
       "      <td>2013-08-15</td>\n",
       "      <td>[Intro: Chief Keef &amp; (DJ Holiday)]\\nHoes and O...</td>\n",
       "    </tr>\n",
       "    <tr>\n",
       "      <th>45625</th>\n",
       "      <td>Atmosphere</td>\n",
       "      <td>Rhythm of Rain</td>\n",
       "      <td>Sean Likes Ugly Girls [3]</td>\n",
       "      <td>None</td>\n",
       "      <td>[Verse 1] (Slug)\\nSomething sinister sits in t...</td>\n",
       "    </tr>\n",
       "    <tr>\n",
       "      <th>45626</th>\n",
       "      <td>Drake</td>\n",
       "      <td>4PM in Calabasas</td>\n",
       "      <td>Care Package</td>\n",
       "      <td>2016-06-04</td>\n",
       "      <td>[Verse]\\nYeah\\nAll you self-promoters are jank...</td>\n",
       "    </tr>\n",
       "    <tr>\n",
       "      <th>45627</th>\n",
       "      <td>Bizarre</td>\n",
       "      <td>Snatch Yo Cardis</td>\n",
       "      <td>This Guy’s a Weirdo</td>\n",
       "      <td>2012-03-30</td>\n",
       "      <td>[Intro: Bizarre]\\nI'm from Detroit, Michigan\\n...</td>\n",
       "    </tr>\n",
       "    <tr>\n",
       "      <th>45628</th>\n",
       "      <td>House of Pain</td>\n",
       "      <td>The Have Nots</td>\n",
       "      <td>Truth Crushed To Earth Shall Rise Again</td>\n",
       "      <td>1996-10-22</td>\n",
       "      <td>Benevolence, mercy, discipline...\\nBenevolence...</td>\n",
       "    </tr>\n",
       "    <tr>\n",
       "      <th>45629</th>\n",
       "      <td>Future</td>\n",
       "      <td>XanaX Damage</td>\n",
       "      <td>SAVE ME</td>\n",
       "      <td>2019-06-07</td>\n",
       "      <td>[Intro: FXXXXY]\\nBlood, blood, blood\\nXanax dr...</td>\n",
       "    </tr>\n",
       "    <tr>\n",
       "      <th>45630</th>\n",
       "      <td>Three 6 Mafia</td>\n",
       "      <td>In da Game</td>\n",
       "      <td>Mystic Stylez</td>\n",
       "      <td>1995-05-25</td>\n",
       "      <td>[Hook]\\nDope game cocaine\\nDope game dope dope...</td>\n",
       "    </tr>\n",
       "    <tr>\n",
       "      <th>45631</th>\n",
       "      <td>Meek Mill</td>\n",
       "      <td>Problem</td>\n",
       "      <td>Priorities 4</td>\n",
       "      <td>2016-01-18</td>\n",
       "      <td>[Produced by Beats Billionaire]\\n\\n[Intro: 2Pa...</td>\n",
       "    </tr>\n",
       "  </tbody>\n",
       "</table>\n",
       "</div>"
      ],
      "text/plain": [
       "               Artist                                     Title  \\\n",
       "45607       Rick Ross                              You The Boss   \n",
       "45608        Ice Cube                          Horny Lil’ Devil   \n",
       "45609        2 Chainz                    Garlic Mashed Potatoes   \n",
       "45610         50 Cent                               I Get It In   \n",
       "45611        Ace Hood                    Outro (New Beginnings)   \n",
       "45612        Kid Cudi                               Wedding Tux   \n",
       "45613     Lupe Fiasco                                    You My   \n",
       "45614  Chamillionaire                     Call Me (Tosin Remix)   \n",
       "45615         DJ Quik                                  Do Today   \n",
       "45616   House of Pain                      Danny Boy, Danny Boy   \n",
       "45617    Travis Scott                                  Pull Up*   \n",
       "45618     Danny Brown                                  Let’s Go   \n",
       "45619    Big K.R.I.T.          [VIII/XII] No Chance (Freestyle)   \n",
       "45620        Ludacris                       I Do It for Hip Hop   \n",
       "45621        Scarface  Mr. Scarface: Part III the Final Chapter   \n",
       "45622          Common                           The Food (Live)   \n",
       "45623      Young Thug               Chanel (Go Get It) [Demo 2]   \n",
       "45624      Chief Keef                                 Hoez N Oz   \n",
       "45625      Atmosphere                            Rhythm of Rain   \n",
       "45626           Drake                          4PM in Calabasas   \n",
       "45627         Bizarre                          Snatch Yo Cardis   \n",
       "45628   House of Pain                             The Have Nots   \n",
       "45629          Future                              XanaX Damage   \n",
       "45630   Three 6 Mafia                                In da Game   \n",
       "45631       Meek Mill                                   Problem   \n",
       "\n",
       "                                         Album        Year  \\\n",
       "45607                                     None  2011-10-07   \n",
       "45608                        Death Certificate  1991-10-29   \n",
       "45609                                #MEALTIME        None   \n",
       "45610                                  Best Of  2009-01-15   \n",
       "45611         Trust the Process II: Undefeated  2018-05-11   \n",
       "45612                 Speedin’ Bullet 2 Heaven  2015-12-04   \n",
       "45613                                     None        None   \n",
       "45614                                     None        None   \n",
       "45615                        The Book of David  2011-04-19   \n",
       "45616                            House of Pain  1992-07-28   \n",
       "45617                                     None        None   \n",
       "45618                                 Hot Soup        None   \n",
       "45619                                 #12FOR12  2016-07-05   \n",
       "45620                      Theater of the Mind  2008-11-24   \n",
       "45621                       The World is Yours  1993-08-17   \n",
       "45622                                       Be        None   \n",
       "45623                                     None  2018-11-05   \n",
       "45624                                   Bang 2  2013-08-15   \n",
       "45625                Sean Likes Ugly Girls [3]        None   \n",
       "45626                             Care Package  2016-06-04   \n",
       "45627                      This Guy’s a Weirdo  2012-03-30   \n",
       "45628  Truth Crushed To Earth Shall Rise Again  1996-10-22   \n",
       "45629                                  SAVE ME  2019-06-07   \n",
       "45630                            Mystic Stylez  1995-05-25   \n",
       "45631                             Priorities 4  2016-01-18   \n",
       "\n",
       "                                                  Lyrics  \n",
       "45607  [Intro: Rick Ross]\\nUgh!\\n(Maybach Music)\\nIn ...  \n",
       "45608  [Intro]\\nYou are the prince of darkness\\nArch ...  \n",
       "45609  Garlic Mashed Potatoes\\n\\n• 2-3 pounds yukon g...  \n",
       "45610  [Intro]\\nYeah, Na na na na\\nYeah, Na na na na\\...  \n",
       "45611  To a new year, man\\nA happy new year\\nTo more ...  \n",
       "45612  [Verse 1]\\nEmotional slave slut\\nShe push and ...  \n",
       "45613  Fresh to def she is\\nFrom her steps to her set...  \n",
       "45614  C'mon... pick up man...\\n[phone rings again] P...  \n",
       "45615  [DJ Quik]\\nFour, three, two\\n\\nLet's count it ...  \n",
       "45616  [Verse 1: Everlast]\\nPeckerwood, peckerwood, t...  \n",
       "45617  [Lyrics from Snippet]\\n\\n[Verse]\\nPatek on my ...  \n",
       "45618  [Verse 1: Danny Brown]\\nAnother day, another d...  \n",
       "45619  [Intro]\\nShout out to Rae Sremmurd, Ear Drumme...  \n",
       "45620  [Intro: Ludacris]\\nI do it for hip-hop\\nI do i...  \n",
       "45621  (All I have in this world)\\n--] Tony 'Scarface...  \n",
       "45622  [Dave Chappelle]\\nTonight's musical guest\\nTwo...  \n",
       "45623  [Intro: Gunna]\\nAnything she want she can get,...  \n",
       "45624  [Intro: Chief Keef & (DJ Holiday)]\\nHoes and O...  \n",
       "45625  [Verse 1] (Slug)\\nSomething sinister sits in t...  \n",
       "45626  [Verse]\\nYeah\\nAll you self-promoters are jank...  \n",
       "45627  [Intro: Bizarre]\\nI'm from Detroit, Michigan\\n...  \n",
       "45628  Benevolence, mercy, discipline...\\nBenevolence...  \n",
       "45629  [Intro: FXXXXY]\\nBlood, blood, blood\\nXanax dr...  \n",
       "45630  [Hook]\\nDope game cocaine\\nDope game dope dope...  \n",
       "45631  [Produced by Beats Billionaire]\\n\\n[Intro: 2Pa...  "
      ]
     },
     "execution_count": 7,
     "metadata": {},
     "output_type": "execute_result"
    }
   ],
   "source": [
    "# now that I have the pertinent json data in our DataFrame let's have a look\n",
    "tracks_df.tail(25)"
   ]
  },
  {
   "cell_type": "code",
   "execution_count": 10,
   "metadata": {},
   "outputs": [
    {
     "data": {
      "image/png": "[encoded data removed]",
      "text/plain": [
       "<Figure size 432x288 with 1 Axes>"
      ]
     },
     "metadata": {
      "needs_background": "light"
     },
     "output_type": "display_data"
    }
   ],
   "source": [
    "pd.DataFrame(tracks_df.Artist.value_counts()).hist()\n",
    "plt.show()"
   ]
  },
  {
   "cell_type": "code",
   "execution_count": 11,
   "metadata": {},
   "outputs": [],
   "source": [
    "#save the dataframes so I can import it when going to clean\n",
    "with open('../../Data-Cleaning/tracks_df.pkl', 'wb') as f:\n",
    "    pickle.dump(tracks_df, f)"
   ]
  },
  {
   "cell_type": "code",
   "execution_count": null,
   "metadata": {},
   "outputs": [],
   "source": []
  }
 ],
 "metadata": {
  "kernelspec": {
   "display_name": "Python 3",
   "language": "python",
   "name": "python3"
  },
  "language_info": {
   "codemirror_mode": {
    "name": "ipython",
    "version": 3
   },
   "file_extension": ".py",
   "mimetype": "text/x-python",
   "name": "python",
   "nbconvert_exporter": "python",
   "pygments_lexer": "ipython3",
   "version": "3.7.3"
  },
  "toc": {
   "base_numbering": 1,
   "nav_menu": {},
   "number_sections": true,
   "sideBar": true,
   "skip_h1_title": false,
   "title_cell": "Table of Contents",
   "title_sidebar": "Contents",
   "toc_cell": false,
   "toc_position": {},
   "toc_section_display": true,
   "toc_window_display": false
  }
 },
 "nbformat": 4,
 "nbformat_minor": 2
}
